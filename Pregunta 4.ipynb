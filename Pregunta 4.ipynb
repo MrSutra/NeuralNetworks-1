{
  "nbformat": 4,
  "nbformat_minor": 0,
  "metadata": {
    "colab": {
      "name": "Pregunta_4.ipynb",
      "version": "0.3.2",
      "views": {},
      "default_view": {},
      "provenance": [],
      "collapsed_sections": []
    },
    "kernelspec": {
      "name": "python3",
      "display_name": "Python 3"
    },
    "accelerator": "GPU"
  },
  "cells": [
    {
      "metadata": {
        "id": "yfMU2d_xUQ0C",
        "colab_type": "text"
      },
      "cell_type": "markdown",
      "source": [
        "## Pregunta  4"
      ]
    },
    {
      "metadata": {
        "id": "dw0zTBJRYLqx",
        "colab_type": "text"
      },
      "cell_type": "markdown",
      "source": [
        "Desde la edad antigua, múltiples formas de localización han sido desarrolladas. Dentro de los avances más importantes en este ámbito, es el desarrollo de la teorı́a cientı́fica y técnica denominada georreferenciación. Gracias a GPS, el crecimiento y acceso de la georreferenciación y navegación está en progresivo aumento, el problema surge cuando se intentan estimar en recintos interiores (como edificios o bajo tierra) donde el GPS no funciona de la manera como uno esperaría, debido a que existen muchos obstáculos e interferencia que imposibilitan su uso.\n",
        "Dentro de interiores se cuenta con señales RSSI (fingerprint) que pueden atacar este problema, sin embargo los métodos actuales no son robustos a ruido, por lo que su tarea será la de abordar este problema para mejorar exactitud de sistemas de posicionamiento en interiores mediante redes neuronales.\n",
        "\n",
        "La metodología con la que se trabajará será que, para dentro de interiores, dispositivos Bluetooth emiten señales RSSI las cuales son captadas por el dispositivo \"objetivo\" al cual se le desea determinar su localización, recibiendo distintas intensidades de señal de cada dispositivo emisor debido a su posición en el interior. Los datos con los que se va a trabajar (IndoorFingerprint.csv) fueron provistos por el nuevo Ing. Civil Informático Felipe Berrios, éstos constan de 8 características (C1hA,0kxZ,tvMX,OlYb,7rk5,F39L,VNSF,tkxI) correspondientes a las mediciones hechas/recibidas por el dispositivo \"objetivo\" de las distintas señales RSSI emitidas por los dispositivos Bluetooth en los bordes del interior, además de tener la posición del dispositivo \"objetivo\" en un plano XY (valor a estimar)."
      ]
    },
    {
      "metadata": {
        "id": "gLjvkcslWA3h",
        "colab_type": "text"
      },
      "cell_type": "markdown",
      "source": [
        "Una consideración importante es el cómo tratar la ausencia de la señal proveniente de un dispositivo Bluetooth, para estos datos se utiliza un valor de +100, ya que es imposible obtener este valor debido a las características de la escala RSSI (siempre negativa o igual a cero), pero puede ser sustituido por otro.\n",
        "Para hacer el trabajo mas simple se discretizará la posición en el plano definiendo zonas en dónde está el objeto a localizar. Las zonas deben ser las que indica la malla a continuación:"
      ]
    },
    {
      "metadata": {
        "id": "ewBKysrJXpDj",
        "colab_type": "code",
        "colab": {
          "autoexec": {
            "startup": false,
            "wait_interval": 0
          },
          "resources": {
            "http://localhost:8080/nbextensions/google.colab/files.js": {
              "data": "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",
              "ok": true,
              "headers": [
                [
                  "content-type",
                  "application/javascript"
                ]
              ],
              "status": 200,
              "status_text": ""
            }
          },
          "base_uri": "https://localhost:8080/",
          "height": 72
        },
        "outputId": "acb8322d-cc01-4f6a-af09-45536c08714b",
        "executionInfo": {
          "status": "ok",
          "timestamp": 1525439975669,
          "user_tz": 180,
          "elapsed": 25136,
          "user": {
            "displayName": "Fernanda Weiss",
            "photoUrl": "//lh4.googleusercontent.com/-3fKweTbnlHc/AAAAAAAAAAI/AAAAAAAAAPU/RktnQi93nyI/s50-c-k-no/photo.jpg",
            "userId": "100370788011080686465"
          }
        }
      },
      "cell_type": "code",
      "source": [
        "from google.colab import files\n",
        "uploaded = files.upload()"
      ],
      "execution_count": 1,
      "outputs": [
        {
          "output_type": "display_data",
          "data": {
            "text/html": [
              "\n",
              "     <input type=\"file\" id=\"files-e21f263e-96b7-4ffd-a7d0-902a6d743f90\" name=\"files[]\" multiple disabled />\n",
              "     <output id=\"result-e21f263e-96b7-4ffd-a7d0-902a6d743f90\">\n",
              "      Upload widget is only available when the cell has been executed in the\n",
              "      current browser session. Please rerun this cell to enable.\n",
              "      </output>\n",
              "      <script src=\"/nbextensions/google.colab/files.js\"></script> "
            ],
            "text/plain": [
              "<IPython.core.display.HTML object>"
            ]
          },
          "metadata": {
            "tags": []
          }
        },
        {
          "output_type": "stream",
          "text": [
            "Saving IndoorFingerprint.csv to IndoorFingerprint.csv\n"
          ],
          "name": "stdout"
        }
      ]
    },
    {
      "metadata": {
        "id": "ZDtbgwUTWTkG",
        "colab_type": "code",
        "colab": {
          "autoexec": {
            "startup": false,
            "wait_interval": 0
          },
          "base_uri": "https://localhost:8080/",
          "height": 283
        },
        "outputId": "154b66ad-c17f-4bf7-d1ac-0de5c1a55e35",
        "executionInfo": {
          "status": "ok",
          "timestamp": 1525439987284,
          "user_tz": 180,
          "elapsed": 703,
          "user": {
            "displayName": "Fernanda Weiss",
            "photoUrl": "//lh4.googleusercontent.com/-3fKweTbnlHc/AAAAAAAAAAI/AAAAAAAAAPU/RktnQi93nyI/s50-c-k-no/photo.jpg",
            "userId": "100370788011080686465"
          }
        }
      },
      "cell_type": "code",
      "source": [
        "import pandas as pd\n",
        "import numpy as np\n",
        "\n",
        "import io #eliminar\n",
        "df = pd.read_csv(io.StringIO(uploaded[\"IndoorFingerprint.csv\"].decode('utf-8')))#\"./IndoorFingerprint.csv\")\n",
        " \n",
        "import matplotlib.pyplot as plt\n",
        "%matplotlib inline\n",
        "\n",
        "plt.scatter(df[\"X\"],df[\"Y\"])\n",
        "\n",
        "x_ticks = np.arange(0, 49, 8)\n",
        "y_ticks = np.arange(5, 22, 4)\n",
        "plt.xticks(x_ticks)\n",
        "plt.yticks(y_ticks)\n",
        "plt.grid(color='r', linestyle='-', linewidth=2)\n",
        "plt.ylabel(\"y position\")\n",
        "plt.xlabel(\"x position\")\n",
        "plt.show()"
      ],
      "execution_count": 2,
      "outputs": [
        {
          "output_type": "display_data",
          "data": {
            "image/png": "[encoded data removed]",
            "text/plain": [
              "<matplotlib.figure.Figure at 0x7f462aeeccc0>"
            ]
          },
          "metadata": {
            "tags": []
          }
        }
      ]
    },
    {
      "metadata": {
        "id": "Rlq66LtoWo8Y",
        "colab_type": "text"
      },
      "cell_type": "markdown",
      "source": [
        "Donde los puntos azules son los distintos datos superpuestos de las posiciones del objeto a localizar. Por ejemplo el punto (2,8) está en la primera zona (o en la primera zona del eje x y del eje y), el punto (2,20) está en la zona 19 (o en la primera zona del eje x y la cuarta zona del eje y). Esta discretización transforma el problema que en un principio podría ser de regresión para determinar la posición exacta, en un problema de clasificación dividiendo (dentro de los posibles valores) 6 zonas para el eje \"x\" y 4 zonas para el eje \"y\", contando con un total de 24 clases (24 zonas en la malla).\n",
        "\n"
      ]
    },
    {
      "metadata": {
        "id": "0Q9fN77kUWqJ",
        "colab_type": "text"
      },
      "cell_type": "markdown",
      "source": [
        "Se entrenará una red feed forward para la clasificación de las 24 posibles clases, donde tal red debe obtener un desempeño (accuracy) mayor al 75%.\n"
      ]
    },
    {
      "metadata": {
        "id": "qjIDu1CUYZ4h",
        "colab_type": "text"
      },
      "cell_type": "markdown",
      "source": [
        "A continuación se visualiza un resumen de los datos que se tienen como input, mediante la función *describe*.\n"
      ]
    },
    {
      "metadata": {
        "id": "5NPSE76xZyRC",
        "colab_type": "code",
        "colab": {
          "autoexec": {
            "startup": false,
            "wait_interval": 0
          },
          "base_uri": "https://localhost:8080/",
          "height": 314
        },
        "outputId": "6a6c00b4-4784-4992-fce7-6cb1f1362b8b",
        "executionInfo": {
          "status": "ok",
          "timestamp": 1525439991610,
          "user_tz": 180,
          "elapsed": 1382,
          "user": {
            "displayName": "Fernanda Weiss",
            "photoUrl": "//lh4.googleusercontent.com/-3fKweTbnlHc/AAAAAAAAAAI/AAAAAAAAAPU/RktnQi93nyI/s50-c-k-no/photo.jpg",
            "userId": "100370788011080686465"
          }
        }
      },
      "cell_type": "code",
      "source": [
        "print(df.shape)\n",
        "df.describe()"
      ],
      "execution_count": 3,
      "outputs": [
        {
          "output_type": "stream",
          "text": [
            "(6600, 10)\n"
          ],
          "name": "stdout"
        },
        {
          "output_type": "execute_result",
          "data": {
            "text/html": [
              "<div>\n",
              "<style scoped>\n",
              "    .dataframe tbody tr th:only-of-type {\n",
              "        vertical-align: middle;\n",
              "    }\n",
              "\n",
              "    .dataframe tbody tr th {\n",
              "        vertical-align: top;\n",
              "    }\n",
              "\n",
              "    .dataframe thead th {\n",
              "        text-align: right;\n",
              "    }\n",
              "</style>\n",
              "<table border=\"1\" class=\"dataframe\">\n",
              "  <thead>\n",
              "    <tr style=\"text-align: right;\">\n",
              "      <th></th>\n",
              "      <th>X</th>\n",
              "      <th>Y</th>\n",
              "      <th>C1hA</th>\n",
              "      <th>0kxZ</th>\n",
              "      <th>tvMX</th>\n",
              "      <th>OlYb</th>\n",
              "      <th>7rk5</th>\n",
              "      <th>F39L</th>\n",
              "      <th>VNSF</th>\n",
              "      <th>tkxI</th>\n",
              "    </tr>\n",
              "  </thead>\n",
              "  <tbody>\n",
              "    <tr>\n",
              "      <th>count</th>\n",
              "      <td>6600.000000</td>\n",
              "      <td>6600.000000</td>\n",
              "      <td>6600.000000</td>\n",
              "      <td>6600.000000</td>\n",
              "      <td>6600.000000</td>\n",
              "      <td>6600.000000</td>\n",
              "      <td>6600.000000</td>\n",
              "      <td>6600.000000</td>\n",
              "      <td>6600.000000</td>\n",
              "      <td>6600.000000</td>\n",
              "    </tr>\n",
              "    <tr>\n",
              "      <th>mean</th>\n",
              "      <td>22.000000</td>\n",
              "      <td>14.000000</td>\n",
              "      <td>-71.152121</td>\n",
              "      <td>-85.025909</td>\n",
              "      <td>-89.734545</td>\n",
              "      <td>-77.810758</td>\n",
              "      <td>-90.219091</td>\n",
              "      <td>-80.133030</td>\n",
              "      <td>-89.091515</td>\n",
              "      <td>-89.195455</td>\n",
              "    </tr>\n",
              "    <tr>\n",
              "      <th>std</th>\n",
              "      <td>12.650069</td>\n",
              "      <td>4.472475</td>\n",
              "      <td>61.117550</td>\n",
              "      <td>38.743163</td>\n",
              "      <td>7.763426</td>\n",
              "      <td>43.540421</td>\n",
              "      <td>9.230207</td>\n",
              "      <td>7.715085</td>\n",
              "      <td>7.296616</td>\n",
              "      <td>9.508659</td>\n",
              "    </tr>\n",
              "    <tr>\n",
              "      <th>min</th>\n",
              "      <td>2.000000</td>\n",
              "      <td>8.000000</td>\n",
              "      <td>-105.000000</td>\n",
              "      <td>-104.000000</td>\n",
              "      <td>-107.000000</td>\n",
              "      <td>-103.000000</td>\n",
              "      <td>-105.000000</td>\n",
              "      <td>-102.000000</td>\n",
              "      <td>-102.000000</td>\n",
              "      <td>-105.000000</td>\n",
              "    </tr>\n",
              "    <tr>\n",
              "      <th>25%</th>\n",
              "      <td>10.000000</td>\n",
              "      <td>11.000000</td>\n",
              "      <td>-98.000000</td>\n",
              "      <td>-97.000000</td>\n",
              "      <td>-96.000000</td>\n",
              "      <td>-96.000000</td>\n",
              "      <td>-96.000000</td>\n",
              "      <td>-86.000000</td>\n",
              "      <td>-95.000000</td>\n",
              "      <td>-96.000000</td>\n",
              "    </tr>\n",
              "    <tr>\n",
              "      <th>50%</th>\n",
              "      <td>22.000000</td>\n",
              "      <td>14.000000</td>\n",
              "      <td>-93.000000</td>\n",
              "      <td>-94.000000</td>\n",
              "      <td>-92.000000</td>\n",
              "      <td>-87.000000</td>\n",
              "      <td>-91.000000</td>\n",
              "      <td>-80.000000</td>\n",
              "      <td>-90.000000</td>\n",
              "      <td>-90.500000</td>\n",
              "    </tr>\n",
              "    <tr>\n",
              "      <th>75%</th>\n",
              "      <td>34.000000</td>\n",
              "      <td>17.000000</td>\n",
              "      <td>-86.000000</td>\n",
              "      <td>-90.000000</td>\n",
              "      <td>-84.000000</td>\n",
              "      <td>-80.000000</td>\n",
              "      <td>-86.000000</td>\n",
              "      <td>-75.000000</td>\n",
              "      <td>-85.000000</td>\n",
              "      <td>-84.000000</td>\n",
              "    </tr>\n",
              "    <tr>\n",
              "      <th>max</th>\n",
              "      <td>42.000000</td>\n",
              "      <td>20.000000</td>\n",
              "      <td>100.000000</td>\n",
              "      <td>100.000000</td>\n",
              "      <td>-65.000000</td>\n",
              "      <td>100.000000</td>\n",
              "      <td>100.000000</td>\n",
              "      <td>-57.000000</td>\n",
              "      <td>-60.000000</td>\n",
              "      <td>100.000000</td>\n",
              "    </tr>\n",
              "  </tbody>\n",
              "</table>\n",
              "</div>"
            ],
            "text/plain": [
              "                 X            Y         C1hA         0kxZ         tvMX  \\\n",
              "count  6600.000000  6600.000000  6600.000000  6600.000000  6600.000000   \n",
              "mean     22.000000    14.000000   -71.152121   -85.025909   -89.734545   \n",
              "std      12.650069     4.472475    61.117550    38.743163     7.763426   \n",
              "min       2.000000     8.000000  -105.000000  -104.000000  -107.000000   \n",
              "25%      10.000000    11.000000   -98.000000   -97.000000   -96.000000   \n",
              "50%      22.000000    14.000000   -93.000000   -94.000000   -92.000000   \n",
              "75%      34.000000    17.000000   -86.000000   -90.000000   -84.000000   \n",
              "max      42.000000    20.000000   100.000000   100.000000   -65.000000   \n",
              "\n",
              "              OlYb         7rk5         F39L         VNSF         tkxI  \n",
              "count  6600.000000  6600.000000  6600.000000  6600.000000  6600.000000  \n",
              "mean    -77.810758   -90.219091   -80.133030   -89.091515   -89.195455  \n",
              "std      43.540421     9.230207     7.715085     7.296616     9.508659  \n",
              "min    -103.000000  -105.000000  -102.000000  -102.000000  -105.000000  \n",
              "25%     -96.000000   -96.000000   -86.000000   -95.000000   -96.000000  \n",
              "50%     -87.000000   -91.000000   -80.000000   -90.000000   -90.500000  \n",
              "75%     -80.000000   -86.000000   -75.000000   -85.000000   -84.000000  \n",
              "max     100.000000   100.000000   -57.000000   -60.000000   100.000000  "
            ]
          },
          "metadata": {
            "tags": []
          },
          "execution_count": 3
        }
      ]
    },
    {
      "metadata": {
        "id": "cj7GgyPyZTgg",
        "colab_type": "code",
        "colab": {
          "autoexec": {
            "startup": false,
            "wait_interval": 0
          },
          "base_uri": "https://localhost:8080/",
          "height": 204
        },
        "outputId": "09a20d16-9764-4a47-abb5-2a8077341824",
        "executionInfo": {
          "status": "ok",
          "timestamp": 1525234226738,
          "user_tz": 180,
          "elapsed": 821,
          "user": {
            "displayName": "Fernanda Weiss",
            "photoUrl": "//lh4.googleusercontent.com/-3fKweTbnlHc/AAAAAAAAAAI/AAAAAAAAAPU/RktnQi93nyI/s50-c-k-no/photo.jpg",
            "userId": "100370788011080686465"
          }
        }
      },
      "cell_type": "code",
      "source": [
        "df.head()"
      ],
      "execution_count": 4,
      "outputs": [
        {
          "output_type": "execute_result",
          "data": {
            "text/html": [
              "<div>\n",
              "<style scoped>\n",
              "    .dataframe tbody tr th:only-of-type {\n",
              "        vertical-align: middle;\n",
              "    }\n",
              "\n",
              "    .dataframe tbody tr th {\n",
              "        vertical-align: top;\n",
              "    }\n",
              "\n",
              "    .dataframe thead th {\n",
              "        text-align: right;\n",
              "    }\n",
              "</style>\n",
              "<table border=\"1\" class=\"dataframe\">\n",
              "  <thead>\n",
              "    <tr style=\"text-align: right;\">\n",
              "      <th></th>\n",
              "      <th>X</th>\n",
              "      <th>Y</th>\n",
              "      <th>C1hA</th>\n",
              "      <th>0kxZ</th>\n",
              "      <th>tvMX</th>\n",
              "      <th>OlYb</th>\n",
              "      <th>7rk5</th>\n",
              "      <th>F39L</th>\n",
              "      <th>VNSF</th>\n",
              "      <th>tkxI</th>\n",
              "    </tr>\n",
              "  </thead>\n",
              "  <tbody>\n",
              "    <tr>\n",
              "      <th>0</th>\n",
              "      <td>2.0</td>\n",
              "      <td>8.0</td>\n",
              "      <td>-66</td>\n",
              "      <td>-92</td>\n",
              "      <td>-84</td>\n",
              "      <td>-84</td>\n",
              "      <td>-92</td>\n",
              "      <td>-93</td>\n",
              "      <td>-98</td>\n",
              "      <td>-96</td>\n",
              "    </tr>\n",
              "    <tr>\n",
              "      <th>1</th>\n",
              "      <td>2.0</td>\n",
              "      <td>8.0</td>\n",
              "      <td>-66</td>\n",
              "      <td>-94</td>\n",
              "      <td>-84</td>\n",
              "      <td>-84</td>\n",
              "      <td>-94</td>\n",
              "      <td>-93</td>\n",
              "      <td>-98</td>\n",
              "      <td>-96</td>\n",
              "    </tr>\n",
              "    <tr>\n",
              "      <th>2</th>\n",
              "      <td>2.0</td>\n",
              "      <td>8.0</td>\n",
              "      <td>-66</td>\n",
              "      <td>-94</td>\n",
              "      <td>-84</td>\n",
              "      <td>-84</td>\n",
              "      <td>-94</td>\n",
              "      <td>-93</td>\n",
              "      <td>-98</td>\n",
              "      <td>-100</td>\n",
              "    </tr>\n",
              "    <tr>\n",
              "      <th>3</th>\n",
              "      <td>2.0</td>\n",
              "      <td>8.0</td>\n",
              "      <td>-66</td>\n",
              "      <td>-94</td>\n",
              "      <td>-84</td>\n",
              "      <td>-84</td>\n",
              "      <td>-94</td>\n",
              "      <td>-80</td>\n",
              "      <td>-98</td>\n",
              "      <td>-100</td>\n",
              "    </tr>\n",
              "    <tr>\n",
              "      <th>4</th>\n",
              "      <td>2.0</td>\n",
              "      <td>8.0</td>\n",
              "      <td>-66</td>\n",
              "      <td>-94</td>\n",
              "      <td>-84</td>\n",
              "      <td>-84</td>\n",
              "      <td>-94</td>\n",
              "      <td>-74</td>\n",
              "      <td>-98</td>\n",
              "      <td>-100</td>\n",
              "    </tr>\n",
              "  </tbody>\n",
              "</table>\n",
              "</div>"
            ],
            "text/plain": [
              "     X    Y  C1hA  0kxZ  tvMX  OlYb  7rk5  F39L  VNSF  tkxI\n",
              "0  2.0  8.0   -66   -92   -84   -84   -92   -93   -98   -96\n",
              "1  2.0  8.0   -66   -94   -84   -84   -94   -93   -98   -96\n",
              "2  2.0  8.0   -66   -94   -84   -84   -94   -93   -98  -100\n",
              "3  2.0  8.0   -66   -94   -84   -84   -94   -80   -98  -100\n",
              "4  2.0  8.0   -66   -94   -84   -84   -94   -74   -98  -100"
            ]
          },
          "metadata": {
            "tags": []
          },
          "execution_count": 4
        }
      ]
    },
    {
      "metadata": {
        "id": "nrNnYFK4cJLG",
        "colab_type": "text"
      },
      "cell_type": "markdown",
      "source": [
        "A continuación se genera el conjunto de entrenamiento y de pruebas. Primero se lee el archivo 'mask_test.csv', el cual indica los indices de las posiciones en el dataset que conforman el conjunto de pruebas."
      ]
    },
    {
      "metadata": {
        "id": "qn8zTU-NdgDJ",
        "colab_type": "code",
        "colab": {
          "autoexec": {
            "startup": false,
            "wait_interval": 0
          },
          "resources": {
            "http://localhost:8080/nbextensions/google.colab/files.js": {
              "data": "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",
              "ok": true,
              "headers": [
                [
                  "content-type",
                  "application/javascript"
                ]
              ],
              "status": 200,
              "status_text": ""
            }
          },
          "base_uri": "https://localhost:8080/",
          "height": 72
        },
        "outputId": "0a1f483d-18e7-4e0f-b7a1-13e285da577a",
        "executionInfo": {
          "status": "ok",
          "timestamp": 1525440001751,
          "user_tz": 180,
          "elapsed": 6731,
          "user": {
            "displayName": "Fernanda Weiss",
            "photoUrl": "//lh4.googleusercontent.com/-3fKweTbnlHc/AAAAAAAAAAI/AAAAAAAAAPU/RktnQi93nyI/s50-c-k-no/photo.jpg",
            "userId": "100370788011080686465"
          }
        }
      },
      "cell_type": "code",
      "source": [
        "uploaded = files.upload()"
      ],
      "execution_count": 4,
      "outputs": [
        {
          "output_type": "display_data",
          "data": {
            "text/html": [
              "\n",
              "     <input type=\"file\" id=\"files-a1f3b92e-efe0-4f7f-805f-63c456258ba1\" name=\"files[]\" multiple disabled />\n",
              "     <output id=\"result-a1f3b92e-efe0-4f7f-805f-63c456258ba1\">\n",
              "      Upload widget is only available when the cell has been executed in the\n",
              "      current browser session. Please rerun this cell to enable.\n",
              "      </output>\n",
              "      <script src=\"/nbextensions/google.colab/files.js\"></script> "
            ],
            "text/plain": [
              "<IPython.core.display.HTML object>"
            ]
          },
          "metadata": {
            "tags": []
          }
        },
        {
          "output_type": "stream",
          "text": [
            "Saving mask_test.csv to mask_test.csv\n"
          ],
          "name": "stdout"
        }
      ]
    },
    {
      "metadata": {
        "id": "-cR_C6lmdGEA",
        "colab_type": "code",
        "colab": {
          "autoexec": {
            "startup": false,
            "wait_interval": 0
          }
        }
      },
      "cell_type": "code",
      "source": [
        "mask_test = np.loadtxt('mask_test.csv',dtype=\"i\")\n",
        "X = df.as_matrix()\n",
        "#X_test = X[mask_test]\n",
        "#X_train = np.delete(X,mask_test,axis=0)"
      ],
      "execution_count": 0,
      "outputs": []
    },
    {
      "metadata": {
        "id": "hnFt0M6ZnDgn",
        "colab_type": "code",
        "colab": {
          "autoexec": {
            "startup": false,
            "wait_interval": 0
          },
          "base_uri": "https://localhost:8080/",
          "height": 34
        },
        "outputId": "38f5c82f-b510-4dc9-d999-9b567784d7a0",
        "executionInfo": {
          "status": "ok",
          "timestamp": 1525440009653,
          "user_tz": 180,
          "elapsed": 846,
          "user": {
            "displayName": "Fernanda Weiss",
            "photoUrl": "//lh4.googleusercontent.com/-3fKweTbnlHc/AAAAAAAAAAI/AAAAAAAAAPU/RktnQi93nyI/s50-c-k-no/photo.jpg",
            "userId": "100370788011080686465"
          }
        }
      },
      "cell_type": "code",
      "source": [
        "df.shape"
      ],
      "execution_count": 6,
      "outputs": [
        {
          "output_type": "execute_result",
          "data": {
            "text/plain": [
              "(6600, 10)"
            ]
          },
          "metadata": {
            "tags": []
          },
          "execution_count": 6
        }
      ]
    },
    {
      "metadata": {
        "id": "BIlRkxetokIX",
        "colab_type": "code",
        "colab": {
          "autoexec": {
            "startup": false,
            "wait_interval": 0
          },
          "base_uri": "https://localhost:8080/",
          "height": 34
        },
        "outputId": "aed031e6-4a7a-4e53-c254-3693f8cb3858",
        "executionInfo": {
          "status": "ok",
          "timestamp": 1525440011352,
          "user_tz": 180,
          "elapsed": 666,
          "user": {
            "displayName": "Fernanda Weiss",
            "photoUrl": "//lh4.googleusercontent.com/-3fKweTbnlHc/AAAAAAAAAAI/AAAAAAAAAPU/RktnQi93nyI/s50-c-k-no/photo.jpg",
            "userId": "100370788011080686465"
          }
        }
      },
      "cell_type": "code",
      "source": [
        "print(len(X))"
      ],
      "execution_count": 7,
      "outputs": [
        {
          "output_type": "stream",
          "text": [
            "6600\n"
          ],
          "name": "stdout"
        }
      ]
    },
    {
      "metadata": {
        "id": "kEtlxqWXmgDs",
        "colab_type": "text"
      },
      "cell_type": "markdown",
      "source": [
        "Luego, se identifica en qué posición de la grilla se encuentra cada punto, según la variable *X* e *Y* del dataset original, las cuales se comparan con *x_ticks* e *y_ticks*, respectivamente."
      ]
    },
    {
      "metadata": {
        "id": "kzT9C5TYnl3w",
        "colab_type": "code",
        "colab": {
          "autoexec": {
            "startup": false,
            "wait_interval": 0
          },
          "base_uri": "https://localhost:8080/",
          "height": 34
        },
        "outputId": "762d64ad-1e97-4818-a0f8-7abd45fa4898",
        "executionInfo": {
          "status": "ok",
          "timestamp": 1525440014119,
          "user_tz": 180,
          "elapsed": 635,
          "user": {
            "displayName": "Fernanda Weiss",
            "photoUrl": "//lh4.googleusercontent.com/-3fKweTbnlHc/AAAAAAAAAAI/AAAAAAAAAPU/RktnQi93nyI/s50-c-k-no/photo.jpg",
            "userId": "100370788011080686465"
          }
        }
      },
      "cell_type": "code",
      "source": [
        "np.where(y_ticks>20)[0][0]"
      ],
      "execution_count": 8,
      "outputs": [
        {
          "output_type": "execute_result",
          "data": {
            "text/plain": [
              "4"
            ]
          },
          "metadata": {
            "tags": []
          },
          "execution_count": 8
        }
      ]
    },
    {
      "metadata": {
        "id": "ZjnxBIELme1A",
        "colab_type": "code",
        "colab": {
          "autoexec": {
            "startup": false,
            "wait_interval": 0
          }
        }
      },
      "cell_type": "code",
      "source": [
        "n = 24\n",
        "posiciones_grilla = []\n",
        "for i in X:\n",
        "  #print(i[0], i[1])\n",
        "  x = np.where(x_ticks>i[0])[0][0]\n",
        "  y = np.where(y_ticks>i[1])[0][0]\n",
        "  posiciones_grilla.append((x,y))"
      ],
      "execution_count": 0,
      "outputs": []
    },
    {
      "metadata": {
        "id": "xHcpIhALpL3Y",
        "colab_type": "code",
        "colab": {
          "autoexec": {
            "startup": false,
            "wait_interval": 0
          },
          "base_uri": "https://localhost:8080/",
          "height": 54
        },
        "outputId": "b0b892de-5221-4230-ed81-250f2277f07c",
        "executionInfo": {
          "status": "ok",
          "timestamp": 1525440019316,
          "user_tz": 180,
          "elapsed": 675,
          "user": {
            "displayName": "Fernanda Weiss",
            "photoUrl": "//lh4.googleusercontent.com/-3fKweTbnlHc/AAAAAAAAAAI/AAAAAAAAAPU/RktnQi93nyI/s50-c-k-no/photo.jpg",
            "userId": "100370788011080686465"
          }
        }
      },
      "cell_type": "code",
      "source": [
        "print(posiciones_grilla)"
      ],
      "execution_count": 10,
      "outputs": [
        {
          "output_type": "stream",
          "text": [
            "[(1, 1), (1, 1), (1, 1), (1, 1), (1, 1), (1, 1), (1, 1), (1, 1), (1, 1), (1, 1), (1, 1), (1, 1), (1, 1), (1, 1), (1, 1), (1, 1), (1, 1), (1, 1), (1, 1), (1, 1), (1, 1), (1, 1), (1, 1), (1, 1), (1, 1), (1, 1), (1, 1), (1, 1), (1, 1), (1, 1), (1, 1), (1, 1), (1, 1), (1, 1), (1, 1), (1, 1), (1, 1), (1, 1), (1, 1), (1, 1), (1, 1), (1, 1), (1, 1), (1, 1), (1, 1), (1, 1), (1, 1), (1, 1), (1, 1), (1, 1), (1, 1), (1, 1), (1, 1), (1, 1), (1, 1), (1, 1), (1, 1), (1, 1), (1, 1), (1, 1), (1, 1), (1, 1), (1, 1), (1, 1), (1, 1), (1, 1), (1, 1), (1, 1), (1, 1), (1, 1), (1, 1), (1, 1), (1, 1), (1, 1), (1, 1), (1, 1), (1, 1), (1, 1), (1, 1), (1, 1), (1, 1), (1, 1), (1, 1), (1, 1), (1, 1), (1, 1), (1, 1), (1, 1), (1, 1), (1, 1), (1, 1), (1, 1), (1, 1), (1, 1), (1, 1), (1, 1), (1, 1), (1, 1), (1, 1), (1, 1), (1, 1), (1, 1), (1, 1), (1, 1), (1, 1), (1, 1), (1, 1), (1, 1), (1, 1), (1, 1), (1, 1), (1, 1), (1, 1), (1, 1), (1, 1), (1, 1), (1, 1), (1, 1), (1, 1), (1, 1), (1, 1), (1, 1), (1, 1), (1, 1), (1, 1), (1, 1), (1, 1), (1, 1), (1, 1), (1, 1), (1, 1), (1, 1), (1, 1), (1, 1), (1, 1), (1, 1), (1, 1), (1, 1), (1, 1), (1, 1), (1, 1), (1, 1), (1, 1), (1, 1), (1, 1), (1, 1), (1, 1), (1, 1), (1, 1), (1, 1), (1, 1), (1, 1), (1, 1), (1, 1), (1, 1), (1, 1), (1, 1), (1, 1), (1, 1), (1, 1), (1, 1), (1, 1), (1, 1), (1, 1), (1, 1), (1, 1), (1, 1), (1, 1), (1, 1), (1, 1), (1, 1), (1, 1), (1, 1), (1, 1), (1, 1), (1, 1), (1, 1), (1, 1), (1, 1), (1, 1), (1, 1), (1, 1), (1, 1), (1, 1), (1, 1), (1, 1), (1, 1), (1, 1), (1, 1), (1, 1), (1, 1), (1, 1), (1, 1), (1, 1), (1, 1), (1, 1), (1, 1), (1, 1), (1, 1), (1, 1), (1, 1), (1, 1), (1, 1), (1, 1), (1, 1), (1, 1), (1, 1), (1, 1), (1, 1), (1, 1), (1, 1), (1, 1), (1, 1), (1, 1), (1, 1), (1, 1), (1, 1), (1, 1), (1, 1), (1, 1), (1, 1), (1, 1), (1, 1), (1, 1), (1, 1), (1, 1), (1, 1), (1, 1), (1, 1), (1, 1), (1, 1), (1, 1), (1, 1), (1, 1), (1, 1), (1, 1), (1, 1), (1, 1), (1, 1), (1, 1), (1, 1), (1, 1), (1, 1), (1, 1), (1, 1), (1, 1), (1, 1), (1, 1), (1, 1), (1, 1), (1, 1), (1, 1), (1, 1), (1, 1), (1, 1), (1, 1), (1, 1), (1, 1), (1, 1), (1, 1), (1, 1), (1, 1), (1, 1), (1, 1), (1, 1), (1, 1), (1, 1), (1, 1), (1, 1), (1, 1), (1, 1), (1, 1), (1, 1), (1, 1), (1, 1), (1, 1), (1, 1), (1, 1), (1, 1), (1, 1), (1, 1), (1, 1), (1, 1), (1, 1), (1, 1), (1, 1), (1, 1), (1, 1), (1, 1), (1, 1), (1, 1), (1, 1), (1, 1), (1, 1), (1, 1), (1, 1), (1, 1), (1, 1), (1, 1), (1, 1), (2, 1), (2, 1), (2, 1), (2, 1), (2, 1), (2, 1), (2, 1), (2, 1), (2, 1), (2, 1), (2, 1), (2, 1), (2, 1), (2, 1), (2, 1), (2, 1), (2, 1), (2, 1), (2, 1), (2, 1), (2, 1), (2, 1), (2, 1), (2, 1), (2, 1), (2, 1), (2, 1), (2, 1), (2, 1), (2, 1), (2, 1), (2, 1), (2, 1), (2, 1), (2, 1), (2, 1), (2, 1), (2, 1), (2, 1), (2, 1), (2, 1), (2, 1), (2, 1), (2, 1), (2, 1), (2, 1), (2, 1), (2, 1), (2, 1), (2, 1), (2, 1), (2, 1), (2, 1), (2, 1), (2, 1), (2, 1), (2, 1), (2, 1), (2, 1), (2, 1), (2, 1), (2, 1), (2, 1), (2, 1), (2, 1), (2, 1), (2, 1), (2, 1), (2, 1), (2, 1), (2, 1), (2, 1), (2, 1), (2, 1), (2, 1), (2, 1), (2, 1), (2, 1), (2, 1), (2, 1), (2, 1), (2, 1), (2, 1), (2, 1), (2, 1), (2, 1), (2, 1), (2, 1), (2, 1), (2, 1), (2, 1), (2, 1), (2, 1), (2, 1), (2, 1), (2, 1), (2, 1), (2, 1), (2, 1), (2, 1), (2, 1), (2, 1), (2, 1), (2, 1), (2, 1), (2, 1), (2, 1), (2, 1), (2, 1), (2, 1), (2, 1), (2, 1), (2, 1), (2, 1), (2, 1), (2, 1), (2, 1), (2, 1), (2, 1), (2, 1), (2, 1), (2, 1), (2, 1), (2, 1), (2, 1), (2, 1), (2, 1), (2, 1), (2, 1), (2, 1), (2, 1), (2, 1), (2, 1), (2, 1), (2, 1), (2, 1), (2, 1), (2, 1), (2, 1), (2, 1), (2, 1), (2, 1), (2, 1), (2, 1), (2, 1), (2, 1), (2, 1), (2, 1), (2, 1), (2, 1), (2, 1), (2, 1), (2, 1), (2, 1), (2, 1), (2, 1), (2, 1), (2, 1), (2, 1), (2, 1), (2, 1), (2, 1), (2, 1), (2, 1), (2, 1), (2, 1), (2, 1), (2, 1), (2, 1), (2, 1), (2, 1), (2, 1), (2, 1), (2, 1), (2, 1), (2, 1), (2, 1), (2, 1), (2, 1), (2, 1), (2, 1), (2, 1), (2, 1), (2, 1), (2, 1), (2, 1), (2, 1), (2, 1), (2, 1), (2, 1), (2, 1), (2, 1), (2, 1), (2, 1), (2, 1), (2, 1), (2, 1), (2, 1), (2, 1), (2, 1), (2, 1), (2, 1), (2, 1), (2, 1), (2, 1), (2, 1), (2, 1), (2, 1), (2, 1), (2, 1), (2, 1), (2, 1), (2, 1), (2, 1), (2, 1), (2, 1), (2, 1), (2, 1), (2, 1), (2, 1), (2, 1), (2, 1), (2, 1), (2, 1), (2, 1), (2, 1), (2, 1), (2, 1), (2, 1), (2, 1), (2, 1), (2, 1), (2, 1), (2, 1), (2, 1), (2, 1), (2, 1), (2, 1), (2, 1), (2, 1), (2, 1), (2, 1), (2, 1), (2, 1), (2, 1), (2, 1), (2, 1), (2, 1), (2, 1), (2, 1), (2, 1), (2, 1), (2, 1), (2, 1), (2, 1), (2, 1), (2, 1), (2, 1), (2, 1), (2, 1), (2, 1), (2, 1), (2, 1), (2, 1), (2, 1), (2, 1), (2, 1), (2, 1), (2, 1), (2, 1), (2, 1), (2, 1), (2, 1), (2, 1), (2, 1), (2, 1), (2, 1), (2, 1), (2, 1), (2, 1), (2, 1), (2, 1), (2, 1), (2, 1), (2, 1), (2, 1), (2, 1), (2, 1), (2, 1), (2, 1), (2, 1), (2, 1), (2, 1), (2, 1), (2, 1), (2, 1), (2, 1), (2, 1), (2, 1), (2, 1), (3, 1), (3, 1), (3, 1), (3, 1), (3, 1), (3, 1), (3, 1), (3, 1), (3, 1), (3, 1), (3, 1), (3, 1), (3, 1), (3, 1), (3, 1), (3, 1), (3, 1), (3, 1), (3, 1), (3, 1), (3, 1), (3, 1), (3, 1), (3, 1), (3, 1), (3, 1), (3, 1), (3, 1), (3, 1), (3, 1), (3, 1), (3, 1), (3, 1), (3, 1), (3, 1), (3, 1), (3, 1), (3, 1), (3, 1), (3, 1), (3, 1), (3, 1), (3, 1), (3, 1), (3, 1), (3, 1), (3, 1), (3, 1), (3, 1), (3, 1), (3, 1), (3, 1), (3, 1), (3, 1), (3, 1), (3, 1), (3, 1), (3, 1), (3, 1), (3, 1), (3, 1), (3, 1), (3, 1), (3, 1), (3, 1), (3, 1), (3, 1), (3, 1), (3, 1), (3, 1), (3, 1), (3, 1), (3, 1), (3, 1), (3, 1), (3, 1), (3, 1), (3, 1), (3, 1), (3, 1), (3, 1), (3, 1), (3, 1), (3, 1), (3, 1), (3, 1), (3, 1), (3, 1), (3, 1), (3, 1), (3, 1), (3, 1), (3, 1), (3, 1), (3, 1), (3, 1), (3, 1), (3, 1), (3, 1), (3, 1), (3, 1), (3, 1), (3, 1), (3, 1), (3, 1), (3, 1), (3, 1), (3, 1), (3, 1), (3, 1), (3, 1), (3, 1), (3, 1), (3, 1), (3, 1), (3, 1), (3, 1), (3, 1), (3, 1), (3, 1), (3, 1), (3, 1), (3, 1), (3, 1), (3, 1), (3, 1), (3, 1), (3, 1), (3, 1), (3, 1), (3, 1), (3, 1), (3, 1), (3, 1), (3, 1), (3, 1), (3, 1), (3, 1), (3, 1), (3, 1), (3, 1), (3, 1), (3, 1), (3, 1), (3, 1), (3, 1), (3, 1), (3, 1), (3, 1), (3, 1), (3, 1), (3, 1), (3, 1), (3, 1), (3, 1), (3, 1), (3, 1), (3, 1), (3, 1), (3, 1), (3, 1), (3, 1), (3, 1), (3, 1), (3, 1), (3, 1), (3, 1), (3, 1), (3, 1), (3, 1), (3, 1), (3, 1), (3, 1), (3, 1), (3, 1), (3, 1), (3, 1), (3, 1), (3, 1), (3, 1), (3, 1), (3, 1), (3, 1), (3, 1), (3, 1), (3, 1), (3, 1), (3, 1), (3, 1), (3, 1), (3, 1), (3, 1), (3, 1), (3, 1), (3, 1), (3, 1), (3, 1), (3, 1), (3, 1), (3, 1), (3, 1), (3, 1), (3, 1), (3, 1), (3, 1), (3, 1), (3, 1), (3, 1), (3, 1), (3, 1), (3, 1), (3, 1), (3, 1), (3, 1), (3, 1), (3, 1), (3, 1), (3, 1), (3, 1), (3, 1), (3, 1), (3, 1), (3, 1), (3, 1), (3, 1), (3, 1), (3, 1), (3, 1), (3, 1), (3, 1), (3, 1), (3, 1), (3, 1), (3, 1), (3, 1), (3, 1), (3, 1), (3, 1), (3, 1), (3, 1), (3, 1), (3, 1), (3, 1), (3, 1), (3, 1), (3, 1), (3, 1), (3, 1), (3, 1), (3, 1), (3, 1), (3, 1), (3, 1), (3, 1), (3, 1), (3, 1), (3, 1), (3, 1), (3, 1), (3, 1), (3, 1), (3, 1), (3, 1), (3, 1), (3, 1), (3, 1), (3, 1), (3, 1), (3, 1), (3, 1), (3, 1), (3, 1), (3, 1), (3, 1), (3, 1), (3, 1), (3, 1), (3, 1), (3, 1), (3, 1), (3, 1), (3, 1), (3, 1), (3, 1), (3, 1), (3, 1), (3, 1), (3, 1), (3, 1), (3, 1), (3, 1), (3, 1), (3, 1), (3, 1), (3, 1), (3, 1), (3, 1), (3, 1), (3, 1), (3, 1), (4, 1), (4, 1), (4, 1), (4, 1), (4, 1), (4, 1), (4, 1), (4, 1), (4, 1), (4, 1), (4, 1), (4, 1), (4, 1), (4, 1), (4, 1), (4, 1), (4, 1), (4, 1), (4, 1), (4, 1), (4, 1), (4, 1), (4, 1), (4, 1), (4, 1), (4, 1), (4, 1), (4, 1), (4, 1), (4, 1), (4, 1), (4, 1), (4, 1), (4, 1), (4, 1), (4, 1), (4, 1), (4, 1), (4, 1), (4, 1), (4, 1), (4, 1), (4, 1), (4, 1), (4, 1), (4, 1), (4, 1), (4, 1), (4, 1), (4, 1), (4, 1), (4, 1), (4, 1), (4, 1), (4, 1), (4, 1), (4, 1), (4, 1), (4, 1), (4, 1), (4, 1), (4, 1), (4, 1), (4, 1), (4, 1), (4, 1), (4, 1), (4, 1), (4, 1), (4, 1), (4, 1), (4, 1), (4, 1), (4, 1), (4, 1), (4, 1), (4, 1), (4, 1), (4, 1), (4, 1), (4, 1), (4, 1), (4, 1), (4, 1), (4, 1), (4, 1), (4, 1), (4, 1), (4, 1), (4, 1), (4, 1), (4, 1), (4, 1), (4, 1), (4, 1), (4, 1), (4, 1), (4, 1), (4, 1), (4, 1), (4, 1), (4, 1), (4, 1), (4, 1), (4, 1), (4, 1), (4, 1), (4, 1), (4, 1), (4, 1), (4, 1), (4, 1), (4, 1), (4, 1), (4, 1), (4, 1), (4, 1), (4, 1), (4, 1), (4, 1), (4, 1), (4, 1), (4, 1), (4, 1), (4, 1), (4, 1), (4, 1), (4, 1), (4, 1), (4, 1), (4, 1), (4, 1), (4, 1), (4, 1), (4, 1), (4, 1), (4, 1), (4, 1), (4, 1), (4, 1), (4, 1), (4, 1), (4, 1), (4, 1), (4, 1), (4, 1), (4, 1), (4, 1), (4, 1), (4, 1), (4, 1), (4, 1), (4, 1), (4, 1), (4, 1), (4, 1), (4, 1), (4, 1), (4, 1), (4, 1), (4, 1), (4, 1), (4, 1), (4, 1), (4, 1), (4, 1), (4, 1), (4, 1), (4, 1), (4, 1), (4, 1), (4, 1), (4, 1), (4, 1), (4, 1), (4, 1), (4, 1), (4, 1), (4, 1), (4, 1), (4, 1), (4, 1), (4, 1), (4, 1), (4, 1), (4, 1), (4, 1), (4, 1), (4, 1), (4, 1), (4, 1), (4, 1), (4, 1), (4, 1), (4, 1), (4, 1), (4, 1), (4, 1), (4, 1), (4, 1), (4, 1), (4, 1), (4, 1), (4, 1), (4, 1), (4, 1), (4, 1), (4, 1), (4, 1), (4, 1), (4, 1), (4, 1), (4, 1), (4, 1), (4, 1), (4, 1), (4, 1), (4, 1), (4, 1), (4, 1), (4, 1), (4, 1), (4, 1), (4, 1), (4, 1), (4, 1), (4, 1), (4, 1), (4, 1), (4, 1), (4, 1), (4, 1), (4, 1), (4, 1), (4, 1), (4, 1), (4, 1), (4, 1), (4, 1), (4, 1), (4, 1), (4, 1), (4, 1), (4, 1), (4, 1), (4, 1), (4, 1), (4, 1), (4, 1), (4, 1), (4, 1), (4, 1), (4, 1), (4, 1), (4, 1), (4, 1), (4, 1), (4, 1), (4, 1), (4, 1), (4, 1), (4, 1), (4, 1), (4, 1), (4, 1), (4, 1), (4, 1), (4, 1), (4, 1), (4, 1), (4, 1), (4, 1), (4, 1), (4, 1), (4, 1), (4, 1), (4, 1), (4, 1), (4, 1), (4, 1), (4, 1), (4, 1), (4, 1), (4, 1), (4, 1), (4, 1), (4, 1), (4, 1), (4, 1), (4, 1), (4, 1), (4, 1), (4, 1), (4, 1), (4, 1), (4, 1), (4, 1), (4, 1), (4, 1), (4, 1), (5, 1), (5, 1), (5, 1), (5, 1), (5, 1), (5, 1), (5, 1), (5, 1), (5, 1), (5, 1), (5, 1), (5, 1), (5, 1), (5, 1), (5, 1), (5, 1), (5, 1), (5, 1), (5, 1), (5, 1), (5, 1), (5, 1), (5, 1), (5, 1), (5, 1), (5, 1), (5, 1), (5, 1), (5, 1), (5, 1), (5, 1), (5, 1), (5, 1), (5, 1), (5, 1), (5, 1), (5, 1), (5, 1), (5, 1), (5, 1), (5, 1), (5, 1), (5, 1), (5, 1), (5, 1), (5, 1), (5, 1), (5, 1), (5, 1), (5, 1), (5, 1), (5, 1), (5, 1), (5, 1), (5, 1), (5, 1), (5, 1), (5, 1), (5, 1), (5, 1), (5, 1), (5, 1), (5, 1), (5, 1), (5, 1), (5, 1), (5, 1), (5, 1), (5, 1), (5, 1), (5, 1), (5, 1), (5, 1), (5, 1), (5, 1), (5, 1), (5, 1), (5, 1), (5, 1), (5, 1), (5, 1), (5, 1), (5, 1), (5, 1), (5, 1), (5, 1), (5, 1), (5, 1), (5, 1), (5, 1), (5, 1), (5, 1), (5, 1), (5, 1), (5, 1), (5, 1), (5, 1), (5, 1), (5, 1), (5, 1), (5, 1), (5, 1), (5, 1), (5, 1), (5, 1), (5, 1), (5, 1), (5, 1), (5, 1), (5, 1), (5, 1), (5, 1), (5, 1), (5, 1), (5, 1), (5, 1), (5, 1), (5, 1), (5, 1), (5, 1), (5, 1), (5, 1), (5, 1), (5, 1), (5, 1), (5, 1), (5, 1), (5, 1), (5, 1), (5, 1), (5, 1), (5, 1), (5, 1), (5, 1), (5, 1), (5, 1), (5, 1), (5, 1), (5, 1), (5, 1), (5, 1), (5, 1), (5, 1), (5, 1), (5, 1), (5, 1), (5, 1), (5, 1), (5, 1), (5, 1), (5, 1), (5, 1), (5, 1), (5, 1), (5, 1), (5, 1), (5, 1), (5, 1), (5, 1), (5, 1), (5, 1), (5, 1), (5, 1), (5, 1), (5, 1), (5, 1), (5, 1), (5, 1), (5, 1), (5, 1), (5, 1), (5, 1), (5, 1), (5, 1), (5, 1), (5, 1), (5, 1), (5, 1), (5, 1), (5, 1), (5, 1), (5, 1), (5, 1), (5, 1), (5, 1), (5, 1), (5, 1), (5, 1), (5, 1), (5, 1), (5, 1), (5, 1), (5, 1), (5, 1), (5, 1), (5, 1), (5, 1), (5, 1), (5, 1), (5, 1), (5, 1), (5, 1), (5, 1), (5, 1), (5, 1), (5, 1), (5, 1), (5, 1), (5, 1), (5, 1), (5, 1), (5, 1), (5, 1), (5, 1), (5, 1), (5, 1), (5, 1), (5, 1), (5, 1), (5, 1), (5, 1), (5, 1), (5, 1), (5, 1), (5, 1), (5, 1), (5, 1), (5, 1), (5, 1), (5, 1), (5, 1), (5, 1), (5, 1), (5, 1), (5, 1), (5, 1), (5, 1), (5, 1), (5, 1), (5, 1), (5, 1), (5, 1), (5, 1), (5, 1), (5, 1), (5, 1), (5, 1), (5, 1), (5, 1), (5, 1), (5, 1), (5, 1), (5, 1), (5, 1), (5, 1), (5, 1), (5, 1), (5, 1), (5, 1), (5, 1), (5, 1), (5, 1), (5, 1), (5, 1), (5, 1), (5, 1), (5, 1), (5, 1), (5, 1), (5, 1), (5, 1), (5, 1), (5, 1), (5, 1), (5, 1), (5, 1), (5, 1), (5, 1), (5, 1), (5, 1), (5, 1), (5, 1), (5, 1), (5, 1), (5, 1), (5, 1), (5, 1), (5, 1), (5, 1), (5, 1), (5, 1), (5, 1), (5, 1), (5, 1), (5, 1), (5, 1), (5, 1), (5, 1), (5, 1), (5, 1), (6, 1), (6, 1), (6, 1), (6, 1), (6, 1), (6, 1), (6, 1), (6, 1), (6, 1), (6, 1), (6, 1), (6, 1), (6, 1), (6, 1), (6, 1), (6, 1), (6, 1), (6, 1), (6, 1), (6, 1), (6, 1), (6, 1), (6, 1), (6, 1), (6, 1), (6, 1), (6, 1), (6, 1), (6, 1), (6, 1), (6, 1), (6, 1), (6, 1), (6, 1), (6, 1), (6, 1), (6, 1), (6, 1), (6, 1), (6, 1), (6, 1), (6, 1), (6, 1), (6, 1), (6, 1), (6, 1), (6, 1), (6, 1), (6, 1), (6, 1), (6, 1), (6, 1), (6, 1), (6, 1), (6, 1), (6, 1), (6, 1), (6, 1), (6, 1), (6, 1), (6, 1), (6, 1), (6, 1), (6, 1), (6, 1), (6, 1), (6, 1), (6, 1), (6, 1), (6, 1), (6, 1), (6, 1), (6, 1), (6, 1), (6, 1), (6, 1), (6, 1), (6, 1), (6, 1), (6, 1), (6, 1), (6, 1), (6, 1), (6, 1), (6, 1), (6, 1), (6, 1), (6, 1), (6, 1), (6, 1), (6, 1), (6, 1), (6, 1), (6, 1), (6, 1), (6, 1), (6, 1), (6, 1), (6, 1), (6, 1), (6, 1), (6, 1), (6, 1), (6, 1), (6, 1), (6, 1), (6, 1), (6, 1), (6, 1), (6, 1), (6, 1), (6, 1), (6, 1), (6, 1), (6, 1), (6, 1), (6, 1), (6, 1), (6, 1), (6, 1), (6, 1), (6, 1), (6, 1), (6, 1), (6, 1), (6, 1), (6, 1), (6, 1), (6, 1), (6, 1), (6, 1), (6, 1), (6, 1), (6, 1), (6, 1), (6, 1), (6, 1), (6, 1), (6, 1), (6, 1), (6, 1), (6, 1), (6, 1), (6, 1), (6, 1), (6, 1), (6, 1), (6, 1), (6, 1), (6, 1), (6, 2), (6, 2), (6, 2), (6, 2), (6, 2), (6, 2), (6, 2), (6, 2), (6, 2), (6, 2), (6, 2), (6, 2), (6, 2), (6, 2), (6, 2), (6, 2), (6, 2), (6, 2), (6, 2), (6, 2), (6, 2), (6, 2), (6, 2), (6, 2), (6, 2), (6, 2), (6, 2), (6, 2), (6, 2), (6, 2), (6, 2), (6, 2), (6, 2), (6, 2), (6, 2), (6, 2), (6, 2), (6, 2), (6, 2), (6, 2), (6, 2), (6, 2), (6, 2), (6, 2), (6, 2), (6, 2), (6, 2), (6, 2), (6, 2), (6, 2), (6, 2), (6, 2), (6, 2), (6, 2), (6, 2), (6, 2), (6, 2), (6, 2), (6, 2), (6, 2), (6, 2), (6, 2), (6, 2), (6, 2), (6, 2), (6, 2), (6, 2), (6, 2), (6, 2), (6, 2), (6, 2), (6, 2), (6, 2), (6, 2), (6, 2), (6, 2), (6, 2), (6, 2), (6, 2), (6, 2), (6, 2), (6, 2), (6, 2), (6, 2), (6, 2), (6, 2), (6, 2), (6, 2), (6, 2), (6, 2), (6, 2), (6, 2), (6, 2), (6, 2), (6, 2), (6, 2), (6, 2), (6, 2), (6, 2), (6, 2), (6, 2), (6, 2), (6, 2), (6, 2), (6, 2), (6, 2), (6, 2), (6, 2), (6, 2), (6, 2), (6, 2), (6, 2), (6, 2), (6, 2), (6, 2), (6, 2), (6, 2), (6, 2), (6, 2), (6, 2), (6, 2), (6, 2), (6, 2), (6, 2), (6, 2), (6, 2), (6, 2), (6, 2), (6, 2), (6, 2), (6, 2), (6, 2), (6, 2), (6, 2), (6, 2), (6, 2), (6, 2), (6, 2), (6, 2), (6, 2), (6, 2), (6, 2), (6, 2), (6, 2), (6, 2), (6, 2), (6, 2), (6, 2), (6, 2), (6, 2), (5, 2), (5, 2), (5, 2), (5, 2), (5, 2), (5, 2), (5, 2), (5, 2), (5, 2), (5, 2), (5, 2), (5, 2), (5, 2), (5, 2), (5, 2), (5, 2), (5, 2), (5, 2), (5, 2), (5, 2), (5, 2), (5, 2), (5, 2), (5, 2), (5, 2), (5, 2), (5, 2), (5, 2), (5, 2), (5, 2), (5, 2), (5, 2), (5, 2), (5, 2), (5, 2), (5, 2), (5, 2), (5, 2), (5, 2), (5, 2), (5, 2), (5, 2), (5, 2), (5, 2), (5, 2), (5, 2), (5, 2), (5, 2), (5, 2), (5, 2), (5, 2), (5, 2), (5, 2), (5, 2), (5, 2), (5, 2), (5, 2), (5, 2), (5, 2), (5, 2), (5, 2), (5, 2), (5, 2), (5, 2), (5, 2), (5, 2), (5, 2), (5, 2), (5, 2), (5, 2), (5, 2), (5, 2), (5, 2), (5, 2), (5, 2), (5, 2), (5, 2), (5, 2), (5, 2), (5, 2), (5, 2), (5, 2), (5, 2), (5, 2), (5, 2), (5, 2), (5, 2), (5, 2), (5, 2), (5, 2), (5, 2), (5, 2), (5, 2), (5, 2), (5, 2), (5, 2), (5, 2), (5, 2), (5, 2), (5, 2), (5, 2), (5, 2), (5, 2), (5, 2), (5, 2), (5, 2), (5, 2), (5, 2), (5, 2), (5, 2), (5, 2), (5, 2), (5, 2), (5, 2), (5, 2), (5, 2), (5, 2), (5, 2), (5, 2), (5, 2), (5, 2), (5, 2), (5, 2), (5, 2), (5, 2), (5, 2), (5, 2), (5, 2), (5, 2), (5, 2), (5, 2), (5, 2), (5, 2), (5, 2), (5, 2), (5, 2), (5, 2), (5, 2), (5, 2), (5, 2), (5, 2), (5, 2), (5, 2), (5, 2), (5, 2), (5, 2), (5, 2), (5, 2), (5, 2), (5, 2), (5, 2), (5, 2), (5, 2), (5, 2), (5, 2), (5, 2), (5, 2), (5, 2), (5, 2), (5, 2), (5, 2), (5, 2), (5, 2), (5, 2), (5, 2), (5, 2), (5, 2), (5, 2), (5, 2), (5, 2), (5, 2), (5, 2), (5, 2), (5, 2), (5, 2), (5, 2), (5, 2), (5, 2), (5, 2), (5, 2), (5, 2), (5, 2), (5, 2), (5, 2), (5, 2), (5, 2), (5, 2), (5, 2), (5, 2), (5, 2), (5, 2), (5, 2), (5, 2), (5, 2), (5, 2), (5, 2), (5, 2), (5, 2), (5, 2), (5, 2), (5, 2), (5, 2), (5, 2), (5, 2), (5, 2), (5, 2), (5, 2), (5, 2), (5, 2), (5, 2), (5, 2), (5, 2), (5, 2), (5, 2), (5, 2), (5, 2), (5, 2), (5, 2), (5, 2), (5, 2), (5, 2), (5, 2), (5, 2), (5, 2), (5, 2), (5, 2), (5, 2), (5, 2), (5, 2), (5, 2), (5, 2), (5, 2), (5, 2), (5, 2), (5, 2), (5, 2), (5, 2), (5, 2), (5, 2), (5, 2), (5, 2), (5, 2), (5, 2), (5, 2), (5, 2), (5, 2), (5, 2), (5, 2), (5, 2), (5, 2), (5, 2), (5, 2), (5, 2), (5, 2), (5, 2), (5, 2), (5, 2), (5, 2), (5, 2), (5, 2), (5, 2), (5, 2), (5, 2), (5, 2), (5, 2), (5, 2), (5, 2), (5, 2), (5, 2), (5, 2), (5, 2), (5, 2), (5, 2), (5, 2), (5, 2), (5, 2), (5, 2), (5, 2), (5, 2), (5, 2), (5, 2), (5, 2), (5, 2), (5, 2), (5, 2), (5, 2), (5, 2), (5, 2), (5, 2), (5, 2), (5, 2), (5, 2), (5, 2), (5, 2), (5, 2), (5, 2), (5, 2), (5, 2), (5, 2), (5, 2), (4, 2), (4, 2), (4, 2), (4, 2), (4, 2), (4, 2), (4, 2), (4, 2), (4, 2), (4, 2), (4, 2), (4, 2), (4, 2), (4, 2), (4, 2), (4, 2), (4, 2), (4, 2), (4, 2), (4, 2), (4, 2), (4, 2), (4, 2), (4, 2), (4, 2), (4, 2), (4, 2), (4, 2), (4, 2), (4, 2), (4, 2), (4, 2), (4, 2), (4, 2), (4, 2), (4, 2), (4, 2), (4, 2), (4, 2), (4, 2), (4, 2), (4, 2), (4, 2), (4, 2), (4, 2), (4, 2), (4, 2), (4, 2), (4, 2), (4, 2), (4, 2), (4, 2), (4, 2), (4, 2), (4, 2), (4, 2), (4, 2), (4, 2), (4, 2), (4, 2), (4, 2), (4, 2), (4, 2), (4, 2), (4, 2), (4, 2), (4, 2), (4, 2), (4, 2), (4, 2), (4, 2), (4, 2), (4, 2), (4, 2), (4, 2), (4, 2), (4, 2), (4, 2), (4, 2), (4, 2), (4, 2), (4, 2), (4, 2), (4, 2), (4, 2), (4, 2), (4, 2), (4, 2), (4, 2), (4, 2), (4, 2), (4, 2), (4, 2), (4, 2), (4, 2), (4, 2), (4, 2), (4, 2), (4, 2), (4, 2), (4, 2), (4, 2), (4, 2), (4, 2), (4, 2), (4, 2), (4, 2), (4, 2), (4, 2), (4, 2), (4, 2), (4, 2), (4, 2), (4, 2), (4, 2), (4, 2), (4, 2), (4, 2), (4, 2), (4, 2), (4, 2), (4, 2), (4, 2), (4, 2), (4, 2), (4, 2), (4, 2), (4, 2), (4, 2), (4, 2), (4, 2), (4, 2), (4, 2), (4, 2), (4, 2), (4, 2), (4, 2), (4, 2), (4, 2), (4, 2), (4, 2), (4, 2), (4, 2), (4, 2), (4, 2), (4, 2), (4, 2), (4, 2), (4, 2), (4, 2), (4, 2), (4, 2), (4, 2), (4, 2), (4, 2), (4, 2), (4, 2), (4, 2), (4, 2), (4, 2), (4, 2), (4, 2), (4, 2), (4, 2), (4, 2), (4, 2), (4, 2), (4, 2), (4, 2), (4, 2), (4, 2), (4, 2), (4, 2), (4, 2), (4, 2), (4, 2), (4, 2), (4, 2), (4, 2), (4, 2), (4, 2), (4, 2), (4, 2), (4, 2), (4, 2), (4, 2), (4, 2), (4, 2), (4, 2), (4, 2), (4, 2), (4, 2), (4, 2), (4, 2), (4, 2), (4, 2), (4, 2), (4, 2), (4, 2), (4, 2), (4, 2), (4, 2), (4, 2), (4, 2), (4, 2), (4, 2), (4, 2), (4, 2), (4, 2), (4, 2), (4, 2), (4, 2), (4, 2), (4, 2), (4, 2), (4, 2), (4, 2), (4, 2), (4, 2), (4, 2), (4, 2), (4, 2), (4, 2), (4, 2), (4, 2), (4, 2), (4, 2), (4, 2), (4, 2), (4, 2), (4, 2), (4, 2), (4, 2), (4, 2), (4, 2), (4, 2), (4, 2), (4, 2), (4, 2), (4, 2), (4, 2), (4, 2), (4, 2), (4, 2), (4, 2), (4, 2), (4, 2), (4, 2), (4, 2), (4, 2), (4, 2), (4, 2), (4, 2), (4, 2), (4, 2), (4, 2), (4, 2), (4, 2), (4, 2), (4, 2), (4, 2), (4, 2), (4, 2), (4, 2), (4, 2), (4, 2), (4, 2), (4, 2), (4, 2), (4, 2), (4, 2), (4, 2), (4, 2), (4, 2), (4, 2), (4, 2), (4, 2), (4, 2), (4, 2), (4, 2), (4, 2), (4, 2), (4, 2), (4, 2), (4, 2), (4, 2), (4, 2), (4, 2), (4, 2), (4, 2), (4, 2), (4, 2), (4, 2), (4, 2), (4, 2), (4, 2), (4, 2), (4, 2), (4, 2), (4, 2), (3, 2), (3, 2), (3, 2), (3, 2), (3, 2), (3, 2), (3, 2), (3, 2), (3, 2), (3, 2), (3, 2), (3, 2), (3, 2), (3, 2), (3, 2), (3, 2), (3, 2), (3, 2), (3, 2), (3, 2), (3, 2), (3, 2), (3, 2), (3, 2), (3, 2), (3, 2), (3, 2), (3, 2), (3, 2), (3, 2), (3, 2), (3, 2), (3, 2), (3, 2), (3, 2), (3, 2), (3, 2), (3, 2), (3, 2), (3, 2), (3, 2), (3, 2), (3, 2), (3, 2), (3, 2), (3, 2), (3, 2), (3, 2), (3, 2), (3, 2), (3, 2), (3, 2), (3, 2), (3, 2), (3, 2), (3, 2), (3, 2), (3, 2), (3, 2), (3, 2), (3, 2), (3, 2), (3, 2), (3, 2), (3, 2), (3, 2), (3, 2), (3, 2), (3, 2), (3, 2), (3, 2), (3, 2), (3, 2), (3, 2), (3, 2), (3, 2), (3, 2), (3, 2), (3, 2), (3, 2), (3, 2), (3, 2), (3, 2), (3, 2), (3, 2), (3, 2), (3, 2), (3, 2), (3, 2), (3, 2), (3, 2), (3, 2), (3, 2), (3, 2), (3, 2), (3, 2), (3, 2), (3, 2), (3, 2), (3, 2), (3, 2), (3, 2), (3, 2), (3, 2), (3, 2), (3, 2), (3, 2), (3, 2), (3, 2), (3, 2), (3, 2), (3, 2), (3, 2), (3, 2), (3, 2), (3, 2), (3, 2), (3, 2), (3, 2), (3, 2), (3, 2), (3, 2), (3, 2), (3, 2), (3, 2), (3, 2), (3, 2), (3, 2), (3, 2), (3, 2), (3, 2), (3, 2), (3, 2), (3, 2), (3, 2), (3, 2), (3, 2), (3, 2), (3, 2), (3, 2), (3, 2), (3, 2), (3, 2), (3, 2), (3, 2), (3, 2), (3, 2), (3, 2), (3, 2), (3, 2), (3, 2), (3, 2), (3, 2), (3, 2), (3, 2), (3, 2), (3, 2), (3, 2), (3, 2), (3, 2), (3, 2), (3, 2), (3, 2), (3, 2), (3, 2), (3, 2), (3, 2), (3, 2), (3, 2), (3, 2), (3, 2), (3, 2), (3, 2), (3, 2), (3, 2), (3, 2), (3, 2), (3, 2), (3, 2), (3, 2), (3, 2), (3, 2), (3, 2), (3, 2), (3, 2), (3, 2), (3, 2), (3, 2), (3, 2), (3, 2), (3, 2), (3, 2), (3, 2), (3, 2), (3, 2), (3, 2), (3, 2), (3, 2), (3, 2), (3, 2), (3, 2), (3, 2), (3, 2), (3, 2), (3, 2), (3, 2), (3, 2), (3, 2), (3, 2), (3, 2), (3, 2), (3, 2), (3, 2), (3, 2), (3, 2), (3, 2), (3, 2), (3, 2), (3, 2), (3, 2), (3, 2), (3, 2), (3, 2), (3, 2), (3, 2), (3, 2), (3, 2), (3, 2), (3, 2), (3, 2), (3, 2), (3, 2), (3, 2), (3, 2), (3, 2), (3, 2), (3, 2), (3, 2), (3, 2), (3, 2), (3, 2), (3, 2), (3, 2), (3, 2), (3, 2), (3, 2), (3, 2), (3, 2), (3, 2), (3, 2), (3, 2), (3, 2), (3, 2), (3, 2), (3, 2), (3, 2), (3, 2), (3, 2), (3, 2), (3, 2), (3, 2), (3, 2), (3, 2), (3, 2), (3, 2), (3, 2), (3, 2), (3, 2), (3, 2), (3, 2), (3, 2), (3, 2), (3, 2), (3, 2), (3, 2), (3, 2), (3, 2), (3, 2), (3, 2), (3, 2), (3, 2), (3, 2), (3, 2), (3, 2), (3, 2), (3, 2), (3, 2), (3, 2), (3, 2), (3, 2), (3, 2), (3, 2), (3, 2), (3, 2), (3, 2), (3, 2), (3, 2), (3, 2), (3, 2), (3, 2), (2, 2), (2, 2), (2, 2), (2, 2), (2, 2), (2, 2), (2, 2), (2, 2), (2, 2), (2, 2), (2, 2), (2, 2), (2, 2), (2, 2), (2, 2), (2, 2), (2, 2), (2, 2), (2, 2), (2, 2), (2, 2), (2, 2), (2, 2), (2, 2), (2, 2), (2, 2), (2, 2), (2, 2), (2, 2), (2, 2), (2, 2), (2, 2), (2, 2), (2, 2), (2, 2), (2, 2), (2, 2), (2, 2), (2, 2), (2, 2), (2, 2), (2, 2), (2, 2), (2, 2), (2, 2), (2, 2), (2, 2), (2, 2), (2, 2), (2, 2), (2, 2), (2, 2), (2, 2), (2, 2), (2, 2), (2, 2), (2, 2), (2, 2), (2, 2), (2, 2), (2, 2), (2, 2), (2, 2), (2, 2), (2, 2), (2, 2), (2, 2), (2, 2), (2, 2), (2, 2), (2, 2), (2, 2), (2, 2), (2, 2), (2, 2), (2, 2), (2, 2), (2, 2), (2, 2), (2, 2), (2, 2), (2, 2), (2, 2), (2, 2), (2, 2), (2, 2), (2, 2), (2, 2), (2, 2), (2, 2), (2, 2), (2, 2), (2, 2), (2, 2), (2, 2), (2, 2), (2, 2), (2, 2), (2, 2), (2, 2), (2, 2), (2, 2), (2, 2), (2, 2), (2, 2), (2, 2), (2, 2), (2, 2), (2, 2), (2, 2), (2, 2), (2, 2), (2, 2), (2, 2), (2, 2), (2, 2), (2, 2), (2, 2), (2, 2), (2, 2), (2, 2), (2, 2), (2, 2), (2, 2), (2, 2), (2, 2), (2, 2), (2, 2), (2, 2), (2, 2), (2, 2), (2, 2), (2, 2), (2, 2), (2, 2), (2, 2), (2, 2), (2, 2), (2, 2), (2, 2), (2, 2), (2, 2), (2, 2), (2, 2), (2, 2), (2, 2), (2, 2), (2, 2), (2, 2), (2, 2), (2, 2), (2, 2), (2, 2), (2, 2), (2, 2), (2, 2), (2, 2), (2, 2), (2, 2), (2, 2), (2, 2), (2, 2), (2, 2), (2, 2), (2, 2), (2, 2), (2, 2), (2, 2), (2, 2), (2, 2), (2, 2), (2, 2), (2, 2), (2, 2), (2, 2), (2, 2), (2, 2), (2, 2), (2, 2), (2, 2), (2, 2), (2, 2), (2, 2), (2, 2), (2, 2), (2, 2), (2, 2), (2, 2), (2, 2), (2, 2), (2, 2), (2, 2), (2, 2), (2, 2), (2, 2), (2, 2), (2, 2), (2, 2), (2, 2), (2, 2), (2, 2), (2, 2), (2, 2), (2, 2), (2, 2), (2, 2), (2, 2), (2, 2), (2, 2), (2, 2), (2, 2), (2, 2), (2, 2), (2, 2), (2, 2), (2, 2), (2, 2), (2, 2), (2, 2), (2, 2), (2, 2), (2, 2), (2, 2), (2, 2), (2, 2), (2, 2), (2, 2), (2, 2), (2, 2), (2, 2), (2, 2), (2, 2), (2, 2), (2, 2), (2, 2), (2, 2), (2, 2), (2, 2), (2, 2), (2, 2), (2, 2), (2, 2), (2, 2), (2, 2), (2, 2), (2, 2), (2, 2), (2, 2), (2, 2), (2, 2), (2, 2), (2, 2), (2, 2), (2, 2), (2, 2), (2, 2), (2, 2), (2, 2), (2, 2), (2, 2), (2, 2), (2, 2), (2, 2), (2, 2), (2, 2), (2, 2), (2, 2), (2, 2), (2, 2), (2, 2), (2, 2), (2, 2), (2, 2), (2, 2), (2, 2), (2, 2), (2, 2), (2, 2), (2, 2), (2, 2), (2, 2), (2, 2), (2, 2), (2, 2), (2, 2), (2, 2), (2, 2), (2, 2), (2, 2), (2, 2), (2, 2), (2, 2), (2, 2), (2, 2), (2, 2), (2, 2), (2, 2), (2, 2), (2, 2), (2, 2), (1, 2), (1, 2), (1, 2), (1, 2), (1, 2), (1, 2), (1, 2), (1, 2), (1, 2), (1, 2), (1, 2), (1, 2), (1, 2), (1, 2), (1, 2), (1, 2), (1, 2), (1, 2), (1, 2), (1, 2), (1, 2), (1, 2), (1, 2), (1, 2), (1, 2), (1, 2), (1, 2), (1, 2), (1, 2), (1, 2), (1, 2), (1, 2), (1, 2), (1, 2), (1, 2), (1, 2), (1, 2), (1, 2), (1, 2), (1, 2), (1, 2), (1, 2), (1, 2), (1, 2), (1, 2), (1, 2), (1, 2), (1, 2), (1, 2), (1, 2), (1, 2), (1, 2), (1, 2), (1, 2), (1, 2), (1, 2), (1, 2), (1, 2), (1, 2), (1, 2), (1, 2), (1, 2), (1, 2), (1, 2), (1, 2), (1, 2), (1, 2), (1, 2), (1, 2), (1, 2), (1, 2), (1, 2), (1, 2), (1, 2), (1, 2), (1, 2), (1, 2), (1, 2), (1, 2), (1, 2), (1, 2), (1, 2), (1, 2), (1, 2), (1, 2), (1, 2), (1, 2), (1, 2), (1, 2), (1, 2), (1, 2), (1, 2), (1, 2), (1, 2), (1, 2), (1, 2), (1, 2), (1, 2), (1, 2), (1, 2), (1, 2), (1, 2), (1, 2), (1, 2), (1, 2), (1, 2), (1, 2), (1, 2), (1, 2), (1, 2), (1, 2), (1, 2), (1, 2), (1, 2), (1, 2), (1, 2), (1, 2), (1, 2), (1, 2), (1, 2), (1, 2), (1, 2), (1, 2), (1, 2), (1, 2), (1, 2), (1, 2), (1, 2), (1, 2), (1, 2), (1, 2), (1, 2), (1, 2), (1, 2), (1, 2), (1, 2), (1, 2), (1, 2), (1, 2), (1, 2), (1, 2), (1, 2), (1, 2), (1, 2), (1, 2), (1, 2), (1, 2), (1, 2), (1, 2), (1, 2), (1, 2), (1, 2), (1, 2), (1, 2), (1, 2), (1, 2), (1, 2), (1, 2), (1, 2), (1, 2), (1, 2), (1, 2), (1, 2), (1, 2), (1, 2), (1, 2), (1, 2), (1, 2), (1, 2), (1, 2), (1, 2), (1, 2), (1, 2), (1, 2), (1, 2), (1, 2), (1, 2), (1, 2), (1, 2), (1, 2), (1, 2), (1, 2), (1, 2), (1, 2), (1, 2), (1, 2), (1, 2), (1, 2), (1, 2), (1, 2), (1, 2), (1, 2), (1, 2), (1, 2), (1, 2), (1, 2), (1, 2), (1, 2), (1, 2), (1, 2), (1, 2), (1, 2), (1, 2), (1, 2), (1, 2), (1, 2), (1, 2), (1, 2), (1, 2), (1, 2), (1, 2), (1, 2), (1, 2), (1, 2), (1, 2), (1, 2), (1, 2), (1, 2), (1, 2), (1, 2), (1, 2), (1, 2), (1, 2), (1, 2), (1, 2), (1, 2), (1, 2), (1, 2), (1, 2), (1, 2), (1, 2), (1, 2), (1, 2), (1, 2), (1, 2), (1, 2), (1, 2), (1, 2), (1, 2), (1, 2), (1, 2), (1, 2), (1, 2), (1, 2), (1, 2), (1, 2), (1, 2), (1, 2), (1, 2), (1, 2), (1, 2), (1, 2), (1, 2), (1, 2), (1, 2), (1, 2), (1, 2), (1, 2), (1, 2), (1, 2), (1, 2), (1, 2), (1, 2), (1, 2), (1, 2), (1, 2), (1, 2), (1, 2), (1, 2), (1, 2), (1, 2), (1, 2), (1, 2), (1, 2), (1, 2), (1, 2), (1, 2), (1, 2), (1, 2), (1, 2), (1, 2), (1, 2), (1, 2), (1, 2), (1, 2), (1, 2), (1, 2), (1, 2), (1, 2), (1, 2), (1, 2), (1, 2), (1, 2), (1, 2), (1, 2), (1, 2), (1, 2), (1, 2), (1, 2), (1, 2), (1, 3), (1, 3), (1, 3), (1, 3), (1, 3), (1, 3), (1, 3), (1, 3), (1, 3), (1, 3), (1, 3), (1, 3), (1, 3), (1, 3), (1, 3), (1, 3), (1, 3), (1, 3), (1, 3), (1, 3), (1, 3), (1, 3), (1, 3), (1, 3), (1, 3), (1, 3), (1, 3), (1, 3), (1, 3), (1, 3), (1, 3), (1, 3), (1, 3), (1, 3), (1, 3), (1, 3), (1, 3), (1, 3), (1, 3), (1, 3), (1, 3), (1, 3), (1, 3), (1, 3), (1, 3), (1, 3), (1, 3), (1, 3), (1, 3), (1, 3), (1, 3), (1, 3), (1, 3), (1, 3), (1, 3), (1, 3), (1, 3), (1, 3), (1, 3), (1, 3), (1, 3), (1, 3), (1, 3), (1, 3), (1, 3), (1, 3), (1, 3), (1, 3), (1, 3), (1, 3), (1, 3), (1, 3), (1, 3), (1, 3), (1, 3), (1, 3), (1, 3), (1, 3), (1, 3), (1, 3), (1, 3), (1, 3), (1, 3), (1, 3), (1, 3), (1, 3), (1, 3), (1, 3), (1, 3), (1, 3), (1, 3), (1, 3), (1, 3), (1, 3), (1, 3), (1, 3), (1, 3), (1, 3), (1, 3), (1, 3), (1, 3), (1, 3), (1, 3), (1, 3), (1, 3), (1, 3), (1, 3), (1, 3), (1, 3), (1, 3), (1, 3), (1, 3), (1, 3), (1, 3), (1, 3), (1, 3), (1, 3), (1, 3), (1, 3), (1, 3), (1, 3), (1, 3), (1, 3), (1, 3), (1, 3), (1, 3), (1, 3), (1, 3), (1, 3), (1, 3), (1, 3), (1, 3), (1, 3), (1, 3), (1, 3), (1, 3), (1, 3), (1, 3), (1, 3), (1, 3), (1, 3), (1, 3), (1, 3), (1, 3), (1, 3), (1, 3), (1, 3), (1, 3), (1, 3), (1, 3), (1, 3), (1, 3), (1, 3), (1, 3), (1, 3), (1, 3), (1, 3), (1, 3), (1, 3), (1, 3), (1, 3), (1, 3), (1, 3), (1, 3), (1, 3), (1, 3), (1, 3), (1, 3), (1, 3), (1, 3), (1, 3), (1, 3), (1, 3), (1, 3), (1, 3), (1, 3), (1, 3), (1, 3), (1, 3), (1, 3), (1, 3), (1, 3), (1, 3), (1, 3), (1, 3), (1, 3), (1, 3), (1, 3), (1, 3), (1, 3), (1, 3), (1, 3), (1, 3), (1, 3), (1, 3), (1, 3), (1, 3), (1, 3), (1, 3), (1, 3), (1, 3), (1, 3), (1, 3), (1, 3), (1, 3), (1, 3), (1, 3), (1, 3), (1, 3), (1, 3), (1, 3), (1, 3), (1, 3), (1, 3), (1, 3), (1, 3), (1, 3), (1, 3), (1, 3), (1, 3), (1, 3), (1, 3), (1, 3), (1, 3), (1, 3), (1, 3), (1, 3), (1, 3), (1, 3), (1, 3), (1, 3), (1, 3), (1, 3), (1, 3), (1, 3), (1, 3), (1, 3), (1, 3), (1, 3), (1, 3), (1, 3), (1, 3), (1, 3), (1, 3), (1, 3), (1, 3), (1, 3), (1, 3), (1, 3), (1, 3), (1, 3), (1, 3), (1, 3), (1, 3), (1, 3), (1, 3), (1, 3), (1, 3), (1, 3), (1, 3), (1, 3), (1, 3), (1, 3), (1, 3), (1, 3), (1, 3), (1, 3), (1, 3), (1, 3), (1, 3), (1, 3), (1, 3), (1, 3), (1, 3), (1, 3), (1, 3), (1, 3), (1, 3), (1, 3), (1, 3), (1, 3), (1, 3), (1, 3), (1, 3), (1, 3), (1, 3), (1, 3), (1, 3), (1, 3), (1, 3), (1, 3), (1, 3), (1, 3), (1, 3), (1, 3), (1, 3), (1, 3), (1, 3), (1, 3), (1, 3), (2, 3), (2, 3), (2, 3), (2, 3), (2, 3), (2, 3), (2, 3), (2, 3), (2, 3), (2, 3), (2, 3), (2, 3), (2, 3), (2, 3), (2, 3), (2, 3), (2, 3), (2, 3), (2, 3), (2, 3), (2, 3), (2, 3), (2, 3), (2, 3), (2, 3), (2, 3), (2, 3), (2, 3), (2, 3), (2, 3), (2, 3), (2, 3), (2, 3), (2, 3), (2, 3), (2, 3), (2, 3), (2, 3), (2, 3), (2, 3), (2, 3), (2, 3), (2, 3), (2, 3), (2, 3), (2, 3), (2, 3), (2, 3), (2, 3), (2, 3), (2, 3), (2, 3), (2, 3), (2, 3), (2, 3), (2, 3), (2, 3), (2, 3), (2, 3), (2, 3), (2, 3), (2, 3), (2, 3), (2, 3), (2, 3), (2, 3), (2, 3), (2, 3), (2, 3), (2, 3), (2, 3), (2, 3), (2, 3), (2, 3), (2, 3), (2, 3), (2, 3), (2, 3), (2, 3), (2, 3), (2, 3), (2, 3), (2, 3), (2, 3), (2, 3), (2, 3), (2, 3), (2, 3), (2, 3), (2, 3), (2, 3), (2, 3), (2, 3), (2, 3), (2, 3), (2, 3), (2, 3), (2, 3), (2, 3), (2, 3), (2, 3), (2, 3), (2, 3), (2, 3), (2, 3), (2, 3), (2, 3), (2, 3), (2, 3), (2, 3), (2, 3), (2, 3), (2, 3), (2, 3), (2, 3), (2, 3), (2, 3), (2, 3), (2, 3), (2, 3), (2, 3), (2, 3), (2, 3), (2, 3), (2, 3), (2, 3), (2, 3), (2, 3), (2, 3), (2, 3), (2, 3), (2, 3), (2, 3), (2, 3), (2, 3), (2, 3), (2, 3), (2, 3), (2, 3), (2, 3), (2, 3), (2, 3), (2, 3), (2, 3), (2, 3), (2, 3), (2, 3), (2, 3), (2, 3), (2, 3), (2, 3), (2, 3), (2, 3), (2, 3), (2, 3), (2, 3), (2, 3), (2, 3), (2, 3), (2, 3), (2, 3), (2, 3), (2, 3), (2, 3), (2, 3), (2, 3), (2, 3), (2, 3), (2, 3), (2, 3), (2, 3), (2, 3), (2, 3), (2, 3), (2, 3), (2, 3), (2, 3), (2, 3), (2, 3), (2, 3), (2, 3), (2, 3), (2, 3), (2, 3), (2, 3), (2, 3), (2, 3), (2, 3), (2, 3), (2, 3), (2, 3), (2, 3), (2, 3), (2, 3), (2, 3), (2, 3), (2, 3), (2, 3), (2, 3), (2, 3), (2, 3), (2, 3), (2, 3), (2, 3), (2, 3), (2, 3), (2, 3), (2, 3), (2, 3), (2, 3), (2, 3), (2, 3), (2, 3), (2, 3), (2, 3), (2, 3), (2, 3), (2, 3), (2, 3), (2, 3), (2, 3), (2, 3), (2, 3), (2, 3), (2, 3), (2, 3), (2, 3), (2, 3), (2, 3), (2, 3), (2, 3), (2, 3), (2, 3), (2, 3), (2, 3), (2, 3), (2, 3), (2, 3), (2, 3), (2, 3), (2, 3), (2, 3), (2, 3), (2, 3), (2, 3), (2, 3), (2, 3), (2, 3), (2, 3), (2, 3), (2, 3), (2, 3), (2, 3), (2, 3), (2, 3), (2, 3), (2, 3), (2, 3), (2, 3), (2, 3), (2, 3), (2, 3), (2, 3), (2, 3), (2, 3), (2, 3), (2, 3), (2, 3), (2, 3), (2, 3), (2, 3), (2, 3), (2, 3), (2, 3), (2, 3), (2, 3), (2, 3), (2, 3), (2, 3), (2, 3), (2, 3), (2, 3), (2, 3), (2, 3), (2, 3), (2, 3), (2, 3), (2, 3), (2, 3), (2, 3), (2, 3), (2, 3), (2, 3), (2, 3), (2, 3), (2, 3), (2, 3), (2, 3), (2, 3), (2, 3), (3, 3), (3, 3), (3, 3), (3, 3), (3, 3), (3, 3), (3, 3), (3, 3), (3, 3), (3, 3), (3, 3), (3, 3), (3, 3), (3, 3), (3, 3), (3, 3), (3, 3), (3, 3), (3, 3), (3, 3), (3, 3), (3, 3), (3, 3), (3, 3), (3, 3), (3, 3), (3, 3), (3, 3), (3, 3), (3, 3), (3, 3), (3, 3), (3, 3), (3, 3), (3, 3), (3, 3), (3, 3), (3, 3), (3, 3), (3, 3), (3, 3), (3, 3), (3, 3), (3, 3), (3, 3), (3, 3), (3, 3), (3, 3), (3, 3), (3, 3), (3, 3), (3, 3), (3, 3), (3, 3), (3, 3), (3, 3), (3, 3), (3, 3), (3, 3), (3, 3), (3, 3), (3, 3), (3, 3), (3, 3), (3, 3), (3, 3), (3, 3), (3, 3), (3, 3), (3, 3), (3, 3), (3, 3), (3, 3), (3, 3), (3, 3), (3, 3), (3, 3), (3, 3), (3, 3), (3, 3), (3, 3), (3, 3), (3, 3), (3, 3), (3, 3), (3, 3), (3, 3), (3, 3), (3, 3), (3, 3), (3, 3), (3, 3), (3, 3), (3, 3), (3, 3), (3, 3), (3, 3), (3, 3), (3, 3), (3, 3), (3, 3), (3, 3), (3, 3), (3, 3), (3, 3), (3, 3), (3, 3), (3, 3), (3, 3), (3, 3), (3, 3), (3, 3), (3, 3), (3, 3), (3, 3), (3, 3), (3, 3), (3, 3), (3, 3), (3, 3), (3, 3), (3, 3), (3, 3), (3, 3), (3, 3), (3, 3), (3, 3), (3, 3), (3, 3), (3, 3), (3, 3), (3, 3), (3, 3), (3, 3), (3, 3), (3, 3), (3, 3), (3, 3), (3, 3), (3, 3), (3, 3), (3, 3), (3, 3), (3, 3), (3, 3), (3, 3), (3, 3), (3, 3), (3, 3), (3, 3), (3, 3), (3, 3), (3, 3), (3, 3), (3, 3), (3, 3), (3, 3), (3, 3), (3, 3), (3, 3), (3, 3), (3, 3), (3, 3), (3, 3), (3, 3), (3, 3), (3, 3), (3, 3), (3, 3), (3, 3), (3, 3), (3, 3), (3, 3), (3, 3), (3, 3), (3, 3), (3, 3), (3, 3), (3, 3), (3, 3), (3, 3), (3, 3), (3, 3), (3, 3), (3, 3), (3, 3), (3, 3), (3, 3), (3, 3), (3, 3), (3, 3), (3, 3), (3, 3), (3, 3), (3, 3), (3, 3), (3, 3), (3, 3), (3, 3), (3, 3), (3, 3), (3, 3), (3, 3), (3, 3), (3, 3), (3, 3), (3, 3), (3, 3), (3, 3), (3, 3), (3, 3), (3, 3), (3, 3), (3, 3), (3, 3), (3, 3), (3, 3), (3, 3), (3, 3), (3, 3), (3, 3), (3, 3), (3, 3), (3, 3), (3, 3), (3, 3), (3, 3), (3, 3), (3, 3), (3, 3), (3, 3), (3, 3), (3, 3), (3, 3), (3, 3), (3, 3), (3, 3), (3, 3), (3, 3), (3, 3), (3, 3), (3, 3), (3, 3), (3, 3), (3, 3), (3, 3), (3, 3), (3, 3), (3, 3), (3, 3), (3, 3), (3, 3), (3, 3), (3, 3), (3, 3), (3, 3), (3, 3), (3, 3), (3, 3), (3, 3), (3, 3), (3, 3), (3, 3), (3, 3), (3, 3), (3, 3), (3, 3), (3, 3), (3, 3), (3, 3), (3, 3), (3, 3), (3, 3), (3, 3), (3, 3), (3, 3), (3, 3), (3, 3), (3, 3), (3, 3), (3, 3), (3, 3), (3, 3), (3, 3), (3, 3), (3, 3), (3, 3), (3, 3), (3, 3), (3, 3), (3, 3), (3, 3), (3, 3), (3, 3), (3, 3), (3, 3), (3, 3), (3, 3), (3, 3), (3, 3), (4, 3), (4, 3), (4, 3), (4, 3), (4, 3), (4, 3), (4, 3), (4, 3), (4, 3), (4, 3), (4, 3), (4, 3), (4, 3), (4, 3), (4, 3), (4, 3), (4, 3), (4, 3), (4, 3), (4, 3), (4, 3), (4, 3), (4, 3), (4, 3), (4, 3), (4, 3), (4, 3), (4, 3), (4, 3), (4, 3), (4, 3), (4, 3), (4, 3), (4, 3), (4, 3), (4, 3), (4, 3), (4, 3), (4, 3), (4, 3), (4, 3), (4, 3), (4, 3), (4, 3), (4, 3), (4, 3), (4, 3), (4, 3), (4, 3), (4, 3), (4, 3), (4, 3), (4, 3), (4, 3), (4, 3), (4, 3), (4, 3), (4, 3), (4, 3), (4, 3), (4, 3), (4, 3), (4, 3), (4, 3), (4, 3), (4, 3), (4, 3), (4, 3), (4, 3), (4, 3), (4, 3), (4, 3), (4, 3), (4, 3), (4, 3), (4, 3), (4, 3), (4, 3), (4, 3), (4, 3), (4, 3), (4, 3), (4, 3), (4, 3), (4, 3), (4, 3), (4, 3), (4, 3), (4, 3), (4, 3), (4, 3), (4, 3), (4, 3), (4, 3), (4, 3), (4, 3), (4, 3), (4, 3), (4, 3), (4, 3), (4, 3), (4, 3), (4, 3), (4, 3), (4, 3), (4, 3), (4, 3), (4, 3), (4, 3), (4, 3), (4, 3), (4, 3), (4, 3), (4, 3), (4, 3), (4, 3), (4, 3), (4, 3), (4, 3), (4, 3), (4, 3), (4, 3), (4, 3), (4, 3), (4, 3), (4, 3), (4, 3), (4, 3), (4, 3), (4, 3), (4, 3), (4, 3), (4, 3), (4, 3), (4, 3), (4, 3), (4, 3), (4, 3), (4, 3), (4, 3), (4, 3), (4, 3), (4, 3), (4, 3), (4, 3), (4, 3), (4, 3), (4, 3), (4, 3), (4, 3), (4, 3), (4, 3), (4, 3), (4, 3), (4, 3), (4, 3), (4, 3), (4, 3), (4, 3), (4, 3), (4, 3), (4, 3), (4, 3), (4, 3), (4, 3), (4, 3), (4, 3), (4, 3), (4, 3), (4, 3), (4, 3), (4, 3), (4, 3), (4, 3), (4, 3), (4, 3), (4, 3), (4, 3), (4, 3), (4, 3), (4, 3), (4, 3), (4, 3), (4, 3), (4, 3), (4, 3), (4, 3), (4, 3), (4, 3), (4, 3), (4, 3), (4, 3), (4, 3), (4, 3), (4, 3), (4, 3), (4, 3), (4, 3), (4, 3), (4, 3), (4, 3), (4, 3), (4, 3), (4, 3), (4, 3), (4, 3), (4, 3), (4, 3), (4, 3), (4, 3), (4, 3), (4, 3), (4, 3), (4, 3), (4, 3), (4, 3), (4, 3), (4, 3), (4, 3), (4, 3), (4, 3), (4, 3), (4, 3), (4, 3), (4, 3), (4, 3), (4, 3), (4, 3), (4, 3), (4, 3), (4, 3), (4, 3), (4, 3), (4, 3), (4, 3), (4, 3), (4, 3), (4, 3), (4, 3), (4, 3), (4, 3), (4, 3), (4, 3), (4, 3), (4, 3), (4, 3), (4, 3), (4, 3), (4, 3), (4, 3), (4, 3), (4, 3), (4, 3), (4, 3), (4, 3), (4, 3), (4, 3), (4, 3), (4, 3), (4, 3), (4, 3), (4, 3), (4, 3), (4, 3), (4, 3), (4, 3), (4, 3), (4, 3), (4, 3), (4, 3), (4, 3), (4, 3), (4, 3), (4, 3), (4, 3), (4, 3), (4, 3), (4, 3), (4, 3), (4, 3), (4, 3), (4, 3), (4, 3), (4, 3), (4, 3), (4, 3), (4, 3), (4, 3), (4, 3), (4, 3), (4, 3), (4, 3), (4, 3), (4, 3), (4, 3), (4, 3), (4, 3), (4, 3), (4, 3), (4, 3), (5, 3), (5, 3), (5, 3), (5, 3), (5, 3), (5, 3), (5, 3), (5, 3), (5, 3), (5, 3), (5, 3), (5, 3), (5, 3), (5, 3), (5, 3), (5, 3), (5, 3), (5, 3), (5, 3), (5, 3), (5, 3), (5, 3), (5, 3), (5, 3), (5, 3), (5, 3), (5, 3), (5, 3), (5, 3), (5, 3), (5, 3), (5, 3), (5, 3), (5, 3), (5, 3), (5, 3), (5, 3), (5, 3), (5, 3), (5, 3), (5, 3), (5, 3), (5, 3), (5, 3), (5, 3), (5, 3), (5, 3), (5, 3), (5, 3), (5, 3), (5, 3), (5, 3), (5, 3), (5, 3), (5, 3), (5, 3), (5, 3), (5, 3), (5, 3), (5, 3), (5, 3), (5, 3), (5, 3), (5, 3), (5, 3), (5, 3), (5, 3), (5, 3), (5, 3), (5, 3), (5, 3), (5, 3), (5, 3), (5, 3), (5, 3), (5, 3), (5, 3), (5, 3), (5, 3), (5, 3), (5, 3), (5, 3), (5, 3), (5, 3), (5, 3), (5, 3), (5, 3), (5, 3), (5, 3), (5, 3), (5, 3), (5, 3), (5, 3), (5, 3), (5, 3), (5, 3), (5, 3), (5, 3), (5, 3), (5, 3), (5, 3), (5, 3), (5, 3), (5, 3), (5, 3), (5, 3), (5, 3), (5, 3), (5, 3), (5, 3), (5, 3), (5, 3), (5, 3), (5, 3), (5, 3), (5, 3), (5, 3), (5, 3), (5, 3), (5, 3), (5, 3), (5, 3), (5, 3), (5, 3), (5, 3), (5, 3), (5, 3), (5, 3), (5, 3), (5, 3), (5, 3), (5, 3), (5, 3), (5, 3), (5, 3), (5, 3), (5, 3), (5, 3), (5, 3), (5, 3), (5, 3), (5, 3), (5, 3), (5, 3), (5, 3), (5, 3), (5, 3), (5, 3), (5, 3), (5, 3), (5, 3), (5, 3), (5, 3), (5, 3), (5, 3), (5, 3), (5, 3), (5, 3), (5, 3), (5, 3), (5, 3), (5, 3), (5, 3), (5, 3), (5, 3), (5, 3), (5, 3), (5, 3), (5, 3), (5, 3), (5, 3), (5, 3), (5, 3), (5, 3), (5, 3), (5, 3), (5, 3), (5, 3), (5, 3), (5, 3), (5, 3), (5, 3), (5, 3), (5, 3), (5, 3), (5, 3), (5, 3), (5, 3), (5, 3), (5, 3), (5, 3), (5, 3), (5, 3), (5, 3), (5, 3), (5, 3), (5, 3), (5, 3), (5, 3), (5, 3), (5, 3), (5, 3), (5, 3), (5, 3), (5, 3), (5, 3), (5, 3), (5, 3), (5, 3), (5, 3), (5, 3), (5, 3), (5, 3), (5, 3), (5, 3), (5, 3), (5, 3), (5, 3), (5, 3), (5, 3), (5, 3), (5, 3), (5, 3), (5, 3), (5, 3), (5, 3), (5, 3), (5, 3), (5, 3), (5, 3), (5, 3), (5, 3), (5, 3), (5, 3), (5, 3), (5, 3), (5, 3), (5, 3), (5, 3), (5, 3), (5, 3), (5, 3), (5, 3), (5, 3), (5, 3), (5, 3), (5, 3), (5, 3), (5, 3), (5, 3), (5, 3), (5, 3), (5, 3), (5, 3), (5, 3), (5, 3), (5, 3), (5, 3), (5, 3), (5, 3), (5, 3), (5, 3), (5, 3), (5, 3), (5, 3), (5, 3), (5, 3), (5, 3), (5, 3), (5, 3), (5, 3), (5, 3), (5, 3), (5, 3), (5, 3), (5, 3), (5, 3), (5, 3), (5, 3), (5, 3), (5, 3), (5, 3), (5, 3), (5, 3), (5, 3), (5, 3), (5, 3), (5, 3), (5, 3), (5, 3), (5, 3), (5, 3), (5, 3), (5, 3), (5, 3), (5, 3), (5, 3), (5, 3), (5, 3), (5, 3), (6, 3), (6, 3), (6, 3), (6, 3), (6, 3), (6, 3), (6, 3), (6, 3), (6, 3), (6, 3), (6, 3), (6, 3), (6, 3), (6, 3), (6, 3), (6, 3), (6, 3), (6, 3), (6, 3), (6, 3), (6, 3), (6, 3), (6, 3), (6, 3), (6, 3), (6, 3), (6, 3), (6, 3), (6, 3), (6, 3), (6, 3), (6, 3), (6, 3), (6, 3), (6, 3), (6, 3), (6, 3), (6, 3), (6, 3), (6, 3), (6, 3), (6, 3), (6, 3), (6, 3), (6, 3), (6, 3), (6, 3), (6, 3), (6, 3), (6, 3), (6, 3), (6, 3), (6, 3), (6, 3), (6, 3), (6, 3), (6, 3), (6, 3), (6, 3), (6, 3), (6, 3), (6, 3), (6, 3), (6, 3), (6, 3), (6, 3), (6, 3), (6, 3), (6, 3), (6, 3), (6, 3), (6, 3), (6, 3), (6, 3), (6, 3), (6, 3), (6, 3), (6, 3), (6, 3), (6, 3), (6, 3), (6, 3), (6, 3), (6, 3), (6, 3), (6, 3), (6, 3), (6, 3), (6, 3), (6, 3), (6, 3), (6, 3), (6, 3), (6, 3), (6, 3), (6, 3), (6, 3), (6, 3), (6, 3), (6, 3), (6, 3), (6, 3), (6, 3), (6, 3), (6, 3), (6, 3), (6, 3), (6, 3), (6, 3), (6, 3), (6, 3), (6, 3), (6, 3), (6, 3), (6, 3), (6, 3), (6, 3), (6, 3), (6, 3), (6, 3), (6, 3), (6, 3), (6, 3), (6, 3), (6, 3), (6, 3), (6, 3), (6, 3), (6, 3), (6, 3), (6, 3), (6, 3), (6, 3), (6, 3), (6, 3), (6, 3), (6, 3), (6, 3), (6, 3), (6, 3), (6, 3), (6, 3), (6, 3), (6, 3), (6, 3), (6, 3), (6, 3), (6, 3), (6, 3), (6, 3), (6, 4), (6, 4), (6, 4), (6, 4), (6, 4), (6, 4), (6, 4), (6, 4), (6, 4), (6, 4), (6, 4), (6, 4), (6, 4), (6, 4), (6, 4), (6, 4), (6, 4), (6, 4), (6, 4), (6, 4), (6, 4), (6, 4), (6, 4), (6, 4), (6, 4), (6, 4), (6, 4), (6, 4), (6, 4), (6, 4), (6, 4), (6, 4), (6, 4), (6, 4), (6, 4), (6, 4), (6, 4), (6, 4), (6, 4), (6, 4), (6, 4), (6, 4), (6, 4), (6, 4), (6, 4), (6, 4), (6, 4), (6, 4), (6, 4), (6, 4), (6, 4), (6, 4), (6, 4), (6, 4), (6, 4), (6, 4), (6, 4), (6, 4), (6, 4), (6, 4), (6, 4), (6, 4), (6, 4), (6, 4), (6, 4), (6, 4), (6, 4), (6, 4), (6, 4), (6, 4), (6, 4), (6, 4), (6, 4), (6, 4), (6, 4), (6, 4), (6, 4), (6, 4), (6, 4), (6, 4), (6, 4), (6, 4), (6, 4), (6, 4), (6, 4), (6, 4), (6, 4), (6, 4), (6, 4), (6, 4), (6, 4), (6, 4), (6, 4), (6, 4), (6, 4), (6, 4), (6, 4), (6, 4), (6, 4), (6, 4), (6, 4), (6, 4), (6, 4), (6, 4), (6, 4), (6, 4), (6, 4), (6, 4), (6, 4), (6, 4), (6, 4), (6, 4), (6, 4), (6, 4), (6, 4), (6, 4), (6, 4), (6, 4), (6, 4), (6, 4), (6, 4), (6, 4), (6, 4), (6, 4), (6, 4), (6, 4), (6, 4), (6, 4), (6, 4), (6, 4), (6, 4), (6, 4), (6, 4), (6, 4), (6, 4), (6, 4), (6, 4), (6, 4), (6, 4), (6, 4), (6, 4), (6, 4), (6, 4), (6, 4), (6, 4), (6, 4), (6, 4), (6, 4), (6, 4), (6, 4), (5, 4), (5, 4), (5, 4), (5, 4), (5, 4), (5, 4), (5, 4), (5, 4), (5, 4), (5, 4), (5, 4), (5, 4), (5, 4), (5, 4), (5, 4), (5, 4), (5, 4), (5, 4), (5, 4), (5, 4), (5, 4), (5, 4), (5, 4), (5, 4), (5, 4), (5, 4), (5, 4), (5, 4), (5, 4), (5, 4), (5, 4), (5, 4), (5, 4), (5, 4), (5, 4), (5, 4), (5, 4), (5, 4), (5, 4), (5, 4), (5, 4), (5, 4), (5, 4), (5, 4), (5, 4), (5, 4), (5, 4), (5, 4), (5, 4), (5, 4), (5, 4), (5, 4), (5, 4), (5, 4), (5, 4), (5, 4), (5, 4), (5, 4), (5, 4), (5, 4), (5, 4), (5, 4), (5, 4), (5, 4), (5, 4), (5, 4), (5, 4), (5, 4), (5, 4), (5, 4), (5, 4), (5, 4), (5, 4), (5, 4), (5, 4), (5, 4), (5, 4), (5, 4), (5, 4), (5, 4), (5, 4), (5, 4), (5, 4), (5, 4), (5, 4), (5, 4), (5, 4), (5, 4), (5, 4), (5, 4), (5, 4), (5, 4), (5, 4), (5, 4), (5, 4), (5, 4), (5, 4), (5, 4), (5, 4), (5, 4), (5, 4), (5, 4), (5, 4), (5, 4), (5, 4), (5, 4), (5, 4), (5, 4), (5, 4), (5, 4), (5, 4), (5, 4), (5, 4), (5, 4), (5, 4), (5, 4), (5, 4), (5, 4), (5, 4), (5, 4), (5, 4), (5, 4), (5, 4), (5, 4), (5, 4), (5, 4), (5, 4), (5, 4), (5, 4), (5, 4), (5, 4), (5, 4), (5, 4), (5, 4), (5, 4), (5, 4), (5, 4), (5, 4), (5, 4), (5, 4), (5, 4), (5, 4), (5, 4), (5, 4), (5, 4), (5, 4), (5, 4), (5, 4), (5, 4), (5, 4), (5, 4), (5, 4), (5, 4), (5, 4), (5, 4), (5, 4), (5, 4), (5, 4), (5, 4), (5, 4), (5, 4), (5, 4), (5, 4), (5, 4), (5, 4), (5, 4), (5, 4), (5, 4), (5, 4), (5, 4), (5, 4), (5, 4), (5, 4), (5, 4), (5, 4), (5, 4), (5, 4), (5, 4), (5, 4), (5, 4), (5, 4), (5, 4), (5, 4), (5, 4), (5, 4), (5, 4), (5, 4), (5, 4), (5, 4), (5, 4), (5, 4), (5, 4), (5, 4), (5, 4), (5, 4), (5, 4), (5, 4), (5, 4), (5, 4), (5, 4), (5, 4), (5, 4), (5, 4), (5, 4), (5, 4), (5, 4), (5, 4), (5, 4), (5, 4), (5, 4), (5, 4), (5, 4), (5, 4), (5, 4), (5, 4), (5, 4), (5, 4), (5, 4), (5, 4), (5, 4), (5, 4), (5, 4), (5, 4), (5, 4), (5, 4), (5, 4), (5, 4), (5, 4), (5, 4), (5, 4), (5, 4), (5, 4), (5, 4), (5, 4), (5, 4), (5, 4), (5, 4), (5, 4), (5, 4), (5, 4), (5, 4), (5, 4), (5, 4), (5, 4), (5, 4), (5, 4), (5, 4), (5, 4), (5, 4), (5, 4), (5, 4), (5, 4), (5, 4), (5, 4), (5, 4), (5, 4), (5, 4), (5, 4), (5, 4), (5, 4), (5, 4), (5, 4), (5, 4), (5, 4), (5, 4), (5, 4), (5, 4), (5, 4), (5, 4), (5, 4), (5, 4), (5, 4), (5, 4), (5, 4), (5, 4), (5, 4), (5, 4), (5, 4), (5, 4), (5, 4), (5, 4), (5, 4), (5, 4), (5, 4), (5, 4), (5, 4), (5, 4), (5, 4), (5, 4), (5, 4), (5, 4), (5, 4), (5, 4), (5, 4), (5, 4), (5, 4), (5, 4), (5, 4), (5, 4), (5, 4), (4, 4), (4, 4), (4, 4), (4, 4), (4, 4), (4, 4), (4, 4), (4, 4), (4, 4), (4, 4), (4, 4), (4, 4), (4, 4), (4, 4), (4, 4), (4, 4), (4, 4), (4, 4), (4, 4), (4, 4), (4, 4), (4, 4), (4, 4), (4, 4), (4, 4), (4, 4), (4, 4), (4, 4), (4, 4), (4, 4), (4, 4), (4, 4), (4, 4), (4, 4), (4, 4), (4, 4), (4, 4), (4, 4), (4, 4), (4, 4), (4, 4), (4, 4), (4, 4), (4, 4), (4, 4), (4, 4), (4, 4), (4, 4), (4, 4), (4, 4), (4, 4), (4, 4), (4, 4), (4, 4), (4, 4), (4, 4), (4, 4), (4, 4), (4, 4), (4, 4), (4, 4), (4, 4), (4, 4), (4, 4), (4, 4), (4, 4), (4, 4), (4, 4), (4, 4), (4, 4), (4, 4), (4, 4), (4, 4), (4, 4), (4, 4), (4, 4), (4, 4), (4, 4), (4, 4), (4, 4), (4, 4), (4, 4), (4, 4), (4, 4), (4, 4), (4, 4), (4, 4), (4, 4), (4, 4), (4, 4), (4, 4), (4, 4), (4, 4), (4, 4), (4, 4), (4, 4), (4, 4), (4, 4), (4, 4), (4, 4), (4, 4), (4, 4), (4, 4), (4, 4), (4, 4), (4, 4), (4, 4), (4, 4), (4, 4), (4, 4), (4, 4), (4, 4), (4, 4), (4, 4), (4, 4), (4, 4), (4, 4), (4, 4), (4, 4), (4, 4), (4, 4), (4, 4), (4, 4), (4, 4), (4, 4), (4, 4), (4, 4), (4, 4), (4, 4), (4, 4), (4, 4), (4, 4), (4, 4), (4, 4), (4, 4), (4, 4), (4, 4), (4, 4), (4, 4), (4, 4), (4, 4), (4, 4), (4, 4), (4, 4), (4, 4), (4, 4), (4, 4), (4, 4), (4, 4), (4, 4), (4, 4), (4, 4), (4, 4), (4, 4), (4, 4), (4, 4), (4, 4), (4, 4), (4, 4), (4, 4), (4, 4), (4, 4), (4, 4), (4, 4), (4, 4), (4, 4), (4, 4), (4, 4), (4, 4), (4, 4), (4, 4), (4, 4), (4, 4), (4, 4), (4, 4), (4, 4), (4, 4), (4, 4), (4, 4), (4, 4), (4, 4), (4, 4), (4, 4), (4, 4), (4, 4), (4, 4), (4, 4), (4, 4), (4, 4), (4, 4), (4, 4), (4, 4), (4, 4), (4, 4), (4, 4), (4, 4), (4, 4), (4, 4), (4, 4), (4, 4), (4, 4), (4, 4), (4, 4), (4, 4), (4, 4), (4, 4), (4, 4), (4, 4), (4, 4), (4, 4), (4, 4), (4, 4), (4, 4), (4, 4), (4, 4), (4, 4), (4, 4), (4, 4), (4, 4), (4, 4), (4, 4), (4, 4), (4, 4), (4, 4), (4, 4), (4, 4), (4, 4), (4, 4), (4, 4), (4, 4), (4, 4), (4, 4), (4, 4), (4, 4), (4, 4), (4, 4), (4, 4), (4, 4), (4, 4), (4, 4), (4, 4), (4, 4), (4, 4), (4, 4), (4, 4), (4, 4), (4, 4), (4, 4), (4, 4), (4, 4), (4, 4), (4, 4), (4, 4), (4, 4), (4, 4), (4, 4), (4, 4), (4, 4), (4, 4), (4, 4), (4, 4), (4, 4), (4, 4), (4, 4), (4, 4), (4, 4), (4, 4), (4, 4), (4, 4), (4, 4), (4, 4), (4, 4), (4, 4), (4, 4), (4, 4), (4, 4), (4, 4), (4, 4), (4, 4), (4, 4), (4, 4), (4, 4), (4, 4), (4, 4), (4, 4), (4, 4), (4, 4), (4, 4), (4, 4), (4, 4), (4, 4), (4, 4), (4, 4), (4, 4), (4, 4), (4, 4), (4, 4), (4, 4), (4, 4), (4, 4), (3, 4), (3, 4), (3, 4), (3, 4), (3, 4), (3, 4), (3, 4), (3, 4), (3, 4), (3, 4), (3, 4), (3, 4), (3, 4), (3, 4), (3, 4), (3, 4), (3, 4), (3, 4), (3, 4), (3, 4), (3, 4), (3, 4), (3, 4), (3, 4), (3, 4), (3, 4), (3, 4), (3, 4), (3, 4), (3, 4), (3, 4), (3, 4), (3, 4), (3, 4), (3, 4), (3, 4), (3, 4), (3, 4), (3, 4), (3, 4), (3, 4), (3, 4), (3, 4), (3, 4), (3, 4), (3, 4), (3, 4), (3, 4), (3, 4), (3, 4), (3, 4), (3, 4), (3, 4), (3, 4), (3, 4), (3, 4), (3, 4), (3, 4), (3, 4), (3, 4), (3, 4), (3, 4), (3, 4), (3, 4), (3, 4), (3, 4), (3, 4), (3, 4), (3, 4), (3, 4), (3, 4), (3, 4), (3, 4), (3, 4), (3, 4), (3, 4), (3, 4), (3, 4), (3, 4), (3, 4), (3, 4), (3, 4), (3, 4), (3, 4), (3, 4), (3, 4), (3, 4), (3, 4), (3, 4), (3, 4), (3, 4), (3, 4), (3, 4), (3, 4), (3, 4), (3, 4), (3, 4), (3, 4), (3, 4), (3, 4), (3, 4), (3, 4), (3, 4), (3, 4), (3, 4), (3, 4), (3, 4), (3, 4), (3, 4), (3, 4), (3, 4), (3, 4), (3, 4), (3, 4), (3, 4), (3, 4), (3, 4), (3, 4), (3, 4), (3, 4), (3, 4), (3, 4), (3, 4), (3, 4), (3, 4), (3, 4), (3, 4), (3, 4), (3, 4), (3, 4), (3, 4), (3, 4), (3, 4), (3, 4), (3, 4), (3, 4), (3, 4), (3, 4), (3, 4), (3, 4), (3, 4), (3, 4), (3, 4), (3, 4), (3, 4), (3, 4), (3, 4), (3, 4), (3, 4), (3, 4), (3, 4), (3, 4), (3, 4), (3, 4), (3, 4), (3, 4), (3, 4), (3, 4), (3, 4), (3, 4), (3, 4), (3, 4), (3, 4), (3, 4), (3, 4), (3, 4), (3, 4), (3, 4), (3, 4), (3, 4), (3, 4), (3, 4), (3, 4), (3, 4), (3, 4), (3, 4), (3, 4), (3, 4), (3, 4), (3, 4), (3, 4), (3, 4), (3, 4), (3, 4), (3, 4), (3, 4), (3, 4), (3, 4), (3, 4), (3, 4), (3, 4), (3, 4), (3, 4), (3, 4), (3, 4), (3, 4), (3, 4), (3, 4), (3, 4), (3, 4), (3, 4), (3, 4), (3, 4), (3, 4), (3, 4), (3, 4), (3, 4), (3, 4), (3, 4), (3, 4), (3, 4), (3, 4), (3, 4), (3, 4), (3, 4), (3, 4), (3, 4), (3, 4), (3, 4), (3, 4), (3, 4), (3, 4), (3, 4), (3, 4), (3, 4), (3, 4), (3, 4), (3, 4), (3, 4), (3, 4), (3, 4), (3, 4), (3, 4), (3, 4), (3, 4), (3, 4), (3, 4), (3, 4), (3, 4), (3, 4), (3, 4), (3, 4), (3, 4), (3, 4), (3, 4), (3, 4), (3, 4), (3, 4), (3, 4), (3, 4), (3, 4), (3, 4), (3, 4), (3, 4), (3, 4), (3, 4), (3, 4), (3, 4), (3, 4), (3, 4), (3, 4), (3, 4), (3, 4), (3, 4), (3, 4), (3, 4), (3, 4), (3, 4), (3, 4), (3, 4), (3, 4), (3, 4), (3, 4), (3, 4), (3, 4), (3, 4), (3, 4), (3, 4), (3, 4), (3, 4), (3, 4), (3, 4), (3, 4), (3, 4), (3, 4), (3, 4), (3, 4), (3, 4), (3, 4), (3, 4), (3, 4), (3, 4), (3, 4), (3, 4), (3, 4), (3, 4), (3, 4), (3, 4), (3, 4), (3, 4), (2, 4), (2, 4), (2, 4), (2, 4), (2, 4), (2, 4), (2, 4), (2, 4), (2, 4), (2, 4), (2, 4), (2, 4), (2, 4), (2, 4), (2, 4), (2, 4), (2, 4), (2, 4), (2, 4), (2, 4), (2, 4), (2, 4), (2, 4), (2, 4), (2, 4), (2, 4), (2, 4), (2, 4), (2, 4), (2, 4), (2, 4), (2, 4), (2, 4), (2, 4), (2, 4), (2, 4), (2, 4), (2, 4), (2, 4), (2, 4), (2, 4), (2, 4), (2, 4), (2, 4), (2, 4), (2, 4), (2, 4), (2, 4), (2, 4), (2, 4), (2, 4), (2, 4), (2, 4), (2, 4), (2, 4), (2, 4), (2, 4), (2, 4), (2, 4), (2, 4), (2, 4), (2, 4), (2, 4), (2, 4), (2, 4), (2, 4), (2, 4), (2, 4), (2, 4), (2, 4), (2, 4), (2, 4), (2, 4), (2, 4), (2, 4), (2, 4), (2, 4), (2, 4), (2, 4), (2, 4), (2, 4), (2, 4), (2, 4), (2, 4), (2, 4), (2, 4), (2, 4), (2, 4), (2, 4), (2, 4), (2, 4), (2, 4), (2, 4), (2, 4), (2, 4), (2, 4), (2, 4), (2, 4), (2, 4), (2, 4), (2, 4), (2, 4), (2, 4), (2, 4), (2, 4), (2, 4), (2, 4), (2, 4), (2, 4), (2, 4), (2, 4), (2, 4), (2, 4), (2, 4), (2, 4), (2, 4), (2, 4), (2, 4), (2, 4), (2, 4), (2, 4), (2, 4), (2, 4), (2, 4), (2, 4), (2, 4), (2, 4), (2, 4), (2, 4), (2, 4), (2, 4), (2, 4), (2, 4), (2, 4), (2, 4), (2, 4), (2, 4), (2, 4), (2, 4), (2, 4), (2, 4), (2, 4), (2, 4), (2, 4), (2, 4), (2, 4), (2, 4), (2, 4), (2, 4), (2, 4), (2, 4), (2, 4), (2, 4), (2, 4), (2, 4), (2, 4), (2, 4), (2, 4), (2, 4), (2, 4), (2, 4), (2, 4), (2, 4), (2, 4), (2, 4), (2, 4), (2, 4), (2, 4), (2, 4), (2, 4), (2, 4), (2, 4), (2, 4), (2, 4), (2, 4), (2, 4), (2, 4), (2, 4), (2, 4), (2, 4), (2, 4), (2, 4), (2, 4), (2, 4), (2, 4), (2, 4), (2, 4), (2, 4), (2, 4), (2, 4), (2, 4), (2, 4), (2, 4), (2, 4), (2, 4), (2, 4), (2, 4), (2, 4), (2, 4), (2, 4), (2, 4), (2, 4), (2, 4), (2, 4), (2, 4), (2, 4), (2, 4), (2, 4), (2, 4), (2, 4), (2, 4), (2, 4), (2, 4), (2, 4), (2, 4), (2, 4), (2, 4), (2, 4), (2, 4), (2, 4), (2, 4), (2, 4), (2, 4), (2, 4), (2, 4), (2, 4), (2, 4), (2, 4), (2, 4), (2, 4), (2, 4), (2, 4), (2, 4), (2, 4), (2, 4), (2, 4), (2, 4), (2, 4), (2, 4), (2, 4), (2, 4), (2, 4), (2, 4), (2, 4), (2, 4), (2, 4), (2, 4), (2, 4), (2, 4), (2, 4), (2, 4), (2, 4), (2, 4), (2, 4), (2, 4), (2, 4), (2, 4), (2, 4), (2, 4), (2, 4), (2, 4), (2, 4), (2, 4), (2, 4), (2, 4), (2, 4), (2, 4), (2, 4), (2, 4), (2, 4), (2, 4), (2, 4), (2, 4), (2, 4), (2, 4), (2, 4), (2, 4), (2, 4), (2, 4), (2, 4), (2, 4), (2, 4), (2, 4), (2, 4), (2, 4), (2, 4), (2, 4), (2, 4), (2, 4), (2, 4), (2, 4), (2, 4), (2, 4), (2, 4), (2, 4), (2, 4), (2, 4), (2, 4), (2, 4), (2, 4), (1, 4), (1, 4), (1, 4), (1, 4), (1, 4), (1, 4), (1, 4), (1, 4), (1, 4), (1, 4), (1, 4), (1, 4), (1, 4), (1, 4), (1, 4), (1, 4), (1, 4), (1, 4), (1, 4), (1, 4), (1, 4), (1, 4), (1, 4), (1, 4), (1, 4), (1, 4), (1, 4), (1, 4), (1, 4), (1, 4), (1, 4), (1, 4), (1, 4), (1, 4), (1, 4), (1, 4), (1, 4), (1, 4), (1, 4), (1, 4), (1, 4), (1, 4), (1, 4), (1, 4), (1, 4), (1, 4), (1, 4), (1, 4), (1, 4), (1, 4), (1, 4), (1, 4), (1, 4), (1, 4), (1, 4), (1, 4), (1, 4), (1, 4), (1, 4), (1, 4), (1, 4), (1, 4), (1, 4), (1, 4), (1, 4), (1, 4), (1, 4), (1, 4), (1, 4), (1, 4), (1, 4), (1, 4), (1, 4), (1, 4), (1, 4), (1, 4), (1, 4), (1, 4), (1, 4), (1, 4), (1, 4), (1, 4), (1, 4), (1, 4), (1, 4), (1, 4), (1, 4), (1, 4), (1, 4), (1, 4), (1, 4), (1, 4), (1, 4), (1, 4), (1, 4), (1, 4), (1, 4), (1, 4), (1, 4), (1, 4), (1, 4), (1, 4), (1, 4), (1, 4), (1, 4), (1, 4), (1, 4), (1, 4), (1, 4), (1, 4), (1, 4), (1, 4), (1, 4), (1, 4), (1, 4), (1, 4), (1, 4), (1, 4), (1, 4), (1, 4), (1, 4), (1, 4), (1, 4), (1, 4), (1, 4), (1, 4), (1, 4), (1, 4), (1, 4), (1, 4), (1, 4), (1, 4), (1, 4), (1, 4), (1, 4), (1, 4), (1, 4), (1, 4), (1, 4), (1, 4), (1, 4), (1, 4), (1, 4), (1, 4), (1, 4), (1, 4), (1, 4), (1, 4), (1, 4), (1, 4), (1, 4), (1, 4), (1, 4), (1, 4), (1, 4), (1, 4), (1, 4), (1, 4), (1, 4), (1, 4), (1, 4), (1, 4), (1, 4), (1, 4), (1, 4), (1, 4), (1, 4), (1, 4), (1, 4), (1, 4), (1, 4), (1, 4), (1, 4), (1, 4), (1, 4), (1, 4), (1, 4), (1, 4), (1, 4), (1, 4), (1, 4), (1, 4), (1, 4), (1, 4), (1, 4), (1, 4), (1, 4), (1, 4), (1, 4), (1, 4), (1, 4), (1, 4), (1, 4), (1, 4), (1, 4), (1, 4), (1, 4), (1, 4), (1, 4), (1, 4), (1, 4), (1, 4), (1, 4), (1, 4), (1, 4), (1, 4), (1, 4), (1, 4), (1, 4), (1, 4), (1, 4), (1, 4), (1, 4), (1, 4), (1, 4), (1, 4), (1, 4), (1, 4), (1, 4), (1, 4), (1, 4), (1, 4), (1, 4), (1, 4), (1, 4), (1, 4), (1, 4), (1, 4), (1, 4), (1, 4), (1, 4), (1, 4), (1, 4), (1, 4), (1, 4), (1, 4), (1, 4), (1, 4), (1, 4), (1, 4), (1, 4), (1, 4), (1, 4), (1, 4), (1, 4), (1, 4), (1, 4), (1, 4), (1, 4), (1, 4), (1, 4), (1, 4), (1, 4), (1, 4), (1, 4), (1, 4), (1, 4), (1, 4), (1, 4), (1, 4), (1, 4), (1, 4), (1, 4), (1, 4), (1, 4), (1, 4), (1, 4), (1, 4), (1, 4), (1, 4), (1, 4), (1, 4), (1, 4), (1, 4), (1, 4), (1, 4), (1, 4), (1, 4), (1, 4), (1, 4), (1, 4), (1, 4), (1, 4), (1, 4), (1, 4), (1, 4), (1, 4), (1, 4), (1, 4), (1, 4), (1, 4), (1, 4), (1, 4), (1, 4), (1, 4), (1, 4), (1, 4), (1, 4), (1, 4), (1, 4)]\n"
          ],
          "name": "stdout"
        }
      ]
    },
    {
      "metadata": {
        "id": "NBFhPwKMYrVJ",
        "colab_type": "text"
      },
      "cell_type": "markdown",
      "source": [
        "Luego, cada posición para el ejemplo entregado es transformado en un one-hot vector, mediante la funcipón *get_dummies* de *pandas*."
      ]
    },
    {
      "metadata": {
        "id": "oeH72sbW0kZg",
        "colab_type": "code",
        "colab": {
          "autoexec": {
            "startup": false,
            "wait_interval": 0
          }
        }
      },
      "cell_type": "code",
      "source": [
        "y_labels = pd.get_dummies(posiciones_grilla)"
      ],
      "execution_count": 0,
      "outputs": []
    },
    {
      "metadata": {
        "id": "y8EC2OqB0rO-",
        "colab_type": "code",
        "colab": {
          "autoexec": {
            "startup": false,
            "wait_interval": 0
          },
          "base_uri": "https://localhost:8080/",
          "height": 6477
        },
        "outputId": "40a47257-72b7-4e16-ec04-95bc0f627007",
        "executionInfo": {
          "status": "ok",
          "timestamp": 1525440023503,
          "user_tz": 180,
          "elapsed": 762,
          "user": {
            "displayName": "Fernanda Weiss",
            "photoUrl": "//lh4.googleusercontent.com/-3fKweTbnlHc/AAAAAAAAAAI/AAAAAAAAAPU/RktnQi93nyI/s50-c-k-no/photo.jpg",
            "userId": "100370788011080686465"
          }
        }
      },
      "cell_type": "code",
      "source": [
        "print(y_labels.head)\n",
        "y_labels.tail"
      ],
      "execution_count": 12,
      "outputs": [
        {
          "output_type": "stream",
          "text": [
            "<bound method NDFrame.head of       (1, 1)  (1, 2)  (1, 3)  (1, 4)  (2, 1)  (2, 2)  (2, 3)  (2, 4)  (3, 1)  \\\n",
            "0          1       0       0       0       0       0       0       0       0   \n",
            "1          1       0       0       0       0       0       0       0       0   \n",
            "2          1       0       0       0       0       0       0       0       0   \n",
            "3          1       0       0       0       0       0       0       0       0   \n",
            "4          1       0       0       0       0       0       0       0       0   \n",
            "5          1       0       0       0       0       0       0       0       0   \n",
            "6          1       0       0       0       0       0       0       0       0   \n",
            "7          1       0       0       0       0       0       0       0       0   \n",
            "8          1       0       0       0       0       0       0       0       0   \n",
            "9          1       0       0       0       0       0       0       0       0   \n",
            "10         1       0       0       0       0       0       0       0       0   \n",
            "11         1       0       0       0       0       0       0       0       0   \n",
            "12         1       0       0       0       0       0       0       0       0   \n",
            "13         1       0       0       0       0       0       0       0       0   \n",
            "14         1       0       0       0       0       0       0       0       0   \n",
            "15         1       0       0       0       0       0       0       0       0   \n",
            "16         1       0       0       0       0       0       0       0       0   \n",
            "17         1       0       0       0       0       0       0       0       0   \n",
            "18         1       0       0       0       0       0       0       0       0   \n",
            "19         1       0       0       0       0       0       0       0       0   \n",
            "20         1       0       0       0       0       0       0       0       0   \n",
            "21         1       0       0       0       0       0       0       0       0   \n",
            "22         1       0       0       0       0       0       0       0       0   \n",
            "23         1       0       0       0       0       0       0       0       0   \n",
            "24         1       0       0       0       0       0       0       0       0   \n",
            "25         1       0       0       0       0       0       0       0       0   \n",
            "26         1       0       0       0       0       0       0       0       0   \n",
            "27         1       0       0       0       0       0       0       0       0   \n",
            "28         1       0       0       0       0       0       0       0       0   \n",
            "29         1       0       0       0       0       0       0       0       0   \n",
            "...      ...     ...     ...     ...     ...     ...     ...     ...     ...   \n",
            "6570       0       0       0       1       0       0       0       0       0   \n",
            "6571       0       0       0       1       0       0       0       0       0   \n",
            "6572       0       0       0       1       0       0       0       0       0   \n",
            "6573       0       0       0       1       0       0       0       0       0   \n",
            "6574       0       0       0       1       0       0       0       0       0   \n",
            "6575       0       0       0       1       0       0       0       0       0   \n",
            "6576       0       0       0       1       0       0       0       0       0   \n",
            "6577       0       0       0       1       0       0       0       0       0   \n",
            "6578       0       0       0       1       0       0       0       0       0   \n",
            "6579       0       0       0       1       0       0       0       0       0   \n",
            "6580       0       0       0       1       0       0       0       0       0   \n",
            "6581       0       0       0       1       0       0       0       0       0   \n",
            "6582       0       0       0       1       0       0       0       0       0   \n",
            "6583       0       0       0       1       0       0       0       0       0   \n",
            "6584       0       0       0       1       0       0       0       0       0   \n",
            "6585       0       0       0       1       0       0       0       0       0   \n",
            "6586       0       0       0       1       0       0       0       0       0   \n",
            "6587       0       0       0       1       0       0       0       0       0   \n",
            "6588       0       0       0       1       0       0       0       0       0   \n",
            "6589       0       0       0       1       0       0       0       0       0   \n",
            "6590       0       0       0       1       0       0       0       0       0   \n",
            "6591       0       0       0       1       0       0       0       0       0   \n",
            "6592       0       0       0       1       0       0       0       0       0   \n",
            "6593       0       0       0       1       0       0       0       0       0   \n",
            "6594       0       0       0       1       0       0       0       0       0   \n",
            "6595       0       0       0       1       0       0       0       0       0   \n",
            "6596       0       0       0       1       0       0       0       0       0   \n",
            "6597       0       0       0       1       0       0       0       0       0   \n",
            "6598       0       0       0       1       0       0       0       0       0   \n",
            "6599       0       0       0       1       0       0       0       0       0   \n",
            "\n",
            "      (3, 2)   ...    (4, 3)  (4, 4)  (5, 1)  (5, 2)  (5, 3)  (5, 4)  (6, 1)  \\\n",
            "0          0   ...         0       0       0       0       0       0       0   \n",
            "1          0   ...         0       0       0       0       0       0       0   \n",
            "2          0   ...         0       0       0       0       0       0       0   \n",
            "3          0   ...         0       0       0       0       0       0       0   \n",
            "4          0   ...         0       0       0       0       0       0       0   \n",
            "5          0   ...         0       0       0       0       0       0       0   \n",
            "6          0   ...         0       0       0       0       0       0       0   \n",
            "7          0   ...         0       0       0       0       0       0       0   \n",
            "8          0   ...         0       0       0       0       0       0       0   \n",
            "9          0   ...         0       0       0       0       0       0       0   \n",
            "10         0   ...         0       0       0       0       0       0       0   \n",
            "11         0   ...         0       0       0       0       0       0       0   \n",
            "12         0   ...         0       0       0       0       0       0       0   \n",
            "13         0   ...         0       0       0       0       0       0       0   \n",
            "14         0   ...         0       0       0       0       0       0       0   \n",
            "15         0   ...         0       0       0       0       0       0       0   \n",
            "16         0   ...         0       0       0       0       0       0       0   \n",
            "17         0   ...         0       0       0       0       0       0       0   \n",
            "18         0   ...         0       0       0       0       0       0       0   \n",
            "19         0   ...         0       0       0       0       0       0       0   \n",
            "20         0   ...         0       0       0       0       0       0       0   \n",
            "21         0   ...         0       0       0       0       0       0       0   \n",
            "22         0   ...         0       0       0       0       0       0       0   \n",
            "23         0   ...         0       0       0       0       0       0       0   \n",
            "24         0   ...         0       0       0       0       0       0       0   \n",
            "25         0   ...         0       0       0       0       0       0       0   \n",
            "26         0   ...         0       0       0       0       0       0       0   \n",
            "27         0   ...         0       0       0       0       0       0       0   \n",
            "28         0   ...         0       0       0       0       0       0       0   \n",
            "29         0   ...         0       0       0       0       0       0       0   \n",
            "...      ...   ...       ...     ...     ...     ...     ...     ...     ...   \n",
            "6570       0   ...         0       0       0       0       0       0       0   \n",
            "6571       0   ...         0       0       0       0       0       0       0   \n",
            "6572       0   ...         0       0       0       0       0       0       0   \n",
            "6573       0   ...         0       0       0       0       0       0       0   \n",
            "6574       0   ...         0       0       0       0       0       0       0   \n",
            "6575       0   ...         0       0       0       0       0       0       0   \n",
            "6576       0   ...         0       0       0       0       0       0       0   \n",
            "6577       0   ...         0       0       0       0       0       0       0   \n",
            "6578       0   ...         0       0       0       0       0       0       0   \n",
            "6579       0   ...         0       0       0       0       0       0       0   \n",
            "6580       0   ...         0       0       0       0       0       0       0   \n",
            "6581       0   ...         0       0       0       0       0       0       0   \n",
            "6582       0   ...         0       0       0       0       0       0       0   \n",
            "6583       0   ...         0       0       0       0       0       0       0   \n",
            "6584       0   ...         0       0       0       0       0       0       0   \n",
            "6585       0   ...         0       0       0       0       0       0       0   \n",
            "6586       0   ...         0       0       0       0       0       0       0   \n",
            "6587       0   ...         0       0       0       0       0       0       0   \n",
            "6588       0   ...         0       0       0       0       0       0       0   \n",
            "6589       0   ...         0       0       0       0       0       0       0   \n",
            "6590       0   ...         0       0       0       0       0       0       0   \n",
            "6591       0   ...         0       0       0       0       0       0       0   \n",
            "6592       0   ...         0       0       0       0       0       0       0   \n",
            "6593       0   ...         0       0       0       0       0       0       0   \n",
            "6594       0   ...         0       0       0       0       0       0       0   \n",
            "6595       0   ...         0       0       0       0       0       0       0   \n",
            "6596       0   ...         0       0       0       0       0       0       0   \n",
            "6597       0   ...         0       0       0       0       0       0       0   \n",
            "6598       0   ...         0       0       0       0       0       0       0   \n",
            "6599       0   ...         0       0       0       0       0       0       0   \n",
            "\n",
            "      (6, 2)  (6, 3)  (6, 4)  \n",
            "0          0       0       0  \n",
            "1          0       0       0  \n",
            "2          0       0       0  \n",
            "3          0       0       0  \n",
            "4          0       0       0  \n",
            "5          0       0       0  \n",
            "6          0       0       0  \n",
            "7          0       0       0  \n",
            "8          0       0       0  \n",
            "9          0       0       0  \n",
            "10         0       0       0  \n",
            "11         0       0       0  \n",
            "12         0       0       0  \n",
            "13         0       0       0  \n",
            "14         0       0       0  \n",
            "15         0       0       0  \n",
            "16         0       0       0  \n",
            "17         0       0       0  \n",
            "18         0       0       0  \n",
            "19         0       0       0  \n",
            "20         0       0       0  \n",
            "21         0       0       0  \n",
            "22         0       0       0  \n",
            "23         0       0       0  \n",
            "24         0       0       0  \n",
            "25         0       0       0  \n",
            "26         0       0       0  \n",
            "27         0       0       0  \n",
            "28         0       0       0  \n",
            "29         0       0       0  \n",
            "...      ...     ...     ...  \n",
            "6570       0       0       0  \n",
            "6571       0       0       0  \n",
            "6572       0       0       0  \n",
            "6573       0       0       0  \n",
            "6574       0       0       0  \n",
            "6575       0       0       0  \n",
            "6576       0       0       0  \n",
            "6577       0       0       0  \n",
            "6578       0       0       0  \n",
            "6579       0       0       0  \n",
            "6580       0       0       0  \n",
            "6581       0       0       0  \n",
            "6582       0       0       0  \n",
            "6583       0       0       0  \n",
            "6584       0       0       0  \n",
            "6585       0       0       0  \n",
            "6586       0       0       0  \n",
            "6587       0       0       0  \n",
            "6588       0       0       0  \n",
            "6589       0       0       0  \n",
            "6590       0       0       0  \n",
            "6591       0       0       0  \n",
            "6592       0       0       0  \n",
            "6593       0       0       0  \n",
            "6594       0       0       0  \n",
            "6595       0       0       0  \n",
            "6596       0       0       0  \n",
            "6597       0       0       0  \n",
            "6598       0       0       0  \n",
            "6599       0       0       0  \n",
            "\n",
            "[6600 rows x 24 columns]>\n"
          ],
          "name": "stdout"
        },
        {
          "output_type": "execute_result",
          "data": {
            "text/plain": [
              "<bound method NDFrame.tail of       (1, 1)  (1, 2)  (1, 3)  (1, 4)  (2, 1)  (2, 2)  (2, 3)  (2, 4)  (3, 1)  \\\n",
              "0          1       0       0       0       0       0       0       0       0   \n",
              "1          1       0       0       0       0       0       0       0       0   \n",
              "2          1       0       0       0       0       0       0       0       0   \n",
              "3          1       0       0       0       0       0       0       0       0   \n",
              "4          1       0       0       0       0       0       0       0       0   \n",
              "5          1       0       0       0       0       0       0       0       0   \n",
              "6          1       0       0       0       0       0       0       0       0   \n",
              "7          1       0       0       0       0       0       0       0       0   \n",
              "8          1       0       0       0       0       0       0       0       0   \n",
              "9          1       0       0       0       0       0       0       0       0   \n",
              "10         1       0       0       0       0       0       0       0       0   \n",
              "11         1       0       0       0       0       0       0       0       0   \n",
              "12         1       0       0       0       0       0       0       0       0   \n",
              "13         1       0       0       0       0       0       0       0       0   \n",
              "14         1       0       0       0       0       0       0       0       0   \n",
              "15         1       0       0       0       0       0       0       0       0   \n",
              "16         1       0       0       0       0       0       0       0       0   \n",
              "17         1       0       0       0       0       0       0       0       0   \n",
              "18         1       0       0       0       0       0       0       0       0   \n",
              "19         1       0       0       0       0       0       0       0       0   \n",
              "20         1       0       0       0       0       0       0       0       0   \n",
              "21         1       0       0       0       0       0       0       0       0   \n",
              "22         1       0       0       0       0       0       0       0       0   \n",
              "23         1       0       0       0       0       0       0       0       0   \n",
              "24         1       0       0       0       0       0       0       0       0   \n",
              "25         1       0       0       0       0       0       0       0       0   \n",
              "26         1       0       0       0       0       0       0       0       0   \n",
              "27         1       0       0       0       0       0       0       0       0   \n",
              "28         1       0       0       0       0       0       0       0       0   \n",
              "29         1       0       0       0       0       0       0       0       0   \n",
              "...      ...     ...     ...     ...     ...     ...     ...     ...     ...   \n",
              "6570       0       0       0       1       0       0       0       0       0   \n",
              "6571       0       0       0       1       0       0       0       0       0   \n",
              "6572       0       0       0       1       0       0       0       0       0   \n",
              "6573       0       0       0       1       0       0       0       0       0   \n",
              "6574       0       0       0       1       0       0       0       0       0   \n",
              "6575       0       0       0       1       0       0       0       0       0   \n",
              "6576       0       0       0       1       0       0       0       0       0   \n",
              "6577       0       0       0       1       0       0       0       0       0   \n",
              "6578       0       0       0       1       0       0       0       0       0   \n",
              "6579       0       0       0       1       0       0       0       0       0   \n",
              "6580       0       0       0       1       0       0       0       0       0   \n",
              "6581       0       0       0       1       0       0       0       0       0   \n",
              "6582       0       0       0       1       0       0       0       0       0   \n",
              "6583       0       0       0       1       0       0       0       0       0   \n",
              "6584       0       0       0       1       0       0       0       0       0   \n",
              "6585       0       0       0       1       0       0       0       0       0   \n",
              "6586       0       0       0       1       0       0       0       0       0   \n",
              "6587       0       0       0       1       0       0       0       0       0   \n",
              "6588       0       0       0       1       0       0       0       0       0   \n",
              "6589       0       0       0       1       0       0       0       0       0   \n",
              "6590       0       0       0       1       0       0       0       0       0   \n",
              "6591       0       0       0       1       0       0       0       0       0   \n",
              "6592       0       0       0       1       0       0       0       0       0   \n",
              "6593       0       0       0       1       0       0       0       0       0   \n",
              "6594       0       0       0       1       0       0       0       0       0   \n",
              "6595       0       0       0       1       0       0       0       0       0   \n",
              "6596       0       0       0       1       0       0       0       0       0   \n",
              "6597       0       0       0       1       0       0       0       0       0   \n",
              "6598       0       0       0       1       0       0       0       0       0   \n",
              "6599       0       0       0       1       0       0       0       0       0   \n",
              "\n",
              "      (3, 2)   ...    (4, 3)  (4, 4)  (5, 1)  (5, 2)  (5, 3)  (5, 4)  (6, 1)  \\\n",
              "0          0   ...         0       0       0       0       0       0       0   \n",
              "1          0   ...         0       0       0       0       0       0       0   \n",
              "2          0   ...         0       0       0       0       0       0       0   \n",
              "3          0   ...         0       0       0       0       0       0       0   \n",
              "4          0   ...         0       0       0       0       0       0       0   \n",
              "5          0   ...         0       0       0       0       0       0       0   \n",
              "6          0   ...         0       0       0       0       0       0       0   \n",
              "7          0   ...         0       0       0       0       0       0       0   \n",
              "8          0   ...         0       0       0       0       0       0       0   \n",
              "9          0   ...         0       0       0       0       0       0       0   \n",
              "10         0   ...         0       0       0       0       0       0       0   \n",
              "11         0   ...         0       0       0       0       0       0       0   \n",
              "12         0   ...         0       0       0       0       0       0       0   \n",
              "13         0   ...         0       0       0       0       0       0       0   \n",
              "14         0   ...         0       0       0       0       0       0       0   \n",
              "15         0   ...         0       0       0       0       0       0       0   \n",
              "16         0   ...         0       0       0       0       0       0       0   \n",
              "17         0   ...         0       0       0       0       0       0       0   \n",
              "18         0   ...         0       0       0       0       0       0       0   \n",
              "19         0   ...         0       0       0       0       0       0       0   \n",
              "20         0   ...         0       0       0       0       0       0       0   \n",
              "21         0   ...         0       0       0       0       0       0       0   \n",
              "22         0   ...         0       0       0       0       0       0       0   \n",
              "23         0   ...         0       0       0       0       0       0       0   \n",
              "24         0   ...         0       0       0       0       0       0       0   \n",
              "25         0   ...         0       0       0       0       0       0       0   \n",
              "26         0   ...         0       0       0       0       0       0       0   \n",
              "27         0   ...         0       0       0       0       0       0       0   \n",
              "28         0   ...         0       0       0       0       0       0       0   \n",
              "29         0   ...         0       0       0       0       0       0       0   \n",
              "...      ...   ...       ...     ...     ...     ...     ...     ...     ...   \n",
              "6570       0   ...         0       0       0       0       0       0       0   \n",
              "6571       0   ...         0       0       0       0       0       0       0   \n",
              "6572       0   ...         0       0       0       0       0       0       0   \n",
              "6573       0   ...         0       0       0       0       0       0       0   \n",
              "6574       0   ...         0       0       0       0       0       0       0   \n",
              "6575       0   ...         0       0       0       0       0       0       0   \n",
              "6576       0   ...         0       0       0       0       0       0       0   \n",
              "6577       0   ...         0       0       0       0       0       0       0   \n",
              "6578       0   ...         0       0       0       0       0       0       0   \n",
              "6579       0   ...         0       0       0       0       0       0       0   \n",
              "6580       0   ...         0       0       0       0       0       0       0   \n",
              "6581       0   ...         0       0       0       0       0       0       0   \n",
              "6582       0   ...         0       0       0       0       0       0       0   \n",
              "6583       0   ...         0       0       0       0       0       0       0   \n",
              "6584       0   ...         0       0       0       0       0       0       0   \n",
              "6585       0   ...         0       0       0       0       0       0       0   \n",
              "6586       0   ...         0       0       0       0       0       0       0   \n",
              "6587       0   ...         0       0       0       0       0       0       0   \n",
              "6588       0   ...         0       0       0       0       0       0       0   \n",
              "6589       0   ...         0       0       0       0       0       0       0   \n",
              "6590       0   ...         0       0       0       0       0       0       0   \n",
              "6591       0   ...         0       0       0       0       0       0       0   \n",
              "6592       0   ...         0       0       0       0       0       0       0   \n",
              "6593       0   ...         0       0       0       0       0       0       0   \n",
              "6594       0   ...         0       0       0       0       0       0       0   \n",
              "6595       0   ...         0       0       0       0       0       0       0   \n",
              "6596       0   ...         0       0       0       0       0       0       0   \n",
              "6597       0   ...         0       0       0       0       0       0       0   \n",
              "6598       0   ...         0       0       0       0       0       0       0   \n",
              "6599       0   ...         0       0       0       0       0       0       0   \n",
              "\n",
              "      (6, 2)  (6, 3)  (6, 4)  \n",
              "0          0       0       0  \n",
              "1          0       0       0  \n",
              "2          0       0       0  \n",
              "3          0       0       0  \n",
              "4          0       0       0  \n",
              "5          0       0       0  \n",
              "6          0       0       0  \n",
              "7          0       0       0  \n",
              "8          0       0       0  \n",
              "9          0       0       0  \n",
              "10         0       0       0  \n",
              "11         0       0       0  \n",
              "12         0       0       0  \n",
              "13         0       0       0  \n",
              "14         0       0       0  \n",
              "15         0       0       0  \n",
              "16         0       0       0  \n",
              "17         0       0       0  \n",
              "18         0       0       0  \n",
              "19         0       0       0  \n",
              "20         0       0       0  \n",
              "21         0       0       0  \n",
              "22         0       0       0  \n",
              "23         0       0       0  \n",
              "24         0       0       0  \n",
              "25         0       0       0  \n",
              "26         0       0       0  \n",
              "27         0       0       0  \n",
              "28         0       0       0  \n",
              "29         0       0       0  \n",
              "...      ...     ...     ...  \n",
              "6570       0       0       0  \n",
              "6571       0       0       0  \n",
              "6572       0       0       0  \n",
              "6573       0       0       0  \n",
              "6574       0       0       0  \n",
              "6575       0       0       0  \n",
              "6576       0       0       0  \n",
              "6577       0       0       0  \n",
              "6578       0       0       0  \n",
              "6579       0       0       0  \n",
              "6580       0       0       0  \n",
              "6581       0       0       0  \n",
              "6582       0       0       0  \n",
              "6583       0       0       0  \n",
              "6584       0       0       0  \n",
              "6585       0       0       0  \n",
              "6586       0       0       0  \n",
              "6587       0       0       0  \n",
              "6588       0       0       0  \n",
              "6589       0       0       0  \n",
              "6590       0       0       0  \n",
              "6591       0       0       0  \n",
              "6592       0       0       0  \n",
              "6593       0       0       0  \n",
              "6594       0       0       0  \n",
              "6595       0       0       0  \n",
              "6596       0       0       0  \n",
              "6597       0       0       0  \n",
              "6598       0       0       0  \n",
              "6599       0       0       0  \n",
              "\n",
              "[6600 rows x 24 columns]>"
            ]
          },
          "metadata": {
            "tags": []
          },
          "execution_count": 12
        }
      ]
    },
    {
      "metadata": {
        "id": "e1ZjY1W3YwCG",
        "colab_type": "text"
      },
      "cell_type": "markdown",
      "source": [
        "Luego, se deben eliminar las columnas *X* e *Y* de los datos, ya que estos indican la posición en el espacio, el cual fue trabajado anteriormente, y corresponde a la etiqueta a predecir, es decir, en qué posición de la grilla estará cierto input. Ahora, después de todo este preprocesamiento de los datos se pueden generar el conjunto de entrenamiento y de prueba."
      ]
    },
    {
      "metadata": {
        "id": "HzytuNVWAnEe",
        "colab_type": "code",
        "colab": {
          "autoexec": {
            "startup": false,
            "wait_interval": 0
          }
        }
      },
      "cell_type": "code",
      "source": [
        "df.drop([\"X\",\"Y\"],axis=1,inplace=True)\n",
        "X = df.as_matrix()\n",
        "X_test = X[mask_test]\n",
        "X_train = np.delete(X,mask_test,axis=0)\n",
        "\n",
        "Y = y_labels.as_matrix()\n",
        "Y_test = Y[mask_test]\n",
        "Y_train = np.delete(Y,mask_test,axis=0)"
      ],
      "execution_count": 0,
      "outputs": []
    },
    {
      "metadata": {
        "id": "R2dDUGV_CV8r",
        "colab_type": "code",
        "colab": {
          "autoexec": {
            "startup": false,
            "wait_interval": 0
          },
          "base_uri": "https://localhost:8080/",
          "height": 51
        },
        "outputId": "c592eae3-6bfa-4236-b051-4828c3487c98",
        "executionInfo": {
          "status": "ok",
          "timestamp": 1525440029283,
          "user_tz": 180,
          "elapsed": 845,
          "user": {
            "displayName": "Fernanda Weiss",
            "photoUrl": "//lh4.googleusercontent.com/-3fKweTbnlHc/AAAAAAAAAAI/AAAAAAAAAPU/RktnQi93nyI/s50-c-k-no/photo.jpg",
            "userId": "100370788011080686465"
          }
        }
      },
      "cell_type": "code",
      "source": [
        "print(len(X_train)+len(X_test))\n",
        "print(len(Y_train)+len(Y_test))"
      ],
      "execution_count": 14,
      "outputs": [
        {
          "output_type": "stream",
          "text": [
            "6600\n",
            "6600\n"
          ],
          "name": "stdout"
        }
      ]
    },
    {
      "metadata": {
        "id": "9Jszm9CtY0Ja",
        "colab_type": "text"
      },
      "cell_type": "markdown",
      "source": [
        "Como se vio anteriormente todos los datos viven en diferentes rangos y con distintas estadísticas como media y varianza, lo cual podría traer problemas numéricos. Por lo tanto, se normaliza el conjunto de input de enrenamiento y de prueba."
      ]
    },
    {
      "metadata": {
        "id": "LP1mn5DEDYIM",
        "colab_type": "code",
        "colab": {
          "autoexec": {
            "startup": false,
            "wait_interval": 0
          },
          "base_uri": "https://localhost:8080/",
          "height": 71
        },
        "outputId": "b928a0a9-1a7c-4c2d-d393-cd8370ebfe6a",
        "executionInfo": {
          "status": "ok",
          "timestamp": 1525440035850,
          "user_tz": 180,
          "elapsed": 1117,
          "user": {
            "displayName": "Fernanda Weiss",
            "photoUrl": "//lh4.googleusercontent.com/-3fKweTbnlHc/AAAAAAAAAAI/AAAAAAAAAPU/RktnQi93nyI/s50-c-k-no/photo.jpg",
            "userId": "100370788011080686465"
          }
        }
      },
      "cell_type": "code",
      "source": [
        "from sklearn.preprocessing import StandardScaler\n",
        "scaler = StandardScaler().fit(X_train)\n",
        "X_train_scaled = scaler.transform(X_train)"
      ],
      "execution_count": 16,
      "outputs": [
        {
          "output_type": "stream",
          "text": [
            "/usr/local/lib/python3.6/dist-packages/sklearn/utils/validation.py:475: DataConversionWarning: Data with input dtype int64 was converted to float64 by StandardScaler.\n",
            "  warnings.warn(msg, DataConversionWarning)\n"
          ],
          "name": "stderr"
        }
      ]
    },
    {
      "metadata": {
        "id": "E7C18SSbFK1F",
        "colab_type": "code",
        "colab": {
          "autoexec": {
            "startup": false,
            "wait_interval": 0
          },
          "base_uri": "https://localhost:8080/",
          "height": 71
        },
        "outputId": "2a30e00d-01f0-49ff-a997-ff0ed094e03c",
        "executionInfo": {
          "status": "ok",
          "timestamp": 1525440040338,
          "user_tz": 180,
          "elapsed": 682,
          "user": {
            "displayName": "Fernanda Weiss",
            "photoUrl": "//lh4.googleusercontent.com/-3fKweTbnlHc/AAAAAAAAAAI/AAAAAAAAAPU/RktnQi93nyI/s50-c-k-no/photo.jpg",
            "userId": "100370788011080686465"
          }
        }
      },
      "cell_type": "code",
      "source": [
        "scaler_test = StandardScaler().fit(X_test)\n",
        "X_test_scaled = scaler_test.transform(X_test)"
      ],
      "execution_count": 17,
      "outputs": [
        {
          "output_type": "stream",
          "text": [
            "/usr/local/lib/python3.6/dist-packages/sklearn/utils/validation.py:475: DataConversionWarning: Data with input dtype int64 was converted to float64 by StandardScaler.\n",
            "  warnings.warn(msg, DataConversionWarning)\n"
          ],
          "name": "stderr"
        }
      ]
    },
    {
      "metadata": {
        "id": "WHw2CpvtDfAS",
        "colab_type": "code",
        "colab": {
          "autoexec": {
            "startup": false,
            "wait_interval": 0
          }
        }
      },
      "cell_type": "code",
      "source": [
        "import keras\n",
        "from keras.models import Sequential\n",
        "from keras.layers import Dense, Dropout, Activation, Flatten\n",
        "from keras.optimizers import SGD, rmsprop\n",
        "from keras.callbacks import LearningRateScheduler\n",
        "from keras.utils import plot_model\n",
        "from keras.models import load_model"
      ],
      "execution_count": 0,
      "outputs": []
    },
    {
      "metadata": {
        "id": "6B2sC4znHbWP",
        "colab_type": "code",
        "colab": {
          "autoexec": {
            "startup": false,
            "wait_interval": 0
          },
          "base_uri": "https://localhost:8080/",
          "height": 34
        },
        "outputId": "0a4f1167-63d8-4252-8f94-d6eab05eb525",
        "executionInfo": {
          "status": "ok",
          "timestamp": 1525440737052,
          "user_tz": 180,
          "elapsed": 638,
          "user": {
            "displayName": "Fernanda Weiss",
            "photoUrl": "//lh4.googleusercontent.com/-3fKweTbnlHc/AAAAAAAAAAI/AAAAAAAAAPU/RktnQi93nyI/s50-c-k-no/photo.jpg",
            "userId": "100370788011080686465"
          }
        }
      },
      "cell_type": "code",
      "source": [
        "print(X_train.shape)"
      ],
      "execution_count": 34,
      "outputs": [
        {
          "output_type": "stream",
          "text": [
            "(4620, 8)\n"
          ],
          "name": "stdout"
        }
      ]
    },
    {
      "metadata": {
        "id": "qz7M4r-lY6Q2",
        "colab_type": "text"
      },
      "cell_type": "markdown",
      "source": [
        " A continuación se entrega una red neuronal feed forward:\n",
        " * Primera capa: 200 neuronas\n",
        " * Primera capa oculta: 400 neuronas\n",
        " * Segunda capa oculta: 200 neuronas \n",
        " * Capa de salida: 24 neuronas\n",
        " * Función de activación ReLU, excepto para la capa de salida que es Softmax\n",
        " * Inicialización de pesos: uniforme\n",
        " * Función de pérdida: Categorical cross entropy\n",
        " * Optimizador: SGD\n",
        " * Tasa de aprendizaje: 0.001\n",
        " * Epochs: 300"
      ]
    },
    {
      "metadata": {
        "id": "tLvcmqtWEtri",
        "colab_type": "code",
        "colab": {
          "autoexec": {
            "startup": false,
            "wait_interval": 0
          },
          "base_uri": "https://localhost:8080/",
          "height": 374
        },
        "outputId": "b69d4967-09eb-41e2-bdda-74ad02b3c526",
        "executionInfo": {
          "status": "ok",
          "timestamp": 1525440070227,
          "user_tz": 180,
          "elapsed": 859,
          "user": {
            "displayName": "Fernanda Weiss",
            "photoUrl": "//lh4.googleusercontent.com/-3fKweTbnlHc/AAAAAAAAAAI/AAAAAAAAAPU/RktnQi93nyI/s50-c-k-no/photo.jpg",
            "userId": "100370788011080686465"
          }
        }
      },
      "cell_type": "code",
      "source": [
        "model = Sequential()\n",
        "model.add(Dense(200, input_dim=X_train_scaled.shape[1], kernel_initializer='uniform'))\n",
        "model.add(Activation('relu'))\n",
        "model.add(Dense(400, kernel_initializer='uniform'))\n",
        "model.add(Activation('relu'))\n",
        "model.add(Dense(200))\n",
        "model.add(Activation('relu'))\n",
        "model.add(Dense(24, activation='softmax'))\n",
        "model.summary()\n",
        "\n"
      ],
      "execution_count": 20,
      "outputs": [
        {
          "output_type": "stream",
          "text": [
            "_________________________________________________________________\n",
            "Layer (type)                 Output Shape              Param #   \n",
            "=================================================================\n",
            "dense_1 (Dense)              (None, 200)               1800      \n",
            "_________________________________________________________________\n",
            "activation_1 (Activation)    (None, 200)               0         \n",
            "_________________________________________________________________\n",
            "dense_2 (Dense)              (None, 400)               80400     \n",
            "_________________________________________________________________\n",
            "activation_2 (Activation)    (None, 400)               0         \n",
            "_________________________________________________________________\n",
            "dense_3 (Dense)              (None, 200)               80200     \n",
            "_________________________________________________________________\n",
            "activation_3 (Activation)    (None, 200)               0         \n",
            "_________________________________________________________________\n",
            "dense_4 (Dense)              (None, 24)                4824      \n",
            "=================================================================\n",
            "Total params: 167,224\n",
            "Trainable params: 167,224\n",
            "Non-trainable params: 0\n",
            "_________________________________________________________________\n"
          ],
          "name": "stdout"
        }
      ]
    },
    {
      "metadata": {
        "id": "l6uZv60_ItTb",
        "colab_type": "code",
        "colab": {
          "autoexec": {
            "startup": false,
            "wait_interval": 0
          }
        }
      },
      "cell_type": "code",
      "source": [
        "sgd = SGD(lr=0.001)\n",
        "model.compile(optimizer=sgd,loss='categorical_crossentropy', metrics=['acc'])"
      ],
      "execution_count": 0,
      "outputs": []
    },
    {
      "metadata": {
        "id": "mYyV-VZiJEPn",
        "colab_type": "code",
        "colab": {
          "autoexec": {
            "startup": false,
            "wait_interval": 0
          },
          "base_uri": "https://localhost:8080/",
          "height": 10254
        },
        "outputId": "6edbc9b1-4b76-4a01-ea05-a49cef50fe6c",
        "executionInfo": {
          "status": "ok",
          "timestamp": 1525440378012,
          "user_tz": 180,
          "elapsed": 279533,
          "user": {
            "displayName": "Fernanda Weiss",
            "photoUrl": "//lh4.googleusercontent.com/-3fKweTbnlHc/AAAAAAAAAAI/AAAAAAAAAPU/RktnQi93nyI/s50-c-k-no/photo.jpg",
            "userId": "100370788011080686465"
          }
        }
      },
      "cell_type": "code",
      "source": [
        "model_fit = model.fit(X_train_scaled, Y_train, epochs=300, verbose=1, validation_data=(X_test_scaled, Y_test), shuffle=True)"
      ],
      "execution_count": 22,
      "outputs": [
        {
          "output_type": "stream",
          "text": [
            "Train on 4620 samples, validate on 1980 samples\n",
            "Epoch 1/300\n",
            "4620/4620 [==============================] - 2s 401us/step - loss: 3.1769 - acc: 0.0288 - val_loss: 3.1749 - val_acc: 0.0424\n",
            "Epoch 2/300\n",
            "4620/4620 [==============================] - 1s 178us/step - loss: 3.1730 - acc: 0.0792 - val_loss: 3.1710 - val_acc: 0.0894\n",
            "Epoch 3/300\n",
            "4620/4620 [==============================] - 1s 204us/step - loss: 3.1690 - acc: 0.1435 - val_loss: 3.1671 - val_acc: 0.1540\n",
            "Epoch 4/300\n",
            "4620/4620 [==============================] - 1s 200us/step - loss: 3.1652 - acc: 0.1764 - val_loss: 3.1634 - val_acc: 0.1793\n",
            "Epoch 5/300\n",
            "4620/4620 [==============================] - 1s 200us/step - loss: 3.1615 - acc: 0.2028 - val_loss: 3.1598 - val_acc: 0.2076\n",
            "Epoch 6/300\n",
            "4620/4620 [==============================] - 1s 202us/step - loss: 3.1580 - acc: 0.2273 - val_loss: 3.1564 - val_acc: 0.2247\n",
            "Epoch 7/300\n",
            "4620/4620 [==============================] - 1s 201us/step - loss: 3.1547 - acc: 0.2377 - val_loss: 3.1530 - val_acc: 0.2303\n",
            "Epoch 8/300\n",
            "4620/4620 [==============================] - 1s 198us/step - loss: 3.1514 - acc: 0.2450 - val_loss: 3.1498 - val_acc: 0.2313\n",
            "Epoch 9/300\n",
            "3968/4620 [========================>.....] - ETA: 0s - loss: 3.1481 - acc: 0.2482"
          ],
          "name": "stdout"
        },
        {
          "output_type": "stream",
          "text": [
            "4620/4620 [==============================] - 1s 201us/step - loss: 3.1481 - acc: 0.2485 - val_loss: 3.1465 - val_acc: 0.2328\n",
            "Epoch 10/300\n",
            "4620/4620 [==============================] - 1s 201us/step - loss: 3.1448 - acc: 0.2474 - val_loss: 3.1432 - val_acc: 0.2323\n",
            "Epoch 11/300\n",
            "4620/4620 [==============================] - 1s 206us/step - loss: 3.1415 - acc: 0.2481 - val_loss: 3.1398 - val_acc: 0.2328\n",
            "Epoch 12/300\n",
            "4620/4620 [==============================] - 1s 202us/step - loss: 3.1381 - acc: 0.2474 - val_loss: 3.1364 - val_acc: 0.2364\n",
            "Epoch 13/300\n",
            "4620/4620 [==============================] - 1s 203us/step - loss: 3.1347 - acc: 0.2513 - val_loss: 3.1329 - val_acc: 0.2354\n",
            "Epoch 14/300\n",
            "4620/4620 [==============================] - 1s 204us/step - loss: 3.1312 - acc: 0.2541 - val_loss: 3.1294 - val_acc: 0.2379\n",
            "Epoch 15/300\n",
            "4620/4620 [==============================] - 1s 208us/step - loss: 3.1276 - acc: 0.2545 - val_loss: 3.1257 - val_acc: 0.2424\n",
            "Epoch 16/300\n",
            "4620/4620 [==============================] - 1s 205us/step - loss: 3.1239 - acc: 0.2584 - val_loss: 3.1220 - val_acc: 0.2470\n",
            "Epoch 17/300\n",
            "4620/4620 [==============================] - 1s 205us/step - loss: 3.1202 - acc: 0.2617 - val_loss: 3.1182 - val_acc: 0.2525\n",
            "Epoch 18/300\n",
            " 352/4620 [=>............................] - ETA: 0s - loss: 3.1195 - acc: 0.2528"
          ],
          "name": "stdout"
        },
        {
          "output_type": "stream",
          "text": [
            "4620/4620 [==============================] - 1s 205us/step - loss: 3.1163 - acc: 0.2684 - val_loss: 3.1143 - val_acc: 0.2581\n",
            "Epoch 19/300\n",
            "4620/4620 [==============================] - 1s 198us/step - loss: 3.1123 - acc: 0.2779 - val_loss: 3.1102 - val_acc: 0.2626\n",
            "Epoch 20/300\n",
            "4620/4620 [==============================] - 1s 206us/step - loss: 3.1083 - acc: 0.2851 - val_loss: 3.1061 - val_acc: 0.2737\n",
            "Epoch 21/300\n",
            "4620/4620 [==============================] - 1s 199us/step - loss: 3.1041 - acc: 0.2961 - val_loss: 3.1018 - val_acc: 0.2823\n",
            "Epoch 22/300\n",
            "4620/4620 [==============================] - 1s 199us/step - loss: 3.0997 - acc: 0.3054 - val_loss: 3.0974 - val_acc: 0.2929\n",
            "Epoch 23/300\n",
            "4620/4620 [==============================] - 1s 196us/step - loss: 3.0953 - acc: 0.3160 - val_loss: 3.0929 - val_acc: 0.3056\n",
            "Epoch 24/300\n",
            "4620/4620 [==============================] - 1s 202us/step - loss: 3.0907 - acc: 0.3227 - val_loss: 3.0883 - val_acc: 0.3131\n",
            "Epoch 25/300\n",
            "4620/4620 [==============================] - 1s 196us/step - loss: 3.0860 - acc: 0.3307 - val_loss: 3.0835 - val_acc: 0.3162\n",
            "Epoch 26/300\n",
            "4620/4620 [==============================] - 1s 200us/step - loss: 3.0811 - acc: 0.3379 - val_loss: 3.0785 - val_acc: 0.3202\n",
            "Epoch 27/300\n",
            " 928/4620 [=====>........................] - ETA: 0s - loss: 3.0743 - acc: 0.3330"
          ],
          "name": "stdout"
        },
        {
          "output_type": "stream",
          "text": [
            "4620/4620 [==============================] - 1s 199us/step - loss: 3.0760 - acc: 0.3422 - val_loss: 3.0734 - val_acc: 0.3237\n",
            "Epoch 28/300\n",
            "4620/4620 [==============================] - 1s 201us/step - loss: 3.0708 - acc: 0.3420 - val_loss: 3.0680 - val_acc: 0.3258\n",
            "Epoch 29/300\n",
            "4620/4620 [==============================] - 1s 202us/step - loss: 3.0654 - acc: 0.3448 - val_loss: 3.0624 - val_acc: 0.3288\n",
            "Epoch 30/300\n",
            "4620/4620 [==============================] - 1s 199us/step - loss: 3.0597 - acc: 0.3496 - val_loss: 3.0567 - val_acc: 0.3323\n",
            "Epoch 31/300\n",
            "4620/4620 [==============================] - 1s 201us/step - loss: 3.0538 - acc: 0.3522 - val_loss: 3.0507 - val_acc: 0.3354\n",
            "Epoch 32/300\n",
            "4620/4620 [==============================] - 1s 199us/step - loss: 3.0477 - acc: 0.3545 - val_loss: 3.0444 - val_acc: 0.3384\n",
            "Epoch 33/300\n",
            "4620/4620 [==============================] - 1s 200us/step - loss: 3.0413 - acc: 0.3576 - val_loss: 3.0379 - val_acc: 0.3419\n",
            "Epoch 34/300\n",
            "4620/4620 [==============================] - 1s 196us/step - loss: 3.0346 - acc: 0.3600 - val_loss: 3.0311 - val_acc: 0.3424\n",
            "Epoch 35/300\n",
            "4620/4620 [==============================] - 1s 196us/step - loss: 3.0277 - acc: 0.3619 - val_loss: 3.0240 - val_acc: 0.3449\n",
            "Epoch 36/300\n",
            " 928/4620 [=====>........................] - ETA: 0s - loss: 3.0228 - acc: 0.3470"
          ],
          "name": "stdout"
        },
        {
          "output_type": "stream",
          "text": [
            "4620/4620 [==============================] - 1s 203us/step - loss: 3.0204 - acc: 0.3628 - val_loss: 3.0166 - val_acc: 0.3470\n",
            "Epoch 37/300\n",
            "4620/4620 [==============================] - 1s 199us/step - loss: 3.0128 - acc: 0.3641 - val_loss: 3.0088 - val_acc: 0.3505\n",
            "Epoch 38/300\n",
            "4620/4620 [==============================] - 1s 204us/step - loss: 3.0049 - acc: 0.3665 - val_loss: 3.0007 - val_acc: 0.3510\n",
            "Epoch 39/300\n",
            "4620/4620 [==============================] - 1s 196us/step - loss: 2.9965 - acc: 0.3682 - val_loss: 2.9922 - val_acc: 0.3520\n",
            "Epoch 40/300\n",
            "4620/4620 [==============================] - 1s 199us/step - loss: 2.9878 - acc: 0.3706 - val_loss: 2.9832 - val_acc: 0.3540\n",
            "Epoch 41/300\n",
            "4620/4620 [==============================] - 1s 201us/step - loss: 2.9786 - acc: 0.3699 - val_loss: 2.9738 - val_acc: 0.3551\n",
            "Epoch 42/300\n",
            "4620/4620 [==============================] - 1s 200us/step - loss: 2.9689 - acc: 0.3703 - val_loss: 2.9639 - val_acc: 0.3540\n",
            "Epoch 43/300\n",
            "4620/4620 [==============================] - 1s 199us/step - loss: 2.9588 - acc: 0.3721 - val_loss: 2.9536 - val_acc: 0.3545\n",
            "Epoch 44/300\n",
            "4620/4620 [==============================] - 1s 199us/step - loss: 2.9481 - acc: 0.3719 - val_loss: 2.9427 - val_acc: 0.3556\n",
            "Epoch 45/300\n",
            "1216/4620 [======>.......................] - ETA: 0s - loss: 2.9412 - acc: 0.3882"
          ],
          "name": "stdout"
        },
        {
          "output_type": "stream",
          "text": [
            "4620/4620 [==============================] - 1s 199us/step - loss: 2.9370 - acc: 0.3699 - val_loss: 2.9313 - val_acc: 0.3571\n",
            "Epoch 46/300\n",
            "4620/4620 [==============================] - 1s 197us/step - loss: 2.9253 - acc: 0.3708 - val_loss: 2.9194 - val_acc: 0.3581\n",
            "Epoch 47/300\n",
            "4620/4620 [==============================] - 1s 198us/step - loss: 2.9131 - acc: 0.3703 - val_loss: 2.9069 - val_acc: 0.3561\n",
            "Epoch 48/300\n",
            "4620/4620 [==============================] - 1s 202us/step - loss: 2.9002 - acc: 0.3688 - val_loss: 2.8937 - val_acc: 0.3545\n",
            "Epoch 49/300\n",
            "4620/4620 [==============================] - 1s 199us/step - loss: 2.8866 - acc: 0.3671 - val_loss: 2.8799 - val_acc: 0.3566\n",
            "Epoch 50/300\n",
            "4620/4620 [==============================] - 1s 204us/step - loss: 2.8725 - acc: 0.3654 - val_loss: 2.8655 - val_acc: 0.3556\n",
            "Epoch 51/300\n",
            "4620/4620 [==============================] - 1s 202us/step - loss: 2.8576 - acc: 0.3654 - val_loss: 2.8503 - val_acc: 0.3525\n",
            "Epoch 52/300\n",
            "4620/4620 [==============================] - 1s 200us/step - loss: 2.8420 - acc: 0.3613 - val_loss: 2.8344 - val_acc: 0.3515\n",
            "Epoch 53/300\n",
            "4620/4620 [==============================] - 1s 204us/step - loss: 2.8257 - acc: 0.3623 - val_loss: 2.8178 - val_acc: 0.3510\n",
            "Epoch 54/300\n",
            " 288/4620 [>.............................] - ETA: 0s - loss: 2.8020 - acc: 0.3472"
          ],
          "name": "stdout"
        },
        {
          "output_type": "stream",
          "text": [
            "4620/4620 [==============================] - 1s 203us/step - loss: 2.8086 - acc: 0.3617 - val_loss: 2.8005 - val_acc: 0.3475\n",
            "Epoch 55/300\n",
            "4620/4620 [==============================] - 1s 202us/step - loss: 2.7909 - acc: 0.3613 - val_loss: 2.7825 - val_acc: 0.3460\n",
            "Epoch 56/300\n",
            "4620/4620 [==============================] - 1s 198us/step - loss: 2.7724 - acc: 0.3602 - val_loss: 2.7638 - val_acc: 0.3449\n",
            "Epoch 57/300\n",
            "4620/4620 [==============================] - 1s 202us/step - loss: 2.7533 - acc: 0.3587 - val_loss: 2.7445 - val_acc: 0.3419\n",
            "Epoch 58/300\n",
            "4620/4620 [==============================] - 1s 197us/step - loss: 2.7335 - acc: 0.3580 - val_loss: 2.7245 - val_acc: 0.3424\n",
            "Epoch 59/300\n",
            "4620/4620 [==============================] - 1s 200us/step - loss: 2.7131 - acc: 0.3582 - val_loss: 2.7039 - val_acc: 0.3409\n",
            "Epoch 60/300\n",
            "4620/4620 [==============================] - 1s 195us/step - loss: 2.6921 - acc: 0.3571 - val_loss: 2.6828 - val_acc: 0.3409\n",
            "Epoch 61/300\n",
            "4620/4620 [==============================] - 1s 203us/step - loss: 2.6706 - acc: 0.3545 - val_loss: 2.6611 - val_acc: 0.3399\n",
            "Epoch 62/300\n",
            "4620/4620 [==============================] - 1s 198us/step - loss: 2.6485 - acc: 0.3569 - val_loss: 2.6389 - val_acc: 0.3404\n",
            "Epoch 63/300\n",
            " 992/4620 [=====>........................] - ETA: 0s - loss: 2.6297 - acc: 0.3488"
          ],
          "name": "stdout"
        },
        {
          "output_type": "stream",
          "text": [
            "4620/4620 [==============================] - 1s 198us/step - loss: 2.6258 - acc: 0.3569 - val_loss: 2.6162 - val_acc: 0.3414\n",
            "Epoch 64/300\n",
            "4620/4620 [==============================] - 1s 202us/step - loss: 2.6027 - acc: 0.3574 - val_loss: 2.5929 - val_acc: 0.3414\n",
            "Epoch 65/300\n",
            "4620/4620 [==============================] - 1s 197us/step - loss: 2.5791 - acc: 0.3600 - val_loss: 2.5693 - val_acc: 0.3409\n",
            "Epoch 66/300\n",
            "4620/4620 [==============================] - 1s 200us/step - loss: 2.5551 - acc: 0.3630 - val_loss: 2.5453 - val_acc: 0.3424\n",
            "Epoch 67/300\n",
            "4620/4620 [==============================] - 1s 201us/step - loss: 2.5308 - acc: 0.3654 - val_loss: 2.5210 - val_acc: 0.3465\n",
            "Epoch 68/300\n",
            "4620/4620 [==============================] - 1s 204us/step - loss: 2.5062 - acc: 0.3690 - val_loss: 2.4963 - val_acc: 0.3485\n",
            "Epoch 69/300\n",
            "4620/4620 [==============================] - 1s 199us/step - loss: 2.4812 - acc: 0.3688 - val_loss: 2.4712 - val_acc: 0.3535\n",
            "Epoch 70/300\n",
            "4620/4620 [==============================] - 1s 201us/step - loss: 2.4560 - acc: 0.3742 - val_loss: 2.4459 - val_acc: 0.3576\n",
            "Epoch 71/300\n",
            "4620/4620 [==============================] - 1s 200us/step - loss: 2.4305 - acc: 0.3805 - val_loss: 2.4204 - val_acc: 0.3626\n",
            "Epoch 72/300\n",
            " 992/4620 [=====>........................] - ETA: 0s - loss: 2.3993 - acc: 0.3780"
          ],
          "name": "stdout"
        },
        {
          "output_type": "stream",
          "text": [
            "4620/4620 [==============================] - 1s 201us/step - loss: 2.4049 - acc: 0.3857 - val_loss: 2.3946 - val_acc: 0.3742\n",
            "Epoch 73/300\n",
            "4620/4620 [==============================] - 1s 196us/step - loss: 2.3790 - acc: 0.3937 - val_loss: 2.3686 - val_acc: 0.3818\n",
            "Epoch 74/300\n",
            "4620/4620 [==============================] - 1s 204us/step - loss: 2.3530 - acc: 0.4009 - val_loss: 2.3425 - val_acc: 0.3879\n",
            "Epoch 75/300\n",
            "4620/4620 [==============================] - 1s 197us/step - loss: 2.3269 - acc: 0.4097 - val_loss: 2.3163 - val_acc: 0.3970\n",
            "Epoch 76/300\n",
            "4620/4620 [==============================] - 1s 202us/step - loss: 2.3008 - acc: 0.4158 - val_loss: 2.2900 - val_acc: 0.4045\n",
            "Epoch 77/300\n",
            "4620/4620 [==============================] - 1s 198us/step - loss: 2.2746 - acc: 0.4221 - val_loss: 2.2637 - val_acc: 0.4081\n",
            "Epoch 78/300\n",
            "4620/4620 [==============================] - 1s 200us/step - loss: 2.2485 - acc: 0.4286 - val_loss: 2.2374 - val_acc: 0.4141\n",
            "Epoch 79/300\n",
            "4620/4620 [==============================] - 1s 203us/step - loss: 2.2224 - acc: 0.4329 - val_loss: 2.2111 - val_acc: 0.4182\n",
            "Epoch 80/300\n",
            "4620/4620 [==============================] - 1s 198us/step - loss: 2.1962 - acc: 0.4390 - val_loss: 2.1846 - val_acc: 0.4232\n",
            "Epoch 81/300\n",
            " 992/4620 [=====>........................] - ETA: 0s - loss: 2.1620 - acc: 0.4325"
          ],
          "name": "stdout"
        },
        {
          "output_type": "stream",
          "text": [
            "4620/4620 [==============================] - 1s 197us/step - loss: 2.1700 - acc: 0.4416 - val_loss: 2.1582 - val_acc: 0.4313\n",
            "Epoch 82/300\n",
            "4620/4620 [==============================] - 1s 197us/step - loss: 2.1438 - acc: 0.4448 - val_loss: 2.1319 - val_acc: 0.4328\n",
            "Epoch 83/300\n",
            "4620/4620 [==============================] - 1s 201us/step - loss: 2.1178 - acc: 0.4537 - val_loss: 2.1057 - val_acc: 0.4434\n",
            "Epoch 84/300\n",
            "4620/4620 [==============================] - 1s 198us/step - loss: 2.0919 - acc: 0.4595 - val_loss: 2.0796 - val_acc: 0.4515\n",
            "Epoch 85/300\n",
            "4620/4620 [==============================] - 1s 201us/step - loss: 2.0662 - acc: 0.4643 - val_loss: 2.0536 - val_acc: 0.4556\n",
            "Epoch 86/300\n",
            "4620/4620 [==============================] - 1s 199us/step - loss: 2.0407 - acc: 0.4747 - val_loss: 2.0278 - val_acc: 0.4601\n",
            "Epoch 87/300\n",
            "4620/4620 [==============================] - 1s 196us/step - loss: 2.0153 - acc: 0.4835 - val_loss: 2.0022 - val_acc: 0.4773\n",
            "Epoch 88/300\n",
            "4620/4620 [==============================] - 1s 198us/step - loss: 1.9901 - acc: 0.4898 - val_loss: 1.9768 - val_acc: 0.4848\n",
            "Epoch 89/300\n",
            "4620/4620 [==============================] - 1s 199us/step - loss: 1.9652 - acc: 0.4939 - val_loss: 1.9516 - val_acc: 0.4924\n",
            "Epoch 90/300\n",
            " 992/4620 [=====>........................] - ETA: 0s - loss: 2.0200 - acc: 0.4708"
          ],
          "name": "stdout"
        },
        {
          "output_type": "stream",
          "text": [
            "4620/4620 [==============================] - 1s 196us/step - loss: 1.9404 - acc: 0.4987 - val_loss: 1.9264 - val_acc: 0.4995\n",
            "Epoch 91/300\n",
            "4620/4620 [==============================] - 1s 200us/step - loss: 1.9158 - acc: 0.5106 - val_loss: 1.9015 - val_acc: 0.5061\n",
            "Epoch 92/300\n",
            "4620/4620 [==============================] - 1s 199us/step - loss: 1.8914 - acc: 0.5147 - val_loss: 1.8768 - val_acc: 0.5253\n",
            "Epoch 93/300\n",
            "4620/4620 [==============================] - 1s 195us/step - loss: 1.8672 - acc: 0.5310 - val_loss: 1.8523 - val_acc: 0.5298\n",
            "Epoch 94/300\n",
            "4620/4620 [==============================] - 1s 198us/step - loss: 1.8432 - acc: 0.5392 - val_loss: 1.8280 - val_acc: 0.5348\n",
            "Epoch 95/300\n",
            "4620/4620 [==============================] - 1s 205us/step - loss: 1.8195 - acc: 0.5374 - val_loss: 1.8040 - val_acc: 0.5404\n",
            "Epoch 96/300\n",
            "4620/4620 [==============================] - 1s 203us/step - loss: 1.7962 - acc: 0.5407 - val_loss: 1.7804 - val_acc: 0.5429\n",
            "Epoch 97/300\n",
            "4620/4620 [==============================] - 1s 203us/step - loss: 1.7731 - acc: 0.5439 - val_loss: 1.7571 - val_acc: 0.5439\n",
            "Epoch 98/300\n",
            "4620/4620 [==============================] - 1s 203us/step - loss: 1.7504 - acc: 0.5498 - val_loss: 1.7341 - val_acc: 0.5470\n",
            "Epoch 99/300\n"
          ],
          "name": "stdout"
        },
        {
          "output_type": "stream",
          "text": [
            "4620/4620 [==============================] - 1s 200us/step - loss: 1.7280 - acc: 0.5511 - val_loss: 1.7115 - val_acc: 0.5551\n",
            "Epoch 100/300\n",
            "4620/4620 [==============================] - 1s 201us/step - loss: 1.7061 - acc: 0.5517 - val_loss: 1.6894 - val_acc: 0.5586\n",
            "Epoch 101/300\n",
            "4620/4620 [==============================] - 1s 199us/step - loss: 1.6845 - acc: 0.5535 - val_loss: 1.6676 - val_acc: 0.5631\n",
            "Epoch 102/300\n",
            "4620/4620 [==============================] - 1s 199us/step - loss: 1.6634 - acc: 0.5563 - val_loss: 1.6462 - val_acc: 0.5677\n",
            "Epoch 103/300\n",
            "4620/4620 [==============================] - 1s 206us/step - loss: 1.6426 - acc: 0.5593 - val_loss: 1.6253 - val_acc: 0.5667\n",
            "Epoch 104/300\n",
            "4620/4620 [==============================] - 1s 202us/step - loss: 1.6223 - acc: 0.5623 - val_loss: 1.6049 - val_acc: 0.5702\n",
            "Epoch 105/300\n",
            "4620/4620 [==============================] - 1s 202us/step - loss: 1.6026 - acc: 0.5660 - val_loss: 1.5850 - val_acc: 0.5742\n",
            "Epoch 106/300\n",
            "4620/4620 [==============================] - 1s 199us/step - loss: 1.5833 - acc: 0.5690 - val_loss: 1.5656 - val_acc: 0.5783\n",
            "Epoch 107/300\n",
            "4620/4620 [==============================] - 1s 198us/step - loss: 1.5645 - acc: 0.5751 - val_loss: 1.5464 - val_acc: 0.5818\n",
            "Epoch 108/300\n",
            " 320/4620 [=>............................] - ETA: 0s - loss: 1.5542 - acc: 0.5813"
          ],
          "name": "stdout"
        },
        {
          "output_type": "stream",
          "text": [
            "4620/4620 [==============================] - 1s 202us/step - loss: 1.5461 - acc: 0.5801 - val_loss: 1.5280 - val_acc: 0.5828\n",
            "Epoch 109/300\n",
            "4620/4620 [==============================] - 1s 197us/step - loss: 1.5283 - acc: 0.5792 - val_loss: 1.5099 - val_acc: 0.5874\n",
            "Epoch 110/300\n",
            "4620/4620 [==============================] - 1s 203us/step - loss: 1.5108 - acc: 0.5840 - val_loss: 1.4922 - val_acc: 0.5924\n",
            "Epoch 111/300\n",
            "4620/4620 [==============================] - 1s 203us/step - loss: 1.4938 - acc: 0.5896 - val_loss: 1.4753 - val_acc: 0.5909\n",
            "Epoch 112/300\n",
            "4620/4620 [==============================] - 1s 203us/step - loss: 1.4772 - acc: 0.5922 - val_loss: 1.4585 - val_acc: 0.5934\n",
            "Epoch 113/300\n",
            "4620/4620 [==============================] - 1s 201us/step - loss: 1.4612 - acc: 0.5952 - val_loss: 1.4424 - val_acc: 0.5960\n",
            "Epoch 114/300\n",
            "4620/4620 [==============================] - 1s 198us/step - loss: 1.4454 - acc: 0.5968 - val_loss: 1.4265 - val_acc: 0.6000\n",
            "Epoch 115/300\n",
            "4620/4620 [==============================] - 1s 198us/step - loss: 1.4300 - acc: 0.6004 - val_loss: 1.4111 - val_acc: 0.6025\n",
            "Epoch 116/300\n",
            "4620/4620 [==============================] - 1s 197us/step - loss: 1.4149 - acc: 0.6032 - val_loss: 1.3961 - val_acc: 0.6015\n",
            "Epoch 117/300\n",
            " 640/4620 [===>..........................] - ETA: 0s - loss: 1.4094 - acc: 0.6078"
          ],
          "name": "stdout"
        },
        {
          "output_type": "stream",
          "text": [
            "4620/4620 [==============================] - 1s 199us/step - loss: 1.4004 - acc: 0.6078 - val_loss: 1.3815 - val_acc: 0.6035\n",
            "Epoch 118/300\n",
            "4620/4620 [==============================] - 1s 198us/step - loss: 1.3861 - acc: 0.6061 - val_loss: 1.3676 - val_acc: 0.6076\n",
            "Epoch 119/300\n",
            "4620/4620 [==============================] - 1s 204us/step - loss: 1.3723 - acc: 0.6117 - val_loss: 1.3542 - val_acc: 0.6121\n",
            "Epoch 120/300\n",
            "4620/4620 [==============================] - 1s 202us/step - loss: 1.3588 - acc: 0.6130 - val_loss: 1.3405 - val_acc: 0.6177\n",
            "Epoch 121/300\n",
            "4620/4620 [==============================] - 1s 207us/step - loss: 1.3457 - acc: 0.6132 - val_loss: 1.3275 - val_acc: 0.6222\n",
            "Epoch 122/300\n",
            "4620/4620 [==============================] - 1s 203us/step - loss: 1.3329 - acc: 0.6210 - val_loss: 1.3147 - val_acc: 0.6212\n",
            "Epoch 123/300\n",
            "4620/4620 [==============================] - 1s 196us/step - loss: 1.3205 - acc: 0.6212 - val_loss: 1.3020 - val_acc: 0.6247\n",
            "Epoch 124/300\n",
            "4620/4620 [==============================] - 1s 198us/step - loss: 1.3083 - acc: 0.6251 - val_loss: 1.2897 - val_acc: 0.6258\n",
            "Epoch 125/300\n",
            "4620/4620 [==============================] - 1s 202us/step - loss: 1.2965 - acc: 0.6277 - val_loss: 1.2776 - val_acc: 0.6303\n",
            "Epoch 126/300\n",
            " 672/4620 [===>..........................] - ETA: 0s - loss: 1.2648 - acc: 0.6414"
          ],
          "name": "stdout"
        },
        {
          "output_type": "stream",
          "text": [
            "4620/4620 [==============================] - 1s 199us/step - loss: 1.2850 - acc: 0.6301 - val_loss: 1.2659 - val_acc: 0.6348\n",
            "Epoch 127/300\n",
            "4620/4620 [==============================] - 1s 195us/step - loss: 1.2737 - acc: 0.6303 - val_loss: 1.2551 - val_acc: 0.6414\n",
            "Epoch 128/300\n",
            "4620/4620 [==============================] - 1s 196us/step - loss: 1.2627 - acc: 0.6364 - val_loss: 1.2437 - val_acc: 0.6434\n",
            "Epoch 129/300\n",
            "4620/4620 [==============================] - 1s 203us/step - loss: 1.2521 - acc: 0.6379 - val_loss: 1.2329 - val_acc: 0.6500\n",
            "Epoch 130/300\n",
            "4620/4620 [==============================] - 1s 203us/step - loss: 1.2412 - acc: 0.6446 - val_loss: 1.2217 - val_acc: 0.6485\n",
            "Epoch 131/300\n",
            "4620/4620 [==============================] - 1s 203us/step - loss: 1.2303 - acc: 0.6474 - val_loss: 1.2112 - val_acc: 0.6535\n",
            "Epoch 132/300\n",
            "4620/4620 [==============================] - 1s 204us/step - loss: 1.2197 - acc: 0.6463 - val_loss: 1.2007 - val_acc: 0.6616\n",
            "Epoch 133/300\n",
            "4620/4620 [==============================] - 1s 200us/step - loss: 1.2093 - acc: 0.6545 - val_loss: 1.1904 - val_acc: 0.6682\n",
            "Epoch 134/300\n",
            "4620/4620 [==============================] - 1s 201us/step - loss: 1.1993 - acc: 0.6571 - val_loss: 1.1802 - val_acc: 0.6646\n"
          ],
          "name": "stdout"
        },
        {
          "output_type": "stream",
          "text": [
            "Epoch 135/300\n",
            "4620/4620 [==============================] - 1s 202us/step - loss: 1.1893 - acc: 0.6556 - val_loss: 1.1705 - val_acc: 0.6682\n",
            "Epoch 136/300\n",
            "4620/4620 [==============================] - 1s 201us/step - loss: 1.1796 - acc: 0.6558 - val_loss: 1.1613 - val_acc: 0.6682\n",
            "Epoch 137/300\n",
            "4620/4620 [==============================] - 1s 201us/step - loss: 1.1702 - acc: 0.6589 - val_loss: 1.1525 - val_acc: 0.6737\n",
            "Epoch 138/300\n",
            "4620/4620 [==============================] - 1s 203us/step - loss: 1.1609 - acc: 0.6662 - val_loss: 1.1434 - val_acc: 0.6727\n",
            "Epoch 139/300\n",
            "4620/4620 [==============================] - 1s 203us/step - loss: 1.1520 - acc: 0.6688 - val_loss: 1.1343 - val_acc: 0.6793\n",
            "Epoch 140/300\n",
            "4620/4620 [==============================] - 1s 203us/step - loss: 1.1431 - acc: 0.6710 - val_loss: 1.1258 - val_acc: 0.6783\n",
            "Epoch 141/300\n",
            "4620/4620 [==============================] - 1s 196us/step - loss: 1.1343 - acc: 0.6695 - val_loss: 1.1166 - val_acc: 0.6793\n",
            "Epoch 142/300\n",
            "4620/4620 [==============================] - 1s 201us/step - loss: 1.1258 - acc: 0.6755 - val_loss: 1.1086 - val_acc: 0.6843\n",
            "Epoch 143/300\n",
            "4620/4620 [==============================] - 1s 199us/step - loss: 1.1175 - acc: 0.6786 - val_loss: 1.1008 - val_acc: 0.6843\n",
            "Epoch 144/300\n",
            "  32/4620 [..............................] - ETA: 1s - loss: 1.0391 - acc: 0.8125"
          ],
          "name": "stdout"
        },
        {
          "output_type": "stream",
          "text": [
            "4620/4620 [==============================] - 1s 198us/step - loss: 1.1093 - acc: 0.6797 - val_loss: 1.0926 - val_acc: 0.6854\n",
            "Epoch 145/300\n",
            "4620/4620 [==============================] - 1s 195us/step - loss: 1.1012 - acc: 0.6788 - val_loss: 1.0850 - val_acc: 0.6889\n",
            "Epoch 146/300\n",
            "4620/4620 [==============================] - 1s 215us/step - loss: 1.0932 - acc: 0.6857 - val_loss: 1.0777 - val_acc: 0.6904\n",
            "Epoch 147/300\n",
            "4620/4620 [==============================] - 1s 199us/step - loss: 1.0855 - acc: 0.6846 - val_loss: 1.0695 - val_acc: 0.6919\n",
            "Epoch 148/300\n",
            "4620/4620 [==============================] - 1s 203us/step - loss: 1.0779 - acc: 0.6859 - val_loss: 1.0619 - val_acc: 0.6899\n",
            "Epoch 149/300\n",
            "4620/4620 [==============================] - 1s 199us/step - loss: 1.0704 - acc: 0.6892 - val_loss: 1.0547 - val_acc: 0.6914\n",
            "Epoch 150/300\n",
            "4620/4620 [==============================] - 1s 197us/step - loss: 1.0631 - acc: 0.6924 - val_loss: 1.0480 - val_acc: 0.6949\n",
            "Epoch 151/300\n",
            "4620/4620 [==============================] - 1s 200us/step - loss: 1.0557 - acc: 0.6935 - val_loss: 1.0414 - val_acc: 0.7005\n",
            "Epoch 152/300\n",
            "4620/4620 [==============================] - 1s 194us/step - loss: 1.0488 - acc: 0.6944 - val_loss: 1.0340 - val_acc: 0.7015\n",
            "Epoch 153/300\n",
            " 288/4620 [>.............................] - ETA: 0s - loss: 1.1193 - acc: 0.6632"
          ],
          "name": "stdout"
        },
        {
          "output_type": "stream",
          "text": [
            "4620/4620 [==============================] - 1s 201us/step - loss: 1.0417 - acc: 0.6981 - val_loss: 1.0269 - val_acc: 0.7000\n",
            "Epoch 154/300\n",
            "4620/4620 [==============================] - 1s 200us/step - loss: 1.0348 - acc: 0.6976 - val_loss: 1.0212 - val_acc: 0.7025\n",
            "Epoch 155/300\n",
            "4620/4620 [==============================] - 1s 202us/step - loss: 1.0282 - acc: 0.7017 - val_loss: 1.0141 - val_acc: 0.7045\n",
            "Epoch 156/300\n",
            "4620/4620 [==============================] - 1s 202us/step - loss: 1.0216 - acc: 0.7054 - val_loss: 1.0079 - val_acc: 0.7025\n",
            "Epoch 157/300\n",
            "4620/4620 [==============================] - 1s 203us/step - loss: 1.0150 - acc: 0.7052 - val_loss: 1.0015 - val_acc: 0.7076\n",
            "Epoch 158/300\n",
            "4620/4620 [==============================] - 1s 193us/step - loss: 1.0087 - acc: 0.7052 - val_loss: 0.9954 - val_acc: 0.7121\n",
            "Epoch 159/300\n",
            "4620/4620 [==============================] - 1s 196us/step - loss: 1.0024 - acc: 0.7065 - val_loss: 0.9897 - val_acc: 0.7101\n",
            "Epoch 160/300\n",
            "4620/4620 [==============================] - 1s 202us/step - loss: 0.9962 - acc: 0.7121 - val_loss: 0.9834 - val_acc: 0.7101\n",
            "Epoch 161/300\n",
            "4620/4620 [==============================] - 1s 200us/step - loss: 0.9902 - acc: 0.7097 - val_loss: 0.9778 - val_acc: 0.7157\n",
            "Epoch 162/300\n",
            " 352/4620 [=>............................] - ETA: 0s - loss: 1.0020 - acc: 0.7415"
          ],
          "name": "stdout"
        },
        {
          "output_type": "stream",
          "text": [
            "4620/4620 [==============================] - 1s 194us/step - loss: 0.9843 - acc: 0.7147 - val_loss: 0.9722 - val_acc: 0.7192\n",
            "Epoch 163/300\n",
            "4620/4620 [==============================] - 1s 200us/step - loss: 0.9782 - acc: 0.7165 - val_loss: 0.9668 - val_acc: 0.7222\n",
            "Epoch 164/300\n",
            "4620/4620 [==============================] - 1s 198us/step - loss: 0.9724 - acc: 0.7152 - val_loss: 0.9614 - val_acc: 0.7258\n",
            "Epoch 165/300\n",
            "4620/4620 [==============================] - 1s 204us/step - loss: 0.9669 - acc: 0.7214 - val_loss: 0.9555 - val_acc: 0.7288\n",
            "Epoch 166/300\n",
            "4620/4620 [==============================] - 1s 201us/step - loss: 0.9611 - acc: 0.7210 - val_loss: 0.9510 - val_acc: 0.7343\n",
            "Epoch 167/300\n",
            "4620/4620 [==============================] - 1s 196us/step - loss: 0.9557 - acc: 0.7247 - val_loss: 0.9454 - val_acc: 0.7298\n",
            "Epoch 168/300\n",
            "4620/4620 [==============================] - 1s 199us/step - loss: 0.9504 - acc: 0.7279 - val_loss: 0.9401 - val_acc: 0.7247\n",
            "Epoch 169/300\n",
            "4620/4620 [==============================] - 1s 197us/step - loss: 0.9450 - acc: 0.7242 - val_loss: 0.9359 - val_acc: 0.7283\n",
            "Epoch 170/300\n",
            "4620/4620 [==============================] - 1s 199us/step - loss: 0.9397 - acc: 0.7262 - val_loss: 0.9297 - val_acc: 0.7308\n",
            "Epoch 171/300\n",
            " 992/4620 [=====>........................] - ETA: 0s - loss: 0.8867 - acc: 0.7530"
          ],
          "name": "stdout"
        },
        {
          "output_type": "stream",
          "text": [
            "4620/4620 [==============================] - 1s 199us/step - loss: 0.9346 - acc: 0.7279 - val_loss: 0.9251 - val_acc: 0.7308\n",
            "Epoch 172/300\n",
            "4620/4620 [==============================] - 1s 198us/step - loss: 0.9296 - acc: 0.7297 - val_loss: 0.9198 - val_acc: 0.7338\n",
            "Epoch 173/300\n",
            "4620/4620 [==============================] - 1s 202us/step - loss: 0.9245 - acc: 0.7312 - val_loss: 0.9157 - val_acc: 0.7333\n",
            "Epoch 174/300\n",
            "4620/4620 [==============================] - 1s 201us/step - loss: 0.9197 - acc: 0.7320 - val_loss: 0.9110 - val_acc: 0.7369\n",
            "Epoch 175/300\n",
            "4620/4620 [==============================] - 1s 198us/step - loss: 0.9148 - acc: 0.7323 - val_loss: 0.9070 - val_acc: 0.7389\n",
            "Epoch 176/300\n",
            "4620/4620 [==============================] - 1s 202us/step - loss: 0.9102 - acc: 0.7351 - val_loss: 0.9023 - val_acc: 0.7399\n",
            "Epoch 177/300\n",
            "4620/4620 [==============================] - 1s 200us/step - loss: 0.9053 - acc: 0.7383 - val_loss: 0.8981 - val_acc: 0.7354\n",
            "Epoch 178/300\n",
            "4620/4620 [==============================] - 1s 197us/step - loss: 0.9006 - acc: 0.7368 - val_loss: 0.8935 - val_acc: 0.7465\n",
            "Epoch 179/300\n",
            "4620/4620 [==============================] - 1s 200us/step - loss: 0.8960 - acc: 0.7442 - val_loss: 0.8885 - val_acc: 0.7429\n",
            "Epoch 180/300\n",
            " 672/4620 [===>..........................] - ETA: 0s - loss: 0.8666 - acc: 0.7366"
          ],
          "name": "stdout"
        },
        {
          "output_type": "stream",
          "text": [
            "4620/4620 [==============================] - 1s 204us/step - loss: 0.8917 - acc: 0.7398 - val_loss: 0.8844 - val_acc: 0.7439\n",
            "Epoch 181/300\n",
            "4620/4620 [==============================] - 1s 198us/step - loss: 0.8871 - acc: 0.7409 - val_loss: 0.8810 - val_acc: 0.7434\n",
            "Epoch 182/300\n",
            "4620/4620 [==============================] - 1s 194us/step - loss: 0.8827 - acc: 0.7431 - val_loss: 0.8765 - val_acc: 0.7455\n",
            "Epoch 183/300\n",
            "4620/4620 [==============================] - 1s 195us/step - loss: 0.8785 - acc: 0.7429 - val_loss: 0.8726 - val_acc: 0.7505\n",
            "Epoch 184/300\n",
            "4620/4620 [==============================] - 1s 194us/step - loss: 0.8742 - acc: 0.7442 - val_loss: 0.8684 - val_acc: 0.7530\n",
            "Epoch 185/300\n",
            "4620/4620 [==============================] - 1s 199us/step - loss: 0.8701 - acc: 0.7455 - val_loss: 0.8641 - val_acc: 0.7510\n",
            "Epoch 186/300\n",
            "4620/4620 [==============================] - 1s 200us/step - loss: 0.8660 - acc: 0.7485 - val_loss: 0.8611 - val_acc: 0.7510\n",
            "Epoch 187/300\n",
            "4620/4620 [==============================] - 1s 198us/step - loss: 0.8618 - acc: 0.7494 - val_loss: 0.8571 - val_acc: 0.7561\n",
            "Epoch 188/300\n",
            "4620/4620 [==============================] - 1s 195us/step - loss: 0.8580 - acc: 0.7494 - val_loss: 0.8540 - val_acc: 0.7535\n",
            "Epoch 189/300\n",
            " 928/4620 [=====>........................] - ETA: 0s - loss: 0.8701 - acc: 0.7403"
          ],
          "name": "stdout"
        },
        {
          "output_type": "stream",
          "text": [
            "4620/4620 [==============================] - 1s 196us/step - loss: 0.8540 - acc: 0.7511 - val_loss: 0.8493 - val_acc: 0.7596\n",
            "Epoch 190/300\n",
            "4620/4620 [==============================] - 1s 200us/step - loss: 0.8500 - acc: 0.7509 - val_loss: 0.8464 - val_acc: 0.7571\n",
            "Epoch 191/300\n",
            "4620/4620 [==============================] - 1s 197us/step - loss: 0.8464 - acc: 0.7545 - val_loss: 0.8425 - val_acc: 0.7571\n",
            "Epoch 192/300\n",
            "4620/4620 [==============================] - 1s 201us/step - loss: 0.8424 - acc: 0.7539 - val_loss: 0.8392 - val_acc: 0.7626\n",
            "Epoch 193/300\n",
            "4620/4620 [==============================] - 1s 202us/step - loss: 0.8388 - acc: 0.7532 - val_loss: 0.8363 - val_acc: 0.7606\n",
            "Epoch 194/300\n",
            "4620/4620 [==============================] - 1s 206us/step - loss: 0.8350 - acc: 0.7563 - val_loss: 0.8325 - val_acc: 0.7606\n",
            "Epoch 195/300\n",
            "4620/4620 [==============================] - 1s 200us/step - loss: 0.8315 - acc: 0.7567 - val_loss: 0.8294 - val_acc: 0.7606\n",
            "Epoch 196/300\n",
            "4620/4620 [==============================] - 1s 204us/step - loss: 0.8279 - acc: 0.7548 - val_loss: 0.8263 - val_acc: 0.7641\n",
            "Epoch 197/300\n",
            "4620/4620 [==============================] - 1s 201us/step - loss: 0.8244 - acc: 0.7582 - val_loss: 0.8226 - val_acc: 0.7611\n",
            "Epoch 198/300\n",
            "  32/4620 [..............................] - ETA: 1s - loss: 0.9337 - acc: 0.7812"
          ],
          "name": "stdout"
        },
        {
          "output_type": "stream",
          "text": [
            "4620/4620 [==============================] - 1s 195us/step - loss: 0.8208 - acc: 0.7589 - val_loss: 0.8195 - val_acc: 0.7611\n",
            "Epoch 199/300\n",
            "4620/4620 [==============================] - 1s 196us/step - loss: 0.8174 - acc: 0.7613 - val_loss: 0.8155 - val_acc: 0.7657\n",
            "Epoch 200/300\n",
            "4620/4620 [==============================] - 1s 196us/step - loss: 0.8140 - acc: 0.7593 - val_loss: 0.8122 - val_acc: 0.7652\n",
            "Epoch 201/300\n",
            "4620/4620 [==============================] - 1s 202us/step - loss: 0.8106 - acc: 0.7619 - val_loss: 0.8098 - val_acc: 0.7641\n",
            "Epoch 202/300\n",
            "4620/4620 [==============================] - 1s 196us/step - loss: 0.8073 - acc: 0.7619 - val_loss: 0.8066 - val_acc: 0.7641\n",
            "Epoch 203/300\n",
            "4620/4620 [==============================] - 1s 205us/step - loss: 0.8041 - acc: 0.7647 - val_loss: 0.8035 - val_acc: 0.7667\n",
            "Epoch 204/300\n",
            "4620/4620 [==============================] - 1s 206us/step - loss: 0.8008 - acc: 0.7606 - val_loss: 0.7999 - val_acc: 0.7677\n",
            "Epoch 205/300\n",
            "4620/4620 [==============================] - 1s 201us/step - loss: 0.7977 - acc: 0.7647 - val_loss: 0.7971 - val_acc: 0.7667\n",
            "Epoch 206/300\n",
            "4620/4620 [==============================] - 1s 198us/step - loss: 0.7943 - acc: 0.7658 - val_loss: 0.7948 - val_acc: 0.7712\n",
            "Epoch 207/300\n",
            "  32/4620 [..............................] - ETA: 1s - loss: 0.9932 - acc: 0.6250"
          ],
          "name": "stdout"
        },
        {
          "output_type": "stream",
          "text": [
            "4620/4620 [==============================] - 1s 201us/step - loss: 0.7915 - acc: 0.7660 - val_loss: 0.7916 - val_acc: 0.7722\n",
            "Epoch 208/300\n",
            "4620/4620 [==============================] - 1s 201us/step - loss: 0.7882 - acc: 0.7660 - val_loss: 0.7897 - val_acc: 0.7707\n",
            "Epoch 209/300\n",
            "4620/4620 [==============================] - 1s 202us/step - loss: 0.7853 - acc: 0.7671 - val_loss: 0.7870 - val_acc: 0.7697\n",
            "Epoch 210/300\n",
            "4620/4620 [==============================] - 1s 204us/step - loss: 0.7821 - acc: 0.7686 - val_loss: 0.7840 - val_acc: 0.7712\n",
            "Epoch 211/300\n",
            "4620/4620 [==============================] - 1s 198us/step - loss: 0.7790 - acc: 0.7686 - val_loss: 0.7812 - val_acc: 0.7712\n",
            "Epoch 212/300\n",
            "4620/4620 [==============================] - 1s 198us/step - loss: 0.7761 - acc: 0.7712 - val_loss: 0.7780 - val_acc: 0.7712\n",
            "Epoch 213/300\n",
            "4620/4620 [==============================] - 1s 202us/step - loss: 0.7734 - acc: 0.7695 - val_loss: 0.7756 - val_acc: 0.7727\n",
            "Epoch 214/300\n",
            "4620/4620 [==============================] - 1s 201us/step - loss: 0.7702 - acc: 0.7714 - val_loss: 0.7728 - val_acc: 0.7763\n",
            "Epoch 215/300\n",
            "4620/4620 [==============================] - 1s 200us/step - loss: 0.7674 - acc: 0.7732 - val_loss: 0.7697 - val_acc: 0.7753\n",
            "Epoch 216/300\n",
            " 672/4620 [===>..........................] - ETA: 0s - loss: 0.7394 - acc: 0.7812"
          ],
          "name": "stdout"
        },
        {
          "output_type": "stream",
          "text": [
            "4620/4620 [==============================] - 1s 202us/step - loss: 0.7646 - acc: 0.7727 - val_loss: 0.7678 - val_acc: 0.7768\n",
            "Epoch 217/300\n",
            "4620/4620 [==============================] - 1s 199us/step - loss: 0.7618 - acc: 0.7734 - val_loss: 0.7644 - val_acc: 0.7788\n",
            "Epoch 218/300\n",
            "4620/4620 [==============================] - 1s 201us/step - loss: 0.7591 - acc: 0.7729 - val_loss: 0.7617 - val_acc: 0.7747\n",
            "Epoch 219/300\n",
            "4620/4620 [==============================] - 1s 202us/step - loss: 0.7563 - acc: 0.7755 - val_loss: 0.7597 - val_acc: 0.7758\n",
            "Epoch 220/300\n",
            "4620/4620 [==============================] - 1s 198us/step - loss: 0.7535 - acc: 0.7764 - val_loss: 0.7585 - val_acc: 0.7753\n",
            "Epoch 221/300\n",
            "4620/4620 [==============================] - 1s 197us/step - loss: 0.7507 - acc: 0.7786 - val_loss: 0.7547 - val_acc: 0.7828\n",
            "Epoch 222/300\n",
            "4620/4620 [==============================] - 1s 200us/step - loss: 0.7485 - acc: 0.7784 - val_loss: 0.7536 - val_acc: 0.7803\n",
            "Epoch 223/300\n",
            "4620/4620 [==============================] - 1s 198us/step - loss: 0.7457 - acc: 0.7753 - val_loss: 0.7501 - val_acc: 0.7808\n",
            "Epoch 224/300\n",
            "4620/4620 [==============================] - 1s 199us/step - loss: 0.7434 - acc: 0.7779 - val_loss: 0.7481 - val_acc: 0.7798\n",
            "Epoch 225/300\n",
            " 992/4620 [=====>........................] - ETA: 0s - loss: 0.7340 - acc: 0.7873"
          ],
          "name": "stdout"
        },
        {
          "output_type": "stream",
          "text": [
            "4620/4620 [==============================] - 1s 202us/step - loss: 0.7406 - acc: 0.7805 - val_loss: 0.7454 - val_acc: 0.7823\n",
            "Epoch 226/300\n",
            "4620/4620 [==============================] - 1s 200us/step - loss: 0.7381 - acc: 0.7814 - val_loss: 0.7439 - val_acc: 0.7828\n",
            "Epoch 227/300\n",
            "4620/4620 [==============================] - 1s 202us/step - loss: 0.7357 - acc: 0.7805 - val_loss: 0.7402 - val_acc: 0.7854\n",
            "Epoch 228/300\n",
            "4620/4620 [==============================] - 1s 204us/step - loss: 0.7331 - acc: 0.7829 - val_loss: 0.7381 - val_acc: 0.7854\n",
            "Epoch 229/300\n",
            "4620/4620 [==============================] - 1s 201us/step - loss: 0.7306 - acc: 0.7818 - val_loss: 0.7360 - val_acc: 0.7833\n",
            "Epoch 230/300\n",
            "4620/4620 [==============================] - 1s 201us/step - loss: 0.7281 - acc: 0.7842 - val_loss: 0.7346 - val_acc: 0.7833\n",
            "Epoch 231/300\n",
            "4620/4620 [==============================] - 1s 201us/step - loss: 0.7259 - acc: 0.7851 - val_loss: 0.7318 - val_acc: 0.7833\n",
            "Epoch 232/300\n",
            "4620/4620 [==============================] - 1s 201us/step - loss: 0.7236 - acc: 0.7838 - val_loss: 0.7284 - val_acc: 0.7889\n",
            "Epoch 233/300\n",
            "4620/4620 [==============================] - 1s 200us/step - loss: 0.7212 - acc: 0.7861 - val_loss: 0.7268 - val_acc: 0.7869\n",
            "Epoch 234/300\n",
            " 608/4620 [==>...........................] - ETA: 0s - loss: 0.6720 - acc: 0.8125"
          ],
          "name": "stdout"
        },
        {
          "output_type": "stream",
          "text": [
            "4620/4620 [==============================] - 1s 202us/step - loss: 0.7185 - acc: 0.7861 - val_loss: 0.7263 - val_acc: 0.7864\n",
            "Epoch 235/300\n",
            "4620/4620 [==============================] - 1s 200us/step - loss: 0.7166 - acc: 0.7885 - val_loss: 0.7240 - val_acc: 0.7848\n",
            "Epoch 236/300\n",
            "4620/4620 [==============================] - 1s 201us/step - loss: 0.7141 - acc: 0.7846 - val_loss: 0.7212 - val_acc: 0.7879\n",
            "Epoch 237/300\n",
            "4620/4620 [==============================] - 1s 201us/step - loss: 0.7119 - acc: 0.7853 - val_loss: 0.7190 - val_acc: 0.7904\n",
            "Epoch 238/300\n",
            "4620/4620 [==============================] - 1s 205us/step - loss: 0.7099 - acc: 0.7872 - val_loss: 0.7166 - val_acc: 0.7869\n",
            "Epoch 239/300\n",
            "4620/4620 [==============================] - 1s 204us/step - loss: 0.7074 - acc: 0.7900 - val_loss: 0.7158 - val_acc: 0.7894\n",
            "Epoch 240/300\n",
            "4620/4620 [==============================] - 1s 202us/step - loss: 0.7053 - acc: 0.7887 - val_loss: 0.7131 - val_acc: 0.7874\n",
            "Epoch 241/300\n",
            "4620/4620 [==============================] - 1s 199us/step - loss: 0.7030 - acc: 0.7877 - val_loss: 0.7105 - val_acc: 0.7889\n",
            "Epoch 242/300\n",
            "4620/4620 [==============================] - 1s 198us/step - loss: 0.7010 - acc: 0.7887 - val_loss: 0.7081 - val_acc: 0.7909\n",
            "Epoch 243/300\n",
            "  32/4620 [..............................] - ETA: 1s - loss: 0.5712 - acc: 0.7188"
          ],
          "name": "stdout"
        },
        {
          "output_type": "stream",
          "text": [
            "4620/4620 [==============================] - 1s 202us/step - loss: 0.6986 - acc: 0.7911 - val_loss: 0.7080 - val_acc: 0.7899\n",
            "Epoch 244/300\n",
            "4620/4620 [==============================] - 1s 202us/step - loss: 0.6965 - acc: 0.7926 - val_loss: 0.7046 - val_acc: 0.7914\n",
            "Epoch 245/300\n",
            "4620/4620 [==============================] - 1s 203us/step - loss: 0.6944 - acc: 0.7892 - val_loss: 0.7036 - val_acc: 0.7899\n",
            "Epoch 246/300\n",
            "4620/4620 [==============================] - 1s 201us/step - loss: 0.6923 - acc: 0.7907 - val_loss: 0.7014 - val_acc: 0.7939\n",
            "Epoch 247/300\n",
            "4620/4620 [==============================] - 1s 199us/step - loss: 0.6902 - acc: 0.7944 - val_loss: 0.7008 - val_acc: 0.7904\n",
            "Epoch 248/300\n",
            "4620/4620 [==============================] - 1s 205us/step - loss: 0.6882 - acc: 0.7939 - val_loss: 0.6970 - val_acc: 0.7929\n",
            "Epoch 249/300\n",
            "4620/4620 [==============================] - 1s 202us/step - loss: 0.6863 - acc: 0.7922 - val_loss: 0.6951 - val_acc: 0.7924\n",
            "Epoch 250/300\n",
            "4620/4620 [==============================] - 1s 198us/step - loss: 0.6843 - acc: 0.7935 - val_loss: 0.6925 - val_acc: 0.7924\n",
            "Epoch 251/300\n",
            "4620/4620 [==============================] - 1s 204us/step - loss: 0.6821 - acc: 0.7944 - val_loss: 0.6913 - val_acc: 0.7929\n",
            "Epoch 252/300\n",
            " 352/4620 [=>............................] - ETA: 0s - loss: 0.7157 - acc: 0.7983"
          ],
          "name": "stdout"
        },
        {
          "output_type": "stream",
          "text": [
            "4620/4620 [==============================] - 1s 200us/step - loss: 0.6803 - acc: 0.7948 - val_loss: 0.6898 - val_acc: 0.7934\n",
            "Epoch 253/300\n",
            "4620/4620 [==============================] - 1s 199us/step - loss: 0.6783 - acc: 0.7957 - val_loss: 0.6877 - val_acc: 0.7944\n",
            "Epoch 254/300\n",
            "4620/4620 [==============================] - 1s 199us/step - loss: 0.6760 - acc: 0.7946 - val_loss: 0.6859 - val_acc: 0.7934\n",
            "Epoch 255/300\n",
            "4620/4620 [==============================] - 1s 205us/step - loss: 0.6744 - acc: 0.7968 - val_loss: 0.6843 - val_acc: 0.7955\n",
            "Epoch 256/300\n",
            "4620/4620 [==============================] - 1s 202us/step - loss: 0.6723 - acc: 0.7981 - val_loss: 0.6822 - val_acc: 0.7939\n",
            "Epoch 257/300\n",
            "4620/4620 [==============================] - 1s 199us/step - loss: 0.6703 - acc: 0.7944 - val_loss: 0.6807 - val_acc: 0.7929\n",
            "Epoch 258/300\n",
            "4620/4620 [==============================] - 1s 197us/step - loss: 0.6685 - acc: 0.7976 - val_loss: 0.6783 - val_acc: 0.7965\n",
            "Epoch 259/300\n",
            "4620/4620 [==============================] - 1s 196us/step - loss: 0.6666 - acc: 0.7987 - val_loss: 0.6778 - val_acc: 0.7919\n",
            "Epoch 260/300\n",
            "4620/4620 [==============================] - 1s 194us/step - loss: 0.6648 - acc: 0.7974 - val_loss: 0.6755 - val_acc: 0.7960\n",
            "Epoch 261/300\n",
            " 672/4620 [===>..........................] - ETA: 0s - loss: 0.6235 - acc: 0.8110"
          ],
          "name": "stdout"
        },
        {
          "output_type": "stream",
          "text": [
            "4620/4620 [==============================] - 1s 193us/step - loss: 0.6628 - acc: 0.7968 - val_loss: 0.6744 - val_acc: 0.7949\n",
            "Epoch 262/300\n",
            "4620/4620 [==============================] - 1s 198us/step - loss: 0.6610 - acc: 0.7994 - val_loss: 0.6723 - val_acc: 0.7949\n",
            "Epoch 263/300\n",
            "4620/4620 [==============================] - 1s 200us/step - loss: 0.6587 - acc: 0.7991 - val_loss: 0.6713 - val_acc: 0.7955\n",
            "Epoch 264/300\n",
            "4620/4620 [==============================] - 1s 200us/step - loss: 0.6574 - acc: 0.8006 - val_loss: 0.6693 - val_acc: 0.7944\n",
            "Epoch 265/300\n",
            "4620/4620 [==============================] - 1s 201us/step - loss: 0.6554 - acc: 0.7981 - val_loss: 0.6655 - val_acc: 0.7990\n",
            "Epoch 266/300\n",
            "4620/4620 [==============================] - 1s 202us/step - loss: 0.6533 - acc: 0.8017 - val_loss: 0.6664 - val_acc: 0.7975\n",
            "Epoch 267/300\n",
            "4620/4620 [==============================] - 1s 204us/step - loss: 0.6518 - acc: 0.7998 - val_loss: 0.6638 - val_acc: 0.7985\n",
            "Epoch 268/300\n",
            "4620/4620 [==============================] - 1s 200us/step - loss: 0.6500 - acc: 0.8006 - val_loss: 0.6622 - val_acc: 0.7975\n",
            "Epoch 269/300\n",
            "4620/4620 [==============================] - 1s 202us/step - loss: 0.6482 - acc: 0.8015 - val_loss: 0.6605 - val_acc: 0.7985\n",
            "Epoch 270/300\n"
          ],
          "name": "stdout"
        },
        {
          "output_type": "stream",
          "text": [
            "4620/4620 [==============================] - 1s 198us/step - loss: 0.6463 - acc: 0.8037 - val_loss: 0.6582 - val_acc: 0.7990\n",
            "Epoch 271/300\n",
            "4620/4620 [==============================] - 1s 197us/step - loss: 0.6446 - acc: 0.8017 - val_loss: 0.6581 - val_acc: 0.7980\n",
            "Epoch 272/300\n",
            "4620/4620 [==============================] - 1s 198us/step - loss: 0.6428 - acc: 0.8011 - val_loss: 0.6569 - val_acc: 0.8015\n",
            "Epoch 273/300\n",
            "4620/4620 [==============================] - 1s 198us/step - loss: 0.6411 - acc: 0.8030 - val_loss: 0.6538 - val_acc: 0.7995\n",
            "Epoch 274/300\n",
            "4620/4620 [==============================] - 1s 200us/step - loss: 0.6395 - acc: 0.8024 - val_loss: 0.6510 - val_acc: 0.8010\n",
            "Epoch 275/300\n",
            "4620/4620 [==============================] - 1s 201us/step - loss: 0.6374 - acc: 0.8048 - val_loss: 0.6508 - val_acc: 0.8020\n",
            "Epoch 276/300\n",
            "4620/4620 [==============================] - 1s 201us/step - loss: 0.6359 - acc: 0.8069 - val_loss: 0.6509 - val_acc: 0.8005\n",
            "Epoch 277/300\n",
            "4620/4620 [==============================] - 1s 200us/step - loss: 0.6345 - acc: 0.8054 - val_loss: 0.6475 - val_acc: 0.8000\n",
            "Epoch 278/300\n",
            "4620/4620 [==============================] - 1s 196us/step - loss: 0.6325 - acc: 0.8061 - val_loss: 0.6460 - val_acc: 0.7995\n",
            "Epoch 279/300\n",
            "1024/4620 [=====>........................] - ETA: 0s - loss: 0.6365 - acc: 0.8154"
          ],
          "name": "stdout"
        },
        {
          "output_type": "stream",
          "text": [
            "4620/4620 [==============================] - 1s 197us/step - loss: 0.6308 - acc: 0.8076 - val_loss: 0.6433 - val_acc: 0.8030\n",
            "Epoch 280/300\n",
            "4620/4620 [==============================] - 1s 197us/step - loss: 0.6290 - acc: 0.8076 - val_loss: 0.6420 - val_acc: 0.8025\n",
            "Epoch 281/300\n",
            "4620/4620 [==============================] - 1s 198us/step - loss: 0.6275 - acc: 0.8071 - val_loss: 0.6410 - val_acc: 0.8010\n",
            "Epoch 282/300\n",
            "4620/4620 [==============================] - 1s 201us/step - loss: 0.6257 - acc: 0.8089 - val_loss: 0.6407 - val_acc: 0.8040\n",
            "Epoch 283/300\n",
            "4620/4620 [==============================] - 1s 199us/step - loss: 0.6241 - acc: 0.8063 - val_loss: 0.6385 - val_acc: 0.8020\n",
            "Epoch 284/300\n",
            "4620/4620 [==============================] - 1s 196us/step - loss: 0.6224 - acc: 0.8110 - val_loss: 0.6364 - val_acc: 0.8025\n",
            "Epoch 285/300\n",
            "4620/4620 [==============================] - 1s 196us/step - loss: 0.6209 - acc: 0.8119 - val_loss: 0.6351 - val_acc: 0.8045\n",
            "Epoch 286/300\n",
            "4620/4620 [==============================] - 1s 193us/step - loss: 0.6193 - acc: 0.8093 - val_loss: 0.6339 - val_acc: 0.8025\n",
            "Epoch 287/300\n",
            "4620/4620 [==============================] - 1s 196us/step - loss: 0.6176 - acc: 0.8113 - val_loss: 0.6318 - val_acc: 0.8035\n",
            "Epoch 288/300\n",
            "1280/4620 [=======>......................] - ETA: 0s - loss: 0.6277 - acc: 0.8133"
          ],
          "name": "stdout"
        },
        {
          "output_type": "stream",
          "text": [
            "4620/4620 [==============================] - 1s 197us/step - loss: 0.6159 - acc: 0.8132 - val_loss: 0.6308 - val_acc: 0.8051\n",
            "Epoch 289/300\n",
            "4620/4620 [==============================] - 1s 201us/step - loss: 0.6144 - acc: 0.8117 - val_loss: 0.6299 - val_acc: 0.8035\n",
            "Epoch 290/300\n",
            "4620/4620 [==============================] - 1s 199us/step - loss: 0.6129 - acc: 0.8115 - val_loss: 0.6280 - val_acc: 0.8056\n",
            "Epoch 291/300\n",
            "4620/4620 [==============================] - 1s 201us/step - loss: 0.6109 - acc: 0.8115 - val_loss: 0.6267 - val_acc: 0.8045\n",
            "Epoch 292/300\n",
            "4620/4620 [==============================] - 1s 198us/step - loss: 0.6095 - acc: 0.8119 - val_loss: 0.6254 - val_acc: 0.8035\n",
            "Epoch 293/300\n",
            "4620/4620 [==============================] - 1s 200us/step - loss: 0.6079 - acc: 0.8123 - val_loss: 0.6221 - val_acc: 0.8081\n",
            "Epoch 294/300\n",
            "4620/4620 [==============================] - 1s 196us/step - loss: 0.6064 - acc: 0.8134 - val_loss: 0.6219 - val_acc: 0.8081\n",
            "Epoch 295/300\n",
            "4620/4620 [==============================] - 1s 195us/step - loss: 0.6048 - acc: 0.8141 - val_loss: 0.6208 - val_acc: 0.8106\n",
            "Epoch 296/300\n",
            "4620/4620 [==============================] - 1s 196us/step - loss: 0.6032 - acc: 0.8169 - val_loss: 0.6186 - val_acc: 0.8096\n",
            "Epoch 297/300\n",
            " 992/4620 [=====>........................] - ETA: 0s - loss: 0.5858 - acc: 0.8115"
          ],
          "name": "stdout"
        },
        {
          "output_type": "stream",
          "text": [
            "4620/4620 [==============================] - 1s 203us/step - loss: 0.6017 - acc: 0.8141 - val_loss: 0.6177 - val_acc: 0.8061\n",
            "Epoch 298/300\n",
            "4620/4620 [==============================] - 1s 196us/step - loss: 0.6000 - acc: 0.8158 - val_loss: 0.6154 - val_acc: 0.8091\n",
            "Epoch 299/300\n",
            "4620/4620 [==============================] - 1s 199us/step - loss: 0.5988 - acc: 0.8167 - val_loss: 0.6148 - val_acc: 0.8086\n",
            "Epoch 300/300\n",
            "4620/4620 [==============================] - 1s 198us/step - loss: 0.5969 - acc: 0.8162 - val_loss: 0.6138 - val_acc: 0.8086\n"
          ],
          "name": "stdout"
        }
      ]
    },
    {
      "metadata": {
        "id": "uQAbEwFIMNVy",
        "colab_type": "code",
        "colab": {
          "autoexec": {
            "startup": false,
            "wait_interval": 0
          },
          "base_uri": "https://localhost:8080/",
          "height": 34
        },
        "outputId": "87ed2abe-2cc6-48e0-d7ba-1bdc226a6bde",
        "executionInfo": {
          "status": "ok",
          "timestamp": 1525440529691,
          "user_tz": 180,
          "elapsed": 655,
          "user": {
            "displayName": "Fernanda Weiss",
            "photoUrl": "//lh4.googleusercontent.com/-3fKweTbnlHc/AAAAAAAAAAI/AAAAAAAAAPU/RktnQi93nyI/s50-c-k-no/photo.jpg",
            "userId": "100370788011080686465"
          }
        }
      },
      "cell_type": "code",
      "source": [
        "score = model.evaluate(X_test_scaled, Y_test)"
      ],
      "execution_count": 23,
      "outputs": [
        {
          "output_type": "stream",
          "text": [
            "1980/1980 [==============================] - 0s 70us/step\n"
          ],
          "name": "stdout"
        }
      ]
    },
    {
      "metadata": {
        "id": "RGMaeGHpMV-j",
        "colab_type": "code",
        "colab": {
          "autoexec": {
            "startup": false,
            "wait_interval": 0
          },
          "base_uri": "https://localhost:8080/",
          "height": 51
        },
        "outputId": "8e955a18-c7fb-403e-8927-7f10bf2d7cd2",
        "executionInfo": {
          "status": "ok",
          "timestamp": 1525440535017,
          "user_tz": 180,
          "elapsed": 1677,
          "user": {
            "displayName": "Fernanda Weiss",
            "photoUrl": "//lh4.googleusercontent.com/-3fKweTbnlHc/AAAAAAAAAAI/AAAAAAAAAPU/RktnQi93nyI/s50-c-k-no/photo.jpg",
            "userId": "100370788011080686465"
          }
        }
      },
      "cell_type": "code",
      "source": [
        "print(\"Cross entropy loss:\", score[0])\n",
        "print(\"Accuracy: \", score[1])"
      ],
      "execution_count": 24,
      "outputs": [
        {
          "output_type": "stream",
          "text": [
            "Cross entropy loss: 0.6137782636916999\n",
            "Accuracy:  0.8085858589470989\n"
          ],
          "name": "stdout"
        }
      ]
    },
    {
      "metadata": {
        "id": "TDu1yGkaY9EN",
        "colab_type": "text"
      },
      "cell_type": "markdown",
      "source": [
        "Se ve como se logra un accuracy del $81\\%$, lo cual supera al $75\\%$ que se tenía como objetivo."
      ]
    },
    {
      "metadata": {
        "id": "z2awAGDdKL8H",
        "colab_type": "code",
        "colab": {
          "autoexec": {
            "startup": false,
            "wait_interval": 0
          }
        }
      },
      "cell_type": "code",
      "source": [
        "def plot(hist):\n",
        "  loss = hist['loss']\n",
        "  val_loss = hist['val_loss']\n",
        "  epochs = range(1, len(loss) + 1)\n",
        "  \n",
        "  fig = plt.figure(figsize=(16,5))\n",
        "  ax = fig.add_subplot(1, 2, 1)\n",
        "  ax.plot(epochs, loss, 'bo-', label = \"Training set\")\n",
        "  ax.plot(epochs, val_loss, 'go-', label = \"Test set\")\n",
        "  ax.set_title('Loss de CNN')\n",
        "  ax.set_xlabel('Epoch')\n",
        "  ax.set_ylabel('Loss')\n",
        "  #ax.set_ylim(0,2)\n",
        "  ax.legend(loc=\"upper right\", fancybox= True)\n",
        "\n",
        "  acc = hist['acc']\n",
        "  val_acc = hist['val_acc']\n",
        "  ax = fig.add_subplot(1, 2, 2)\n",
        "  ax.plot(epochs, np.subtract(1,acc), 'bo-', label = \"Training set\")\n",
        "  ax.plot(epochs, np.subtract(1,val_acc), 'go-', label = \"Test set\")\n",
        "  ax.set_title('Error de CNN')\n",
        "  ax.set_xlabel('Epoch')\n",
        "  ax.set_ylabel('Error')\n",
        "  #ax.set_ylim(0,.8)\n",
        "  ax.legend(loc=\"upper right\", fancybox= True)\n",
        "  plt.show()"
      ],
      "execution_count": 0,
      "outputs": []
    },
    {
      "metadata": {
        "id": "zdN4TxDQMf3P",
        "colab_type": "code",
        "colab": {
          "autoexec": {
            "startup": false,
            "wait_interval": 0
          },
          "base_uri": "https://localhost:8080/",
          "height": 349
        },
        "outputId": "b8c55ab0-6d18-4230-a7b4-3413b6d7d9a0",
        "executionInfo": {
          "status": "ok",
          "timestamp": 1525440547881,
          "user_tz": 180,
          "elapsed": 1105,
          "user": {
            "displayName": "Fernanda Weiss",
            "photoUrl": "//lh4.googleusercontent.com/-3fKweTbnlHc/AAAAAAAAAAI/AAAAAAAAAPU/RktnQi93nyI/s50-c-k-no/photo.jpg",
            "userId": "100370788011080686465"
          }
        }
      },
      "cell_type": "code",
      "source": [
        "plot(model_fit.history)"
      ],
      "execution_count": 27,
      "outputs": [
        {
          "output_type": "display_data",
          "data": {
            "image/png": "[encoded data removed]",
            "text/plain": [
              "<matplotlib.figure.Figure at 0x7f45bcf2d898>"
            ]
          },
          "metadata": {
            "tags": []
          }
        }
      ]
    },
    {
      "metadata": {
        "id": "iAKA9RC4ZBJK",
        "colab_type": "text"
      },
      "cell_type": "markdown",
      "source": [
        "Finalmente, se presentan el error y función de pérdida del entrenamiento y prueba por epoch, donde se ve que tienen un comportamiento muy similar, por lo que se podría pensar que las características que la red extrajo del conjunto de entrenamiento, son justamente las que se encuentran en el conjunto prueba."
      ]
    },
    {
      "metadata": {
        "id": "e0ESbqf7ZF8s",
        "colab_type": "text"
      },
      "cell_type": "markdown",
      "source": [
        "Ahora, probando con otro oprimizador como RMSprop, con la misma tasa de aprendizaje $0.001$ y un decay de $1e-3$"
      ]
    },
    {
      "metadata": {
        "id": "4nklEXTlWXiq",
        "colab_type": "code",
        "colab": {
          "autoexec": {
            "startup": false,
            "wait_interval": 0
          },
          "base_uri": "https://localhost:8080/",
          "height": 374
        },
        "outputId": "51a4acd8-3dec-48bd-c495-bbc6e3a914be",
        "executionInfo": {
          "status": "ok",
          "timestamp": 1525440695059,
          "user_tz": 180,
          "elapsed": 684,
          "user": {
            "displayName": "Fernanda Weiss",
            "photoUrl": "//lh4.googleusercontent.com/-3fKweTbnlHc/AAAAAAAAAAI/AAAAAAAAAPU/RktnQi93nyI/s50-c-k-no/photo.jpg",
            "userId": "100370788011080686465"
          }
        }
      },
      "cell_type": "code",
      "source": [
        "model2 = Sequential()\n",
        "model2.add(Dense(200, input_dim=X_train_scaled.shape[1], kernel_initializer='uniform'))\n",
        "model2.add(Activation('relu'))\n",
        "model2.add(Dense(400, kernel_initializer='uniform'))\n",
        "model2.add(Activation('relu'))\n",
        "model2.add(Dense(200))\n",
        "model2.add(Activation('relu'))\n",
        "model2.add(Dense(24, activation='softmax'))\n",
        "model2.summary()\n"
      ],
      "execution_count": 30,
      "outputs": [
        {
          "output_type": "stream",
          "text": [
            "_________________________________________________________________\n",
            "Layer (type)                 Output Shape              Param #   \n",
            "=================================================================\n",
            "dense_5 (Dense)              (None, 200)               1800      \n",
            "_________________________________________________________________\n",
            "activation_4 (Activation)    (None, 200)               0         \n",
            "_________________________________________________________________\n",
            "dense_6 (Dense)              (None, 400)               80400     \n",
            "_________________________________________________________________\n",
            "activation_5 (Activation)    (None, 400)               0         \n",
            "_________________________________________________________________\n",
            "dense_7 (Dense)              (None, 200)               80200     \n",
            "_________________________________________________________________\n",
            "activation_6 (Activation)    (None, 200)               0         \n",
            "_________________________________________________________________\n",
            "dense_8 (Dense)              (None, 24)                4824      \n",
            "=================================================================\n",
            "Total params: 167,224\n",
            "Trainable params: 167,224\n",
            "Non-trainable params: 0\n",
            "_________________________________________________________________\n"
          ],
          "name": "stdout"
        }
      ]
    },
    {
      "metadata": {
        "id": "AvlEnexLTaz4",
        "colab_type": "code",
        "colab": {
          "autoexec": {
            "startup": false,
            "wait_interval": 0
          }
        }
      },
      "cell_type": "code",
      "source": [
        "rms = rmsprop(lr=0.001, decay=1e-3)\n",
        "model2.compile(optimizer=rms,loss='categorical_crossentropy', metrics=['acc'])"
      ],
      "execution_count": 0,
      "outputs": []
    },
    {
      "metadata": {
        "id": "HEFKgR94WAeh",
        "colab_type": "code",
        "colab": {
          "autoexec": {
            "startup": false,
            "wait_interval": 0
          },
          "base_uri": "https://localhost:8080/",
          "height": 10254
        },
        "outputId": "e9e7a848-26a5-4d06-f348-af56b63ce9a2",
        "executionInfo": {
          "status": "ok",
          "timestamp": 1525441082378,
          "user_tz": 180,
          "elapsed": 324989,
          "user": {
            "displayName": "Fernanda Weiss",
            "photoUrl": "//lh4.googleusercontent.com/-3fKweTbnlHc/AAAAAAAAAAI/AAAAAAAAAPU/RktnQi93nyI/s50-c-k-no/photo.jpg",
            "userId": "100370788011080686465"
          }
        }
      },
      "cell_type": "code",
      "source": [
        "model_fit_rms = model2.fit(X_train_scaled, Y_train, epochs=300, verbose=1, validation_data=(X_test_scaled, Y_test), shuffle=True)"
      ],
      "execution_count": 36,
      "outputs": [
        {
          "output_type": "stream",
          "text": [
            "Train on 4620 samples, validate on 1980 samples\n",
            "Epoch 1/300\n",
            "4620/4620 [==============================] - 1s 256us/step - loss: 1.3305 - acc: 0.5874 - val_loss: 0.8018 - val_acc: 0.7207\n",
            "Epoch 2/300\n",
            "4620/4620 [==============================] - 1s 220us/step - loss: 0.6808 - acc: 0.7690 - val_loss: 0.6445 - val_acc: 0.7833\n",
            "Epoch 3/300\n",
            "4620/4620 [==============================] - 1s 236us/step - loss: 0.5270 - acc: 0.8262 - val_loss: 0.5099 - val_acc: 0.8359\n",
            "Epoch 4/300\n",
            "4620/4620 [==============================] - 1s 239us/step - loss: 0.4197 - acc: 0.8649 - val_loss: 0.4303 - val_acc: 0.8505\n",
            "Epoch 5/300\n",
            "4620/4620 [==============================] - 1s 238us/step - loss: 0.3654 - acc: 0.8818 - val_loss: 0.4670 - val_acc: 0.8328\n",
            "Epoch 6/300\n",
            "4620/4620 [==============================] - 1s 233us/step - loss: 0.3194 - acc: 0.8987 - val_loss: 0.3606 - val_acc: 0.8828\n",
            "Epoch 7/300\n",
            "4620/4620 [==============================] - 1s 232us/step - loss: 0.2835 - acc: 0.9121 - val_loss: 0.3297 - val_acc: 0.8889\n",
            "Epoch 8/300\n",
            "4620/4620 [==============================] - 1s 236us/step - loss: 0.2632 - acc: 0.9167 - val_loss: 0.3124 - val_acc: 0.8975\n",
            "Epoch 9/300\n",
            " 288/4620 [>.............................] - ETA: 0s - loss: 0.3018 - acc: 0.9097"
          ],
          "name": "stdout"
        },
        {
          "output_type": "stream",
          "text": [
            "4620/4620 [==============================] - 1s 237us/step - loss: 0.2434 - acc: 0.9245 - val_loss: 0.2817 - val_acc: 0.9035\n",
            "Epoch 10/300\n",
            "4620/4620 [==============================] - 1s 233us/step - loss: 0.2230 - acc: 0.9299 - val_loss: 0.2897 - val_acc: 0.9045\n",
            "Epoch 11/300\n",
            "4620/4620 [==============================] - 1s 236us/step - loss: 0.2111 - acc: 0.9331 - val_loss: 0.2468 - val_acc: 0.9197\n",
            "Epoch 12/300\n",
            "4620/4620 [==============================] - 1s 239us/step - loss: 0.1993 - acc: 0.9359 - val_loss: 0.2561 - val_acc: 0.9081\n",
            "Epoch 13/300\n",
            "4620/4620 [==============================] - 1s 233us/step - loss: 0.1871 - acc: 0.9398 - val_loss: 0.2195 - val_acc: 0.9268\n",
            "Epoch 14/300\n",
            "4620/4620 [==============================] - 1s 236us/step - loss: 0.1790 - acc: 0.9465 - val_loss: 0.2353 - val_acc: 0.9207\n",
            "Epoch 15/300\n",
            "4620/4620 [==============================] - 1s 232us/step - loss: 0.1701 - acc: 0.9468 - val_loss: 0.2244 - val_acc: 0.9263\n",
            "Epoch 16/300\n",
            "4620/4620 [==============================] - 1s 226us/step - loss: 0.1608 - acc: 0.9506 - val_loss: 0.2133 - val_acc: 0.9318\n",
            "Epoch 17/300\n",
            "2432/4620 [==============>...............] - ETA: 0s - loss: 0.1593 - acc: 0.9552"
          ],
          "name": "stdout"
        },
        {
          "output_type": "stream",
          "text": [
            "4620/4620 [==============================] - 1s 234us/step - loss: 0.1551 - acc: 0.9535 - val_loss: 0.2490 - val_acc: 0.9247\n",
            "Epoch 18/300\n",
            "4620/4620 [==============================] - 1s 231us/step - loss: 0.1484 - acc: 0.9561 - val_loss: 0.1982 - val_acc: 0.9343\n",
            "Epoch 19/300\n",
            "4620/4620 [==============================] - 1s 232us/step - loss: 0.1437 - acc: 0.9578 - val_loss: 0.1930 - val_acc: 0.9399\n",
            "Epoch 20/300\n",
            "4620/4620 [==============================] - 1s 230us/step - loss: 0.1367 - acc: 0.9602 - val_loss: 0.2072 - val_acc: 0.9343\n",
            "Epoch 21/300\n",
            "4620/4620 [==============================] - 1s 234us/step - loss: 0.1335 - acc: 0.9628 - val_loss: 0.1975 - val_acc: 0.9374\n",
            "Epoch 22/300\n",
            "4620/4620 [==============================] - 1s 227us/step - loss: 0.1293 - acc: 0.9636 - val_loss: 0.1788 - val_acc: 0.9429\n",
            "Epoch 23/300\n",
            "4620/4620 [==============================] - 1s 230us/step - loss: 0.1279 - acc: 0.9628 - val_loss: 0.1805 - val_acc: 0.9424\n",
            "Epoch 24/300\n",
            "4620/4620 [==============================] - 1s 234us/step - loss: 0.1241 - acc: 0.9645 - val_loss: 0.1914 - val_acc: 0.9364\n",
            "Epoch 25/300\n",
            "2784/4620 [=================>............] - ETA: 0s - loss: 0.1143 - acc: 0.9705"
          ],
          "name": "stdout"
        },
        {
          "output_type": "stream",
          "text": [
            "4620/4620 [==============================] - 1s 233us/step - loss: 0.1171 - acc: 0.9690 - val_loss: 0.1687 - val_acc: 0.9490\n",
            "Epoch 26/300\n",
            "4620/4620 [==============================] - 1s 235us/step - loss: 0.1169 - acc: 0.9665 - val_loss: 0.1683 - val_acc: 0.9439\n",
            "Epoch 27/300\n",
            "4620/4620 [==============================] - 1s 235us/step - loss: 0.1144 - acc: 0.9690 - val_loss: 0.1650 - val_acc: 0.9455\n",
            "Epoch 28/300\n",
            "4620/4620 [==============================] - 1s 235us/step - loss: 0.1117 - acc: 0.9706 - val_loss: 0.1683 - val_acc: 0.9465\n",
            "Epoch 29/300\n",
            "4620/4620 [==============================] - 1s 237us/step - loss: 0.1091 - acc: 0.9710 - val_loss: 0.1653 - val_acc: 0.9449\n",
            "Epoch 30/300\n",
            "4620/4620 [==============================] - 1s 233us/step - loss: 0.1062 - acc: 0.9721 - val_loss: 0.1581 - val_acc: 0.9500\n",
            "Epoch 31/300\n",
            "4620/4620 [==============================] - 1s 229us/step - loss: 0.1017 - acc: 0.9729 - val_loss: 0.1809 - val_acc: 0.9409\n",
            "Epoch 32/300\n",
            "4620/4620 [==============================] - 1s 234us/step - loss: 0.1025 - acc: 0.9736 - val_loss: 0.1704 - val_acc: 0.9470\n",
            "Epoch 33/300\n",
            "2144/4620 [============>.................] - ETA: 0s - loss: 0.0941 - acc: 0.9743"
          ],
          "name": "stdout"
        },
        {
          "output_type": "stream",
          "text": [
            "4620/4620 [==============================] - 1s 227us/step - loss: 0.1005 - acc: 0.9745 - val_loss: 0.1662 - val_acc: 0.9495\n",
            "Epoch 34/300\n",
            "4620/4620 [==============================] - 1s 235us/step - loss: 0.0963 - acc: 0.9766 - val_loss: 0.1642 - val_acc: 0.9460\n",
            "Epoch 35/300\n",
            "4620/4620 [==============================] - 1s 234us/step - loss: 0.0954 - acc: 0.9784 - val_loss: 0.1546 - val_acc: 0.9520\n",
            "Epoch 36/300\n",
            "4620/4620 [==============================] - 1s 229us/step - loss: 0.0939 - acc: 0.9764 - val_loss: 0.1507 - val_acc: 0.9540\n",
            "Epoch 37/300\n",
            "4620/4620 [==============================] - 1s 230us/step - loss: 0.0937 - acc: 0.9781 - val_loss: 0.1511 - val_acc: 0.9505\n",
            "Epoch 38/300\n",
            "4620/4620 [==============================] - 1s 231us/step - loss: 0.0919 - acc: 0.9777 - val_loss: 0.1517 - val_acc: 0.9480\n",
            "Epoch 39/300\n",
            "4620/4620 [==============================] - 1s 233us/step - loss: 0.0889 - acc: 0.9799 - val_loss: 0.1518 - val_acc: 0.9515\n",
            "Epoch 40/300\n",
            "4620/4620 [==============================] - 1s 225us/step - loss: 0.0891 - acc: 0.9784 - val_loss: 0.1487 - val_acc: 0.9515\n",
            "Epoch 41/300\n",
            "2624/4620 [================>.............] - ETA: 0s - loss: 0.0811 - acc: 0.9806"
          ],
          "name": "stdout"
        },
        {
          "output_type": "stream",
          "text": [
            "4620/4620 [==============================] - 1s 228us/step - loss: 0.0865 - acc: 0.9794 - val_loss: 0.1539 - val_acc: 0.9475\n",
            "Epoch 42/300\n",
            "4620/4620 [==============================] - 1s 236us/step - loss: 0.0861 - acc: 0.9812 - val_loss: 0.1525 - val_acc: 0.9500\n",
            "Epoch 43/300\n",
            "4620/4620 [==============================] - 1s 226us/step - loss: 0.0849 - acc: 0.9816 - val_loss: 0.1512 - val_acc: 0.9530\n",
            "Epoch 44/300\n",
            "4620/4620 [==============================] - 1s 232us/step - loss: 0.0829 - acc: 0.9825 - val_loss: 0.1530 - val_acc: 0.9490\n",
            "Epoch 45/300\n",
            "4620/4620 [==============================] - 1s 230us/step - loss: 0.0829 - acc: 0.9818 - val_loss: 0.1457 - val_acc: 0.9510\n",
            "Epoch 46/300\n",
            "4620/4620 [==============================] - 1s 233us/step - loss: 0.0821 - acc: 0.9818 - val_loss: 0.1493 - val_acc: 0.9515\n",
            "Epoch 47/300\n",
            "4620/4620 [==============================] - 1s 230us/step - loss: 0.0808 - acc: 0.9818 - val_loss: 0.1429 - val_acc: 0.9571\n",
            "Epoch 48/300\n",
            "4620/4620 [==============================] - 1s 233us/step - loss: 0.0804 - acc: 0.9829 - val_loss: 0.1556 - val_acc: 0.9470\n",
            "Epoch 49/300\n",
            "2688/4620 [================>.............] - ETA: 0s - loss: 0.0752 - acc: 0.9814"
          ],
          "name": "stdout"
        },
        {
          "output_type": "stream",
          "text": [
            "4620/4620 [==============================] - 1s 228us/step - loss: 0.0785 - acc: 0.9827 - val_loss: 0.1564 - val_acc: 0.9465\n",
            "Epoch 50/300\n",
            "4620/4620 [==============================] - 1s 228us/step - loss: 0.0781 - acc: 0.9810 - val_loss: 0.1446 - val_acc: 0.9515\n",
            "Epoch 51/300\n",
            "4620/4620 [==============================] - 1s 230us/step - loss: 0.0756 - acc: 0.9838 - val_loss: 0.1468 - val_acc: 0.9540\n",
            "Epoch 52/300\n",
            "4620/4620 [==============================] - 1s 227us/step - loss: 0.0771 - acc: 0.9833 - val_loss: 0.1366 - val_acc: 0.9571\n",
            "Epoch 53/300\n",
            "4620/4620 [==============================] - 1s 233us/step - loss: 0.0742 - acc: 0.9840 - val_loss: 0.1397 - val_acc: 0.9556\n",
            "Epoch 54/300\n",
            "4620/4620 [==============================] - 1s 230us/step - loss: 0.0738 - acc: 0.9831 - val_loss: 0.1473 - val_acc: 0.9545\n",
            "Epoch 55/300\n",
            "4620/4620 [==============================] - 1s 227us/step - loss: 0.0738 - acc: 0.9829 - val_loss: 0.1382 - val_acc: 0.9525\n",
            "Epoch 56/300\n",
            "4620/4620 [==============================] - 1s 232us/step - loss: 0.0733 - acc: 0.9833 - val_loss: 0.1426 - val_acc: 0.9540\n",
            "Epoch 57/300\n",
            "2656/4620 [================>.............] - ETA: 0s - loss: 0.0761 - acc: 0.9834"
          ],
          "name": "stdout"
        },
        {
          "output_type": "stream",
          "text": [
            "4620/4620 [==============================] - 1s 233us/step - loss: 0.0727 - acc: 0.9825 - val_loss: 0.1426 - val_acc: 0.9551\n",
            "Epoch 58/300\n",
            "4620/4620 [==============================] - 1s 239us/step - loss: 0.0720 - acc: 0.9855 - val_loss: 0.1482 - val_acc: 0.9495\n",
            "Epoch 59/300\n",
            "4620/4620 [==============================] - 1s 222us/step - loss: 0.0713 - acc: 0.9835 - val_loss: 0.1387 - val_acc: 0.9561\n",
            "Epoch 60/300\n",
            "4620/4620 [==============================] - 1s 236us/step - loss: 0.0701 - acc: 0.9844 - val_loss: 0.1473 - val_acc: 0.9525\n",
            "Epoch 61/300\n",
            "4620/4620 [==============================] - 1s 235us/step - loss: 0.0702 - acc: 0.9864 - val_loss: 0.1403 - val_acc: 0.9581\n",
            "Epoch 62/300\n",
            "4620/4620 [==============================] - 1s 232us/step - loss: 0.0694 - acc: 0.9861 - val_loss: 0.1458 - val_acc: 0.9520\n",
            "Epoch 63/300\n",
            "4620/4620 [==============================] - 1s 231us/step - loss: 0.0693 - acc: 0.9866 - val_loss: 0.1410 - val_acc: 0.9566\n",
            "Epoch 64/300\n",
            "4620/4620 [==============================] - 1s 227us/step - loss: 0.0676 - acc: 0.9848 - val_loss: 0.1363 - val_acc: 0.9576\n",
            "Epoch 65/300\n",
            "2368/4620 [==============>...............] - ETA: 0s - loss: 0.0401 - acc: 0.9903"
          ],
          "name": "stdout"
        },
        {
          "output_type": "stream",
          "text": [
            "4620/4620 [==============================] - 1s 228us/step - loss: 0.0672 - acc: 0.9866 - val_loss: 0.1403 - val_acc: 0.9551\n",
            "Epoch 66/300\n",
            "4620/4620 [==============================] - 1s 231us/step - loss: 0.0674 - acc: 0.9870 - val_loss: 0.1356 - val_acc: 0.9540\n",
            "Epoch 67/300\n",
            "4620/4620 [==============================] - 1s 230us/step - loss: 0.0660 - acc: 0.9874 - val_loss: 0.1428 - val_acc: 0.9545\n",
            "Epoch 68/300\n",
            "4620/4620 [==============================] - 1s 230us/step - loss: 0.0651 - acc: 0.9870 - val_loss: 0.1396 - val_acc: 0.9576\n",
            "Epoch 69/300\n",
            "4620/4620 [==============================] - 1s 233us/step - loss: 0.0653 - acc: 0.9868 - val_loss: 0.1306 - val_acc: 0.9561\n",
            "Epoch 70/300\n",
            "4620/4620 [==============================] - 1s 229us/step - loss: 0.0642 - acc: 0.9866 - val_loss: 0.1411 - val_acc: 0.9520\n",
            "Epoch 71/300\n",
            "4620/4620 [==============================] - 1s 227us/step - loss: 0.0640 - acc: 0.9874 - val_loss: 0.1348 - val_acc: 0.9561\n",
            "Epoch 72/300\n",
            "4620/4620 [==============================] - 1s 229us/step - loss: 0.0627 - acc: 0.9879 - val_loss: 0.1388 - val_acc: 0.9561\n",
            "Epoch 73/300\n",
            "2688/4620 [================>.............] - ETA: 0s - loss: 0.0702 - acc: 0.9859"
          ],
          "name": "stdout"
        },
        {
          "output_type": "stream",
          "text": [
            "4620/4620 [==============================] - 1s 227us/step - loss: 0.0638 - acc: 0.9870 - val_loss: 0.1346 - val_acc: 0.9601\n",
            "Epoch 74/300\n",
            "4620/4620 [==============================] - 1s 237us/step - loss: 0.0631 - acc: 0.9879 - val_loss: 0.1292 - val_acc: 0.9606\n",
            "Epoch 75/300\n",
            "4620/4620 [==============================] - 1s 232us/step - loss: 0.0628 - acc: 0.9872 - val_loss: 0.1353 - val_acc: 0.9556\n",
            "Epoch 76/300\n",
            "4620/4620 [==============================] - 1s 238us/step - loss: 0.0620 - acc: 0.9870 - val_loss: 0.1462 - val_acc: 0.9525\n",
            "Epoch 77/300\n",
            "4620/4620 [==============================] - 1s 237us/step - loss: 0.0612 - acc: 0.9883 - val_loss: 0.1377 - val_acc: 0.9540\n",
            "Epoch 78/300\n",
            "4620/4620 [==============================] - 1s 233us/step - loss: 0.0618 - acc: 0.9861 - val_loss: 0.1320 - val_acc: 0.9601\n",
            "Epoch 79/300\n",
            "4620/4620 [==============================] - 1s 231us/step - loss: 0.0607 - acc: 0.9883 - val_loss: 0.1358 - val_acc: 0.9530\n",
            "Epoch 80/300\n",
            "4620/4620 [==============================] - 1s 235us/step - loss: 0.0602 - acc: 0.9881 - val_loss: 0.1341 - val_acc: 0.9586\n",
            "Epoch 81/300\n",
            "2048/4620 [============>.................] - ETA: 0s - loss: 0.0594 - acc: 0.9888"
          ],
          "name": "stdout"
        },
        {
          "output_type": "stream",
          "text": [
            "4620/4620 [==============================] - 1s 234us/step - loss: 0.0599 - acc: 0.9885 - val_loss: 0.1425 - val_acc: 0.9545\n",
            "Epoch 82/300\n",
            "4620/4620 [==============================] - 1s 235us/step - loss: 0.0597 - acc: 0.9881 - val_loss: 0.1351 - val_acc: 0.9591\n",
            "Epoch 83/300\n",
            "4620/4620 [==============================] - 1s 234us/step - loss: 0.0597 - acc: 0.9881 - val_loss: 0.1422 - val_acc: 0.9540\n",
            "Epoch 84/300\n",
            "4620/4620 [==============================] - 1s 230us/step - loss: 0.0599 - acc: 0.9881 - val_loss: 0.1385 - val_acc: 0.9556\n",
            "Epoch 85/300\n",
            "4620/4620 [==============================] - 1s 233us/step - loss: 0.0577 - acc: 0.9890 - val_loss: 0.1417 - val_acc: 0.9540\n",
            "Epoch 86/300\n",
            "4620/4620 [==============================] - 1s 232us/step - loss: 0.0584 - acc: 0.9892 - val_loss: 0.1393 - val_acc: 0.9535\n",
            "Epoch 87/300\n",
            "4620/4620 [==============================] - 1s 234us/step - loss: 0.0589 - acc: 0.9887 - val_loss: 0.1414 - val_acc: 0.9540\n",
            "Epoch 88/300\n",
            "4620/4620 [==============================] - 1s 234us/step - loss: 0.0574 - acc: 0.9881 - val_loss: 0.1348 - val_acc: 0.9591\n",
            "Epoch 89/300\n",
            "2464/4620 [===============>..............] - ETA: 0s - loss: 0.0607 - acc: 0.9846"
          ],
          "name": "stdout"
        },
        {
          "output_type": "stream",
          "text": [
            "4620/4620 [==============================] - 1s 225us/step - loss: 0.0577 - acc: 0.9874 - val_loss: 0.1348 - val_acc: 0.9556\n",
            "Epoch 90/300\n",
            "4620/4620 [==============================] - 1s 231us/step - loss: 0.0574 - acc: 0.9890 - val_loss: 0.1314 - val_acc: 0.9581\n",
            "Epoch 91/300\n",
            "4620/4620 [==============================] - 1s 235us/step - loss: 0.0570 - acc: 0.9887 - val_loss: 0.1469 - val_acc: 0.9535\n",
            "Epoch 92/300\n",
            "4620/4620 [==============================] - 1s 236us/step - loss: 0.0570 - acc: 0.9879 - val_loss: 0.1309 - val_acc: 0.9591\n",
            "Epoch 93/300\n",
            "4620/4620 [==============================] - 1s 232us/step - loss: 0.0567 - acc: 0.9887 - val_loss: 0.1366 - val_acc: 0.9586\n",
            "Epoch 94/300\n",
            "4620/4620 [==============================] - 1s 232us/step - loss: 0.0563 - acc: 0.9887 - val_loss: 0.1293 - val_acc: 0.9586\n",
            "Epoch 95/300\n",
            "4620/4620 [==============================] - 1s 238us/step - loss: 0.0556 - acc: 0.9903 - val_loss: 0.1320 - val_acc: 0.9591\n",
            "Epoch 96/300\n",
            "4620/4620 [==============================] - 1s 229us/step - loss: 0.0551 - acc: 0.9898 - val_loss: 0.1357 - val_acc: 0.9571\n",
            "Epoch 97/300\n",
            "2048/4620 [============>.................] - ETA: 0s - loss: 0.0464 - acc: 0.9907"
          ],
          "name": "stdout"
        },
        {
          "output_type": "stream",
          "text": [
            "4620/4620 [==============================] - 1s 244us/step - loss: 0.0554 - acc: 0.9898 - val_loss: 0.1383 - val_acc: 0.9556\n",
            "Epoch 98/300\n",
            "4620/4620 [==============================] - 1s 236us/step - loss: 0.0552 - acc: 0.9903 - val_loss: 0.1346 - val_acc: 0.9596\n",
            "Epoch 99/300\n",
            "4620/4620 [==============================] - 1s 237us/step - loss: 0.0546 - acc: 0.9905 - val_loss: 0.1331 - val_acc: 0.9596\n",
            "Epoch 100/300\n",
            "4620/4620 [==============================] - 1s 234us/step - loss: 0.0545 - acc: 0.9894 - val_loss: 0.1320 - val_acc: 0.9606\n",
            "Epoch 101/300\n",
            "4620/4620 [==============================] - 1s 240us/step - loss: 0.0545 - acc: 0.9903 - val_loss: 0.1316 - val_acc: 0.9591\n",
            "Epoch 102/300\n",
            "4620/4620 [==============================] - 1s 236us/step - loss: 0.0539 - acc: 0.9903 - val_loss: 0.1387 - val_acc: 0.9571\n",
            "Epoch 103/300\n",
            "4620/4620 [==============================] - 1s 234us/step - loss: 0.0536 - acc: 0.9894 - val_loss: 0.1370 - val_acc: 0.9530\n",
            "Epoch 104/300\n",
            "4620/4620 [==============================] - 1s 239us/step - loss: 0.0534 - acc: 0.9900 - val_loss: 0.1353 - val_acc: 0.9591\n",
            "Epoch 105/300\n",
            "1792/4620 [==========>...................] - ETA: 0s - loss: 0.0487 - acc: 0.9900"
          ],
          "name": "stdout"
        },
        {
          "output_type": "stream",
          "text": [
            "4620/4620 [==============================] - 1s 240us/step - loss: 0.0529 - acc: 0.9894 - val_loss: 0.1383 - val_acc: 0.9566\n",
            "Epoch 106/300\n",
            "4620/4620 [==============================] - 1s 237us/step - loss: 0.0526 - acc: 0.9903 - val_loss: 0.1334 - val_acc: 0.9601\n",
            "Epoch 107/300\n",
            "4620/4620 [==============================] - 1s 236us/step - loss: 0.0532 - acc: 0.9900 - val_loss: 0.1299 - val_acc: 0.9616\n",
            "Epoch 108/300\n",
            "4620/4620 [==============================] - 1s 234us/step - loss: 0.0528 - acc: 0.9905 - val_loss: 0.1276 - val_acc: 0.9606\n",
            "Epoch 109/300\n",
            "4620/4620 [==============================] - 1s 232us/step - loss: 0.0526 - acc: 0.9909 - val_loss: 0.1359 - val_acc: 0.9586\n",
            "Epoch 110/300\n",
            "4620/4620 [==============================] - 1s 232us/step - loss: 0.0519 - acc: 0.9911 - val_loss: 0.1363 - val_acc: 0.9566\n",
            "Epoch 111/300\n",
            "4620/4620 [==============================] - 1s 233us/step - loss: 0.0523 - acc: 0.9894 - val_loss: 0.1312 - val_acc: 0.9586\n",
            "Epoch 112/300\n",
            "4620/4620 [==============================] - 1s 236us/step - loss: 0.0511 - acc: 0.9909 - val_loss: 0.1288 - val_acc: 0.9606\n",
            "Epoch 113/300\n",
            "2368/4620 [==============>...............] - ETA: 0s - loss: 0.0479 - acc: 0.9928"
          ],
          "name": "stdout"
        },
        {
          "output_type": "stream",
          "text": [
            "4620/4620 [==============================] - 1s 236us/step - loss: 0.0518 - acc: 0.9918 - val_loss: 0.1364 - val_acc: 0.9586\n",
            "Epoch 114/300\n",
            "4620/4620 [==============================] - 1s 236us/step - loss: 0.0514 - acc: 0.9905 - val_loss: 0.1276 - val_acc: 0.9611\n",
            "Epoch 115/300\n",
            "4620/4620 [==============================] - 1s 235us/step - loss: 0.0510 - acc: 0.9909 - val_loss: 0.1301 - val_acc: 0.9611\n",
            "Epoch 116/300\n",
            "4620/4620 [==============================] - 1s 228us/step - loss: 0.0502 - acc: 0.9903 - val_loss: 0.1265 - val_acc: 0.9606\n",
            "Epoch 117/300\n",
            "4620/4620 [==============================] - 1s 231us/step - loss: 0.0511 - acc: 0.9916 - val_loss: 0.1317 - val_acc: 0.9591\n",
            "Epoch 118/300\n",
            "4620/4620 [==============================] - 1s 232us/step - loss: 0.0505 - acc: 0.9903 - val_loss: 0.1315 - val_acc: 0.9591\n",
            "Epoch 119/300\n",
            "4620/4620 [==============================] - 1s 236us/step - loss: 0.0506 - acc: 0.9913 - val_loss: 0.1324 - val_acc: 0.9606\n",
            "Epoch 120/300\n",
            "4620/4620 [==============================] - 1s 231us/step - loss: 0.0498 - acc: 0.9916 - val_loss: 0.1325 - val_acc: 0.9591\n",
            "Epoch 121/300\n",
            "2336/4620 [==============>...............] - ETA: 0s - loss: 0.0687 - acc: 0.9902"
          ],
          "name": "stdout"
        },
        {
          "output_type": "stream",
          "text": [
            "4620/4620 [==============================] - 1s 237us/step - loss: 0.0504 - acc: 0.9911 - val_loss: 0.1347 - val_acc: 0.9586\n",
            "Epoch 122/300\n",
            "4620/4620 [==============================] - 1s 241us/step - loss: 0.0499 - acc: 0.9922 - val_loss: 0.1306 - val_acc: 0.9591\n",
            "Epoch 123/300\n",
            "4620/4620 [==============================] - 1s 239us/step - loss: 0.0501 - acc: 0.9909 - val_loss: 0.1301 - val_acc: 0.9596\n",
            "Epoch 124/300\n",
            "4620/4620 [==============================] - 1s 233us/step - loss: 0.0497 - acc: 0.9916 - val_loss: 0.1282 - val_acc: 0.9616\n",
            "Epoch 125/300\n",
            "4620/4620 [==============================] - 1s 230us/step - loss: 0.0491 - acc: 0.9909 - val_loss: 0.1292 - val_acc: 0.9616\n",
            "Epoch 126/300\n",
            "4620/4620 [==============================] - 1s 235us/step - loss: 0.0493 - acc: 0.9918 - val_loss: 0.1336 - val_acc: 0.9581\n",
            "Epoch 127/300\n",
            "4620/4620 [==============================] - 1s 238us/step - loss: 0.0490 - acc: 0.9911 - val_loss: 0.1383 - val_acc: 0.9566\n",
            "Epoch 128/300\n",
            "4620/4620 [==============================] - 1s 234us/step - loss: 0.0492 - acc: 0.9926 - val_loss: 0.1313 - val_acc: 0.9591\n",
            "Epoch 129/300\n",
            "1600/4620 [=========>....................] - ETA: 0s - loss: 0.0431 - acc: 0.9912"
          ],
          "name": "stdout"
        },
        {
          "output_type": "stream",
          "text": [
            "4620/4620 [==============================] - 1s 237us/step - loss: 0.0488 - acc: 0.9918 - val_loss: 0.1266 - val_acc: 0.9631\n",
            "Epoch 130/300\n",
            "4620/4620 [==============================] - 1s 231us/step - loss: 0.0485 - acc: 0.9922 - val_loss: 0.1330 - val_acc: 0.9616\n",
            "Epoch 131/300\n",
            "4620/4620 [==============================] - 1s 239us/step - loss: 0.0489 - acc: 0.9920 - val_loss: 0.1307 - val_acc: 0.9611\n",
            "Epoch 132/300\n",
            "4620/4620 [==============================] - 1s 238us/step - loss: 0.0486 - acc: 0.9918 - val_loss: 0.1280 - val_acc: 0.9616\n",
            "Epoch 133/300\n",
            "4620/4620 [==============================] - 1s 231us/step - loss: 0.0482 - acc: 0.9911 - val_loss: 0.1291 - val_acc: 0.9616\n",
            "Epoch 134/300\n",
            "4620/4620 [==============================] - 1s 233us/step - loss: 0.0481 - acc: 0.9918 - val_loss: 0.1316 - val_acc: 0.9601\n",
            "Epoch 135/300\n",
            "4620/4620 [==============================] - 1s 229us/step - loss: 0.0486 - acc: 0.9918 - val_loss: 0.1321 - val_acc: 0.9586\n",
            "Epoch 136/300\n",
            "4620/4620 [==============================] - 1s 234us/step - loss: 0.0481 - acc: 0.9920 - val_loss: 0.1376 - val_acc: 0.9586\n",
            "Epoch 137/300\n",
            "2304/4620 [=============>................] - ETA: 0s - loss: 0.0460 - acc: 0.9926"
          ],
          "name": "stdout"
        },
        {
          "output_type": "stream",
          "text": [
            "4620/4620 [==============================] - 1s 233us/step - loss: 0.0478 - acc: 0.9929 - val_loss: 0.1324 - val_acc: 0.9596\n",
            "Epoch 138/300\n",
            "4620/4620 [==============================] - 1s 232us/step - loss: 0.0477 - acc: 0.9913 - val_loss: 0.1319 - val_acc: 0.9591\n",
            "Epoch 139/300\n",
            "4620/4620 [==============================] - 1s 232us/step - loss: 0.0467 - acc: 0.9935 - val_loss: 0.1342 - val_acc: 0.9601\n",
            "Epoch 140/300\n",
            "4620/4620 [==============================] - 1s 235us/step - loss: 0.0475 - acc: 0.9918 - val_loss: 0.1302 - val_acc: 0.9596\n",
            "Epoch 141/300\n",
            "4620/4620 [==============================] - 1s 234us/step - loss: 0.0474 - acc: 0.9920 - val_loss: 0.1361 - val_acc: 0.9606\n",
            "Epoch 142/300\n",
            "4620/4620 [==============================] - 1s 230us/step - loss: 0.0473 - acc: 0.9935 - val_loss: 0.1331 - val_acc: 0.9596\n",
            "Epoch 143/300\n",
            "4620/4620 [==============================] - 1s 236us/step - loss: 0.0468 - acc: 0.9926 - val_loss: 0.1338 - val_acc: 0.9586\n",
            "Epoch 144/300\n",
            "4620/4620 [==============================] - 1s 231us/step - loss: 0.0471 - acc: 0.9920 - val_loss: 0.1337 - val_acc: 0.9596\n",
            "Epoch 145/300\n",
            "2336/4620 [==============>...............] - ETA: 0s - loss: 0.0567 - acc: 0.9914"
          ],
          "name": "stdout"
        },
        {
          "output_type": "stream",
          "text": [
            "4620/4620 [==============================] - 1s 231us/step - loss: 0.0463 - acc: 0.9918 - val_loss: 0.1288 - val_acc: 0.9586\n",
            "Epoch 146/300\n",
            "4620/4620 [==============================] - 1s 232us/step - loss: 0.0468 - acc: 0.9922 - val_loss: 0.1334 - val_acc: 0.9596\n",
            "Epoch 147/300\n",
            "4620/4620 [==============================] - 1s 232us/step - loss: 0.0464 - acc: 0.9926 - val_loss: 0.1342 - val_acc: 0.9601\n",
            "Epoch 148/300\n",
            "4620/4620 [==============================] - 1s 226us/step - loss: 0.0464 - acc: 0.9920 - val_loss: 0.1348 - val_acc: 0.9591\n",
            "Epoch 149/300\n",
            "4620/4620 [==============================] - 1s 234us/step - loss: 0.0462 - acc: 0.9920 - val_loss: 0.1323 - val_acc: 0.9596\n",
            "Epoch 150/300\n",
            "4620/4620 [==============================] - 1s 234us/step - loss: 0.0462 - acc: 0.9922 - val_loss: 0.1319 - val_acc: 0.9626\n",
            "Epoch 151/300\n",
            "4620/4620 [==============================] - 1s 232us/step - loss: 0.0454 - acc: 0.9924 - val_loss: 0.1357 - val_acc: 0.9601\n",
            "Epoch 152/300\n",
            "4620/4620 [==============================] - 1s 229us/step - loss: 0.0455 - acc: 0.9926 - val_loss: 0.1308 - val_acc: 0.9601\n",
            "Epoch 153/300\n",
            "1824/4620 [==========>...................] - ETA: 0s - loss: 0.0543 - acc: 0.9923"
          ],
          "name": "stdout"
        },
        {
          "output_type": "stream",
          "text": [
            "4620/4620 [==============================] - 1s 233us/step - loss: 0.0461 - acc: 0.9926 - val_loss: 0.1305 - val_acc: 0.9611\n",
            "Epoch 154/300\n",
            "4620/4620 [==============================] - 1s 236us/step - loss: 0.0455 - acc: 0.9931 - val_loss: 0.1329 - val_acc: 0.9616\n",
            "Epoch 155/300\n",
            "4620/4620 [==============================] - 1s 235us/step - loss: 0.0457 - acc: 0.9922 - val_loss: 0.1337 - val_acc: 0.9596\n",
            "Epoch 156/300\n",
            "4620/4620 [==============================] - 1s 232us/step - loss: 0.0455 - acc: 0.9931 - val_loss: 0.1329 - val_acc: 0.9606\n",
            "Epoch 157/300\n",
            "4620/4620 [==============================] - 1s 236us/step - loss: 0.0453 - acc: 0.9933 - val_loss: 0.1346 - val_acc: 0.9586\n",
            "Epoch 158/300\n",
            "4620/4620 [==============================] - 1s 238us/step - loss: 0.0451 - acc: 0.9931 - val_loss: 0.1320 - val_acc: 0.9596\n",
            "Epoch 159/300\n",
            "4620/4620 [==============================] - 1s 238us/step - loss: 0.0447 - acc: 0.9935 - val_loss: 0.1350 - val_acc: 0.9601\n",
            "Epoch 160/300\n",
            "4620/4620 [==============================] - 1s 237us/step - loss: 0.0449 - acc: 0.9935 - val_loss: 0.1323 - val_acc: 0.9606\n",
            "Epoch 161/300\n",
            "1344/4620 [=======>......................] - ETA: 0s - loss: 0.0406 - acc: 0.9933"
          ],
          "name": "stdout"
        },
        {
          "output_type": "stream",
          "text": [
            "4620/4620 [==============================] - 1s 230us/step - loss: 0.0451 - acc: 0.9931 - val_loss: 0.1313 - val_acc: 0.9601\n",
            "Epoch 162/300\n",
            "4620/4620 [==============================] - 1s 233us/step - loss: 0.0449 - acc: 0.9926 - val_loss: 0.1290 - val_acc: 0.9611\n",
            "Epoch 163/300\n",
            "4620/4620 [==============================] - 1s 227us/step - loss: 0.0448 - acc: 0.9931 - val_loss: 0.1294 - val_acc: 0.9611\n",
            "Epoch 164/300\n",
            "4620/4620 [==============================] - 1s 228us/step - loss: 0.0447 - acc: 0.9929 - val_loss: 0.1294 - val_acc: 0.9591\n",
            "Epoch 165/300\n",
            "4620/4620 [==============================] - 1s 230us/step - loss: 0.0447 - acc: 0.9931 - val_loss: 0.1274 - val_acc: 0.9616\n",
            "Epoch 166/300\n",
            "4620/4620 [==============================] - 1s 236us/step - loss: 0.0442 - acc: 0.9931 - val_loss: 0.1308 - val_acc: 0.9596\n",
            "Epoch 167/300\n",
            "4620/4620 [==============================] - 1s 234us/step - loss: 0.0446 - acc: 0.9931 - val_loss: 0.1296 - val_acc: 0.9606\n",
            "Epoch 168/300\n",
            "4620/4620 [==============================] - 1s 231us/step - loss: 0.0445 - acc: 0.9933 - val_loss: 0.1332 - val_acc: 0.9601\n",
            "Epoch 169/300\n",
            "2208/4620 [=============>................] - ETA: 0s - loss: 0.0364 - acc: 0.9923"
          ],
          "name": "stdout"
        },
        {
          "output_type": "stream",
          "text": [
            "4620/4620 [==============================] - 1s 230us/step - loss: 0.0443 - acc: 0.9931 - val_loss: 0.1312 - val_acc: 0.9601\n",
            "Epoch 170/300\n",
            "4620/4620 [==============================] - 1s 238us/step - loss: 0.0443 - acc: 0.9929 - val_loss: 0.1336 - val_acc: 0.9591\n",
            "Epoch 171/300\n",
            "4620/4620 [==============================] - 1s 238us/step - loss: 0.0440 - acc: 0.9926 - val_loss: 0.1332 - val_acc: 0.9601\n",
            "Epoch 172/300\n",
            "4620/4620 [==============================] - 1s 240us/step - loss: 0.0435 - acc: 0.9926 - val_loss: 0.1309 - val_acc: 0.9601\n",
            "Epoch 173/300\n",
            "4620/4620 [==============================] - 1s 236us/step - loss: 0.0441 - acc: 0.9929 - val_loss: 0.1328 - val_acc: 0.9606\n",
            "Epoch 174/300\n",
            "4620/4620 [==============================] - 1s 241us/step - loss: 0.0437 - acc: 0.9937 - val_loss: 0.1345 - val_acc: 0.9601\n",
            "Epoch 175/300\n",
            "4620/4620 [==============================] - 1s 236us/step - loss: 0.0438 - acc: 0.9933 - val_loss: 0.1346 - val_acc: 0.9601\n",
            "Epoch 176/300\n",
            "4620/4620 [==============================] - 1s 240us/step - loss: 0.0436 - acc: 0.9939 - val_loss: 0.1368 - val_acc: 0.9576\n",
            "Epoch 177/300\n",
            "1312/4620 [=======>......................] - ETA: 0s - loss: 0.0587 - acc: 0.9909"
          ],
          "name": "stdout"
        },
        {
          "output_type": "stream",
          "text": [
            "4620/4620 [==============================] - 1s 237us/step - loss: 0.0437 - acc: 0.9929 - val_loss: 0.1297 - val_acc: 0.9631\n",
            "Epoch 178/300\n",
            "4620/4620 [==============================] - 1s 230us/step - loss: 0.0437 - acc: 0.9933 - val_loss: 0.1367 - val_acc: 0.9596\n",
            "Epoch 179/300\n",
            "4620/4620 [==============================] - 1s 231us/step - loss: 0.0432 - acc: 0.9933 - val_loss: 0.1352 - val_acc: 0.9581\n",
            "Epoch 180/300\n",
            "4620/4620 [==============================] - 1s 241us/step - loss: 0.0434 - acc: 0.9935 - val_loss: 0.1306 - val_acc: 0.9611\n",
            "Epoch 181/300\n",
            "4620/4620 [==============================] - 1s 235us/step - loss: 0.0429 - acc: 0.9935 - val_loss: 0.1315 - val_acc: 0.9616\n",
            "Epoch 182/300\n",
            "4620/4620 [==============================] - 1s 236us/step - loss: 0.0430 - acc: 0.9937 - val_loss: 0.1363 - val_acc: 0.9586\n",
            "Epoch 183/300\n",
            "4620/4620 [==============================] - 1s 232us/step - loss: 0.0431 - acc: 0.9935 - val_loss: 0.1311 - val_acc: 0.9611\n",
            "Epoch 184/300\n",
            "4620/4620 [==============================] - 1s 232us/step - loss: 0.0433 - acc: 0.9929 - val_loss: 0.1333 - val_acc: 0.9601\n",
            "Epoch 185/300\n",
            "2048/4620 [============>.................] - ETA: 0s - loss: 0.0408 - acc: 0.9937"
          ],
          "name": "stdout"
        },
        {
          "output_type": "stream",
          "text": [
            "4620/4620 [==============================] - 1s 238us/step - loss: 0.0429 - acc: 0.9933 - val_loss: 0.1298 - val_acc: 0.9616\n",
            "Epoch 186/300\n",
            "4620/4620 [==============================] - 1s 236us/step - loss: 0.0431 - acc: 0.9937 - val_loss: 0.1345 - val_acc: 0.9606\n",
            "Epoch 187/300\n",
            "4620/4620 [==============================] - 1s 237us/step - loss: 0.0427 - acc: 0.9939 - val_loss: 0.1340 - val_acc: 0.9596\n",
            "Epoch 188/300\n",
            "4620/4620 [==============================] - 1s 238us/step - loss: 0.0424 - acc: 0.9937 - val_loss: 0.1338 - val_acc: 0.9586\n",
            "Epoch 189/300\n",
            "4620/4620 [==============================] - 1s 235us/step - loss: 0.0426 - acc: 0.9933 - val_loss: 0.1309 - val_acc: 0.9611\n",
            "Epoch 190/300\n",
            "4620/4620 [==============================] - 1s 240us/step - loss: 0.0424 - acc: 0.9929 - val_loss: 0.1327 - val_acc: 0.9606\n",
            "Epoch 191/300\n",
            "4620/4620 [==============================] - 1s 236us/step - loss: 0.0427 - acc: 0.9933 - val_loss: 0.1339 - val_acc: 0.9596\n",
            "Epoch 192/300\n",
            "4620/4620 [==============================] - 1s 235us/step - loss: 0.0426 - acc: 0.9933 - val_loss: 0.1374 - val_acc: 0.9596\n",
            "Epoch 193/300\n",
            "1408/4620 [========>.....................] - ETA: 0s - loss: 0.0678 - acc: 0.9901"
          ],
          "name": "stdout"
        },
        {
          "output_type": "stream",
          "text": [
            "4620/4620 [==============================] - 1s 232us/step - loss: 0.0422 - acc: 0.9929 - val_loss: 0.1321 - val_acc: 0.9611\n",
            "Epoch 194/300\n",
            "4620/4620 [==============================] - 1s 235us/step - loss: 0.0421 - acc: 0.9933 - val_loss: 0.1322 - val_acc: 0.9591\n",
            "Epoch 195/300\n",
            "4620/4620 [==============================] - 1s 237us/step - loss: 0.0422 - acc: 0.9939 - val_loss: 0.1309 - val_acc: 0.9606\n",
            "Epoch 196/300\n",
            "4620/4620 [==============================] - 1s 232us/step - loss: 0.0421 - acc: 0.9942 - val_loss: 0.1335 - val_acc: 0.9596\n",
            "Epoch 197/300\n",
            "4620/4620 [==============================] - 1s 232us/step - loss: 0.0420 - acc: 0.9933 - val_loss: 0.1325 - val_acc: 0.9601\n",
            "Epoch 198/300\n",
            "4620/4620 [==============================] - 1s 235us/step - loss: 0.0422 - acc: 0.9935 - val_loss: 0.1334 - val_acc: 0.9601\n",
            "Epoch 199/300\n",
            "4620/4620 [==============================] - 1s 234us/step - loss: 0.0416 - acc: 0.9939 - val_loss: 0.1334 - val_acc: 0.9601\n",
            "Epoch 200/300\n",
            "4620/4620 [==============================] - 1s 238us/step - loss: 0.0419 - acc: 0.9933 - val_loss: 0.1329 - val_acc: 0.9606\n",
            "Epoch 201/300\n",
            "2016/4620 [============>.................] - ETA: 0s - loss: 0.0322 - acc: 0.9960"
          ],
          "name": "stdout"
        },
        {
          "output_type": "stream",
          "text": [
            "4620/4620 [==============================] - 1s 236us/step - loss: 0.0417 - acc: 0.9946 - val_loss: 0.1365 - val_acc: 0.9596\n",
            "Epoch 202/300\n",
            "4620/4620 [==============================] - 1s 233us/step - loss: 0.0415 - acc: 0.9939 - val_loss: 0.1364 - val_acc: 0.9596\n",
            "Epoch 203/300\n",
            "4620/4620 [==============================] - 1s 234us/step - loss: 0.0416 - acc: 0.9933 - val_loss: 0.1340 - val_acc: 0.9601\n",
            "Epoch 204/300\n",
            "4620/4620 [==============================] - 1s 237us/step - loss: 0.0413 - acc: 0.9942 - val_loss: 0.1369 - val_acc: 0.9601\n",
            "Epoch 205/300\n",
            "4620/4620 [==============================] - 1s 240us/step - loss: 0.0417 - acc: 0.9931 - val_loss: 0.1369 - val_acc: 0.9606\n",
            "Epoch 206/300\n",
            "4620/4620 [==============================] - 1s 235us/step - loss: 0.0413 - acc: 0.9942 - val_loss: 0.1378 - val_acc: 0.9601\n",
            "Epoch 207/300\n",
            "4620/4620 [==============================] - 1s 237us/step - loss: 0.0405 - acc: 0.9935 - val_loss: 0.1373 - val_acc: 0.9586\n",
            "Epoch 208/300\n",
            "4620/4620 [==============================] - 1s 233us/step - loss: 0.0412 - acc: 0.9935 - val_loss: 0.1378 - val_acc: 0.9601\n",
            "Epoch 209/300\n",
            "1728/4620 [==========>...................] - ETA: 0s - loss: 0.0499 - acc: 0.9919"
          ],
          "name": "stdout"
        },
        {
          "output_type": "stream",
          "text": [
            "4620/4620 [==============================] - 1s 241us/step - loss: 0.0412 - acc: 0.9942 - val_loss: 0.1337 - val_acc: 0.9621\n",
            "Epoch 210/300\n",
            "4620/4620 [==============================] - 1s 235us/step - loss: 0.0415 - acc: 0.9937 - val_loss: 0.1346 - val_acc: 0.9606\n",
            "Epoch 211/300\n",
            "4620/4620 [==============================] - 1s 239us/step - loss: 0.0411 - acc: 0.9935 - val_loss: 0.1328 - val_acc: 0.9596\n",
            "Epoch 212/300\n",
            "4620/4620 [==============================] - 1s 233us/step - loss: 0.0409 - acc: 0.9937 - val_loss: 0.1334 - val_acc: 0.9601\n",
            "Epoch 213/300\n",
            "4620/4620 [==============================] - 1s 226us/step - loss: 0.0412 - acc: 0.9933 - val_loss: 0.1353 - val_acc: 0.9586\n",
            "Epoch 214/300\n",
            "4620/4620 [==============================] - 1s 230us/step - loss: 0.0412 - acc: 0.9939 - val_loss: 0.1341 - val_acc: 0.9606\n",
            "Epoch 215/300\n",
            "4620/4620 [==============================] - 1s 232us/step - loss: 0.0412 - acc: 0.9933 - val_loss: 0.1354 - val_acc: 0.9601\n",
            "Epoch 216/300\n",
            "4620/4620 [==============================] - 1s 230us/step - loss: 0.0410 - acc: 0.9942 - val_loss: 0.1355 - val_acc: 0.9596\n",
            "Epoch 217/300\n",
            "2112/4620 [============>.................] - ETA: 0s - loss: 0.0414 - acc: 0.9934"
          ],
          "name": "stdout"
        },
        {
          "output_type": "stream",
          "text": [
            "4620/4620 [==============================] - 1s 230us/step - loss: 0.0408 - acc: 0.9939 - val_loss: 0.1342 - val_acc: 0.9601\n",
            "Epoch 218/300\n",
            "4620/4620 [==============================] - 1s 228us/step - loss: 0.0405 - acc: 0.9939 - val_loss: 0.1336 - val_acc: 0.9611\n",
            "Epoch 219/300\n",
            "4620/4620 [==============================] - 1s 229us/step - loss: 0.0407 - acc: 0.9939 - val_loss: 0.1320 - val_acc: 0.9601\n",
            "Epoch 220/300\n",
            "4620/4620 [==============================] - 1s 230us/step - loss: 0.0402 - acc: 0.9946 - val_loss: 0.1327 - val_acc: 0.9606\n",
            "Epoch 221/300\n",
            "4620/4620 [==============================] - 1s 229us/step - loss: 0.0402 - acc: 0.9944 - val_loss: 0.1356 - val_acc: 0.9601\n",
            "Epoch 222/300\n",
            "4620/4620 [==============================] - 1s 234us/step - loss: 0.0404 - acc: 0.9944 - val_loss: 0.1380 - val_acc: 0.9586\n",
            "Epoch 223/300\n",
            "4620/4620 [==============================] - 1s 225us/step - loss: 0.0408 - acc: 0.9935 - val_loss: 0.1340 - val_acc: 0.9611\n",
            "Epoch 224/300\n",
            "4620/4620 [==============================] - 1s 233us/step - loss: 0.0405 - acc: 0.9939 - val_loss: 0.1357 - val_acc: 0.9601\n",
            "Epoch 225/300\n",
            "2016/4620 [============>.................] - ETA: 0s - loss: 0.0295 - acc: 0.9960"
          ],
          "name": "stdout"
        },
        {
          "output_type": "stream",
          "text": [
            "4620/4620 [==============================] - 1s 236us/step - loss: 0.0406 - acc: 0.9942 - val_loss: 0.1342 - val_acc: 0.9616\n",
            "Epoch 226/300\n",
            "4620/4620 [==============================] - 1s 232us/step - loss: 0.0403 - acc: 0.9937 - val_loss: 0.1364 - val_acc: 0.9611\n",
            "Epoch 227/300\n",
            "4620/4620 [==============================] - 1s 226us/step - loss: 0.0403 - acc: 0.9946 - val_loss: 0.1361 - val_acc: 0.9601\n",
            "Epoch 228/300\n",
            "4620/4620 [==============================] - 1s 232us/step - loss: 0.0403 - acc: 0.9942 - val_loss: 0.1346 - val_acc: 0.9601\n",
            "Epoch 229/300\n",
            "4620/4620 [==============================] - 1s 227us/step - loss: 0.0402 - acc: 0.9942 - val_loss: 0.1350 - val_acc: 0.9611\n",
            "Epoch 230/300\n",
            "4620/4620 [==============================] - 1s 237us/step - loss: 0.0400 - acc: 0.9948 - val_loss: 0.1343 - val_acc: 0.9596\n",
            "Epoch 231/300\n",
            "4620/4620 [==============================] - 1s 233us/step - loss: 0.0402 - acc: 0.9946 - val_loss: 0.1322 - val_acc: 0.9606\n",
            "Epoch 232/300\n",
            "4620/4620 [==============================] - 1s 233us/step - loss: 0.0399 - acc: 0.9939 - val_loss: 0.1331 - val_acc: 0.9606\n",
            "Epoch 233/300\n",
            "2336/4620 [==============>...............] - ETA: 0s - loss: 0.0436 - acc: 0.9944"
          ],
          "name": "stdout"
        },
        {
          "output_type": "stream",
          "text": [
            "4620/4620 [==============================] - 1s 232us/step - loss: 0.0397 - acc: 0.9946 - val_loss: 0.1370 - val_acc: 0.9596\n",
            "Epoch 234/300\n",
            "4620/4620 [==============================] - 1s 232us/step - loss: 0.0397 - acc: 0.9944 - val_loss: 0.1329 - val_acc: 0.9601\n",
            "Epoch 235/300\n",
            "4620/4620 [==============================] - 1s 236us/step - loss: 0.0403 - acc: 0.9942 - val_loss: 0.1376 - val_acc: 0.9596\n",
            "Epoch 236/300\n",
            "4620/4620 [==============================] - 1s 232us/step - loss: 0.0398 - acc: 0.9944 - val_loss: 0.1382 - val_acc: 0.9586\n",
            "Epoch 237/300\n",
            "4620/4620 [==============================] - 1s 227us/step - loss: 0.0399 - acc: 0.9942 - val_loss: 0.1326 - val_acc: 0.9606\n",
            "Epoch 238/300\n",
            "4620/4620 [==============================] - 1s 228us/step - loss: 0.0397 - acc: 0.9946 - val_loss: 0.1328 - val_acc: 0.9611\n",
            "Epoch 239/300\n",
            "4620/4620 [==============================] - 1s 226us/step - loss: 0.0396 - acc: 0.9944 - val_loss: 0.1364 - val_acc: 0.9606\n",
            "Epoch 240/300\n",
            "4620/4620 [==============================] - 1s 235us/step - loss: 0.0395 - acc: 0.9952 - val_loss: 0.1369 - val_acc: 0.9606\n",
            "Epoch 241/300\n",
            "2336/4620 [==============>...............] - ETA: 0s - loss: 0.0125 - acc: 0.9961"
          ],
          "name": "stdout"
        },
        {
          "output_type": "stream",
          "text": [
            "4620/4620 [==============================] - 1s 234us/step - loss: 0.0397 - acc: 0.9937 - val_loss: 0.1360 - val_acc: 0.9586\n",
            "Epoch 242/300\n",
            "4620/4620 [==============================] - 1s 229us/step - loss: 0.0397 - acc: 0.9946 - val_loss: 0.1340 - val_acc: 0.9606\n",
            "Epoch 243/300\n",
            "4620/4620 [==============================] - 1s 237us/step - loss: 0.0395 - acc: 0.9946 - val_loss: 0.1352 - val_acc: 0.9596\n",
            "Epoch 244/300\n",
            "4620/4620 [==============================] - 1s 234us/step - loss: 0.0394 - acc: 0.9950 - val_loss: 0.1336 - val_acc: 0.9611\n",
            "Epoch 245/300\n",
            "4620/4620 [==============================] - 1s 240us/step - loss: 0.0392 - acc: 0.9950 - val_loss: 0.1302 - val_acc: 0.9601\n",
            "Epoch 246/300\n",
            "4620/4620 [==============================] - 1s 230us/step - loss: 0.0397 - acc: 0.9942 - val_loss: 0.1333 - val_acc: 0.9591\n",
            "Epoch 247/300\n",
            "4620/4620 [==============================] - 1s 230us/step - loss: 0.0397 - acc: 0.9944 - val_loss: 0.1321 - val_acc: 0.9611\n",
            "Epoch 248/300\n",
            "4620/4620 [==============================] - 1s 232us/step - loss: 0.0391 - acc: 0.9946 - val_loss: 0.1322 - val_acc: 0.9596\n",
            "Epoch 249/300\n",
            "1824/4620 [==========>...................] - ETA: 0s - loss: 0.0265 - acc: 0.9945"
          ],
          "name": "stdout"
        },
        {
          "output_type": "stream",
          "text": [
            "4620/4620 [==============================] - 1s 233us/step - loss: 0.0390 - acc: 0.9950 - val_loss: 0.1347 - val_acc: 0.9601\n",
            "Epoch 250/300\n",
            "4620/4620 [==============================] - 1s 235us/step - loss: 0.0392 - acc: 0.9952 - val_loss: 0.1357 - val_acc: 0.9586\n",
            "Epoch 251/300\n",
            "4620/4620 [==============================] - 1s 226us/step - loss: 0.0391 - acc: 0.9950 - val_loss: 0.1335 - val_acc: 0.9606\n",
            "Epoch 252/300\n",
            "4620/4620 [==============================] - 1s 221us/step - loss: 0.0387 - acc: 0.9944 - val_loss: 0.1373 - val_acc: 0.9591\n",
            "Epoch 253/300\n",
            "4620/4620 [==============================] - 1s 227us/step - loss: 0.0391 - acc: 0.9950 - val_loss: 0.1331 - val_acc: 0.9586\n",
            "Epoch 254/300\n",
            "4620/4620 [==============================] - 1s 228us/step - loss: 0.0392 - acc: 0.9946 - val_loss: 0.1352 - val_acc: 0.9601\n",
            "Epoch 255/300\n",
            "4620/4620 [==============================] - 1s 238us/step - loss: 0.0392 - acc: 0.9948 - val_loss: 0.1318 - val_acc: 0.9606\n",
            "Epoch 256/300\n",
            "4620/4620 [==============================] - 1s 234us/step - loss: 0.0388 - acc: 0.9946 - val_loss: 0.1358 - val_acc: 0.9591\n",
            "Epoch 257/300\n",
            "2112/4620 [============>.................] - ETA: 0s - loss: 0.0377 - acc: 0.9953"
          ],
          "name": "stdout"
        },
        {
          "output_type": "stream",
          "text": [
            "4620/4620 [==============================] - 1s 231us/step - loss: 0.0388 - acc: 0.9950 - val_loss: 0.1357 - val_acc: 0.9586\n",
            "Epoch 258/300\n",
            "4620/4620 [==============================] - 1s 229us/step - loss: 0.0391 - acc: 0.9942 - val_loss: 0.1330 - val_acc: 0.9601\n",
            "Epoch 259/300\n",
            "4620/4620 [==============================] - 1s 230us/step - loss: 0.0389 - acc: 0.9948 - val_loss: 0.1362 - val_acc: 0.9596\n",
            "Epoch 260/300\n",
            "4620/4620 [==============================] - 1s 235us/step - loss: 0.0389 - acc: 0.9950 - val_loss: 0.1358 - val_acc: 0.9601\n",
            "Epoch 261/300\n",
            "4620/4620 [==============================] - 1s 232us/step - loss: 0.0390 - acc: 0.9942 - val_loss: 0.1351 - val_acc: 0.9596\n",
            "Epoch 262/300\n",
            "4620/4620 [==============================] - 1s 238us/step - loss: 0.0388 - acc: 0.9942 - val_loss: 0.1346 - val_acc: 0.9596\n",
            "Epoch 263/300\n",
            "4620/4620 [==============================] - 1s 242us/step - loss: 0.0388 - acc: 0.9946 - val_loss: 0.1354 - val_acc: 0.9606\n",
            "Epoch 264/300\n",
            "4620/4620 [==============================] - 1s 232us/step - loss: 0.0385 - acc: 0.9952 - val_loss: 0.1342 - val_acc: 0.9596\n",
            "Epoch 265/300\n",
            "2016/4620 [============>.................] - ETA: 0s - loss: 0.0364 - acc: 0.9945"
          ],
          "name": "stdout"
        },
        {
          "output_type": "stream",
          "text": [
            "4620/4620 [==============================] - 1s 237us/step - loss: 0.0384 - acc: 0.9944 - val_loss: 0.1347 - val_acc: 0.9606\n",
            "Epoch 266/300\n",
            "4620/4620 [==============================] - 1s 233us/step - loss: 0.0382 - acc: 0.9950 - val_loss: 0.1349 - val_acc: 0.9586\n",
            "Epoch 267/300\n",
            "4620/4620 [==============================] - 1s 239us/step - loss: 0.0386 - acc: 0.9950 - val_loss: 0.1346 - val_acc: 0.9591\n",
            "Epoch 268/300\n",
            "4620/4620 [==============================] - 1s 235us/step - loss: 0.0388 - acc: 0.9952 - val_loss: 0.1364 - val_acc: 0.9601\n",
            "Epoch 269/300\n",
            "4620/4620 [==============================] - 1s 235us/step - loss: 0.0383 - acc: 0.9946 - val_loss: 0.1335 - val_acc: 0.9606\n",
            "Epoch 270/300\n",
            "4620/4620 [==============================] - 1s 231us/step - loss: 0.0383 - acc: 0.9948 - val_loss: 0.1350 - val_acc: 0.9601\n",
            "Epoch 271/300\n",
            "4620/4620 [==============================] - 1s 236us/step - loss: 0.0383 - acc: 0.9957 - val_loss: 0.1377 - val_acc: 0.9591\n",
            "Epoch 272/300\n",
            "4620/4620 [==============================] - 1s 239us/step - loss: 0.0382 - acc: 0.9950 - val_loss: 0.1377 - val_acc: 0.9581\n",
            "Epoch 273/300\n",
            "1504/4620 [========>.....................] - ETA: 0s - loss: 0.0097 - acc: 0.9973"
          ],
          "name": "stdout"
        },
        {
          "output_type": "stream",
          "text": [
            "4620/4620 [==============================] - 1s 243us/step - loss: 0.0387 - acc: 0.9948 - val_loss: 0.1382 - val_acc: 0.9581\n",
            "Epoch 274/300\n",
            "4620/4620 [==============================] - 1s 232us/step - loss: 0.0382 - acc: 0.9950 - val_loss: 0.1350 - val_acc: 0.9606\n",
            "Epoch 275/300\n",
            "4620/4620 [==============================] - 1s 232us/step - loss: 0.0382 - acc: 0.9952 - val_loss: 0.1345 - val_acc: 0.9601\n",
            "Epoch 276/300\n",
            "4620/4620 [==============================] - 1s 227us/step - loss: 0.0380 - acc: 0.9950 - val_loss: 0.1339 - val_acc: 0.9606\n",
            "Epoch 277/300\n",
            "4620/4620 [==============================] - 1s 232us/step - loss: 0.0381 - acc: 0.9950 - val_loss: 0.1366 - val_acc: 0.9601\n",
            "Epoch 278/300\n",
            "4620/4620 [==============================] - 1s 227us/step - loss: 0.0379 - acc: 0.9957 - val_loss: 0.1354 - val_acc: 0.9601\n",
            "Epoch 279/300\n",
            "4620/4620 [==============================] - 1s 228us/step - loss: 0.0379 - acc: 0.9948 - val_loss: 0.1347 - val_acc: 0.9596\n",
            "Epoch 280/300\n",
            "4620/4620 [==============================] - 1s 227us/step - loss: 0.0380 - acc: 0.9952 - val_loss: 0.1381 - val_acc: 0.9596\n",
            "Epoch 281/300\n",
            "2976/4620 [==================>...........] - ETA: 0s - loss: 0.0344 - acc: 0.9956"
          ],
          "name": "stdout"
        },
        {
          "output_type": "stream",
          "text": [
            "4620/4620 [==============================] - 1s 226us/step - loss: 0.0378 - acc: 0.9950 - val_loss: 0.1366 - val_acc: 0.9596\n",
            "Epoch 282/300\n",
            "4620/4620 [==============================] - 1s 238us/step - loss: 0.0383 - acc: 0.9944 - val_loss: 0.1347 - val_acc: 0.9596\n",
            "Epoch 283/300\n",
            "4620/4620 [==============================] - 1s 231us/step - loss: 0.0377 - acc: 0.9957 - val_loss: 0.1367 - val_acc: 0.9601\n",
            "Epoch 284/300\n",
            "4620/4620 [==============================] - 1s 233us/step - loss: 0.0381 - acc: 0.9946 - val_loss: 0.1359 - val_acc: 0.9606\n",
            "Epoch 285/300\n",
            "4620/4620 [==============================] - 1s 234us/step - loss: 0.0380 - acc: 0.9957 - val_loss: 0.1346 - val_acc: 0.9606\n",
            "Epoch 286/300\n",
            "4620/4620 [==============================] - 1s 231us/step - loss: 0.0378 - acc: 0.9950 - val_loss: 0.1342 - val_acc: 0.9601\n",
            "Epoch 287/300\n",
            "4620/4620 [==============================] - 1s 232us/step - loss: 0.0378 - acc: 0.9961 - val_loss: 0.1361 - val_acc: 0.9606\n",
            "Epoch 288/300\n",
            "4620/4620 [==============================] - 1s 235us/step - loss: 0.0376 - acc: 0.9952 - val_loss: 0.1369 - val_acc: 0.9586\n",
            "Epoch 289/300\n",
            "1984/4620 [===========>..................] - ETA: 0s - loss: 0.0374 - acc: 0.9955"
          ],
          "name": "stdout"
        },
        {
          "output_type": "stream",
          "text": [
            "4620/4620 [==============================] - 1s 240us/step - loss: 0.0378 - acc: 0.9952 - val_loss: 0.1372 - val_acc: 0.9586\n",
            "Epoch 290/300\n",
            "4620/4620 [==============================] - 1s 238us/step - loss: 0.0374 - acc: 0.9952 - val_loss: 0.1371 - val_acc: 0.9601\n",
            "Epoch 291/300\n",
            "4620/4620 [==============================] - 1s 240us/step - loss: 0.0377 - acc: 0.9955 - val_loss: 0.1358 - val_acc: 0.9601\n",
            "Epoch 292/300\n",
            "4620/4620 [==============================] - 1s 242us/step - loss: 0.0378 - acc: 0.9952 - val_loss: 0.1386 - val_acc: 0.9596\n",
            "Epoch 293/300\n",
            "4620/4620 [==============================] - 1s 238us/step - loss: 0.0378 - acc: 0.9950 - val_loss: 0.1354 - val_acc: 0.9601\n",
            "Epoch 294/300\n",
            "4620/4620 [==============================] - 1s 234us/step - loss: 0.0376 - acc: 0.9952 - val_loss: 0.1374 - val_acc: 0.9596\n",
            "Epoch 295/300\n",
            "4620/4620 [==============================] - 1s 235us/step - loss: 0.0375 - acc: 0.9957 - val_loss: 0.1378 - val_acc: 0.9606\n",
            "Epoch 296/300\n",
            "4620/4620 [==============================] - 1s 236us/step - loss: 0.0375 - acc: 0.9950 - val_loss: 0.1358 - val_acc: 0.9606\n",
            "Epoch 297/300\n",
            "1824/4620 [==========>...................] - ETA: 0s - loss: 0.0174 - acc: 0.9984"
          ],
          "name": "stdout"
        },
        {
          "output_type": "stream",
          "text": [
            "4620/4620 [==============================] - 1s 236us/step - loss: 0.0376 - acc: 0.9950 - val_loss: 0.1370 - val_acc: 0.9601\n",
            "Epoch 298/300\n",
            "4620/4620 [==============================] - 1s 239us/step - loss: 0.0375 - acc: 0.9955 - val_loss: 0.1374 - val_acc: 0.9586\n",
            "Epoch 299/300\n",
            "4620/4620 [==============================] - 1s 239us/step - loss: 0.0374 - acc: 0.9961 - val_loss: 0.1368 - val_acc: 0.9596\n",
            "Epoch 300/300\n",
            "4620/4620 [==============================] - 1s 236us/step - loss: 0.0374 - acc: 0.9957 - val_loss: 0.1363 - val_acc: 0.9601\n"
          ],
          "name": "stdout"
        }
      ]
    },
    {
      "metadata": {
        "id": "cTIFwyP3XUkc",
        "colab_type": "code",
        "colab": {
          "autoexec": {
            "startup": false,
            "wait_interval": 0
          },
          "base_uri": "https://localhost:8080/",
          "height": 68
        },
        "outputId": "c3a2485a-3ac2-4e0c-a965-62f03a676bce",
        "executionInfo": {
          "status": "ok",
          "timestamp": 1525441094252,
          "user_tz": 180,
          "elapsed": 685,
          "user": {
            "displayName": "Fernanda Weiss",
            "photoUrl": "//lh4.googleusercontent.com/-3fKweTbnlHc/AAAAAAAAAAI/AAAAAAAAAPU/RktnQi93nyI/s50-c-k-no/photo.jpg",
            "userId": "100370788011080686465"
          }
        }
      },
      "cell_type": "code",
      "source": [
        "score_rms = model2.evaluate(X_test_scaled, Y_test)\n",
        "print(\"Cross entropy loss:\", score_rms[0])\n",
        "print(\"Accuracy: \", score_rms[1])"
      ],
      "execution_count": 37,
      "outputs": [
        {
          "output_type": "stream",
          "text": [
            "1980/1980 [==============================] - 0s 66us/step\n",
            "Cross entropy loss: 0.1363242324930851\n",
            "Accuracy:  0.9601010103418369\n"
          ],
          "name": "stdout"
        }
      ]
    },
    {
      "metadata": {
        "id": "fs8-hnZpXdiJ",
        "colab_type": "code",
        "colab": {
          "autoexec": {
            "startup": false,
            "wait_interval": 0
          },
          "base_uri": "https://localhost:8080/",
          "height": 349
        },
        "outputId": "f788d3c5-d239-43d2-fc9e-efcb5a5e466a",
        "executionInfo": {
          "status": "ok",
          "timestamp": 1525441097923,
          "user_tz": 180,
          "elapsed": 1123,
          "user": {
            "displayName": "Fernanda Weiss",
            "photoUrl": "//lh4.googleusercontent.com/-3fKweTbnlHc/AAAAAAAAAAI/AAAAAAAAAPU/RktnQi93nyI/s50-c-k-no/photo.jpg",
            "userId": "100370788011080686465"
          }
        }
      },
      "cell_type": "code",
      "source": [
        "plot(model_fit_rms.history)"
      ],
      "execution_count": 38,
      "outputs": [
        {
          "output_type": "display_data",
          "data": {
            "image/png": "[encoded data removed]",
            "text/plain": [
              "<matplotlib.figure.Figure at 0x7f45b5d5e1d0>"
            ]
          },
          "metadata": {
            "tags": []
          }
        }
      ]
    },
    {
      "metadata": {
        "id": "Ajmb8rcuZVe7",
        "colab_type": "text"
      },
      "cell_type": "markdown",
      "source": [
        "Se ve como con este optimizador se obitene un mejor resultado tanto en el conjunto de prueba, con un accuracy del $96\\%$, como en el conjunto de entrenamiento que se logra un error y función de entrenamiento muy cercana al cero. Se pude apreciar, como este modelo sufre más de overfitting que el modelo anterior."
      ]
    }
  ]
}