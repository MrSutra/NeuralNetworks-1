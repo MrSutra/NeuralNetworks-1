{
 "cells": [
  {
   "cell_type": "markdown",
   "metadata": {
    "colab_type": "text",
    "id": "yfMU2d_xUQ0C"
   },
   "source": [
    "## Pregunta  4: Aplicación de una red neuronal en Localización"
   ]
  },
  {
   "cell_type": "markdown",
   "metadata": {},
   "source": [
    "Desde la edad antigua, múltiples formas de localización han sido desarrolladas. Dentro de los avances más importantes en este ámbito, es el desarrollo de la teorı́a cientı́fica y técnica denominada georreferenciación. Gracias a GPS, el crecimiento y acceso de la georreferenciación y navegación está en progresivo aumento, el problema surge cuando se intentan estimar en recintos interiores (como edificios o bajo tierra) donde el GPS no funciona de la manera como uno esperaría, debido a que existen muchos obstáculos e interferencia que imposibilitan su uso.\n",
    "Dentro de interiores se cuenta con señales RSSI (fingerprint) que pueden atacar este problema, sin embargo los métodos actuales no son robustos a ruido, por lo que su tarea será la de abordar este problema para mejorar exactitud de sistemas de posicionamiento en interiores mediante redes neuronales.\n",
    "\n",
    "La metodología con la que se trabajará será que, para dentro de interiores, dispositivos Bluetooth emiten señales RSSI las cuales son captadas por el dispositivo \"objetivo\" al cual se le desea determinar su localización, recibiendo distintas intensidades de señal de cada dispositivo emisor debido a su posición en el interior. Los datos con los que se va a trabajar (IndoorFingerprint.csv) fueron provistos por el nuevo Ing. Civil Informático Felipe Berrios, éstos constan de 8 características (C1hA,0kxZ,tvMX,OlYb,7rk5,F39L,VNSF,tkxI) correspondientes a las mediciones hechas/recibidas por el dispositivo \"objetivo\" de las distintas señales RSSI emitidas por los dispositivos Bluetooth en los bordes del interior, además de tener la posición del dispositivo \"objetivo\" en un plano XY (valor a estimar)."
   ]
  },
  {
   "cell_type": "markdown",
   "metadata": {
    "colab_type": "text",
    "id": "gLjvkcslWA3h"
   },
   "source": [
    "Una consideración importante es el cómo tratar la ausencia de la señal proveniente de un dispositivo Bluetooth, para estos datos se utiliza un valor de +100, ya que es imposible obtener este valor debido a las características de la escala RSSI (siempre negativa o igual a cero), pero puede ser sustituido por otro.\n",
    "Para hacer el trabajo mas simple se discretizará la posición en el plano definiendo zonas en dónde está el objeto a localizar. Las zonas deben ser las que indica la malla a continuación:"
   ]
  },
  {
   "cell_type": "code",
   "execution_count": 2,
   "metadata": {
    "colab": {
     "autoexec": {
      "startup": false,
      "wait_interval": 0
     },
     "base_uri": "https://localhost:8080/",
     "height": 283
    },
    "colab_type": "code",
    "executionInfo": {
     "elapsed": 717,
     "status": "ok",
     "timestamp": 1525234219074,
     "user": {
      "displayName": "Fernanda Weiss",
      "photoUrl": "//lh4.googleusercontent.com/-3fKweTbnlHc/AAAAAAAAAAI/AAAAAAAAAPU/RktnQi93nyI/s50-c-k-no/photo.jpg",
      "userId": "100370788011080686465"
     },
     "user_tz": 180
    },
    "id": "ZDtbgwUTWTkG",
    "outputId": "6ac58800-6dd3-4f0b-9e47-35e90f6e19d9"
   },
   "outputs": [
    {
     "data": {
      "image/png": "[encoded data removed]",
      "text/plain": [
       "<matplotlib.figure.Figure at 0x7f3d95a58ad0>"
      ]
     },
     "metadata": {
      "tags": []
     },
     "output_type": "display_data"
    }
   ],
   "source": [
    "import pandas as pd\n",
    "import numpy as np\n",
    "\n",
    "df = pd.read_csv(\"./IndoorFingerprint.csv\")\n",
    " \n",
    "import matplotlib.pyplot as plt\n",
    "%matplotlib inline\n",
    "\n",
    "plt.scatter(df[\"X\"],df[\"Y\"])\n",
    "\n",
    "x_ticks = np.arange(0, 49, 8)\n",
    "y_ticks = np.arange(5, 22, 4)\n",
    "plt.xticks(x_ticks)\n",
    "plt.yticks(y_ticks)\n",
    "plt.grid(color='r', linestyle='-', linewidth=2)\n",
    "plt.ylabel(\"y position\")\n",
    "plt.xlabel(\"x position\")\n",
    "plt.show()"
   ]
  },
  {
   "cell_type": "markdown",
   "metadata": {
    "colab_type": "text",
    "id": "Rlq66LtoWo8Y"
   },
   "source": [
    "Donde los puntos azules son los distintos datos superpuestos de las posiciones del objeto a localizar. Por ejemplo el punto (2,8) está en la primera zona (o en la primera zona del eje x y del eje y), el punto (2,20) está en la zona 19 (o en la primera zona del eje x y la cuarta zona del eje y). Esta discretización transforma el problema que en un principio podría ser de regresión para determinar la posición exacta, en un problema de clasificación dividiendo (dentro de los posibles valores) 6 zonas para el eje \"x\" y 4 zonas para el eje \"y\", contando con un total de 24 clases (24 zonas en la malla).\n",
    "\n"
   ]
  },
  {
   "cell_type": "markdown",
   "metadata": {
    "colab_type": "text",
    "id": "0Q9fN77kUWqJ"
   },
   "source": [
    "Se entrenará una red feed forward para la clasificación de las 24 posibles clases, donde tal red debe obtener un desempeño (accuracy) mayor al 75%.\n"
   ]
  },
  {
   "cell_type": "markdown",
   "metadata": {},
   "source": [
    "A continuación se visualiza un resumen de los datos que se tienen como input, mediante la función *describe*.\n"
   ]
  },
  {
   "cell_type": "code",
   "execution_count": 3,
   "metadata": {
    "colab": {
     "autoexec": {
      "startup": false,
      "wait_interval": 0
     },
     "base_uri": "https://localhost:8080/",
     "height": 314
    },
    "colab_type": "code",
    "executionInfo": {
     "elapsed": 890,
     "status": "ok",
     "timestamp": 1525234223884,
     "user": {
      "displayName": "Fernanda Weiss",
      "photoUrl": "//lh4.googleusercontent.com/-3fKweTbnlHc/AAAAAAAAAAI/AAAAAAAAAPU/RktnQi93nyI/s50-c-k-no/photo.jpg",
      "userId": "100370788011080686465"
     },
     "user_tz": 180
    },
    "id": "5NPSE76xZyRC",
    "outputId": "16bea013-7a7d-49d7-cf84-94b9c2b3b0a3"
   },
   "outputs": [
    {
     "name": "stdout",
     "output_type": "stream",
     "text": [
      "(6600, 10)\n"
     ]
    },
    {
     "data": {
      "text/html": [
       "<div>\n",
       "<style scoped>\n",
       "    .dataframe tbody tr th:only-of-type {\n",
       "        vertical-align: middle;\n",
       "    }\n",
       "\n",
       "    .dataframe tbody tr th {\n",
       "        vertical-align: top;\n",
       "    }\n",
       "\n",
       "    .dataframe thead th {\n",
       "        text-align: right;\n",
       "    }\n",
       "</style>\n",
       "<table border=\"1\" class=\"dataframe\">\n",
       "  <thead>\n",
       "    <tr style=\"text-align: right;\">\n",
       "      <th></th>\n",
       "      <th>X</th>\n",
       "      <th>Y</th>\n",
       "      <th>C1hA</th>\n",
       "      <th>0kxZ</th>\n",
       "      <th>tvMX</th>\n",
       "      <th>OlYb</th>\n",
       "      <th>7rk5</th>\n",
       "      <th>F39L</th>\n",
       "      <th>VNSF</th>\n",
       "      <th>tkxI</th>\n",
       "    </tr>\n",
       "  </thead>\n",
       "  <tbody>\n",
       "    <tr>\n",
       "      <th>count</th>\n",
       "      <td>6600.000000</td>\n",
       "      <td>6600.000000</td>\n",
       "      <td>6600.000000</td>\n",
       "      <td>6600.000000</td>\n",
       "      <td>6600.000000</td>\n",
       "      <td>6600.000000</td>\n",
       "      <td>6600.000000</td>\n",
       "      <td>6600.000000</td>\n",
       "      <td>6600.000000</td>\n",
       "      <td>6600.000000</td>\n",
       "    </tr>\n",
       "    <tr>\n",
       "      <th>mean</th>\n",
       "      <td>22.000000</td>\n",
       "      <td>14.000000</td>\n",
       "      <td>-71.152121</td>\n",
       "      <td>-85.025909</td>\n",
       "      <td>-89.734545</td>\n",
       "      <td>-77.810758</td>\n",
       "      <td>-90.219091</td>\n",
       "      <td>-80.133030</td>\n",
       "      <td>-89.091515</td>\n",
       "      <td>-89.195455</td>\n",
       "    </tr>\n",
       "    <tr>\n",
       "      <th>std</th>\n",
       "      <td>12.650069</td>\n",
       "      <td>4.472475</td>\n",
       "      <td>61.117550</td>\n",
       "      <td>38.743163</td>\n",
       "      <td>7.763426</td>\n",
       "      <td>43.540421</td>\n",
       "      <td>9.230207</td>\n",
       "      <td>7.715085</td>\n",
       "      <td>7.296616</td>\n",
       "      <td>9.508659</td>\n",
       "    </tr>\n",
       "    <tr>\n",
       "      <th>min</th>\n",
       "      <td>2.000000</td>\n",
       "      <td>8.000000</td>\n",
       "      <td>-105.000000</td>\n",
       "      <td>-104.000000</td>\n",
       "      <td>-107.000000</td>\n",
       "      <td>-103.000000</td>\n",
       "      <td>-105.000000</td>\n",
       "      <td>-102.000000</td>\n",
       "      <td>-102.000000</td>\n",
       "      <td>-105.000000</td>\n",
       "    </tr>\n",
       "    <tr>\n",
       "      <th>25%</th>\n",
       "      <td>10.000000</td>\n",
       "      <td>11.000000</td>\n",
       "      <td>-98.000000</td>\n",
       "      <td>-97.000000</td>\n",
       "      <td>-96.000000</td>\n",
       "      <td>-96.000000</td>\n",
       "      <td>-96.000000</td>\n",
       "      <td>-86.000000</td>\n",
       "      <td>-95.000000</td>\n",
       "      <td>-96.000000</td>\n",
       "    </tr>\n",
       "    <tr>\n",
       "      <th>50%</th>\n",
       "      <td>22.000000</td>\n",
       "      <td>14.000000</td>\n",
       "      <td>-93.000000</td>\n",
       "      <td>-94.000000</td>\n",
       "      <td>-92.000000</td>\n",
       "      <td>-87.000000</td>\n",
       "      <td>-91.000000</td>\n",
       "      <td>-80.000000</td>\n",
       "      <td>-90.000000</td>\n",
       "      <td>-90.500000</td>\n",
       "    </tr>\n",
       "    <tr>\n",
       "      <th>75%</th>\n",
       "      <td>34.000000</td>\n",
       "      <td>17.000000</td>\n",
       "      <td>-86.000000</td>\n",
       "      <td>-90.000000</td>\n",
       "      <td>-84.000000</td>\n",
       "      <td>-80.000000</td>\n",
       "      <td>-86.000000</td>\n",
       "      <td>-75.000000</td>\n",
       "      <td>-85.000000</td>\n",
       "      <td>-84.000000</td>\n",
       "    </tr>\n",
       "    <tr>\n",
       "      <th>max</th>\n",
       "      <td>42.000000</td>\n",
       "      <td>20.000000</td>\n",
       "      <td>100.000000</td>\n",
       "      <td>100.000000</td>\n",
       "      <td>-65.000000</td>\n",
       "      <td>100.000000</td>\n",
       "      <td>100.000000</td>\n",
       "      <td>-57.000000</td>\n",
       "      <td>-60.000000</td>\n",
       "      <td>100.000000</td>\n",
       "    </tr>\n",
       "  </tbody>\n",
       "</table>\n",
       "</div>"
      ],
      "text/plain": [
       "                 X            Y         C1hA         0kxZ         tvMX  \\\n",
       "count  6600.000000  6600.000000  6600.000000  6600.000000  6600.000000   \n",
       "mean     22.000000    14.000000   -71.152121   -85.025909   -89.734545   \n",
       "std      12.650069     4.472475    61.117550    38.743163     7.763426   \n",
       "min       2.000000     8.000000  -105.000000  -104.000000  -107.000000   \n",
       "25%      10.000000    11.000000   -98.000000   -97.000000   -96.000000   \n",
       "50%      22.000000    14.000000   -93.000000   -94.000000   -92.000000   \n",
       "75%      34.000000    17.000000   -86.000000   -90.000000   -84.000000   \n",
       "max      42.000000    20.000000   100.000000   100.000000   -65.000000   \n",
       "\n",
       "              OlYb         7rk5         F39L         VNSF         tkxI  \n",
       "count  6600.000000  6600.000000  6600.000000  6600.000000  6600.000000  \n",
       "mean    -77.810758   -90.219091   -80.133030   -89.091515   -89.195455  \n",
       "std      43.540421     9.230207     7.715085     7.296616     9.508659  \n",
       "min    -103.000000  -105.000000  -102.000000  -102.000000  -105.000000  \n",
       "25%     -96.000000   -96.000000   -86.000000   -95.000000   -96.000000  \n",
       "50%     -87.000000   -91.000000   -80.000000   -90.000000   -90.500000  \n",
       "75%     -80.000000   -86.000000   -75.000000   -85.000000   -84.000000  \n",
       "max     100.000000   100.000000   -57.000000   -60.000000   100.000000  "
      ]
     },
     "execution_count": 3,
     "metadata": {
      "tags": []
     },
     "output_type": "execute_result"
    }
   ],
   "source": [
    "print(df.shape)\n",
    "df.describe()"
   ]
  },
  {
   "cell_type": "code",
   "execution_count": 4,
   "metadata": {
    "colab": {
     "autoexec": {
      "startup": false,
      "wait_interval": 0
     },
     "base_uri": "https://localhost:8080/",
     "height": 204
    },
    "colab_type": "code",
    "executionInfo": {
     "elapsed": 821,
     "status": "ok",
     "timestamp": 1525234226738,
     "user": {
      "displayName": "Fernanda Weiss",
      "photoUrl": "//lh4.googleusercontent.com/-3fKweTbnlHc/AAAAAAAAAAI/AAAAAAAAAPU/RktnQi93nyI/s50-c-k-no/photo.jpg",
      "userId": "100370788011080686465"
     },
     "user_tz": 180
    },
    "id": "cj7GgyPyZTgg",
    "outputId": "09a20d16-9764-4a47-abb5-2a8077341824"
   },
   "outputs": [
    {
     "data": {
      "text/html": [
       "<div>\n",
       "<style scoped>\n",
       "    .dataframe tbody tr th:only-of-type {\n",
       "        vertical-align: middle;\n",
       "    }\n",
       "\n",
       "    .dataframe tbody tr th {\n",
       "        vertical-align: top;\n",
       "    }\n",
       "\n",
       "    .dataframe thead th {\n",
       "        text-align: right;\n",
       "    }\n",
       "</style>\n",
       "<table border=\"1\" class=\"dataframe\">\n",
       "  <thead>\n",
       "    <tr style=\"text-align: right;\">\n",
       "      <th></th>\n",
       "      <th>X</th>\n",
       "      <th>Y</th>\n",
       "      <th>C1hA</th>\n",
       "      <th>0kxZ</th>\n",
       "      <th>tvMX</th>\n",
       "      <th>OlYb</th>\n",
       "      <th>7rk5</th>\n",
       "      <th>F39L</th>\n",
       "      <th>VNSF</th>\n",
       "      <th>tkxI</th>\n",
       "    </tr>\n",
       "  </thead>\n",
       "  <tbody>\n",
       "    <tr>\n",
       "      <th>0</th>\n",
       "      <td>2.0</td>\n",
       "      <td>8.0</td>\n",
       "      <td>-66</td>\n",
       "      <td>-92</td>\n",
       "      <td>-84</td>\n",
       "      <td>-84</td>\n",
       "      <td>-92</td>\n",
       "      <td>-93</td>\n",
       "      <td>-98</td>\n",
       "      <td>-96</td>\n",
       "    </tr>\n",
       "    <tr>\n",
       "      <th>1</th>\n",
       "      <td>2.0</td>\n",
       "      <td>8.0</td>\n",
       "      <td>-66</td>\n",
       "      <td>-94</td>\n",
       "      <td>-84</td>\n",
       "      <td>-84</td>\n",
       "      <td>-94</td>\n",
       "      <td>-93</td>\n",
       "      <td>-98</td>\n",
       "      <td>-96</td>\n",
       "    </tr>\n",
       "    <tr>\n",
       "      <th>2</th>\n",
       "      <td>2.0</td>\n",
       "      <td>8.0</td>\n",
       "      <td>-66</td>\n",
       "      <td>-94</td>\n",
       "      <td>-84</td>\n",
       "      <td>-84</td>\n",
       "      <td>-94</td>\n",
       "      <td>-93</td>\n",
       "      <td>-98</td>\n",
       "      <td>-100</td>\n",
       "    </tr>\n",
       "    <tr>\n",
       "      <th>3</th>\n",
       "      <td>2.0</td>\n",
       "      <td>8.0</td>\n",
       "      <td>-66</td>\n",
       "      <td>-94</td>\n",
       "      <td>-84</td>\n",
       "      <td>-84</td>\n",
       "      <td>-94</td>\n",
       "      <td>-80</td>\n",
       "      <td>-98</td>\n",
       "      <td>-100</td>\n",
       "    </tr>\n",
       "    <tr>\n",
       "      <th>4</th>\n",
       "      <td>2.0</td>\n",
       "      <td>8.0</td>\n",
       "      <td>-66</td>\n",
       "      <td>-94</td>\n",
       "      <td>-84</td>\n",
       "      <td>-84</td>\n",
       "      <td>-94</td>\n",
       "      <td>-74</td>\n",
       "      <td>-98</td>\n",
       "      <td>-100</td>\n",
       "    </tr>\n",
       "  </tbody>\n",
       "</table>\n",
       "</div>"
      ],
      "text/plain": [
       "     X    Y  C1hA  0kxZ  tvMX  OlYb  7rk5  F39L  VNSF  tkxI\n",
       "0  2.0  8.0   -66   -92   -84   -84   -92   -93   -98   -96\n",
       "1  2.0  8.0   -66   -94   -84   -84   -94   -93   -98   -96\n",
       "2  2.0  8.0   -66   -94   -84   -84   -94   -93   -98  -100\n",
       "3  2.0  8.0   -66   -94   -84   -84   -94   -80   -98  -100\n",
       "4  2.0  8.0   -66   -94   -84   -84   -94   -74   -98  -100"
      ]
     },
     "execution_count": 4,
     "metadata": {
      "tags": []
     },
     "output_type": "execute_result"
    }
   ],
   "source": [
    "df.head()"
   ]
  },
  {
   "cell_type": "markdown",
   "metadata": {},
   "source": [
    "\n",
    "Importante\n",
    "El conjunto de pruebas está fijado a través de los indices de posiciones del dataset, por lo que deberá leer estos indices y crear el conjunto de pruebas a partir de éstos.\n",
    "\n",
    "Es una buena práctica el normalizar los datos antes de trabajar con los modelos"
   ]
  },
  {
   "cell_type": "markdown",
   "metadata": {
    "colab_type": "text",
    "id": "nrNnYFK4cJLG"
   },
   "source": [
    "A continuación se genera el conjunto de entrenamiento y de pruebas. Primero se lee el archivo 'mask_test.csv', el cual indica los indices de las posiciones en el dataset que conforman el conjunto de pruebas."
   ]
  },
  {
   "cell_type": "code",
   "execution_count": 0,
   "metadata": {
    "colab": {
     "autoexec": {
      "startup": false,
      "wait_interval": 0
     }
    },
    "colab_type": "code",
    "id": "-cR_C6lmdGEA"
   },
   "outputs": [],
   "source": [
    "mask_test = np.loadtxt('mask_test.csv',dtype=\"i\")\n",
    "X = df.as_matrix()\n",
    "#X_test = X[mask_test]\n",
    "#X_train = np.delete(X,mask_test,axis=0)"
   ]
  },
  {
   "cell_type": "code",
   "execution_count": 10,
   "metadata": {
    "colab": {
     "autoexec": {
      "startup": false,
      "wait_interval": 0
     },
     "base_uri": "https://localhost:8080/",
     "height": 34
    },
    "colab_type": "code",
    "executionInfo": {
     "elapsed": 868,
     "status": "ok",
     "timestamp": 1525234281507,
     "user": {
      "displayName": "Fernanda Weiss",
      "photoUrl": "//lh4.googleusercontent.com/-3fKweTbnlHc/AAAAAAAAAAI/AAAAAAAAAPU/RktnQi93nyI/s50-c-k-no/photo.jpg",
      "userId": "100370788011080686465"
     },
     "user_tz": 180
    },
    "id": "hnFt0M6ZnDgn",
    "outputId": "2e1af1c7-0267-4b52-d1b5-bf47f89eecbc"
   },
   "outputs": [
    {
     "data": {
      "text/plain": [
       "(6600, 10)"
      ]
     },
     "execution_count": 10,
     "metadata": {
      "tags": []
     },
     "output_type": "execute_result"
    }
   ],
   "source": [
    "df.shape"
   ]
  },
  {
   "cell_type": "code",
   "execution_count": 11,
   "metadata": {
    "colab": {
     "autoexec": {
      "startup": false,
      "wait_interval": 0
     },
     "base_uri": "https://localhost:8080/",
     "height": 34
    },
    "colab_type": "code",
    "executionInfo": {
     "elapsed": 874,
     "status": "ok",
     "timestamp": 1525234283959,
     "user": {
      "displayName": "Fernanda Weiss",
      "photoUrl": "//lh4.googleusercontent.com/-3fKweTbnlHc/AAAAAAAAAAI/AAAAAAAAAPU/RktnQi93nyI/s50-c-k-no/photo.jpg",
      "userId": "100370788011080686465"
     },
     "user_tz": 180
    },
    "id": "BIlRkxetokIX",
    "outputId": "9c4ed3e9-b30b-4d43-ad26-418f2e1a08ac"
   },
   "outputs": [
    {
     "name": "stdout",
     "output_type": "stream",
     "text": [
      "6600\n"
     ]
    }
   ],
   "source": [
    "print(len(X))"
   ]
  },
  {
   "cell_type": "markdown",
   "metadata": {
    "colab_type": "text",
    "id": "kEtlxqWXmgDs"
   },
   "source": [
    "Luego, se identifica en que posición de la grilla se encuentra cada punto, según la variable *X* e *Y* del dataset original, las cuales se comparan con *x_ticks* e *y_ticks* respectivamente para efectivamente saber la grilla en que se encuentre."
   ]
  },
  {
   "cell_type": "code",
   "execution_count": 46,
   "metadata": {
    "colab": {
     "autoexec": {
      "startup": false,
      "wait_interval": 0
     },
     "base_uri": "https://localhost:8080/",
     "height": 34
    },
    "colab_type": "code",
    "executionInfo": {
     "elapsed": 990,
     "status": "ok",
     "timestamp": 1525227106077,
     "user": {
      "displayName": "Fernanda Weiss",
      "photoUrl": "//lh4.googleusercontent.com/-3fKweTbnlHc/AAAAAAAAAAI/AAAAAAAAAPU/RktnQi93nyI/s50-c-k-no/photo.jpg",
      "userId": "100370788011080686465"
     },
     "user_tz": 180
    },
    "id": "kzT9C5TYnl3w",
    "outputId": "d63a54bc-c635-4e2a-9e06-70afcb16c339"
   },
   "outputs": [
    {
     "data": {
      "text/plain": [
       "(array([4]),)"
      ]
     },
     "execution_count": 46,
     "metadata": {
      "tags": []
     },
     "output_type": "execute_result"
    }
   ],
   "source": [
    "np.where(y_ticks>20)[0][0]"
   ]
  },
  {
   "cell_type": "code",
   "execution_count": 0,
   "metadata": {
    "colab": {
     "autoexec": {
      "startup": false,
      "wait_interval": 0
     }
    },
    "colab_type": "code",
    "id": "ZjnxBIELme1A"
   },
   "outputs": [],
   "source": [
    "n = 24\n",
    "posiciones_grilla = []\n",
    "for i in X:\n",
    "    #print(i[0], i[1])\n",
    "    x = np.where(x_ticks>i[0])[0][0]\n",
    "    y = np.where(y_ticks>i[1])[0][0]\n",
    "    posiciones_grilla.append((x,y))"
   ]
  },
  {
   "cell_type": "code",
   "execution_count": 13,
   "metadata": {
    "colab": {
     "autoexec": {
      "startup": false,
      "wait_interval": 0
     },
     "base_uri": "https://localhost:8080/",
     "height": 54
    },
    "colab_type": "code",
    "executionInfo": {
     "elapsed": 1104,
     "status": "ok",
     "timestamp": 1525234299299,
     "user": {
      "displayName": "Fernanda Weiss",
      "photoUrl": "//lh4.googleusercontent.com/-3fKweTbnlHc/AAAAAAAAAAI/AAAAAAAAAPU/RktnQi93nyI/s50-c-k-no/photo.jpg",
      "userId": "100370788011080686465"
     },
     "user_tz": 180
    },
    "id": "xHcpIhALpL3Y",
    "outputId": "867c45ad-9b99-46cb-fb94-361e91293ed4"
   },
   "outputs": [
    {
     "name": "stdout",
     "output_type": "stream",
     "text": [
      "[(1, 1), (1, 1), (1, 1), (1, 1), (1, 1), (1, 1), (1, 1), (1, 1), (1, 1), (1, 1), (1, 1), (1, 1), (1, 1), (1, 1), (1, 1), (1, 1), (1, 1), (1, 1), (1, 1), (1, 1), (1, 1), (1, 1), (1, 1), (1, 1), (1, 1), (1, 1), (1, 1), (1, 1), (1, 1), (1, 1), (1, 1), (1, 1), (1, 1), (1, 1), (1, 1), (1, 1), (1, 1), (1, 1), (1, 1), (1, 1), (1, 1), (1, 1), (1, 1), (1, 1), (1, 1), (1, 1), (1, 1), (1, 1), (1, 1), (1, 1), (1, 1), (1, 1), (1, 1), (1, 1), (1, 1), (1, 1), (1, 1), (1, 1), (1, 1), (1, 1), (1, 1), (1, 1), (1, 1), (1, 1), (1, 1), (1, 1), (1, 1), (1, 1), (1, 1), (1, 1), (1, 1), (1, 1), (1, 1), (1, 1), (1, 1), (1, 1), (1, 1), (1, 1), (1, 1), (1, 1), (1, 1), (1, 1), (1, 1), (1, 1), (1, 1), (1, 1), (1, 1), (1, 1), (1, 1), (1, 1), (1, 1), (1, 1), (1, 1), (1, 1), (1, 1), (1, 1), (1, 1), (1, 1), (1, 1), (1, 1), (1, 1), (1, 1), (1, 1), (1, 1), (1, 1), (1, 1), (1, 1), (1, 1), (1, 1), (1, 1), (1, 1), (1, 1), (1, 1), (1, 1), (1, 1), (1, 1), (1, 1), (1, 1), (1, 1), (1, 1), (1, 1), (1, 1), (1, 1), (1, 1), (1, 1), (1, 1), (1, 1), (1, 1), (1, 1), (1, 1), (1, 1), (1, 1), (1, 1), (1, 1), (1, 1), (1, 1), (1, 1), (1, 1), (1, 1), (1, 1), (1, 1), (1, 1), (1, 1), (1, 1), (1, 1), (1, 1), (1, 1), (1, 1), (1, 1), (1, 1), (1, 1), (1, 1), (1, 1), (1, 1), (1, 1), (1, 1), (1, 1), (1, 1), (1, 1), (1, 1), (1, 1), (1, 1), (1, 1), (1, 1), (1, 1), (1, 1), (1, 1), (1, 1), (1, 1), (1, 1), (1, 1), (1, 1), (1, 1), (1, 1), (1, 1), (1, 1), (1, 1), (1, 1), (1, 1), (1, 1), (1, 1), (1, 1), (1, 1), (1, 1), (1, 1), (1, 1), (1, 1), (1, 1), (1, 1), (1, 1), (1, 1), (1, 1), (1, 1), (1, 1), (1, 1), (1, 1), (1, 1), (1, 1), (1, 1), (1, 1), (1, 1), (1, 1), (1, 1), (1, 1), (1, 1), (1, 1), (1, 1), (1, 1), (1, 1), (1, 1), (1, 1), (1, 1), (1, 1), (1, 1), (1, 1), (1, 1), (1, 1), (1, 1), (1, 1), (1, 1), (1, 1), (1, 1), (1, 1), (1, 1), (1, 1), (1, 1), (1, 1), (1, 1), (1, 1), (1, 1), (1, 1), (1, 1), (1, 1), (1, 1), (1, 1), (1, 1), (1, 1), (1, 1), (1, 1), (1, 1), (1, 1), (1, 1), (1, 1), (1, 1), (1, 1), (1, 1), (1, 1), (1, 1), (1, 1), (1, 1), (1, 1), (1, 1), (1, 1), (1, 1), (1, 1), (1, 1), (1, 1), (1, 1), (1, 1), (1, 1), (1, 1), (1, 1), (1, 1), (1, 1), (1, 1), (1, 1), (1, 1), (1, 1), (1, 1), (1, 1), (1, 1), (1, 1), (1, 1), (1, 1), (1, 1), (1, 1), (1, 1), (1, 1), (1, 1), (1, 1), (1, 1), (1, 1), (1, 1), (1, 1), (1, 1), (1, 1), (1, 1), (1, 1), (1, 1), (1, 1), (1, 1), (1, 1), (1, 1), (1, 1), (1, 1), (1, 1), (1, 1), (1, 1), (1, 1), (1, 1), (2, 1), (2, 1), (2, 1), (2, 1), (2, 1), (2, 1), (2, 1), (2, 1), (2, 1), (2, 1), (2, 1), (2, 1), (2, 1), (2, 1), (2, 1), (2, 1), (2, 1), (2, 1), (2, 1), (2, 1), (2, 1), (2, 1), (2, 1), (2, 1), (2, 1), (2, 1), (2, 1), (2, 1), (2, 1), (2, 1), (2, 1), (2, 1), (2, 1), (2, 1), (2, 1), (2, 1), (2, 1), (2, 1), (2, 1), (2, 1), (2, 1), (2, 1), (2, 1), (2, 1), (2, 1), (2, 1), (2, 1), (2, 1), (2, 1), (2, 1), (2, 1), (2, 1), (2, 1), (2, 1), (2, 1), (2, 1), (2, 1), (2, 1), (2, 1), (2, 1), (2, 1), (2, 1), (2, 1), (2, 1), (2, 1), (2, 1), (2, 1), (2, 1), (2, 1), (2, 1), (2, 1), (2, 1), (2, 1), (2, 1), (2, 1), (2, 1), (2, 1), (2, 1), (2, 1), (2, 1), (2, 1), (2, 1), (2, 1), (2, 1), (2, 1), (2, 1), (2, 1), (2, 1), (2, 1), (2, 1), (2, 1), (2, 1), (2, 1), (2, 1), (2, 1), (2, 1), (2, 1), (2, 1), (2, 1), (2, 1), (2, 1), (2, 1), (2, 1), (2, 1), (2, 1), (2, 1), (2, 1), (2, 1), (2, 1), (2, 1), (2, 1), (2, 1), (2, 1), (2, 1), (2, 1), (2, 1), (2, 1), (2, 1), (2, 1), (2, 1), (2, 1), (2, 1), (2, 1), (2, 1), (2, 1), (2, 1), (2, 1), (2, 1), (2, 1), (2, 1), (2, 1), (2, 1), (2, 1), (2, 1), (2, 1), (2, 1), (2, 1), (2, 1), (2, 1), (2, 1), (2, 1), (2, 1), (2, 1), (2, 1), (2, 1), (2, 1), (2, 1), (2, 1), (2, 1), (2, 1), (2, 1), (2, 1), (2, 1), (2, 1), (2, 1), (2, 1), (2, 1), (2, 1), (2, 1), (2, 1), (2, 1), (2, 1), (2, 1), (2, 1), (2, 1), (2, 1), (2, 1), (2, 1), (2, 1), (2, 1), (2, 1), (2, 1), (2, 1), (2, 1), (2, 1), (2, 1), (2, 1), (2, 1), (2, 1), (2, 1), (2, 1), (2, 1), (2, 1), (2, 1), (2, 1), (2, 1), (2, 1), (2, 1), (2, 1), (2, 1), (2, 1), (2, 1), (2, 1), (2, 1), (2, 1), (2, 1), (2, 1), (2, 1), (2, 1), (2, 1), (2, 1), (2, 1), (2, 1), (2, 1), (2, 1), (2, 1), (2, 1), (2, 1), (2, 1), (2, 1), (2, 1), (2, 1), (2, 1), (2, 1), (2, 1), (2, 1), (2, 1), (2, 1), (2, 1), (2, 1), (2, 1), (2, 1), (2, 1), (2, 1), (2, 1), (2, 1), (2, 1), (2, 1), (2, 1), (2, 1), (2, 1), (2, 1), (2, 1), (2, 1), (2, 1), (2, 1), (2, 1), (2, 1), (2, 1), (2, 1), (2, 1), (2, 1), (2, 1), (2, 1), (2, 1), (2, 1), (2, 1), (2, 1), (2, 1), (2, 1), (2, 1), (2, 1), (2, 1), (2, 1), (2, 1), (2, 1), (2, 1), (2, 1), (2, 1), (2, 1), (2, 1), (2, 1), (2, 1), (2, 1), (2, 1), (2, 1), (2, 1), (2, 1), (2, 1), (2, 1), (2, 1), (2, 1), (2, 1), (2, 1), (2, 1), (2, 1), (2, 1), (2, 1), (2, 1), (2, 1), (2, 1), (2, 1), (2, 1), (2, 1), (2, 1), (2, 1), (2, 1), (2, 1), (2, 1), (2, 1), (2, 1), (2, 1), (2, 1), (2, 1), (2, 1), (2, 1), (2, 1), (2, 1), (2, 1), (2, 1), (3, 1), (3, 1), (3, 1), (3, 1), (3, 1), (3, 1), (3, 1), (3, 1), (3, 1), (3, 1), (3, 1), (3, 1), (3, 1), (3, 1), (3, 1), (3, 1), (3, 1), (3, 1), (3, 1), (3, 1), (3, 1), (3, 1), (3, 1), (3, 1), (3, 1), (3, 1), (3, 1), (3, 1), (3, 1), (3, 1), (3, 1), (3, 1), (3, 1), (3, 1), (3, 1), (3, 1), (3, 1), (3, 1), (3, 1), (3, 1), (3, 1), (3, 1), (3, 1), (3, 1), (3, 1), (3, 1), (3, 1), (3, 1), (3, 1), (3, 1), (3, 1), (3, 1), (3, 1), (3, 1), (3, 1), (3, 1), (3, 1), (3, 1), (3, 1), (3, 1), (3, 1), (3, 1), (3, 1), (3, 1), (3, 1), (3, 1), (3, 1), (3, 1), (3, 1), (3, 1), (3, 1), (3, 1), (3, 1), (3, 1), (3, 1), (3, 1), (3, 1), (3, 1), (3, 1), (3, 1), (3, 1), (3, 1), (3, 1), (3, 1), (3, 1), (3, 1), (3, 1), (3, 1), (3, 1), (3, 1), (3, 1), (3, 1), (3, 1), (3, 1), (3, 1), (3, 1), (3, 1), (3, 1), (3, 1), (3, 1), (3, 1), (3, 1), (3, 1), (3, 1), (3, 1), (3, 1), (3, 1), (3, 1), (3, 1), (3, 1), (3, 1), (3, 1), (3, 1), (3, 1), (3, 1), (3, 1), (3, 1), (3, 1), (3, 1), (3, 1), (3, 1), (3, 1), (3, 1), (3, 1), (3, 1), (3, 1), (3, 1), (3, 1), (3, 1), (3, 1), (3, 1), (3, 1), (3, 1), (3, 1), (3, 1), (3, 1), (3, 1), (3, 1), (3, 1), (3, 1), (3, 1), (3, 1), (3, 1), (3, 1), (3, 1), (3, 1), (3, 1), (3, 1), (3, 1), (3, 1), (3, 1), (3, 1), (3, 1), (3, 1), (3, 1), (3, 1), (3, 1), (3, 1), (3, 1), (3, 1), (3, 1), (3, 1), (3, 1), (3, 1), (3, 1), (3, 1), (3, 1), (3, 1), (3, 1), (3, 1), (3, 1), (3, 1), (3, 1), (3, 1), (3, 1), (3, 1), (3, 1), (3, 1), (3, 1), (3, 1), (3, 1), (3, 1), (3, 1), (3, 1), (3, 1), (3, 1), (3, 1), (3, 1), (3, 1), (3, 1), (3, 1), (3, 1), (3, 1), (3, 1), (3, 1), (3, 1), (3, 1), (3, 1), (3, 1), (3, 1), (3, 1), (3, 1), (3, 1), (3, 1), (3, 1), (3, 1), (3, 1), (3, 1), (3, 1), (3, 1), (3, 1), (3, 1), (3, 1), (3, 1), (3, 1), (3, 1), (3, 1), (3, 1), (3, 1), (3, 1), (3, 1), (3, 1), (3, 1), (3, 1), (3, 1), (3, 1), (3, 1), (3, 1), (3, 1), (3, 1), (3, 1), (3, 1), (3, 1), (3, 1), (3, 1), (3, 1), (3, 1), (3, 1), (3, 1), (3, 1), (3, 1), (3, 1), (3, 1), (3, 1), (3, 1), (3, 1), (3, 1), (3, 1), (3, 1), (3, 1), (3, 1), (3, 1), (3, 1), (3, 1), (3, 1), (3, 1), (3, 1), (3, 1), (3, 1), (3, 1), (3, 1), (3, 1), (3, 1), (3, 1), (3, 1), (3, 1), (3, 1), (3, 1), (3, 1), (3, 1), (3, 1), (3, 1), (3, 1), (3, 1), (3, 1), (3, 1), (3, 1), (3, 1), (3, 1), (3, 1), (3, 1), (3, 1), (3, 1), (3, 1), (3, 1), (3, 1), (3, 1), (3, 1), (3, 1), (3, 1), (3, 1), (3, 1), (3, 1), (3, 1), (3, 1), (3, 1), (3, 1), (3, 1), (3, 1), (3, 1), (4, 1), (4, 1), (4, 1), (4, 1), (4, 1), (4, 1), (4, 1), (4, 1), (4, 1), (4, 1), (4, 1), (4, 1), (4, 1), (4, 1), (4, 1), (4, 1), (4, 1), (4, 1), (4, 1), (4, 1), (4, 1), (4, 1), (4, 1), (4, 1), (4, 1), (4, 1), (4, 1), (4, 1), (4, 1), (4, 1), (4, 1), (4, 1), (4, 1), (4, 1), (4, 1), (4, 1), (4, 1), (4, 1), (4, 1), (4, 1), (4, 1), (4, 1), (4, 1), (4, 1), (4, 1), (4, 1), (4, 1), (4, 1), (4, 1), (4, 1), (4, 1), (4, 1), (4, 1), (4, 1), (4, 1), (4, 1), (4, 1), (4, 1), (4, 1), (4, 1), (4, 1), (4, 1), (4, 1), (4, 1), (4, 1), (4, 1), (4, 1), (4, 1), (4, 1), (4, 1), (4, 1), (4, 1), (4, 1), (4, 1), (4, 1), (4, 1), (4, 1), (4, 1), (4, 1), (4, 1), (4, 1), (4, 1), (4, 1), (4, 1), (4, 1), (4, 1), (4, 1), (4, 1), (4, 1), (4, 1), (4, 1), (4, 1), (4, 1), (4, 1), (4, 1), (4, 1), (4, 1), (4, 1), (4, 1), (4, 1), (4, 1), (4, 1), (4, 1), (4, 1), (4, 1), (4, 1), (4, 1), (4, 1), (4, 1), (4, 1), (4, 1), (4, 1), (4, 1), (4, 1), (4, 1), (4, 1), (4, 1), (4, 1), (4, 1), (4, 1), (4, 1), (4, 1), (4, 1), (4, 1), (4, 1), (4, 1), (4, 1), (4, 1), (4, 1), (4, 1), (4, 1), (4, 1), (4, 1), (4, 1), (4, 1), (4, 1), (4, 1), (4, 1), (4, 1), (4, 1), (4, 1), (4, 1), (4, 1), (4, 1), (4, 1), (4, 1), (4, 1), (4, 1), (4, 1), (4, 1), (4, 1), (4, 1), (4, 1), (4, 1), (4, 1), (4, 1), (4, 1), (4, 1), (4, 1), (4, 1), (4, 1), (4, 1), (4, 1), (4, 1), (4, 1), (4, 1), (4, 1), (4, 1), (4, 1), (4, 1), (4, 1), (4, 1), (4, 1), (4, 1), (4, 1), (4, 1), (4, 1), (4, 1), (4, 1), (4, 1), (4, 1), (4, 1), (4, 1), (4, 1), (4, 1), (4, 1), (4, 1), (4, 1), (4, 1), (4, 1), (4, 1), (4, 1), (4, 1), (4, 1), (4, 1), (4, 1), (4, 1), (4, 1), (4, 1), (4, 1), (4, 1), (4, 1), (4, 1), (4, 1), (4, 1), (4, 1), (4, 1), (4, 1), (4, 1), (4, 1), (4, 1), (4, 1), (4, 1), (4, 1), (4, 1), (4, 1), (4, 1), (4, 1), (4, 1), (4, 1), (4, 1), (4, 1), (4, 1), (4, 1), (4, 1), (4, 1), (4, 1), (4, 1), (4, 1), (4, 1), (4, 1), (4, 1), (4, 1), (4, 1), (4, 1), (4, 1), (4, 1), (4, 1), (4, 1), (4, 1), (4, 1), (4, 1), (4, 1), (4, 1), (4, 1), (4, 1), (4, 1), (4, 1), (4, 1), (4, 1), (4, 1), (4, 1), (4, 1), (4, 1), (4, 1), (4, 1), (4, 1), (4, 1), (4, 1), (4, 1), (4, 1), (4, 1), (4, 1), (4, 1), (4, 1), (4, 1), (4, 1), (4, 1), (4, 1), (4, 1), (4, 1), (4, 1), (4, 1), (4, 1), (4, 1), (4, 1), (4, 1), (4, 1), (4, 1), (4, 1), (4, 1), (4, 1), (4, 1), (4, 1), (4, 1), (4, 1), (4, 1), (4, 1), (4, 1), (4, 1), (4, 1), (4, 1), (4, 1), (4, 1), (4, 1), (4, 1), (4, 1), (4, 1), (4, 1), (4, 1), (5, 1), (5, 1), (5, 1), (5, 1), (5, 1), (5, 1), (5, 1), (5, 1), (5, 1), (5, 1), (5, 1), (5, 1), (5, 1), (5, 1), (5, 1), (5, 1), (5, 1), (5, 1), (5, 1), (5, 1), (5, 1), (5, 1), (5, 1), (5, 1), (5, 1), (5, 1), (5, 1), (5, 1), (5, 1), (5, 1), (5, 1), (5, 1), (5, 1), (5, 1), (5, 1), (5, 1), (5, 1), (5, 1), (5, 1), (5, 1), (5, 1), (5, 1), (5, 1), (5, 1), (5, 1), (5, 1), (5, 1), (5, 1), (5, 1), (5, 1), (5, 1), (5, 1), (5, 1), (5, 1), (5, 1), (5, 1), (5, 1), (5, 1), (5, 1), (5, 1), (5, 1), (5, 1), (5, 1), (5, 1), (5, 1), (5, 1), (5, 1), (5, 1), (5, 1), (5, 1), (5, 1), (5, 1), (5, 1), (5, 1), (5, 1), (5, 1), (5, 1), (5, 1), (5, 1), (5, 1), (5, 1), (5, 1), (5, 1), (5, 1), (5, 1), (5, 1), (5, 1), (5, 1), (5, 1), (5, 1), (5, 1), (5, 1), (5, 1), (5, 1), (5, 1), (5, 1), (5, 1), (5, 1), (5, 1), (5, 1), (5, 1), (5, 1), (5, 1), (5, 1), (5, 1), (5, 1), (5, 1), (5, 1), (5, 1), (5, 1), (5, 1), (5, 1), (5, 1), (5, 1), (5, 1), (5, 1), (5, 1), (5, 1), (5, 1), (5, 1), (5, 1), (5, 1), (5, 1), (5, 1), (5, 1), (5, 1), (5, 1), (5, 1), (5, 1), (5, 1), (5, 1), (5, 1), (5, 1), (5, 1), (5, 1), (5, 1), (5, 1), (5, 1), (5, 1), (5, 1), (5, 1), (5, 1), (5, 1), (5, 1), (5, 1), (5, 1), (5, 1), (5, 1), (5, 1), (5, 1), (5, 1), (5, 1), (5, 1), (5, 1), (5, 1), (5, 1), (5, 1), (5, 1), (5, 1), (5, 1), (5, 1), (5, 1), (5, 1), (5, 1), (5, 1), (5, 1), (5, 1), (5, 1), (5, 1), (5, 1), (5, 1), (5, 1), (5, 1), (5, 1), (5, 1), (5, 1), (5, 1), (5, 1), (5, 1), (5, 1), (5, 1), (5, 1), (5, 1), (5, 1), (5, 1), (5, 1), (5, 1), (5, 1), (5, 1), (5, 1), (5, 1), (5, 1), (5, 1), (5, 1), (5, 1), (5, 1), (5, 1), (5, 1), (5, 1), (5, 1), (5, 1), (5, 1), (5, 1), (5, 1), (5, 1), (5, 1), (5, 1), (5, 1), (5, 1), (5, 1), (5, 1), (5, 1), (5, 1), (5, 1), (5, 1), (5, 1), (5, 1), (5, 1), (5, 1), (5, 1), (5, 1), (5, 1), (5, 1), (5, 1), (5, 1), (5, 1), (5, 1), (5, 1), (5, 1), (5, 1), (5, 1), (5, 1), (5, 1), (5, 1), (5, 1), (5, 1), (5, 1), (5, 1), (5, 1), (5, 1), (5, 1), (5, 1), (5, 1), (5, 1), (5, 1), (5, 1), (5, 1), (5, 1), (5, 1), (5, 1), (5, 1), (5, 1), (5, 1), (5, 1), (5, 1), (5, 1), (5, 1), (5, 1), (5, 1), (5, 1), (5, 1), (5, 1), (5, 1), (5, 1), (5, 1), (5, 1), (5, 1), (5, 1), (5, 1), (5, 1), (5, 1), (5, 1), (5, 1), (5, 1), (5, 1), (5, 1), (5, 1), (5, 1), (5, 1), (5, 1), (5, 1), (5, 1), (5, 1), (5, 1), (5, 1), (5, 1), (5, 1), (5, 1), (5, 1), (5, 1), (5, 1), (5, 1), (5, 1), (5, 1), (5, 1), (5, 1), (5, 1), (5, 1), (5, 1), (5, 1), (6, 1), (6, 1), (6, 1), (6, 1), (6, 1), (6, 1), (6, 1), (6, 1), (6, 1), (6, 1), (6, 1), (6, 1), (6, 1), (6, 1), (6, 1), (6, 1), (6, 1), (6, 1), (6, 1), (6, 1), (6, 1), (6, 1), (6, 1), (6, 1), (6, 1), (6, 1), (6, 1), (6, 1), (6, 1), (6, 1), (6, 1), (6, 1), (6, 1), (6, 1), (6, 1), (6, 1), (6, 1), (6, 1), (6, 1), (6, 1), (6, 1), (6, 1), (6, 1), (6, 1), (6, 1), (6, 1), (6, 1), (6, 1), (6, 1), (6, 1), (6, 1), (6, 1), (6, 1), (6, 1), (6, 1), (6, 1), (6, 1), (6, 1), (6, 1), (6, 1), (6, 1), (6, 1), (6, 1), (6, 1), (6, 1), (6, 1), (6, 1), (6, 1), (6, 1), (6, 1), (6, 1), (6, 1), (6, 1), (6, 1), (6, 1), (6, 1), (6, 1), (6, 1), (6, 1), (6, 1), (6, 1), (6, 1), (6, 1), (6, 1), (6, 1), (6, 1), (6, 1), (6, 1), (6, 1), (6, 1), (6, 1), (6, 1), (6, 1), (6, 1), (6, 1), (6, 1), (6, 1), (6, 1), (6, 1), (6, 1), (6, 1), (6, 1), (6, 1), (6, 1), (6, 1), (6, 1), (6, 1), (6, 1), (6, 1), (6, 1), (6, 1), (6, 1), (6, 1), (6, 1), (6, 1), (6, 1), (6, 1), (6, 1), (6, 1), (6, 1), (6, 1), (6, 1), (6, 1), (6, 1), (6, 1), (6, 1), (6, 1), (6, 1), (6, 1), (6, 1), (6, 1), (6, 1), (6, 1), (6, 1), (6, 1), (6, 1), (6, 1), (6, 1), (6, 1), (6, 1), (6, 1), (6, 1), (6, 1), (6, 1), (6, 1), (6, 1), (6, 1), (6, 1), (6, 1), (6, 1), (6, 2), (6, 2), (6, 2), (6, 2), (6, 2), (6, 2), (6, 2), (6, 2), (6, 2), (6, 2), (6, 2), (6, 2), (6, 2), (6, 2), (6, 2), (6, 2), (6, 2), (6, 2), (6, 2), (6, 2), (6, 2), (6, 2), (6, 2), (6, 2), (6, 2), (6, 2), (6, 2), (6, 2), (6, 2), (6, 2), (6, 2), (6, 2), (6, 2), (6, 2), (6, 2), (6, 2), (6, 2), (6, 2), (6, 2), (6, 2), (6, 2), (6, 2), (6, 2), (6, 2), (6, 2), (6, 2), (6, 2), (6, 2), (6, 2), (6, 2), (6, 2), (6, 2), (6, 2), (6, 2), (6, 2), (6, 2), (6, 2), (6, 2), (6, 2), (6, 2), (6, 2), (6, 2), (6, 2), (6, 2), (6, 2), (6, 2), (6, 2), (6, 2), (6, 2), (6, 2), (6, 2), (6, 2), (6, 2), (6, 2), (6, 2), (6, 2), (6, 2), (6, 2), (6, 2), (6, 2), (6, 2), (6, 2), (6, 2), (6, 2), (6, 2), (6, 2), (6, 2), (6, 2), (6, 2), (6, 2), (6, 2), (6, 2), (6, 2), (6, 2), (6, 2), (6, 2), (6, 2), (6, 2), (6, 2), (6, 2), (6, 2), (6, 2), (6, 2), (6, 2), (6, 2), (6, 2), (6, 2), (6, 2), (6, 2), (6, 2), (6, 2), (6, 2), (6, 2), (6, 2), (6, 2), (6, 2), (6, 2), (6, 2), (6, 2), (6, 2), (6, 2), (6, 2), (6, 2), (6, 2), (6, 2), (6, 2), (6, 2), (6, 2), (6, 2), (6, 2), (6, 2), (6, 2), (6, 2), (6, 2), (6, 2), (6, 2), (6, 2), (6, 2), (6, 2), (6, 2), (6, 2), (6, 2), (6, 2), (6, 2), (6, 2), (6, 2), (6, 2), (6, 2), (6, 2), (6, 2), (5, 2), (5, 2), (5, 2), (5, 2), (5, 2), (5, 2), (5, 2), (5, 2), (5, 2), (5, 2), (5, 2), (5, 2), (5, 2), (5, 2), (5, 2), (5, 2), (5, 2), (5, 2), (5, 2), (5, 2), (5, 2), (5, 2), (5, 2), (5, 2), (5, 2), (5, 2), (5, 2), (5, 2), (5, 2), (5, 2), (5, 2), (5, 2), (5, 2), (5, 2), (5, 2), (5, 2), (5, 2), (5, 2), (5, 2), (5, 2), (5, 2), (5, 2), (5, 2), (5, 2), (5, 2), (5, 2), (5, 2), (5, 2), (5, 2), (5, 2), (5, 2), (5, 2), (5, 2), (5, 2), (5, 2), (5, 2), (5, 2), (5, 2), (5, 2), (5, 2), (5, 2), (5, 2), (5, 2), (5, 2), (5, 2), (5, 2), (5, 2), (5, 2), (5, 2), (5, 2), (5, 2), (5, 2), (5, 2), (5, 2), (5, 2), (5, 2), (5, 2), (5, 2), (5, 2), (5, 2), (5, 2), (5, 2), (5, 2), (5, 2), (5, 2), (5, 2), (5, 2), (5, 2), (5, 2), (5, 2), (5, 2), (5, 2), (5, 2), (5, 2), (5, 2), (5, 2), (5, 2), (5, 2), (5, 2), (5, 2), (5, 2), (5, 2), (5, 2), (5, 2), (5, 2), (5, 2), (5, 2), (5, 2), (5, 2), (5, 2), (5, 2), (5, 2), (5, 2), (5, 2), (5, 2), (5, 2), (5, 2), (5, 2), (5, 2), (5, 2), (5, 2), (5, 2), (5, 2), (5, 2), (5, 2), (5, 2), (5, 2), (5, 2), (5, 2), (5, 2), (5, 2), (5, 2), (5, 2), (5, 2), (5, 2), (5, 2), (5, 2), (5, 2), (5, 2), (5, 2), (5, 2), (5, 2), (5, 2), (5, 2), (5, 2), (5, 2), (5, 2), (5, 2), (5, 2), (5, 2), (5, 2), (5, 2), (5, 2), (5, 2), (5, 2), (5, 2), (5, 2), (5, 2), (5, 2), (5, 2), (5, 2), (5, 2), (5, 2), (5, 2), (5, 2), (5, 2), (5, 2), (5, 2), (5, 2), (5, 2), (5, 2), (5, 2), (5, 2), (5, 2), (5, 2), (5, 2), (5, 2), (5, 2), (5, 2), (5, 2), (5, 2), (5, 2), (5, 2), (5, 2), (5, 2), (5, 2), (5, 2), (5, 2), (5, 2), (5, 2), (5, 2), (5, 2), (5, 2), (5, 2), (5, 2), (5, 2), (5, 2), (5, 2), (5, 2), (5, 2), (5, 2), (5, 2), (5, 2), (5, 2), (5, 2), (5, 2), (5, 2), (5, 2), (5, 2), (5, 2), (5, 2), (5, 2), (5, 2), (5, 2), (5, 2), (5, 2), (5, 2), (5, 2), (5, 2), (5, 2), (5, 2), (5, 2), (5, 2), (5, 2), (5, 2), (5, 2), (5, 2), (5, 2), (5, 2), (5, 2), (5, 2), (5, 2), (5, 2), (5, 2), (5, 2), (5, 2), (5, 2), (5, 2), (5, 2), (5, 2), (5, 2), (5, 2), (5, 2), (5, 2), (5, 2), (5, 2), (5, 2), (5, 2), (5, 2), (5, 2), (5, 2), (5, 2), (5, 2), (5, 2), (5, 2), (5, 2), (5, 2), (5, 2), (5, 2), (5, 2), (5, 2), (5, 2), (5, 2), (5, 2), (5, 2), (5, 2), (5, 2), (5, 2), (5, 2), (5, 2), (5, 2), (5, 2), (5, 2), (5, 2), (5, 2), (5, 2), (5, 2), (5, 2), (5, 2), (5, 2), (5, 2), (5, 2), (5, 2), (5, 2), (5, 2), (5, 2), (5, 2), (5, 2), (5, 2), (5, 2), (5, 2), (5, 2), (5, 2), (5, 2), (5, 2), (5, 2), (5, 2), (5, 2), (5, 2), (5, 2), (4, 2), (4, 2), (4, 2), (4, 2), (4, 2), (4, 2), (4, 2), (4, 2), (4, 2), (4, 2), (4, 2), (4, 2), (4, 2), (4, 2), (4, 2), (4, 2), (4, 2), (4, 2), (4, 2), (4, 2), (4, 2), (4, 2), (4, 2), (4, 2), (4, 2), (4, 2), (4, 2), (4, 2), (4, 2), (4, 2), (4, 2), (4, 2), (4, 2), (4, 2), (4, 2), (4, 2), (4, 2), (4, 2), (4, 2), (4, 2), (4, 2), (4, 2), (4, 2), (4, 2), (4, 2), (4, 2), (4, 2), (4, 2), (4, 2), (4, 2), (4, 2), (4, 2), (4, 2), (4, 2), (4, 2), (4, 2), (4, 2), (4, 2), (4, 2), (4, 2), (4, 2), (4, 2), (4, 2), (4, 2), (4, 2), (4, 2), (4, 2), (4, 2), (4, 2), (4, 2), (4, 2), (4, 2), (4, 2), (4, 2), (4, 2), (4, 2), (4, 2), (4, 2), (4, 2), (4, 2), (4, 2), (4, 2), (4, 2), (4, 2), (4, 2), (4, 2), (4, 2), (4, 2), (4, 2), (4, 2), (4, 2), (4, 2), (4, 2), (4, 2), (4, 2), (4, 2), (4, 2), (4, 2), (4, 2), (4, 2), (4, 2), (4, 2), (4, 2), (4, 2), (4, 2), (4, 2), (4, 2), (4, 2), (4, 2), (4, 2), (4, 2), (4, 2), (4, 2), (4, 2), (4, 2), (4, 2), (4, 2), (4, 2), (4, 2), (4, 2), (4, 2), (4, 2), (4, 2), (4, 2), (4, 2), (4, 2), (4, 2), (4, 2), (4, 2), (4, 2), (4, 2), (4, 2), (4, 2), (4, 2), (4, 2), (4, 2), (4, 2), (4, 2), (4, 2), (4, 2), (4, 2), (4, 2), (4, 2), (4, 2), (4, 2), (4, 2), (4, 2), (4, 2), (4, 2), (4, 2), (4, 2), (4, 2), (4, 2), (4, 2), (4, 2), (4, 2), (4, 2), (4, 2), (4, 2), (4, 2), (4, 2), (4, 2), (4, 2), (4, 2), (4, 2), (4, 2), (4, 2), (4, 2), (4, 2), (4, 2), (4, 2), (4, 2), (4, 2), (4, 2), (4, 2), (4, 2), (4, 2), (4, 2), (4, 2), (4, 2), (4, 2), (4, 2), (4, 2), (4, 2), (4, 2), (4, 2), (4, 2), (4, 2), (4, 2), (4, 2), (4, 2), (4, 2), (4, 2), (4, 2), (4, 2), (4, 2), (4, 2), (4, 2), (4, 2), (4, 2), (4, 2), (4, 2), (4, 2), (4, 2), (4, 2), (4, 2), (4, 2), (4, 2), (4, 2), (4, 2), (4, 2), (4, 2), (4, 2), (4, 2), (4, 2), (4, 2), (4, 2), (4, 2), (4, 2), (4, 2), (4, 2), (4, 2), (4, 2), (4, 2), (4, 2), (4, 2), (4, 2), (4, 2), (4, 2), (4, 2), (4, 2), (4, 2), (4, 2), (4, 2), (4, 2), (4, 2), (4, 2), (4, 2), (4, 2), (4, 2), (4, 2), (4, 2), (4, 2), (4, 2), (4, 2), (4, 2), (4, 2), (4, 2), (4, 2), (4, 2), (4, 2), (4, 2), (4, 2), (4, 2), (4, 2), (4, 2), (4, 2), (4, 2), (4, 2), (4, 2), (4, 2), (4, 2), (4, 2), (4, 2), (4, 2), (4, 2), (4, 2), (4, 2), (4, 2), (4, 2), (4, 2), (4, 2), (4, 2), (4, 2), (4, 2), (4, 2), (4, 2), (4, 2), (4, 2), (4, 2), (4, 2), (4, 2), (4, 2), (4, 2), (4, 2), (4, 2), (4, 2), (4, 2), (4, 2), (4, 2), (4, 2), (4, 2), (4, 2), (4, 2), (4, 2), (4, 2), (4, 2), (4, 2), (4, 2), (4, 2), (3, 2), (3, 2), (3, 2), (3, 2), (3, 2), (3, 2), (3, 2), (3, 2), (3, 2), (3, 2), (3, 2), (3, 2), (3, 2), (3, 2), (3, 2), (3, 2), (3, 2), (3, 2), (3, 2), (3, 2), (3, 2), (3, 2), (3, 2), (3, 2), (3, 2), (3, 2), (3, 2), (3, 2), (3, 2), (3, 2), (3, 2), (3, 2), (3, 2), (3, 2), (3, 2), (3, 2), (3, 2), (3, 2), (3, 2), (3, 2), (3, 2), (3, 2), (3, 2), (3, 2), (3, 2), (3, 2), (3, 2), (3, 2), (3, 2), (3, 2), (3, 2), (3, 2), (3, 2), (3, 2), (3, 2), (3, 2), (3, 2), (3, 2), (3, 2), (3, 2), (3, 2), (3, 2), (3, 2), (3, 2), (3, 2), (3, 2), (3, 2), (3, 2), (3, 2), (3, 2), (3, 2), (3, 2), (3, 2), (3, 2), (3, 2), (3, 2), (3, 2), (3, 2), (3, 2), (3, 2), (3, 2), (3, 2), (3, 2), (3, 2), (3, 2), (3, 2), (3, 2), (3, 2), (3, 2), (3, 2), (3, 2), (3, 2), (3, 2), (3, 2), (3, 2), (3, 2), (3, 2), (3, 2), (3, 2), (3, 2), (3, 2), (3, 2), (3, 2), (3, 2), (3, 2), (3, 2), (3, 2), (3, 2), (3, 2), (3, 2), (3, 2), (3, 2), (3, 2), (3, 2), (3, 2), (3, 2), (3, 2), (3, 2), (3, 2), (3, 2), (3, 2), (3, 2), (3, 2), (3, 2), (3, 2), (3, 2), (3, 2), (3, 2), (3, 2), (3, 2), (3, 2), (3, 2), (3, 2), (3, 2), (3, 2), (3, 2), (3, 2), (3, 2), (3, 2), (3, 2), (3, 2), (3, 2), (3, 2), (3, 2), (3, 2), (3, 2), (3, 2), (3, 2), (3, 2), (3, 2), (3, 2), (3, 2), (3, 2), (3, 2), (3, 2), (3, 2), (3, 2), (3, 2), (3, 2), (3, 2), (3, 2), (3, 2), (3, 2), (3, 2), (3, 2), (3, 2), (3, 2), (3, 2), (3, 2), (3, 2), (3, 2), (3, 2), (3, 2), (3, 2), (3, 2), (3, 2), (3, 2), (3, 2), (3, 2), (3, 2), (3, 2), (3, 2), (3, 2), (3, 2), (3, 2), (3, 2), (3, 2), (3, 2), (3, 2), (3, 2), (3, 2), (3, 2), (3, 2), (3, 2), (3, 2), (3, 2), (3, 2), (3, 2), (3, 2), (3, 2), (3, 2), (3, 2), (3, 2), (3, 2), (3, 2), (3, 2), (3, 2), (3, 2), (3, 2), (3, 2), (3, 2), (3, 2), (3, 2), (3, 2), (3, 2), (3, 2), (3, 2), (3, 2), (3, 2), (3, 2), (3, 2), (3, 2), (3, 2), (3, 2), (3, 2), (3, 2), (3, 2), (3, 2), (3, 2), (3, 2), (3, 2), (3, 2), (3, 2), (3, 2), (3, 2), (3, 2), (3, 2), (3, 2), (3, 2), (3, 2), (3, 2), (3, 2), (3, 2), (3, 2), (3, 2), (3, 2), (3, 2), (3, 2), (3, 2), (3, 2), (3, 2), (3, 2), (3, 2), (3, 2), (3, 2), (3, 2), (3, 2), (3, 2), (3, 2), (3, 2), (3, 2), (3, 2), (3, 2), (3, 2), (3, 2), (3, 2), (3, 2), (3, 2), (3, 2), (3, 2), (3, 2), (3, 2), (3, 2), (3, 2), (3, 2), (3, 2), (3, 2), (3, 2), (3, 2), (3, 2), (3, 2), (3, 2), (3, 2), (3, 2), (3, 2), (3, 2), (3, 2), (3, 2), (3, 2), (3, 2), (3, 2), (3, 2), (3, 2), (3, 2), (3, 2), (3, 2), (3, 2), (3, 2), (3, 2), (3, 2), (2, 2), (2, 2), (2, 2), (2, 2), (2, 2), (2, 2), (2, 2), (2, 2), (2, 2), (2, 2), (2, 2), (2, 2), (2, 2), (2, 2), (2, 2), (2, 2), (2, 2), (2, 2), (2, 2), (2, 2), (2, 2), (2, 2), (2, 2), (2, 2), (2, 2), (2, 2), (2, 2), (2, 2), (2, 2), (2, 2), (2, 2), (2, 2), (2, 2), (2, 2), (2, 2), (2, 2), (2, 2), (2, 2), (2, 2), (2, 2), (2, 2), (2, 2), (2, 2), (2, 2), (2, 2), (2, 2), (2, 2), (2, 2), (2, 2), (2, 2), (2, 2), (2, 2), (2, 2), (2, 2), (2, 2), (2, 2), (2, 2), (2, 2), (2, 2), (2, 2), (2, 2), (2, 2), (2, 2), (2, 2), (2, 2), (2, 2), (2, 2), (2, 2), (2, 2), (2, 2), (2, 2), (2, 2), (2, 2), (2, 2), (2, 2), (2, 2), (2, 2), (2, 2), (2, 2), (2, 2), (2, 2), (2, 2), (2, 2), (2, 2), (2, 2), (2, 2), (2, 2), (2, 2), (2, 2), (2, 2), (2, 2), (2, 2), (2, 2), (2, 2), (2, 2), (2, 2), (2, 2), (2, 2), (2, 2), (2, 2), (2, 2), (2, 2), (2, 2), (2, 2), (2, 2), (2, 2), (2, 2), (2, 2), (2, 2), (2, 2), (2, 2), (2, 2), (2, 2), (2, 2), (2, 2), (2, 2), (2, 2), (2, 2), (2, 2), (2, 2), (2, 2), (2, 2), (2, 2), (2, 2), (2, 2), (2, 2), (2, 2), (2, 2), (2, 2), (2, 2), (2, 2), (2, 2), (2, 2), (2, 2), (2, 2), (2, 2), (2, 2), (2, 2), (2, 2), (2, 2), (2, 2), (2, 2), (2, 2), (2, 2), (2, 2), (2, 2), (2, 2), (2, 2), (2, 2), (2, 2), (2, 2), (2, 2), (2, 2), (2, 2), (2, 2), (2, 2), (2, 2), (2, 2), (2, 2), (2, 2), (2, 2), (2, 2), (2, 2), (2, 2), (2, 2), (2, 2), (2, 2), (2, 2), (2, 2), (2, 2), (2, 2), (2, 2), (2, 2), (2, 2), (2, 2), (2, 2), (2, 2), (2, 2), (2, 2), (2, 2), (2, 2), (2, 2), (2, 2), (2, 2), (2, 2), (2, 2), (2, 2), (2, 2), (2, 2), (2, 2), (2, 2), (2, 2), (2, 2), (2, 2), (2, 2), (2, 2), (2, 2), (2, 2), (2, 2), (2, 2), (2, 2), (2, 2), (2, 2), (2, 2), (2, 2), (2, 2), (2, 2), (2, 2), (2, 2), (2, 2), (2, 2), (2, 2), (2, 2), (2, 2), (2, 2), (2, 2), (2, 2), (2, 2), (2, 2), (2, 2), (2, 2), (2, 2), (2, 2), (2, 2), (2, 2), (2, 2), (2, 2), (2, 2), (2, 2), (2, 2), (2, 2), (2, 2), (2, 2), (2, 2), (2, 2), (2, 2), (2, 2), (2, 2), (2, 2), (2, 2), (2, 2), (2, 2), (2, 2), (2, 2), (2, 2), (2, 2), (2, 2), (2, 2), (2, 2), (2, 2), (2, 2), (2, 2), (2, 2), (2, 2), (2, 2), (2, 2), (2, 2), (2, 2), (2, 2), (2, 2), (2, 2), (2, 2), (2, 2), (2, 2), (2, 2), (2, 2), (2, 2), (2, 2), (2, 2), (2, 2), (2, 2), (2, 2), (2, 2), (2, 2), (2, 2), (2, 2), (2, 2), (2, 2), (2, 2), (2, 2), (2, 2), (2, 2), (2, 2), (2, 2), (2, 2), (2, 2), (2, 2), (2, 2), (2, 2), (2, 2), (2, 2), (2, 2), (2, 2), (2, 2), (2, 2), (2, 2), (2, 2), (2, 2), (2, 2), (2, 2), (1, 2), (1, 2), (1, 2), (1, 2), (1, 2), (1, 2), (1, 2), (1, 2), (1, 2), (1, 2), (1, 2), (1, 2), (1, 2), (1, 2), (1, 2), (1, 2), (1, 2), (1, 2), (1, 2), (1, 2), (1, 2), (1, 2), (1, 2), (1, 2), (1, 2), (1, 2), (1, 2), (1, 2), (1, 2), (1, 2), (1, 2), (1, 2), (1, 2), (1, 2), (1, 2), (1, 2), (1, 2), (1, 2), (1, 2), (1, 2), (1, 2), (1, 2), (1, 2), (1, 2), (1, 2), (1, 2), (1, 2), (1, 2), (1, 2), (1, 2), (1, 2), (1, 2), (1, 2), (1, 2), (1, 2), (1, 2), (1, 2), (1, 2), (1, 2), (1, 2), (1, 2), (1, 2), (1, 2), (1, 2), (1, 2), (1, 2), (1, 2), (1, 2), (1, 2), (1, 2), (1, 2), (1, 2), (1, 2), (1, 2), (1, 2), (1, 2), (1, 2), (1, 2), (1, 2), (1, 2), (1, 2), (1, 2), (1, 2), (1, 2), (1, 2), (1, 2), (1, 2), (1, 2), (1, 2), (1, 2), (1, 2), (1, 2), (1, 2), (1, 2), (1, 2), (1, 2), (1, 2), (1, 2), (1, 2), (1, 2), (1, 2), (1, 2), (1, 2), (1, 2), (1, 2), (1, 2), (1, 2), (1, 2), (1, 2), (1, 2), (1, 2), (1, 2), (1, 2), (1, 2), (1, 2), (1, 2), (1, 2), (1, 2), (1, 2), (1, 2), (1, 2), (1, 2), (1, 2), (1, 2), (1, 2), (1, 2), (1, 2), (1, 2), (1, 2), (1, 2), (1, 2), (1, 2), (1, 2), (1, 2), (1, 2), (1, 2), (1, 2), (1, 2), (1, 2), (1, 2), (1, 2), (1, 2), (1, 2), (1, 2), (1, 2), (1, 2), (1, 2), (1, 2), (1, 2), (1, 2), (1, 2), (1, 2), (1, 2), (1, 2), (1, 2), (1, 2), (1, 2), (1, 2), (1, 2), (1, 2), (1, 2), (1, 2), (1, 2), (1, 2), (1, 2), (1, 2), (1, 2), (1, 2), (1, 2), (1, 2), (1, 2), (1, 2), (1, 2), (1, 2), (1, 2), (1, 2), (1, 2), (1, 2), (1, 2), (1, 2), (1, 2), (1, 2), (1, 2), (1, 2), (1, 2), (1, 2), (1, 2), (1, 2), (1, 2), (1, 2), (1, 2), (1, 2), (1, 2), (1, 2), (1, 2), (1, 2), (1, 2), (1, 2), (1, 2), (1, 2), (1, 2), (1, 2), (1, 2), (1, 2), (1, 2), (1, 2), (1, 2), (1, 2), (1, 2), (1, 2), (1, 2), (1, 2), (1, 2), (1, 2), (1, 2), (1, 2), (1, 2), (1, 2), (1, 2), (1, 2), (1, 2), (1, 2), (1, 2), (1, 2), (1, 2), (1, 2), (1, 2), (1, 2), (1, 2), (1, 2), (1, 2), (1, 2), (1, 2), (1, 2), (1, 2), (1, 2), (1, 2), (1, 2), (1, 2), (1, 2), (1, 2), (1, 2), (1, 2), (1, 2), (1, 2), (1, 2), (1, 2), (1, 2), (1, 2), (1, 2), (1, 2), (1, 2), (1, 2), (1, 2), (1, 2), (1, 2), (1, 2), (1, 2), (1, 2), (1, 2), (1, 2), (1, 2), (1, 2), (1, 2), (1, 2), (1, 2), (1, 2), (1, 2), (1, 2), (1, 2), (1, 2), (1, 2), (1, 2), (1, 2), (1, 2), (1, 2), (1, 2), (1, 2), (1, 2), (1, 2), (1, 2), (1, 2), (1, 2), (1, 2), (1, 2), (1, 2), (1, 2), (1, 2), (1, 2), (1, 2), (1, 2), (1, 2), (1, 2), (1, 2), (1, 2), (1, 2), (1, 2), (1, 2), (1, 2), (1, 2), (1, 3), (1, 3), (1, 3), (1, 3), (1, 3), (1, 3), (1, 3), (1, 3), (1, 3), (1, 3), (1, 3), (1, 3), (1, 3), (1, 3), (1, 3), (1, 3), (1, 3), (1, 3), (1, 3), (1, 3), (1, 3), (1, 3), (1, 3), (1, 3), (1, 3), (1, 3), (1, 3), (1, 3), (1, 3), (1, 3), (1, 3), (1, 3), (1, 3), (1, 3), (1, 3), (1, 3), (1, 3), (1, 3), (1, 3), (1, 3), (1, 3), (1, 3), (1, 3), (1, 3), (1, 3), (1, 3), (1, 3), (1, 3), (1, 3), (1, 3), (1, 3), (1, 3), (1, 3), (1, 3), (1, 3), (1, 3), (1, 3), (1, 3), (1, 3), (1, 3), (1, 3), (1, 3), (1, 3), (1, 3), (1, 3), (1, 3), (1, 3), (1, 3), (1, 3), (1, 3), (1, 3), (1, 3), (1, 3), (1, 3), (1, 3), (1, 3), (1, 3), (1, 3), (1, 3), (1, 3), (1, 3), (1, 3), (1, 3), (1, 3), (1, 3), (1, 3), (1, 3), (1, 3), (1, 3), (1, 3), (1, 3), (1, 3), (1, 3), (1, 3), (1, 3), (1, 3), (1, 3), (1, 3), (1, 3), (1, 3), (1, 3), (1, 3), (1, 3), (1, 3), (1, 3), (1, 3), (1, 3), (1, 3), (1, 3), (1, 3), (1, 3), (1, 3), (1, 3), (1, 3), (1, 3), (1, 3), (1, 3), (1, 3), (1, 3), (1, 3), (1, 3), (1, 3), (1, 3), (1, 3), (1, 3), (1, 3), (1, 3), (1, 3), (1, 3), (1, 3), (1, 3), (1, 3), (1, 3), (1, 3), (1, 3), (1, 3), (1, 3), (1, 3), (1, 3), (1, 3), (1, 3), (1, 3), (1, 3), (1, 3), (1, 3), (1, 3), (1, 3), (1, 3), (1, 3), (1, 3), (1, 3), (1, 3), (1, 3), (1, 3), (1, 3), (1, 3), (1, 3), (1, 3), (1, 3), (1, 3), (1, 3), (1, 3), (1, 3), (1, 3), (1, 3), (1, 3), (1, 3), (1, 3), (1, 3), (1, 3), (1, 3), (1, 3), (1, 3), (1, 3), (1, 3), (1, 3), (1, 3), (1, 3), (1, 3), (1, 3), (1, 3), (1, 3), (1, 3), (1, 3), (1, 3), (1, 3), (1, 3), (1, 3), (1, 3), (1, 3), (1, 3), (1, 3), (1, 3), (1, 3), (1, 3), (1, 3), (1, 3), (1, 3), (1, 3), (1, 3), (1, 3), (1, 3), (1, 3), (1, 3), (1, 3), (1, 3), (1, 3), (1, 3), (1, 3), (1, 3), (1, 3), (1, 3), (1, 3), (1, 3), (1, 3), (1, 3), (1, 3), (1, 3), (1, 3), (1, 3), (1, 3), (1, 3), (1, 3), (1, 3), (1, 3), (1, 3), (1, 3), (1, 3), (1, 3), (1, 3), (1, 3), (1, 3), (1, 3), (1, 3), (1, 3), (1, 3), (1, 3), (1, 3), (1, 3), (1, 3), (1, 3), (1, 3), (1, 3), (1, 3), (1, 3), (1, 3), (1, 3), (1, 3), (1, 3), (1, 3), (1, 3), (1, 3), (1, 3), (1, 3), (1, 3), (1, 3), (1, 3), (1, 3), (1, 3), (1, 3), (1, 3), (1, 3), (1, 3), (1, 3), (1, 3), (1, 3), (1, 3), (1, 3), (1, 3), (1, 3), (1, 3), (1, 3), (1, 3), (1, 3), (1, 3), (1, 3), (1, 3), (1, 3), (1, 3), (1, 3), (1, 3), (1, 3), (1, 3), (1, 3), (1, 3), (1, 3), (1, 3), (1, 3), (1, 3), (1, 3), (1, 3), (1, 3), (1, 3), (1, 3), (1, 3), (1, 3), (1, 3), (1, 3), (1, 3), (1, 3), (2, 3), (2, 3), (2, 3), (2, 3), (2, 3), (2, 3), (2, 3), (2, 3), (2, 3), (2, 3), (2, 3), (2, 3), (2, 3), (2, 3), (2, 3), (2, 3), (2, 3), (2, 3), (2, 3), (2, 3), (2, 3), (2, 3), (2, 3), (2, 3), (2, 3), (2, 3), (2, 3), (2, 3), (2, 3), (2, 3), (2, 3), (2, 3), (2, 3), (2, 3), (2, 3), (2, 3), (2, 3), (2, 3), (2, 3), (2, 3), (2, 3), (2, 3), (2, 3), (2, 3), (2, 3), (2, 3), (2, 3), (2, 3), (2, 3), (2, 3), (2, 3), (2, 3), (2, 3), (2, 3), (2, 3), (2, 3), (2, 3), (2, 3), (2, 3), (2, 3), (2, 3), (2, 3), (2, 3), (2, 3), (2, 3), (2, 3), (2, 3), (2, 3), (2, 3), (2, 3), (2, 3), (2, 3), (2, 3), (2, 3), (2, 3), (2, 3), (2, 3), (2, 3), (2, 3), (2, 3), (2, 3), (2, 3), (2, 3), (2, 3), (2, 3), (2, 3), (2, 3), (2, 3), (2, 3), (2, 3), (2, 3), (2, 3), (2, 3), (2, 3), (2, 3), (2, 3), (2, 3), (2, 3), (2, 3), (2, 3), (2, 3), (2, 3), (2, 3), (2, 3), (2, 3), (2, 3), (2, 3), (2, 3), (2, 3), (2, 3), (2, 3), (2, 3), (2, 3), (2, 3), (2, 3), (2, 3), (2, 3), (2, 3), (2, 3), (2, 3), (2, 3), (2, 3), (2, 3), (2, 3), (2, 3), (2, 3), (2, 3), (2, 3), (2, 3), (2, 3), (2, 3), (2, 3), (2, 3), (2, 3), (2, 3), (2, 3), (2, 3), (2, 3), (2, 3), (2, 3), (2, 3), (2, 3), (2, 3), (2, 3), (2, 3), (2, 3), (2, 3), (2, 3), (2, 3), (2, 3), (2, 3), (2, 3), (2, 3), (2, 3), (2, 3), (2, 3), (2, 3), (2, 3), (2, 3), (2, 3), (2, 3), (2, 3), (2, 3), (2, 3), (2, 3), (2, 3), (2, 3), (2, 3), (2, 3), (2, 3), (2, 3), (2, 3), (2, 3), (2, 3), (2, 3), (2, 3), (2, 3), (2, 3), (2, 3), (2, 3), (2, 3), (2, 3), (2, 3), (2, 3), (2, 3), (2, 3), (2, 3), (2, 3), (2, 3), (2, 3), (2, 3), (2, 3), (2, 3), (2, 3), (2, 3), (2, 3), (2, 3), (2, 3), (2, 3), (2, 3), (2, 3), (2, 3), (2, 3), (2, 3), (2, 3), (2, 3), (2, 3), (2, 3), (2, 3), (2, 3), (2, 3), (2, 3), (2, 3), (2, 3), (2, 3), (2, 3), (2, 3), (2, 3), (2, 3), (2, 3), (2, 3), (2, 3), (2, 3), (2, 3), (2, 3), (2, 3), (2, 3), (2, 3), (2, 3), (2, 3), (2, 3), (2, 3), (2, 3), (2, 3), (2, 3), (2, 3), (2, 3), (2, 3), (2, 3), (2, 3), (2, 3), (2, 3), (2, 3), (2, 3), (2, 3), (2, 3), (2, 3), (2, 3), (2, 3), (2, 3), (2, 3), (2, 3), (2, 3), (2, 3), (2, 3), (2, 3), (2, 3), (2, 3), (2, 3), (2, 3), (2, 3), (2, 3), (2, 3), (2, 3), (2, 3), (2, 3), (2, 3), (2, 3), (2, 3), (2, 3), (2, 3), (2, 3), (2, 3), (2, 3), (2, 3), (2, 3), (2, 3), (2, 3), (2, 3), (2, 3), (2, 3), (2, 3), (2, 3), (2, 3), (2, 3), (2, 3), (2, 3), (2, 3), (2, 3), (2, 3), (2, 3), (2, 3), (2, 3), (2, 3), (2, 3), (2, 3), (2, 3), (2, 3), (2, 3), (2, 3), (3, 3), (3, 3), (3, 3), (3, 3), (3, 3), (3, 3), (3, 3), (3, 3), (3, 3), (3, 3), (3, 3), (3, 3), (3, 3), (3, 3), (3, 3), (3, 3), (3, 3), (3, 3), (3, 3), (3, 3), (3, 3), (3, 3), (3, 3), (3, 3), (3, 3), (3, 3), (3, 3), (3, 3), (3, 3), (3, 3), (3, 3), (3, 3), (3, 3), (3, 3), (3, 3), (3, 3), (3, 3), (3, 3), (3, 3), (3, 3), (3, 3), (3, 3), (3, 3), (3, 3), (3, 3), (3, 3), (3, 3), (3, 3), (3, 3), (3, 3), (3, 3), (3, 3), (3, 3), (3, 3), (3, 3), (3, 3), (3, 3), (3, 3), (3, 3), (3, 3), (3, 3), (3, 3), (3, 3), (3, 3), (3, 3), (3, 3), (3, 3), (3, 3), (3, 3), (3, 3), (3, 3), (3, 3), (3, 3), (3, 3), (3, 3), (3, 3), (3, 3), (3, 3), (3, 3), (3, 3), (3, 3), (3, 3), (3, 3), (3, 3), (3, 3), (3, 3), (3, 3), (3, 3), (3, 3), (3, 3), (3, 3), (3, 3), (3, 3), (3, 3), (3, 3), (3, 3), (3, 3), (3, 3), (3, 3), (3, 3), (3, 3), (3, 3), (3, 3), (3, 3), (3, 3), (3, 3), (3, 3), (3, 3), (3, 3), (3, 3), (3, 3), (3, 3), (3, 3), (3, 3), (3, 3), (3, 3), (3, 3), (3, 3), (3, 3), (3, 3), (3, 3), (3, 3), (3, 3), (3, 3), (3, 3), (3, 3), (3, 3), (3, 3), (3, 3), (3, 3), (3, 3), (3, 3), (3, 3), (3, 3), (3, 3), (3, 3), (3, 3), (3, 3), (3, 3), (3, 3), (3, 3), (3, 3), (3, 3), (3, 3), (3, 3), (3, 3), (3, 3), (3, 3), (3, 3), (3, 3), (3, 3), (3, 3), (3, 3), (3, 3), (3, 3), (3, 3), (3, 3), (3, 3), (3, 3), (3, 3), (3, 3), (3, 3), (3, 3), (3, 3), (3, 3), (3, 3), (3, 3), (3, 3), (3, 3), (3, 3), (3, 3), (3, 3), (3, 3), (3, 3), (3, 3), (3, 3), (3, 3), (3, 3), (3, 3), (3, 3), (3, 3), (3, 3), (3, 3), (3, 3), (3, 3), (3, 3), (3, 3), (3, 3), (3, 3), (3, 3), (3, 3), (3, 3), (3, 3), (3, 3), (3, 3), (3, 3), (3, 3), (3, 3), (3, 3), (3, 3), (3, 3), (3, 3), (3, 3), (3, 3), (3, 3), (3, 3), (3, 3), (3, 3), (3, 3), (3, 3), (3, 3), (3, 3), (3, 3), (3, 3), (3, 3), (3, 3), (3, 3), (3, 3), (3, 3), (3, 3), (3, 3), (3, 3), (3, 3), (3, 3), (3, 3), (3, 3), (3, 3), (3, 3), (3, 3), (3, 3), (3, 3), (3, 3), (3, 3), (3, 3), (3, 3), (3, 3), (3, 3), (3, 3), (3, 3), (3, 3), (3, 3), (3, 3), (3, 3), (3, 3), (3, 3), (3, 3), (3, 3), (3, 3), (3, 3), (3, 3), (3, 3), (3, 3), (3, 3), (3, 3), (3, 3), (3, 3), (3, 3), (3, 3), (3, 3), (3, 3), (3, 3), (3, 3), (3, 3), (3, 3), (3, 3), (3, 3), (3, 3), (3, 3), (3, 3), (3, 3), (3, 3), (3, 3), (3, 3), (3, 3), (3, 3), (3, 3), (3, 3), (3, 3), (3, 3), (3, 3), (3, 3), (3, 3), (3, 3), (3, 3), (3, 3), (3, 3), (3, 3), (3, 3), (3, 3), (3, 3), (3, 3), (3, 3), (3, 3), (3, 3), (3, 3), (3, 3), (3, 3), (3, 3), (3, 3), (3, 3), (4, 3), (4, 3), (4, 3), (4, 3), (4, 3), (4, 3), (4, 3), (4, 3), (4, 3), (4, 3), (4, 3), (4, 3), (4, 3), (4, 3), (4, 3), (4, 3), (4, 3), (4, 3), (4, 3), (4, 3), (4, 3), (4, 3), (4, 3), (4, 3), (4, 3), (4, 3), (4, 3), (4, 3), (4, 3), (4, 3), (4, 3), (4, 3), (4, 3), (4, 3), (4, 3), (4, 3), (4, 3), (4, 3), (4, 3), (4, 3), (4, 3), (4, 3), (4, 3), (4, 3), (4, 3), (4, 3), (4, 3), (4, 3), (4, 3), (4, 3), (4, 3), (4, 3), (4, 3), (4, 3), (4, 3), (4, 3), (4, 3), (4, 3), (4, 3), (4, 3), (4, 3), (4, 3), (4, 3), (4, 3), (4, 3), (4, 3), (4, 3), (4, 3), (4, 3), (4, 3), (4, 3), (4, 3), (4, 3), (4, 3), (4, 3), (4, 3), (4, 3), (4, 3), (4, 3), (4, 3), (4, 3), (4, 3), (4, 3), (4, 3), (4, 3), (4, 3), (4, 3), (4, 3), (4, 3), (4, 3), (4, 3), (4, 3), (4, 3), (4, 3), (4, 3), (4, 3), (4, 3), (4, 3), (4, 3), (4, 3), (4, 3), (4, 3), (4, 3), (4, 3), (4, 3), (4, 3), (4, 3), (4, 3), (4, 3), (4, 3), (4, 3), (4, 3), (4, 3), (4, 3), (4, 3), (4, 3), (4, 3), (4, 3), (4, 3), (4, 3), (4, 3), (4, 3), (4, 3), (4, 3), (4, 3), (4, 3), (4, 3), (4, 3), (4, 3), (4, 3), (4, 3), (4, 3), (4, 3), (4, 3), (4, 3), (4, 3), (4, 3), (4, 3), (4, 3), (4, 3), (4, 3), (4, 3), (4, 3), (4, 3), (4, 3), (4, 3), (4, 3), (4, 3), (4, 3), (4, 3), (4, 3), (4, 3), (4, 3), (4, 3), (4, 3), (4, 3), (4, 3), (4, 3), (4, 3), (4, 3), (4, 3), (4, 3), (4, 3), (4, 3), (4, 3), (4, 3), (4, 3), (4, 3), (4, 3), (4, 3), (4, 3), (4, 3), (4, 3), (4, 3), (4, 3), (4, 3), (4, 3), (4, 3), (4, 3), (4, 3), (4, 3), (4, 3), (4, 3), (4, 3), (4, 3), (4, 3), (4, 3), (4, 3), (4, 3), (4, 3), (4, 3), (4, 3), (4, 3), (4, 3), (4, 3), (4, 3), (4, 3), (4, 3), (4, 3), (4, 3), (4, 3), (4, 3), (4, 3), (4, 3), (4, 3), (4, 3), (4, 3), (4, 3), (4, 3), (4, 3), (4, 3), (4, 3), (4, 3), (4, 3), (4, 3), (4, 3), (4, 3), (4, 3), (4, 3), (4, 3), (4, 3), (4, 3), (4, 3), (4, 3), (4, 3), (4, 3), (4, 3), (4, 3), (4, 3), (4, 3), (4, 3), (4, 3), (4, 3), (4, 3), (4, 3), (4, 3), (4, 3), (4, 3), (4, 3), (4, 3), (4, 3), (4, 3), (4, 3), (4, 3), (4, 3), (4, 3), (4, 3), (4, 3), (4, 3), (4, 3), (4, 3), (4, 3), (4, 3), (4, 3), (4, 3), (4, 3), (4, 3), (4, 3), (4, 3), (4, 3), (4, 3), (4, 3), (4, 3), (4, 3), (4, 3), (4, 3), (4, 3), (4, 3), (4, 3), (4, 3), (4, 3), (4, 3), (4, 3), (4, 3), (4, 3), (4, 3), (4, 3), (4, 3), (4, 3), (4, 3), (4, 3), (4, 3), (4, 3), (4, 3), (4, 3), (4, 3), (4, 3), (4, 3), (4, 3), (4, 3), (4, 3), (4, 3), (4, 3), (4, 3), (4, 3), (4, 3), (4, 3), (4, 3), (4, 3), (4, 3), (5, 3), (5, 3), (5, 3), (5, 3), (5, 3), (5, 3), (5, 3), (5, 3), (5, 3), (5, 3), (5, 3), (5, 3), (5, 3), (5, 3), (5, 3), (5, 3), (5, 3), (5, 3), (5, 3), (5, 3), (5, 3), (5, 3), (5, 3), (5, 3), (5, 3), (5, 3), (5, 3), (5, 3), (5, 3), (5, 3), (5, 3), (5, 3), (5, 3), (5, 3), (5, 3), (5, 3), (5, 3), (5, 3), (5, 3), (5, 3), (5, 3), (5, 3), (5, 3), (5, 3), (5, 3), (5, 3), (5, 3), (5, 3), (5, 3), (5, 3), (5, 3), (5, 3), (5, 3), (5, 3), (5, 3), (5, 3), (5, 3), (5, 3), (5, 3), (5, 3), (5, 3), (5, 3), (5, 3), (5, 3), (5, 3), (5, 3), (5, 3), (5, 3), (5, 3), (5, 3), (5, 3), (5, 3), (5, 3), (5, 3), (5, 3), (5, 3), (5, 3), (5, 3), (5, 3), (5, 3), (5, 3), (5, 3), (5, 3), (5, 3), (5, 3), (5, 3), (5, 3), (5, 3), (5, 3), (5, 3), (5, 3), (5, 3), (5, 3), (5, 3), (5, 3), (5, 3), (5, 3), (5, 3), (5, 3), (5, 3), (5, 3), (5, 3), (5, 3), (5, 3), (5, 3), (5, 3), (5, 3), (5, 3), (5, 3), (5, 3), (5, 3), (5, 3), (5, 3), (5, 3), (5, 3), (5, 3), (5, 3), (5, 3), (5, 3), (5, 3), (5, 3), (5, 3), (5, 3), (5, 3), (5, 3), (5, 3), (5, 3), (5, 3), (5, 3), (5, 3), (5, 3), (5, 3), (5, 3), (5, 3), (5, 3), (5, 3), (5, 3), (5, 3), (5, 3), (5, 3), (5, 3), (5, 3), (5, 3), (5, 3), (5, 3), (5, 3), (5, 3), (5, 3), (5, 3), (5, 3), (5, 3), (5, 3), (5, 3), (5, 3), (5, 3), (5, 3), (5, 3), (5, 3), (5, 3), (5, 3), (5, 3), (5, 3), (5, 3), (5, 3), (5, 3), (5, 3), (5, 3), (5, 3), (5, 3), (5, 3), (5, 3), (5, 3), (5, 3), (5, 3), (5, 3), (5, 3), (5, 3), (5, 3), (5, 3), (5, 3), (5, 3), (5, 3), (5, 3), (5, 3), (5, 3), (5, 3), (5, 3), (5, 3), (5, 3), (5, 3), (5, 3), (5, 3), (5, 3), (5, 3), (5, 3), (5, 3), (5, 3), (5, 3), (5, 3), (5, 3), (5, 3), (5, 3), (5, 3), (5, 3), (5, 3), (5, 3), (5, 3), (5, 3), (5, 3), (5, 3), (5, 3), (5, 3), (5, 3), (5, 3), (5, 3), (5, 3), (5, 3), (5, 3), (5, 3), (5, 3), (5, 3), (5, 3), (5, 3), (5, 3), (5, 3), (5, 3), (5, 3), (5, 3), (5, 3), (5, 3), (5, 3), (5, 3), (5, 3), (5, 3), (5, 3), (5, 3), (5, 3), (5, 3), (5, 3), (5, 3), (5, 3), (5, 3), (5, 3), (5, 3), (5, 3), (5, 3), (5, 3), (5, 3), (5, 3), (5, 3), (5, 3), (5, 3), (5, 3), (5, 3), (5, 3), (5, 3), (5, 3), (5, 3), (5, 3), (5, 3), (5, 3), (5, 3), (5, 3), (5, 3), (5, 3), (5, 3), (5, 3), (5, 3), (5, 3), (5, 3), (5, 3), (5, 3), (5, 3), (5, 3), (5, 3), (5, 3), (5, 3), (5, 3), (5, 3), (5, 3), (5, 3), (5, 3), (5, 3), (5, 3), (5, 3), (5, 3), (5, 3), (5, 3), (5, 3), (5, 3), (5, 3), (5, 3), (5, 3), (5, 3), (5, 3), (5, 3), (5, 3), (5, 3), (5, 3), (5, 3), (6, 3), (6, 3), (6, 3), (6, 3), (6, 3), (6, 3), (6, 3), (6, 3), (6, 3), (6, 3), (6, 3), (6, 3), (6, 3), (6, 3), (6, 3), (6, 3), (6, 3), (6, 3), (6, 3), (6, 3), (6, 3), (6, 3), (6, 3), (6, 3), (6, 3), (6, 3), (6, 3), (6, 3), (6, 3), (6, 3), (6, 3), (6, 3), (6, 3), (6, 3), (6, 3), (6, 3), (6, 3), (6, 3), (6, 3), (6, 3), (6, 3), (6, 3), (6, 3), (6, 3), (6, 3), (6, 3), (6, 3), (6, 3), (6, 3), (6, 3), (6, 3), (6, 3), (6, 3), (6, 3), (6, 3), (6, 3), (6, 3), (6, 3), (6, 3), (6, 3), (6, 3), (6, 3), (6, 3), (6, 3), (6, 3), (6, 3), (6, 3), (6, 3), (6, 3), (6, 3), (6, 3), (6, 3), (6, 3), (6, 3), (6, 3), (6, 3), (6, 3), (6, 3), (6, 3), (6, 3), (6, 3), (6, 3), (6, 3), (6, 3), (6, 3), (6, 3), (6, 3), (6, 3), (6, 3), (6, 3), (6, 3), (6, 3), (6, 3), (6, 3), (6, 3), (6, 3), (6, 3), (6, 3), (6, 3), (6, 3), (6, 3), (6, 3), (6, 3), (6, 3), (6, 3), (6, 3), (6, 3), (6, 3), (6, 3), (6, 3), (6, 3), (6, 3), (6, 3), (6, 3), (6, 3), (6, 3), (6, 3), (6, 3), (6, 3), (6, 3), (6, 3), (6, 3), (6, 3), (6, 3), (6, 3), (6, 3), (6, 3), (6, 3), (6, 3), (6, 3), (6, 3), (6, 3), (6, 3), (6, 3), (6, 3), (6, 3), (6, 3), (6, 3), (6, 3), (6, 3), (6, 3), (6, 3), (6, 3), (6, 3), (6, 3), (6, 3), (6, 3), (6, 3), (6, 3), (6, 3), (6, 4), (6, 4), (6, 4), (6, 4), (6, 4), (6, 4), (6, 4), (6, 4), (6, 4), (6, 4), (6, 4), (6, 4), (6, 4), (6, 4), (6, 4), (6, 4), (6, 4), (6, 4), (6, 4), (6, 4), (6, 4), (6, 4), (6, 4), (6, 4), (6, 4), (6, 4), (6, 4), (6, 4), (6, 4), (6, 4), (6, 4), (6, 4), (6, 4), (6, 4), (6, 4), (6, 4), (6, 4), (6, 4), (6, 4), (6, 4), (6, 4), (6, 4), (6, 4), (6, 4), (6, 4), (6, 4), (6, 4), (6, 4), (6, 4), (6, 4), (6, 4), (6, 4), (6, 4), (6, 4), (6, 4), (6, 4), (6, 4), (6, 4), (6, 4), (6, 4), (6, 4), (6, 4), (6, 4), (6, 4), (6, 4), (6, 4), (6, 4), (6, 4), (6, 4), (6, 4), (6, 4), (6, 4), (6, 4), (6, 4), (6, 4), (6, 4), (6, 4), (6, 4), (6, 4), (6, 4), (6, 4), (6, 4), (6, 4), (6, 4), (6, 4), (6, 4), (6, 4), (6, 4), (6, 4), (6, 4), (6, 4), (6, 4), (6, 4), (6, 4), (6, 4), (6, 4), (6, 4), (6, 4), (6, 4), (6, 4), (6, 4), (6, 4), (6, 4), (6, 4), (6, 4), (6, 4), (6, 4), (6, 4), (6, 4), (6, 4), (6, 4), (6, 4), (6, 4), (6, 4), (6, 4), (6, 4), (6, 4), (6, 4), (6, 4), (6, 4), (6, 4), (6, 4), (6, 4), (6, 4), (6, 4), (6, 4), (6, 4), (6, 4), (6, 4), (6, 4), (6, 4), (6, 4), (6, 4), (6, 4), (6, 4), (6, 4), (6, 4), (6, 4), (6, 4), (6, 4), (6, 4), (6, 4), (6, 4), (6, 4), (6, 4), (6, 4), (6, 4), (6, 4), (6, 4), (6, 4), (5, 4), (5, 4), (5, 4), (5, 4), (5, 4), (5, 4), (5, 4), (5, 4), (5, 4), (5, 4), (5, 4), (5, 4), (5, 4), (5, 4), (5, 4), (5, 4), (5, 4), (5, 4), (5, 4), (5, 4), (5, 4), (5, 4), (5, 4), (5, 4), (5, 4), (5, 4), (5, 4), (5, 4), (5, 4), (5, 4), (5, 4), (5, 4), (5, 4), (5, 4), (5, 4), (5, 4), (5, 4), (5, 4), (5, 4), (5, 4), (5, 4), (5, 4), (5, 4), (5, 4), (5, 4), (5, 4), (5, 4), (5, 4), (5, 4), (5, 4), (5, 4), (5, 4), (5, 4), (5, 4), (5, 4), (5, 4), (5, 4), (5, 4), (5, 4), (5, 4), (5, 4), (5, 4), (5, 4), (5, 4), (5, 4), (5, 4), (5, 4), (5, 4), (5, 4), (5, 4), (5, 4), (5, 4), (5, 4), (5, 4), (5, 4), (5, 4), (5, 4), (5, 4), (5, 4), (5, 4), (5, 4), (5, 4), (5, 4), (5, 4), (5, 4), (5, 4), (5, 4), (5, 4), (5, 4), (5, 4), (5, 4), (5, 4), (5, 4), (5, 4), (5, 4), (5, 4), (5, 4), (5, 4), (5, 4), (5, 4), (5, 4), (5, 4), (5, 4), (5, 4), (5, 4), (5, 4), (5, 4), (5, 4), (5, 4), (5, 4), (5, 4), (5, 4), (5, 4), (5, 4), (5, 4), (5, 4), (5, 4), (5, 4), (5, 4), (5, 4), (5, 4), (5, 4), (5, 4), (5, 4), (5, 4), (5, 4), (5, 4), (5, 4), (5, 4), (5, 4), (5, 4), (5, 4), (5, 4), (5, 4), (5, 4), (5, 4), (5, 4), (5, 4), (5, 4), (5, 4), (5, 4), (5, 4), (5, 4), (5, 4), (5, 4), (5, 4), (5, 4), (5, 4), (5, 4), (5, 4), (5, 4), (5, 4), (5, 4), (5, 4), (5, 4), (5, 4), (5, 4), (5, 4), (5, 4), (5, 4), (5, 4), (5, 4), (5, 4), (5, 4), (5, 4), (5, 4), (5, 4), (5, 4), (5, 4), (5, 4), (5, 4), (5, 4), (5, 4), (5, 4), (5, 4), (5, 4), (5, 4), (5, 4), (5, 4), (5, 4), (5, 4), (5, 4), (5, 4), (5, 4), (5, 4), (5, 4), (5, 4), (5, 4), (5, 4), (5, 4), (5, 4), (5, 4), (5, 4), (5, 4), (5, 4), (5, 4), (5, 4), (5, 4), (5, 4), (5, 4), (5, 4), (5, 4), (5, 4), (5, 4), (5, 4), (5, 4), (5, 4), (5, 4), (5, 4), (5, 4), (5, 4), (5, 4), (5, 4), (5, 4), (5, 4), (5, 4), (5, 4), (5, 4), (5, 4), (5, 4), (5, 4), (5, 4), (5, 4), (5, 4), (5, 4), (5, 4), (5, 4), (5, 4), (5, 4), (5, 4), (5, 4), (5, 4), (5, 4), (5, 4), (5, 4), (5, 4), (5, 4), (5, 4), (5, 4), (5, 4), (5, 4), (5, 4), (5, 4), (5, 4), (5, 4), (5, 4), (5, 4), (5, 4), (5, 4), (5, 4), (5, 4), (5, 4), (5, 4), (5, 4), (5, 4), (5, 4), (5, 4), (5, 4), (5, 4), (5, 4), (5, 4), (5, 4), (5, 4), (5, 4), (5, 4), (5, 4), (5, 4), (5, 4), (5, 4), (5, 4), (5, 4), (5, 4), (5, 4), (5, 4), (5, 4), (5, 4), (5, 4), (5, 4), (5, 4), (5, 4), (5, 4), (5, 4), (5, 4), (5, 4), (5, 4), (5, 4), (5, 4), (5, 4), (5, 4), (5, 4), (5, 4), (5, 4), (5, 4), (5, 4), (5, 4), (5, 4), (5, 4), (5, 4), (5, 4), (5, 4), (4, 4), (4, 4), (4, 4), (4, 4), (4, 4), (4, 4), (4, 4), (4, 4), (4, 4), (4, 4), (4, 4), (4, 4), (4, 4), (4, 4), (4, 4), (4, 4), (4, 4), (4, 4), (4, 4), (4, 4), (4, 4), (4, 4), (4, 4), (4, 4), (4, 4), (4, 4), (4, 4), (4, 4), (4, 4), (4, 4), (4, 4), (4, 4), (4, 4), (4, 4), (4, 4), (4, 4), (4, 4), (4, 4), (4, 4), (4, 4), (4, 4), (4, 4), (4, 4), (4, 4), (4, 4), (4, 4), (4, 4), (4, 4), (4, 4), (4, 4), (4, 4), (4, 4), (4, 4), (4, 4), (4, 4), (4, 4), (4, 4), (4, 4), (4, 4), (4, 4), (4, 4), (4, 4), (4, 4), (4, 4), (4, 4), (4, 4), (4, 4), (4, 4), (4, 4), (4, 4), (4, 4), (4, 4), (4, 4), (4, 4), (4, 4), (4, 4), (4, 4), (4, 4), (4, 4), (4, 4), (4, 4), (4, 4), (4, 4), (4, 4), (4, 4), (4, 4), (4, 4), (4, 4), (4, 4), (4, 4), (4, 4), (4, 4), (4, 4), (4, 4), (4, 4), (4, 4), (4, 4), (4, 4), (4, 4), (4, 4), (4, 4), (4, 4), (4, 4), (4, 4), (4, 4), (4, 4), (4, 4), (4, 4), (4, 4), (4, 4), (4, 4), (4, 4), (4, 4), (4, 4), (4, 4), (4, 4), (4, 4), (4, 4), (4, 4), (4, 4), (4, 4), (4, 4), (4, 4), (4, 4), (4, 4), (4, 4), (4, 4), (4, 4), (4, 4), (4, 4), (4, 4), (4, 4), (4, 4), (4, 4), (4, 4), (4, 4), (4, 4), (4, 4), (4, 4), (4, 4), (4, 4), (4, 4), (4, 4), (4, 4), (4, 4), (4, 4), (4, 4), (4, 4), (4, 4), (4, 4), (4, 4), (4, 4), (4, 4), (4, 4), (4, 4), (4, 4), (4, 4), (4, 4), (4, 4), (4, 4), (4, 4), (4, 4), (4, 4), (4, 4), (4, 4), (4, 4), (4, 4), (4, 4), (4, 4), (4, 4), (4, 4), (4, 4), (4, 4), (4, 4), (4, 4), (4, 4), (4, 4), (4, 4), (4, 4), (4, 4), (4, 4), (4, 4), (4, 4), (4, 4), (4, 4), (4, 4), (4, 4), (4, 4), (4, 4), (4, 4), (4, 4), (4, 4), (4, 4), (4, 4), (4, 4), (4, 4), (4, 4), (4, 4), (4, 4), (4, 4), (4, 4), (4, 4), (4, 4), (4, 4), (4, 4), (4, 4), (4, 4), (4, 4), (4, 4), (4, 4), (4, 4), (4, 4), (4, 4), (4, 4), (4, 4), (4, 4), (4, 4), (4, 4), (4, 4), (4, 4), (4, 4), (4, 4), (4, 4), (4, 4), (4, 4), (4, 4), (4, 4), (4, 4), (4, 4), (4, 4), (4, 4), (4, 4), (4, 4), (4, 4), (4, 4), (4, 4), (4, 4), (4, 4), (4, 4), (4, 4), (4, 4), (4, 4), (4, 4), (4, 4), (4, 4), (4, 4), (4, 4), (4, 4), (4, 4), (4, 4), (4, 4), (4, 4), (4, 4), (4, 4), (4, 4), (4, 4), (4, 4), (4, 4), (4, 4), (4, 4), (4, 4), (4, 4), (4, 4), (4, 4), (4, 4), (4, 4), (4, 4), (4, 4), (4, 4), (4, 4), (4, 4), (4, 4), (4, 4), (4, 4), (4, 4), (4, 4), (4, 4), (4, 4), (4, 4), (4, 4), (4, 4), (4, 4), (4, 4), (4, 4), (4, 4), (4, 4), (4, 4), (4, 4), (4, 4), (4, 4), (4, 4), (4, 4), (4, 4), (4, 4), (4, 4), (4, 4), (4, 4), (4, 4), (4, 4), (4, 4), (3, 4), (3, 4), (3, 4), (3, 4), (3, 4), (3, 4), (3, 4), (3, 4), (3, 4), (3, 4), (3, 4), (3, 4), (3, 4), (3, 4), (3, 4), (3, 4), (3, 4), (3, 4), (3, 4), (3, 4), (3, 4), (3, 4), (3, 4), (3, 4), (3, 4), (3, 4), (3, 4), (3, 4), (3, 4), (3, 4), (3, 4), (3, 4), (3, 4), (3, 4), (3, 4), (3, 4), (3, 4), (3, 4), (3, 4), (3, 4), (3, 4), (3, 4), (3, 4), (3, 4), (3, 4), (3, 4), (3, 4), (3, 4), (3, 4), (3, 4), (3, 4), (3, 4), (3, 4), (3, 4), (3, 4), (3, 4), (3, 4), (3, 4), (3, 4), (3, 4), (3, 4), (3, 4), (3, 4), (3, 4), (3, 4), (3, 4), (3, 4), (3, 4), (3, 4), (3, 4), (3, 4), (3, 4), (3, 4), (3, 4), (3, 4), (3, 4), (3, 4), (3, 4), (3, 4), (3, 4), (3, 4), (3, 4), (3, 4), (3, 4), (3, 4), (3, 4), (3, 4), (3, 4), (3, 4), (3, 4), (3, 4), (3, 4), (3, 4), (3, 4), (3, 4), (3, 4), (3, 4), (3, 4), (3, 4), (3, 4), (3, 4), (3, 4), (3, 4), (3, 4), (3, 4), (3, 4), (3, 4), (3, 4), (3, 4), (3, 4), (3, 4), (3, 4), (3, 4), (3, 4), (3, 4), (3, 4), (3, 4), (3, 4), (3, 4), (3, 4), (3, 4), (3, 4), (3, 4), (3, 4), (3, 4), (3, 4), (3, 4), (3, 4), (3, 4), (3, 4), (3, 4), (3, 4), (3, 4), (3, 4), (3, 4), (3, 4), (3, 4), (3, 4), (3, 4), (3, 4), (3, 4), (3, 4), (3, 4), (3, 4), (3, 4), (3, 4), (3, 4), (3, 4), (3, 4), (3, 4), (3, 4), (3, 4), (3, 4), (3, 4), (3, 4), (3, 4), (3, 4), (3, 4), (3, 4), (3, 4), (3, 4), (3, 4), (3, 4), (3, 4), (3, 4), (3, 4), (3, 4), (3, 4), (3, 4), (3, 4), (3, 4), (3, 4), (3, 4), (3, 4), (3, 4), (3, 4), (3, 4), (3, 4), (3, 4), (3, 4), (3, 4), (3, 4), (3, 4), (3, 4), (3, 4), (3, 4), (3, 4), (3, 4), (3, 4), (3, 4), (3, 4), (3, 4), (3, 4), (3, 4), (3, 4), (3, 4), (3, 4), (3, 4), (3, 4), (3, 4), (3, 4), (3, 4), (3, 4), (3, 4), (3, 4), (3, 4), (3, 4), (3, 4), (3, 4), (3, 4), (3, 4), (3, 4), (3, 4), (3, 4), (3, 4), (3, 4), (3, 4), (3, 4), (3, 4), (3, 4), (3, 4), (3, 4), (3, 4), (3, 4), (3, 4), (3, 4), (3, 4), (3, 4), (3, 4), (3, 4), (3, 4), (3, 4), (3, 4), (3, 4), (3, 4), (3, 4), (3, 4), (3, 4), (3, 4), (3, 4), (3, 4), (3, 4), (3, 4), (3, 4), (3, 4), (3, 4), (3, 4), (3, 4), (3, 4), (3, 4), (3, 4), (3, 4), (3, 4), (3, 4), (3, 4), (3, 4), (3, 4), (3, 4), (3, 4), (3, 4), (3, 4), (3, 4), (3, 4), (3, 4), (3, 4), (3, 4), (3, 4), (3, 4), (3, 4), (3, 4), (3, 4), (3, 4), (3, 4), (3, 4), (3, 4), (3, 4), (3, 4), (3, 4), (3, 4), (3, 4), (3, 4), (3, 4), (3, 4), (3, 4), (3, 4), (3, 4), (3, 4), (3, 4), (3, 4), (3, 4), (3, 4), (3, 4), (3, 4), (3, 4), (3, 4), (3, 4), (3, 4), (3, 4), (3, 4), (3, 4), (2, 4), (2, 4), (2, 4), (2, 4), (2, 4), (2, 4), (2, 4), (2, 4), (2, 4), (2, 4), (2, 4), (2, 4), (2, 4), (2, 4), (2, 4), (2, 4), (2, 4), (2, 4), (2, 4), (2, 4), (2, 4), (2, 4), (2, 4), (2, 4), (2, 4), (2, 4), (2, 4), (2, 4), (2, 4), (2, 4), (2, 4), (2, 4), (2, 4), (2, 4), (2, 4), (2, 4), (2, 4), (2, 4), (2, 4), (2, 4), (2, 4), (2, 4), (2, 4), (2, 4), (2, 4), (2, 4), (2, 4), (2, 4), (2, 4), (2, 4), (2, 4), (2, 4), (2, 4), (2, 4), (2, 4), (2, 4), (2, 4), (2, 4), (2, 4), (2, 4), (2, 4), (2, 4), (2, 4), (2, 4), (2, 4), (2, 4), (2, 4), (2, 4), (2, 4), (2, 4), (2, 4), (2, 4), (2, 4), (2, 4), (2, 4), (2, 4), (2, 4), (2, 4), (2, 4), (2, 4), (2, 4), (2, 4), (2, 4), (2, 4), (2, 4), (2, 4), (2, 4), (2, 4), (2, 4), (2, 4), (2, 4), (2, 4), (2, 4), (2, 4), (2, 4), (2, 4), (2, 4), (2, 4), (2, 4), (2, 4), (2, 4), (2, 4), (2, 4), (2, 4), (2, 4), (2, 4), (2, 4), (2, 4), (2, 4), (2, 4), (2, 4), (2, 4), (2, 4), (2, 4), (2, 4), (2, 4), (2, 4), (2, 4), (2, 4), (2, 4), (2, 4), (2, 4), (2, 4), (2, 4), (2, 4), (2, 4), (2, 4), (2, 4), (2, 4), (2, 4), (2, 4), (2, 4), (2, 4), (2, 4), (2, 4), (2, 4), (2, 4), (2, 4), (2, 4), (2, 4), (2, 4), (2, 4), (2, 4), (2, 4), (2, 4), (2, 4), (2, 4), (2, 4), (2, 4), (2, 4), (2, 4), (2, 4), (2, 4), (2, 4), (2, 4), (2, 4), (2, 4), (2, 4), (2, 4), (2, 4), (2, 4), (2, 4), (2, 4), (2, 4), (2, 4), (2, 4), (2, 4), (2, 4), (2, 4), (2, 4), (2, 4), (2, 4), (2, 4), (2, 4), (2, 4), (2, 4), (2, 4), (2, 4), (2, 4), (2, 4), (2, 4), (2, 4), (2, 4), (2, 4), (2, 4), (2, 4), (2, 4), (2, 4), (2, 4), (2, 4), (2, 4), (2, 4), (2, 4), (2, 4), (2, 4), (2, 4), (2, 4), (2, 4), (2, 4), (2, 4), (2, 4), (2, 4), (2, 4), (2, 4), (2, 4), (2, 4), (2, 4), (2, 4), (2, 4), (2, 4), (2, 4), (2, 4), (2, 4), (2, 4), (2, 4), (2, 4), (2, 4), (2, 4), (2, 4), (2, 4), (2, 4), (2, 4), (2, 4), (2, 4), (2, 4), (2, 4), (2, 4), (2, 4), (2, 4), (2, 4), (2, 4), (2, 4), (2, 4), (2, 4), (2, 4), (2, 4), (2, 4), (2, 4), (2, 4), (2, 4), (2, 4), (2, 4), (2, 4), (2, 4), (2, 4), (2, 4), (2, 4), (2, 4), (2, 4), (2, 4), (2, 4), (2, 4), (2, 4), (2, 4), (2, 4), (2, 4), (2, 4), (2, 4), (2, 4), (2, 4), (2, 4), (2, 4), (2, 4), (2, 4), (2, 4), (2, 4), (2, 4), (2, 4), (2, 4), (2, 4), (2, 4), (2, 4), (2, 4), (2, 4), (2, 4), (2, 4), (2, 4), (2, 4), (2, 4), (2, 4), (2, 4), (2, 4), (2, 4), (2, 4), (2, 4), (2, 4), (2, 4), (2, 4), (2, 4), (2, 4), (2, 4), (2, 4), (2, 4), (2, 4), (2, 4), (2, 4), (2, 4), (2, 4), (2, 4), (2, 4), (1, 4), (1, 4), (1, 4), (1, 4), (1, 4), (1, 4), (1, 4), (1, 4), (1, 4), (1, 4), (1, 4), (1, 4), (1, 4), (1, 4), (1, 4), (1, 4), (1, 4), (1, 4), (1, 4), (1, 4), (1, 4), (1, 4), (1, 4), (1, 4), (1, 4), (1, 4), (1, 4), (1, 4), (1, 4), (1, 4), (1, 4), (1, 4), (1, 4), (1, 4), (1, 4), (1, 4), (1, 4), (1, 4), (1, 4), (1, 4), (1, 4), (1, 4), (1, 4), (1, 4), (1, 4), (1, 4), (1, 4), (1, 4), (1, 4), (1, 4), (1, 4), (1, 4), (1, 4), (1, 4), (1, 4), (1, 4), (1, 4), (1, 4), (1, 4), (1, 4), (1, 4), (1, 4), (1, 4), (1, 4), (1, 4), (1, 4), (1, 4), (1, 4), (1, 4), (1, 4), (1, 4), (1, 4), (1, 4), (1, 4), (1, 4), (1, 4), (1, 4), (1, 4), (1, 4), (1, 4), (1, 4), (1, 4), (1, 4), (1, 4), (1, 4), (1, 4), (1, 4), (1, 4), (1, 4), (1, 4), (1, 4), (1, 4), (1, 4), (1, 4), (1, 4), (1, 4), (1, 4), (1, 4), (1, 4), (1, 4), (1, 4), (1, 4), (1, 4), (1, 4), (1, 4), (1, 4), (1, 4), (1, 4), (1, 4), (1, 4), (1, 4), (1, 4), (1, 4), (1, 4), (1, 4), (1, 4), (1, 4), (1, 4), (1, 4), (1, 4), (1, 4), (1, 4), (1, 4), (1, 4), (1, 4), (1, 4), (1, 4), (1, 4), (1, 4), (1, 4), (1, 4), (1, 4), (1, 4), (1, 4), (1, 4), (1, 4), (1, 4), (1, 4), (1, 4), (1, 4), (1, 4), (1, 4), (1, 4), (1, 4), (1, 4), (1, 4), (1, 4), (1, 4), (1, 4), (1, 4), (1, 4), (1, 4), (1, 4), (1, 4), (1, 4), (1, 4), (1, 4), (1, 4), (1, 4), (1, 4), (1, 4), (1, 4), (1, 4), (1, 4), (1, 4), (1, 4), (1, 4), (1, 4), (1, 4), (1, 4), (1, 4), (1, 4), (1, 4), (1, 4), (1, 4), (1, 4), (1, 4), (1, 4), (1, 4), (1, 4), (1, 4), (1, 4), (1, 4), (1, 4), (1, 4), (1, 4), (1, 4), (1, 4), (1, 4), (1, 4), (1, 4), (1, 4), (1, 4), (1, 4), (1, 4), (1, 4), (1, 4), (1, 4), (1, 4), (1, 4), (1, 4), (1, 4), (1, 4), (1, 4), (1, 4), (1, 4), (1, 4), (1, 4), (1, 4), (1, 4), (1, 4), (1, 4), (1, 4), (1, 4), (1, 4), (1, 4), (1, 4), (1, 4), (1, 4), (1, 4), (1, 4), (1, 4), (1, 4), (1, 4), (1, 4), (1, 4), (1, 4), (1, 4), (1, 4), (1, 4), (1, 4), (1, 4), (1, 4), (1, 4), (1, 4), (1, 4), (1, 4), (1, 4), (1, 4), (1, 4), (1, 4), (1, 4), (1, 4), (1, 4), (1, 4), (1, 4), (1, 4), (1, 4), (1, 4), (1, 4), (1, 4), (1, 4), (1, 4), (1, 4), (1, 4), (1, 4), (1, 4), (1, 4), (1, 4), (1, 4), (1, 4), (1, 4), (1, 4), (1, 4), (1, 4), (1, 4), (1, 4), (1, 4), (1, 4), (1, 4), (1, 4), (1, 4), (1, 4), (1, 4), (1, 4), (1, 4), (1, 4), (1, 4), (1, 4), (1, 4), (1, 4), (1, 4), (1, 4), (1, 4), (1, 4), (1, 4), (1, 4), (1, 4), (1, 4), (1, 4), (1, 4), (1, 4), (1, 4), (1, 4), (1, 4), (1, 4), (1, 4), (1, 4), (1, 4), (1, 4)]\n"
     ]
    }
   ],
   "source": [
    "print(posiciones_grilla)"
   ]
  },
  {
   "cell_type": "code",
   "execution_count": 0,
   "metadata": {
    "colab": {
     "autoexec": {
      "startup": false,
      "wait_interval": 0
     }
    },
    "colab_type": "code",
    "id": "oeH72sbW0kZg"
   },
   "outputs": [],
   "source": [
    "y_labels = pd.get_dummies(posiciones_grilla)"
   ]
  },
  {
   "cell_type": "code",
   "execution_count": 15,
   "metadata": {
    "colab": {
     "autoexec": {
      "startup": false,
      "wait_interval": 0
     },
     "base_uri": "https://localhost:8080/",
     "height": 6477
    },
    "colab_type": "code",
    "executionInfo": {
     "elapsed": 720,
     "status": "ok",
     "timestamp": 1525234304057,
     "user": {
      "displayName": "Fernanda Weiss",
      "photoUrl": "//lh4.googleusercontent.com/-3fKweTbnlHc/AAAAAAAAAAI/AAAAAAAAAPU/RktnQi93nyI/s50-c-k-no/photo.jpg",
      "userId": "100370788011080686465"
     },
     "user_tz": 180
    },
    "id": "y8EC2OqB0rO-",
    "outputId": "f310c1b3-bcd5-4023-ca00-a70de3bf0576"
   },
   "outputs": [
    {
     "name": "stdout",
     "output_type": "stream",
     "text": [
      "<bound method DataFrame.head of       (1, 1)  (1, 2)  (1, 3)  (1, 4)  (2, 1)  (2, 2)  (2, 3)  (2, 4)  (3, 1)  \\\n",
      "0          1       0       0       0       0       0       0       0       0   \n",
      "1          1       0       0       0       0       0       0       0       0   \n",
      "2          1       0       0       0       0       0       0       0       0   \n",
      "3          1       0       0       0       0       0       0       0       0   \n",
      "4          1       0       0       0       0       0       0       0       0   \n",
      "5          1       0       0       0       0       0       0       0       0   \n",
      "6          1       0       0       0       0       0       0       0       0   \n",
      "7          1       0       0       0       0       0       0       0       0   \n",
      "8          1       0       0       0       0       0       0       0       0   \n",
      "9          1       0       0       0       0       0       0       0       0   \n",
      "10         1       0       0       0       0       0       0       0       0   \n",
      "11         1       0       0       0       0       0       0       0       0   \n",
      "12         1       0       0       0       0       0       0       0       0   \n",
      "13         1       0       0       0       0       0       0       0       0   \n",
      "14         1       0       0       0       0       0       0       0       0   \n",
      "15         1       0       0       0       0       0       0       0       0   \n",
      "16         1       0       0       0       0       0       0       0       0   \n",
      "17         1       0       0       0       0       0       0       0       0   \n",
      "18         1       0       0       0       0       0       0       0       0   \n",
      "19         1       0       0       0       0       0       0       0       0   \n",
      "20         1       0       0       0       0       0       0       0       0   \n",
      "21         1       0       0       0       0       0       0       0       0   \n",
      "22         1       0       0       0       0       0       0       0       0   \n",
      "23         1       0       0       0       0       0       0       0       0   \n",
      "24         1       0       0       0       0       0       0       0       0   \n",
      "25         1       0       0       0       0       0       0       0       0   \n",
      "26         1       0       0       0       0       0       0       0       0   \n",
      "27         1       0       0       0       0       0       0       0       0   \n",
      "28         1       0       0       0       0       0       0       0       0   \n",
      "29         1       0       0       0       0       0       0       0       0   \n",
      "...      ...     ...     ...     ...     ...     ...     ...     ...     ...   \n",
      "6570       0       0       0       1       0       0       0       0       0   \n",
      "6571       0       0       0       1       0       0       0       0       0   \n",
      "6572       0       0       0       1       0       0       0       0       0   \n",
      "6573       0       0       0       1       0       0       0       0       0   \n",
      "6574       0       0       0       1       0       0       0       0       0   \n",
      "6575       0       0       0       1       0       0       0       0       0   \n",
      "6576       0       0       0       1       0       0       0       0       0   \n",
      "6577       0       0       0       1       0       0       0       0       0   \n",
      "6578       0       0       0       1       0       0       0       0       0   \n",
      "6579       0       0       0       1       0       0       0       0       0   \n",
      "6580       0       0       0       1       0       0       0       0       0   \n",
      "6581       0       0       0       1       0       0       0       0       0   \n",
      "6582       0       0       0       1       0       0       0       0       0   \n",
      "6583       0       0       0       1       0       0       0       0       0   \n",
      "6584       0       0       0       1       0       0       0       0       0   \n",
      "6585       0       0       0       1       0       0       0       0       0   \n",
      "6586       0       0       0       1       0       0       0       0       0   \n",
      "6587       0       0       0       1       0       0       0       0       0   \n",
      "6588       0       0       0       1       0       0       0       0       0   \n",
      "6589       0       0       0       1       0       0       0       0       0   \n",
      "6590       0       0       0       1       0       0       0       0       0   \n",
      "6591       0       0       0       1       0       0       0       0       0   \n",
      "6592       0       0       0       1       0       0       0       0       0   \n",
      "6593       0       0       0       1       0       0       0       0       0   \n",
      "6594       0       0       0       1       0       0       0       0       0   \n",
      "6595       0       0       0       1       0       0       0       0       0   \n",
      "6596       0       0       0       1       0       0       0       0       0   \n",
      "6597       0       0       0       1       0       0       0       0       0   \n",
      "6598       0       0       0       1       0       0       0       0       0   \n",
      "6599       0       0       0       1       0       0       0       0       0   \n",
      "\n",
      "      (3, 2)   ...    (4, 3)  (4, 4)  (5, 1)  (5, 2)  (5, 3)  (5, 4)  (6, 1)  \\\n",
      "0          0   ...         0       0       0       0       0       0       0   \n",
      "1          0   ...         0       0       0       0       0       0       0   \n",
      "2          0   ...         0       0       0       0       0       0       0   \n",
      "3          0   ...         0       0       0       0       0       0       0   \n",
      "4          0   ...         0       0       0       0       0       0       0   \n",
      "5          0   ...         0       0       0       0       0       0       0   \n",
      "6          0   ...         0       0       0       0       0       0       0   \n",
      "7          0   ...         0       0       0       0       0       0       0   \n",
      "8          0   ...         0       0       0       0       0       0       0   \n",
      "9          0   ...         0       0       0       0       0       0       0   \n",
      "10         0   ...         0       0       0       0       0       0       0   \n",
      "11         0   ...         0       0       0       0       0       0       0   \n",
      "12         0   ...         0       0       0       0       0       0       0   \n",
      "13         0   ...         0       0       0       0       0       0       0   \n",
      "14         0   ...         0       0       0       0       0       0       0   \n",
      "15         0   ...         0       0       0       0       0       0       0   \n",
      "16         0   ...         0       0       0       0       0       0       0   \n",
      "17         0   ...         0       0       0       0       0       0       0   \n",
      "18         0   ...         0       0       0       0       0       0       0   \n",
      "19         0   ...         0       0       0       0       0       0       0   \n",
      "20         0   ...         0       0       0       0       0       0       0   \n",
      "21         0   ...         0       0       0       0       0       0       0   \n",
      "22         0   ...         0       0       0       0       0       0       0   \n",
      "23         0   ...         0       0       0       0       0       0       0   \n",
      "24         0   ...         0       0       0       0       0       0       0   \n",
      "25         0   ...         0       0       0       0       0       0       0   \n",
      "26         0   ...         0       0       0       0       0       0       0   \n",
      "27         0   ...         0       0       0       0       0       0       0   \n",
      "28         0   ...         0       0       0       0       0       0       0   \n",
      "29         0   ...         0       0       0       0       0       0       0   \n",
      "...      ...   ...       ...     ...     ...     ...     ...     ...     ...   \n",
      "6570       0   ...         0       0       0       0       0       0       0   \n",
      "6571       0   ...         0       0       0       0       0       0       0   \n",
      "6572       0   ...         0       0       0       0       0       0       0   \n",
      "6573       0   ...         0       0       0       0       0       0       0   \n",
      "6574       0   ...         0       0       0       0       0       0       0   \n",
      "6575       0   ...         0       0       0       0       0       0       0   \n",
      "6576       0   ...         0       0       0       0       0       0       0   \n",
      "6577       0   ...         0       0       0       0       0       0       0   \n",
      "6578       0   ...         0       0       0       0       0       0       0   \n",
      "6579       0   ...         0       0       0       0       0       0       0   \n",
      "6580       0   ...         0       0       0       0       0       0       0   \n",
      "6581       0   ...         0       0       0       0       0       0       0   \n",
      "6582       0   ...         0       0       0       0       0       0       0   \n",
      "6583       0   ...         0       0       0       0       0       0       0   \n",
      "6584       0   ...         0       0       0       0       0       0       0   \n",
      "6585       0   ...         0       0       0       0       0       0       0   \n",
      "6586       0   ...         0       0       0       0       0       0       0   \n",
      "6587       0   ...         0       0       0       0       0       0       0   \n",
      "6588       0   ...         0       0       0       0       0       0       0   \n",
      "6589       0   ...         0       0       0       0       0       0       0   \n",
      "6590       0   ...         0       0       0       0       0       0       0   \n",
      "6591       0   ...         0       0       0       0       0       0       0   \n",
      "6592       0   ...         0       0       0       0       0       0       0   \n",
      "6593       0   ...         0       0       0       0       0       0       0   \n",
      "6594       0   ...         0       0       0       0       0       0       0   \n",
      "6595       0   ...         0       0       0       0       0       0       0   \n",
      "6596       0   ...         0       0       0       0       0       0       0   \n",
      "6597       0   ...         0       0       0       0       0       0       0   \n",
      "6598       0   ...         0       0       0       0       0       0       0   \n",
      "6599       0   ...         0       0       0       0       0       0       0   \n",
      "\n",
      "      (6, 2)  (6, 3)  (6, 4)  \n",
      "0          0       0       0  \n",
      "1          0       0       0  \n",
      "2          0       0       0  \n",
      "3          0       0       0  \n",
      "4          0       0       0  \n",
      "5          0       0       0  \n",
      "6          0       0       0  \n",
      "7          0       0       0  \n",
      "8          0       0       0  \n",
      "9          0       0       0  \n",
      "10         0       0       0  \n",
      "11         0       0       0  \n",
      "12         0       0       0  \n",
      "13         0       0       0  \n",
      "14         0       0       0  \n",
      "15         0       0       0  \n",
      "16         0       0       0  \n",
      "17         0       0       0  \n",
      "18         0       0       0  \n",
      "19         0       0       0  \n",
      "20         0       0       0  \n",
      "21         0       0       0  \n",
      "22         0       0       0  \n",
      "23         0       0       0  \n",
      "24         0       0       0  \n",
      "25         0       0       0  \n",
      "26         0       0       0  \n",
      "27         0       0       0  \n",
      "28         0       0       0  \n",
      "29         0       0       0  \n",
      "...      ...     ...     ...  \n",
      "6570       0       0       0  \n",
      "6571       0       0       0  \n",
      "6572       0       0       0  \n",
      "6573       0       0       0  \n",
      "6574       0       0       0  \n",
      "6575       0       0       0  \n",
      "6576       0       0       0  \n",
      "6577       0       0       0  \n",
      "6578       0       0       0  \n",
      "6579       0       0       0  \n",
      "6580       0       0       0  \n",
      "6581       0       0       0  \n",
      "6582       0       0       0  \n",
      "6583       0       0       0  \n",
      "6584       0       0       0  \n",
      "6585       0       0       0  \n",
      "6586       0       0       0  \n",
      "6587       0       0       0  \n",
      "6588       0       0       0  \n",
      "6589       0       0       0  \n",
      "6590       0       0       0  \n",
      "6591       0       0       0  \n",
      "6592       0       0       0  \n",
      "6593       0       0       0  \n",
      "6594       0       0       0  \n",
      "6595       0       0       0  \n",
      "6596       0       0       0  \n",
      "6597       0       0       0  \n",
      "6598       0       0       0  \n",
      "6599       0       0       0  \n",
      "\n",
      "[6600 rows x 24 columns]>\n"
     ]
    },
    {
     "data": {
      "text/plain": [
       "<bound method DataFrame.tail of       (1, 1)  (1, 2)  (1, 3)  (1, 4)  (2, 1)  (2, 2)  (2, 3)  (2, 4)  (3, 1)  \\\n",
       "0          1       0       0       0       0       0       0       0       0   \n",
       "1          1       0       0       0       0       0       0       0       0   \n",
       "2          1       0       0       0       0       0       0       0       0   \n",
       "3          1       0       0       0       0       0       0       0       0   \n",
       "4          1       0       0       0       0       0       0       0       0   \n",
       "5          1       0       0       0       0       0       0       0       0   \n",
       "6          1       0       0       0       0       0       0       0       0   \n",
       "7          1       0       0       0       0       0       0       0       0   \n",
       "8          1       0       0       0       0       0       0       0       0   \n",
       "9          1       0       0       0       0       0       0       0       0   \n",
       "10         1       0       0       0       0       0       0       0       0   \n",
       "11         1       0       0       0       0       0       0       0       0   \n",
       "12         1       0       0       0       0       0       0       0       0   \n",
       "13         1       0       0       0       0       0       0       0       0   \n",
       "14         1       0       0       0       0       0       0       0       0   \n",
       "15         1       0       0       0       0       0       0       0       0   \n",
       "16         1       0       0       0       0       0       0       0       0   \n",
       "17         1       0       0       0       0       0       0       0       0   \n",
       "18         1       0       0       0       0       0       0       0       0   \n",
       "19         1       0       0       0       0       0       0       0       0   \n",
       "20         1       0       0       0       0       0       0       0       0   \n",
       "21         1       0       0       0       0       0       0       0       0   \n",
       "22         1       0       0       0       0       0       0       0       0   \n",
       "23         1       0       0       0       0       0       0       0       0   \n",
       "24         1       0       0       0       0       0       0       0       0   \n",
       "25         1       0       0       0       0       0       0       0       0   \n",
       "26         1       0       0       0       0       0       0       0       0   \n",
       "27         1       0       0       0       0       0       0       0       0   \n",
       "28         1       0       0       0       0       0       0       0       0   \n",
       "29         1       0       0       0       0       0       0       0       0   \n",
       "...      ...     ...     ...     ...     ...     ...     ...     ...     ...   \n",
       "6570       0       0       0       1       0       0       0       0       0   \n",
       "6571       0       0       0       1       0       0       0       0       0   \n",
       "6572       0       0       0       1       0       0       0       0       0   \n",
       "6573       0       0       0       1       0       0       0       0       0   \n",
       "6574       0       0       0       1       0       0       0       0       0   \n",
       "6575       0       0       0       1       0       0       0       0       0   \n",
       "6576       0       0       0       1       0       0       0       0       0   \n",
       "6577       0       0       0       1       0       0       0       0       0   \n",
       "6578       0       0       0       1       0       0       0       0       0   \n",
       "6579       0       0       0       1       0       0       0       0       0   \n",
       "6580       0       0       0       1       0       0       0       0       0   \n",
       "6581       0       0       0       1       0       0       0       0       0   \n",
       "6582       0       0       0       1       0       0       0       0       0   \n",
       "6583       0       0       0       1       0       0       0       0       0   \n",
       "6584       0       0       0       1       0       0       0       0       0   \n",
       "6585       0       0       0       1       0       0       0       0       0   \n",
       "6586       0       0       0       1       0       0       0       0       0   \n",
       "6587       0       0       0       1       0       0       0       0       0   \n",
       "6588       0       0       0       1       0       0       0       0       0   \n",
       "6589       0       0       0       1       0       0       0       0       0   \n",
       "6590       0       0       0       1       0       0       0       0       0   \n",
       "6591       0       0       0       1       0       0       0       0       0   \n",
       "6592       0       0       0       1       0       0       0       0       0   \n",
       "6593       0       0       0       1       0       0       0       0       0   \n",
       "6594       0       0       0       1       0       0       0       0       0   \n",
       "6595       0       0       0       1       0       0       0       0       0   \n",
       "6596       0       0       0       1       0       0       0       0       0   \n",
       "6597       0       0       0       1       0       0       0       0       0   \n",
       "6598       0       0       0       1       0       0       0       0       0   \n",
       "6599       0       0       0       1       0       0       0       0       0   \n",
       "\n",
       "      (3, 2)   ...    (4, 3)  (4, 4)  (5, 1)  (5, 2)  (5, 3)  (5, 4)  (6, 1)  \\\n",
       "0          0   ...         0       0       0       0       0       0       0   \n",
       "1          0   ...         0       0       0       0       0       0       0   \n",
       "2          0   ...         0       0       0       0       0       0       0   \n",
       "3          0   ...         0       0       0       0       0       0       0   \n",
       "4          0   ...         0       0       0       0       0       0       0   \n",
       "5          0   ...         0       0       0       0       0       0       0   \n",
       "6          0   ...         0       0       0       0       0       0       0   \n",
       "7          0   ...         0       0       0       0       0       0       0   \n",
       "8          0   ...         0       0       0       0       0       0       0   \n",
       "9          0   ...         0       0       0       0       0       0       0   \n",
       "10         0   ...         0       0       0       0       0       0       0   \n",
       "11         0   ...         0       0       0       0       0       0       0   \n",
       "12         0   ...         0       0       0       0       0       0       0   \n",
       "13         0   ...         0       0       0       0       0       0       0   \n",
       "14         0   ...         0       0       0       0       0       0       0   \n",
       "15         0   ...         0       0       0       0       0       0       0   \n",
       "16         0   ...         0       0       0       0       0       0       0   \n",
       "17         0   ...         0       0       0       0       0       0       0   \n",
       "18         0   ...         0       0       0       0       0       0       0   \n",
       "19         0   ...         0       0       0       0       0       0       0   \n",
       "20         0   ...         0       0       0       0       0       0       0   \n",
       "21         0   ...         0       0       0       0       0       0       0   \n",
       "22         0   ...         0       0       0       0       0       0       0   \n",
       "23         0   ...         0       0       0       0       0       0       0   \n",
       "24         0   ...         0       0       0       0       0       0       0   \n",
       "25         0   ...         0       0       0       0       0       0       0   \n",
       "26         0   ...         0       0       0       0       0       0       0   \n",
       "27         0   ...         0       0       0       0       0       0       0   \n",
       "28         0   ...         0       0       0       0       0       0       0   \n",
       "29         0   ...         0       0       0       0       0       0       0   \n",
       "...      ...   ...       ...     ...     ...     ...     ...     ...     ...   \n",
       "6570       0   ...         0       0       0       0       0       0       0   \n",
       "6571       0   ...         0       0       0       0       0       0       0   \n",
       "6572       0   ...         0       0       0       0       0       0       0   \n",
       "6573       0   ...         0       0       0       0       0       0       0   \n",
       "6574       0   ...         0       0       0       0       0       0       0   \n",
       "6575       0   ...         0       0       0       0       0       0       0   \n",
       "6576       0   ...         0       0       0       0       0       0       0   \n",
       "6577       0   ...         0       0       0       0       0       0       0   \n",
       "6578       0   ...         0       0       0       0       0       0       0   \n",
       "6579       0   ...         0       0       0       0       0       0       0   \n",
       "6580       0   ...         0       0       0       0       0       0       0   \n",
       "6581       0   ...         0       0       0       0       0       0       0   \n",
       "6582       0   ...         0       0       0       0       0       0       0   \n",
       "6583       0   ...         0       0       0       0       0       0       0   \n",
       "6584       0   ...         0       0       0       0       0       0       0   \n",
       "6585       0   ...         0       0       0       0       0       0       0   \n",
       "6586       0   ...         0       0       0       0       0       0       0   \n",
       "6587       0   ...         0       0       0       0       0       0       0   \n",
       "6588       0   ...         0       0       0       0       0       0       0   \n",
       "6589       0   ...         0       0       0       0       0       0       0   \n",
       "6590       0   ...         0       0       0       0       0       0       0   \n",
       "6591       0   ...         0       0       0       0       0       0       0   \n",
       "6592       0   ...         0       0       0       0       0       0       0   \n",
       "6593       0   ...         0       0       0       0       0       0       0   \n",
       "6594       0   ...         0       0       0       0       0       0       0   \n",
       "6595       0   ...         0       0       0       0       0       0       0   \n",
       "6596       0   ...         0       0       0       0       0       0       0   \n",
       "6597       0   ...         0       0       0       0       0       0       0   \n",
       "6598       0   ...         0       0       0       0       0       0       0   \n",
       "6599       0   ...         0       0       0       0       0       0       0   \n",
       "\n",
       "      (6, 2)  (6, 3)  (6, 4)  \n",
       "0          0       0       0  \n",
       "1          0       0       0  \n",
       "2          0       0       0  \n",
       "3          0       0       0  \n",
       "4          0       0       0  \n",
       "5          0       0       0  \n",
       "6          0       0       0  \n",
       "7          0       0       0  \n",
       "8          0       0       0  \n",
       "9          0       0       0  \n",
       "10         0       0       0  \n",
       "11         0       0       0  \n",
       "12         0       0       0  \n",
       "13         0       0       0  \n",
       "14         0       0       0  \n",
       "15         0       0       0  \n",
       "16         0       0       0  \n",
       "17         0       0       0  \n",
       "18         0       0       0  \n",
       "19         0       0       0  \n",
       "20         0       0       0  \n",
       "21         0       0       0  \n",
       "22         0       0       0  \n",
       "23         0       0       0  \n",
       "24         0       0       0  \n",
       "25         0       0       0  \n",
       "26         0       0       0  \n",
       "27         0       0       0  \n",
       "28         0       0       0  \n",
       "29         0       0       0  \n",
       "...      ...     ...     ...  \n",
       "6570       0       0       0  \n",
       "6571       0       0       0  \n",
       "6572       0       0       0  \n",
       "6573       0       0       0  \n",
       "6574       0       0       0  \n",
       "6575       0       0       0  \n",
       "6576       0       0       0  \n",
       "6577       0       0       0  \n",
       "6578       0       0       0  \n",
       "6579       0       0       0  \n",
       "6580       0       0       0  \n",
       "6581       0       0       0  \n",
       "6582       0       0       0  \n",
       "6583       0       0       0  \n",
       "6584       0       0       0  \n",
       "6585       0       0       0  \n",
       "6586       0       0       0  \n",
       "6587       0       0       0  \n",
       "6588       0       0       0  \n",
       "6589       0       0       0  \n",
       "6590       0       0       0  \n",
       "6591       0       0       0  \n",
       "6592       0       0       0  \n",
       "6593       0       0       0  \n",
       "6594       0       0       0  \n",
       "6595       0       0       0  \n",
       "6596       0       0       0  \n",
       "6597       0       0       0  \n",
       "6598       0       0       0  \n",
       "6599       0       0       0  \n",
       "\n",
       "[6600 rows x 24 columns]>"
      ]
     },
     "execution_count": 15,
     "metadata": {
      "tags": []
     },
     "output_type": "execute_result"
    }
   ],
   "source": [
    "print(y_labels.head)\n",
    "y_labels.tail"
   ]
  },
  {
   "cell_type": "code",
   "execution_count": 0,
   "metadata": {
    "colab": {
     "autoexec": {
      "startup": false,
      "wait_interval": 0
     }
    },
    "colab_type": "code",
    "id": "HzytuNVWAnEe"
   },
   "outputs": [],
   "source": [
    "df.drop([\"X\",\"Y\"],axis=1,inplace=True)\n",
    "X = df.as_matrix()\n",
    "X_test = X[mask_test]\n",
    "X_train = np.delete(X,mask_test,axis=0)\n",
    "\n",
    "Y = y_labels.as_matrix()\n",
    "Y_test = Y[mask_test]\n",
    "Y_train = np.delete(Y,mask_test,axis=0)"
   ]
  },
  {
   "cell_type": "code",
   "execution_count": 17,
   "metadata": {
    "colab": {
     "autoexec": {
      "startup": false,
      "wait_interval": 0
     },
     "base_uri": "https://localhost:8080/",
     "height": 51
    },
    "colab_type": "code",
    "executionInfo": {
     "elapsed": 890,
     "status": "ok",
     "timestamp": 1525234324913,
     "user": {
      "displayName": "Fernanda Weiss",
      "photoUrl": "//lh4.googleusercontent.com/-3fKweTbnlHc/AAAAAAAAAAI/AAAAAAAAAPU/RktnQi93nyI/s50-c-k-no/photo.jpg",
      "userId": "100370788011080686465"
     },
     "user_tz": 180
    },
    "id": "R2dDUGV_CV8r",
    "outputId": "a519006e-e7ad-4870-b712-bdab3144dacd"
   },
   "outputs": [
    {
     "name": "stdout",
     "output_type": "stream",
     "text": [
      "6600\n",
      "6600\n"
     ]
    }
   ],
   "source": [
    "print(len(X_train)+len(X_test))\n",
    "print(len(Y_train)+len(Y_test))"
   ]
  },
  {
   "cell_type": "code",
   "execution_count": 18,
   "metadata": {
    "colab": {
     "autoexec": {
      "startup": false,
      "wait_interval": 0
     },
     "base_uri": "https://localhost:8080/",
     "height": 71
    },
    "colab_type": "code",
    "executionInfo": {
     "elapsed": 773,
     "status": "ok",
     "timestamp": 1525234389428,
     "user": {
      "displayName": "Fernanda Weiss",
      "photoUrl": "//lh4.googleusercontent.com/-3fKweTbnlHc/AAAAAAAAAAI/AAAAAAAAAPU/RktnQi93nyI/s50-c-k-no/photo.jpg",
      "userId": "100370788011080686465"
     },
     "user_tz": 180
    },
    "id": "LP1mn5DEDYIM",
    "outputId": "b770e220-a6b3-46a1-985b-569a63c85926"
   },
   "outputs": [
    {
     "name": "stderr",
     "output_type": "stream",
     "text": [
      "/usr/local/lib/python2.7/dist-packages/sklearn/utils/validation.py:475: DataConversionWarning: Data with input dtype int64 was converted to float64 by StandardScaler.\n",
      "  warnings.warn(msg, DataConversionWarning)\n"
     ]
    }
   ],
   "source": [
    "from sklearn.preprocessing import StandardScaler\n",
    "scaler = StandardScaler().fit(X_train)\n",
    "X_train_scaled = scaler.transform(X_train)"
   ]
  },
  {
   "cell_type": "code",
   "execution_count": 0,
   "metadata": {
    "colab": {
     "autoexec": {
      "startup": false,
      "wait_interval": 0
     }
    },
    "colab_type": "code",
    "id": "E7C18SSbFK1F"
   },
   "outputs": [],
   "source": [
    "scaler_test = StandardScaler().fit(X_test)\n",
    "X_test_scaled = scaler_test.transform(X_test)"
   ]
  },
  {
   "cell_type": "code",
   "execution_count": 19,
   "metadata": {
    "colab": {
     "autoexec": {
      "startup": false,
      "wait_interval": 0
     },
     "base_uri": "https://localhost:8080/",
     "height": 34
    },
    "colab_type": "code",
    "executionInfo": {
     "elapsed": 2168,
     "status": "ok",
     "timestamp": 1525234756717,
     "user": {
      "displayName": "Fernanda Weiss",
      "photoUrl": "//lh4.googleusercontent.com/-3fKweTbnlHc/AAAAAAAAAAI/AAAAAAAAAPU/RktnQi93nyI/s50-c-k-no/photo.jpg",
      "userId": "100370788011080686465"
     },
     "user_tz": 180
    },
    "id": "WHw2CpvtDfAS",
    "outputId": "d0b42e13-24c5-496c-e47e-9fbc5a96026c"
   },
   "outputs": [
    {
     "name": "stderr",
     "output_type": "stream",
     "text": [
      "Using TensorFlow backend.\n"
     ]
    }
   ],
   "source": [
    "import keras\n",
    "from keras.models import Sequential\n",
    "from keras.layers import Dense, Dropout, Activation, Flatten\n",
    "from keras.layers import Conv2D, MaxPooling2D\n",
    "from keras.optimizers import SGD, rmsprop\n",
    "from keras.callbacks import LearningRateScheduler\n",
    "from keras.utils import plot_model\n",
    "from keras.models import load_model"
   ]
  },
  {
   "cell_type": "code",
   "execution_count": 26,
   "metadata": {
    "colab": {
     "autoexec": {
      "startup": false,
      "wait_interval": 0
     },
     "base_uri": "https://localhost:8080/",
     "height": 34
    },
    "colab_type": "code",
    "executionInfo": {
     "elapsed": 734,
     "status": "ok",
     "timestamp": 1525235495801,
     "user": {
      "displayName": "Fernanda Weiss",
      "photoUrl": "//lh4.googleusercontent.com/-3fKweTbnlHc/AAAAAAAAAAI/AAAAAAAAAPU/RktnQi93nyI/s50-c-k-no/photo.jpg",
      "userId": "100370788011080686465"
     },
     "user_tz": 180
    },
    "id": "6B2sC4znHbWP",
    "outputId": "2bdafa67-30cb-442d-b086-47b8a38966a9"
   },
   "outputs": [
    {
     "name": "stdout",
     "output_type": "stream",
     "text": [
      "(4620, 8)\n"
     ]
    }
   ],
   "source": [
    "print(X_train.shape)"
   ]
  },
  {
   "cell_type": "code",
   "execution_count": 34,
   "metadata": {
    "colab": {
     "autoexec": {
      "startup": false,
      "wait_interval": 0
     },
     "base_uri": "https://localhost:8080/",
     "height": 374
    },
    "colab_type": "code",
    "executionInfo": {
     "elapsed": 774,
     "status": "ok",
     "timestamp": 1525236461691,
     "user": {
      "displayName": "Fernanda Weiss",
      "photoUrl": "//lh4.googleusercontent.com/-3fKweTbnlHc/AAAAAAAAAAI/AAAAAAAAAPU/RktnQi93nyI/s50-c-k-no/photo.jpg",
      "userId": "100370788011080686465"
     },
     "user_tz": 180
    },
    "id": "tLvcmqtWEtri",
    "outputId": "951a7684-7d19-44b1-b4ca-5450474d6a81"
   },
   "outputs": [
    {
     "name": "stdout",
     "output_type": "stream",
     "text": [
      "_________________________________________________________________\n",
      "Layer (type)                 Output Shape              Param #   \n",
      "=================================================================\n",
      "dense_5 (Dense)              (None, 200)               1800      \n",
      "_________________________________________________________________\n",
      "activation_4 (Activation)    (None, 200)               0         \n",
      "_________________________________________________________________\n",
      "dense_6 (Dense)              (None, 400)               80400     \n",
      "_________________________________________________________________\n",
      "activation_5 (Activation)    (None, 400)               0         \n",
      "_________________________________________________________________\n",
      "dense_7 (Dense)              (None, 200)               80200     \n",
      "_________________________________________________________________\n",
      "activation_6 (Activation)    (None, 200)               0         \n",
      "_________________________________________________________________\n",
      "dense_8 (Dense)              (None, 24)                4824      \n",
      "=================================================================\n",
      "Total params: 167,224\n",
      "Trainable params: 167,224\n",
      "Non-trainable params: 0\n",
      "_________________________________________________________________\n"
     ]
    }
   ],
   "source": [
    "model = Sequential()\n",
    "model.add(Dense(200, input_dim=X_train_scaled.shape[1], kernel_initializer='uniform'))\n",
    "model.add(Activation('relu'))\n",
    "model.add(Dense(400, kernel_initializer='uniform'))\n",
    "model.add(Activation('relu'))\n",
    "model.add(Dense(200))\n",
    "model.add(Activation('relu'))\n",
    "model.add(Dense(24, activation='softmax'))\n",
    "model.summary()\n",
    "\n"
   ]
  },
  {
   "cell_type": "code",
   "execution_count": 0,
   "metadata": {
    "colab": {
     "autoexec": {
      "startup": false,
      "wait_interval": 0
     }
    },
    "colab_type": "code",
    "id": "l6uZv60_ItTb"
   },
   "outputs": [],
   "source": [
    "sgd = SGD(lr=0.001)\n",
    "model.compile(optimizer=sgd,loss='categorical_crossentropy', metrics=['acc'])"
   ]
  },
  {
   "cell_type": "code",
   "execution_count": 0,
   "metadata": {
    "colab": {
     "autoexec": {
      "startup": false,
      "wait_interval": 0
     },
     "base_uri": "https://localhost:8080/",
     "height": 8520
    },
    "colab_type": "code",
    "id": "mYyV-VZiJEPn",
    "outputId": "b9242922-861f-4217-de6f-5282ea7d525d",
    "scrolled": true
   },
   "outputs": [
    {
     "name": "stdout",
     "output_type": "stream",
     "text": [
      "Train on 4620 samples, validate on 1980 samples\n",
      "Epoch 1/300\n",
      "4620/4620 [==============================] - 1s 154us/step - loss: 3.1766 - acc: 0.0790 - val_loss: 3.1753 - val_acc: 0.0864\n",
      "Epoch 2/300\n",
      "4620/4620 [==============================] - 1s 125us/step - loss: 3.1729 - acc: 0.0978 - val_loss: 3.1716 - val_acc: 0.1141\n",
      "Epoch 3/300\n",
      "4620/4620 [==============================] - 1s 130us/step - loss: 3.1693 - acc: 0.1390 - val_loss: 3.1680 - val_acc: 0.1641\n",
      "Epoch 4/300\n",
      "4620/4620 [==============================] - 1s 141us/step - loss: 3.1657 - acc: 0.1745 - val_loss: 3.1645 - val_acc: 0.1758\n",
      "Epoch 5/300\n",
      "4620/4620 [==============================] - 1s 139us/step - loss: 3.1622 - acc: 0.1872 - val_loss: 3.1610 - val_acc: 0.1843\n",
      "Epoch 6/300\n",
      "4620/4620 [==============================] - 1s 136us/step - loss: 3.1587 - acc: 0.1965 - val_loss: 3.1576 - val_acc: 0.1980\n",
      "Epoch 7/300\n",
      "4620/4620 [==============================] - 1s 137us/step - loss: 3.1552 - acc: 0.2069 - val_loss: 3.1541 - val_acc: 0.2045\n",
      "Epoch 8/300\n",
      "4620/4620 [==============================] - 1s 136us/step - loss: 3.1517 - acc: 0.2082 - val_loss: 3.1507 - val_acc: 0.2096\n",
      "Epoch 9/300\n",
      "4620/4620 [==============================] - 1s 140us/step - loss: 3.1483 - acc: 0.2160 - val_loss: 3.1473 - val_acc: 0.2121\n",
      "Epoch 10/300\n",
      "4620/4620 [==============================] - 1s 141us/step - loss: 3.1448 - acc: 0.2258 - val_loss: 3.1438 - val_acc: 0.2207\n",
      "Epoch 11/300\n",
      "1280/4620 [=======>......................] - ETA: 0s - loss: 3.1421 - acc: 0.23524620/4620 [==============================] - 1s 135us/step - loss: 3.1413 - acc: 0.2361 - val_loss: 3.1403 - val_acc: 0.2217\n",
      "Epoch 12/300\n",
      "4620/4620 [==============================] - 1s 141us/step - loss: 3.1378 - acc: 0.2407 - val_loss: 3.1369 - val_acc: 0.2268\n",
      "Epoch 13/300\n",
      "4620/4620 [==============================] - 1s 139us/step - loss: 3.1343 - acc: 0.2450 - val_loss: 3.1333 - val_acc: 0.2308\n",
      "Epoch 14/300\n",
      "4620/4620 [==============================] - 1s 137us/step - loss: 3.1306 - acc: 0.2535 - val_loss: 3.1297 - val_acc: 0.2313\n",
      "Epoch 15/300\n",
      "4620/4620 [==============================] - 1s 149us/step - loss: 3.1269 - acc: 0.2580 - val_loss: 3.1259 - val_acc: 0.2354\n",
      "Epoch 16/300\n",
      "4620/4620 [==============================] - 1s 151us/step - loss: 3.1231 - acc: 0.2660 - val_loss: 3.1221 - val_acc: 0.2414\n",
      "Epoch 17/300\n",
      "4620/4620 [==============================] - 1s 143us/step - loss: 3.1192 - acc: 0.2697 - val_loss: 3.1182 - val_acc: 0.2460\n",
      "Epoch 18/300\n",
      "4620/4620 [==============================] - 1s 142us/step - loss: 3.1152 - acc: 0.2755 - val_loss: 3.1142 - val_acc: 0.2505\n",
      "Epoch 19/300\n",
      "4620/4620 [==============================] - 1s 133us/step - loss: 3.1111 - acc: 0.2810 - val_loss: 3.1101 - val_acc: 0.2561\n",
      "Epoch 20/300\n",
      "4620/4620 [==============================] - 1s 144us/step - loss: 3.1069 - acc: 0.2861 - val_loss: 3.1058 - val_acc: 0.2621\n",
      "Epoch 21/300\n",
      "1728/4620 [==========>...................] - ETA: 0s - loss: 3.1061 - acc: 0.28364620/4620 [==============================] - 1s 143us/step - loss: 3.1026 - acc: 0.2894 - val_loss: 3.1015 - val_acc: 0.2657\n",
      "Epoch 22/300\n",
      "4620/4620 [==============================] - 1s 144us/step - loss: 3.0981 - acc: 0.2879 - val_loss: 3.0970 - val_acc: 0.2727\n",
      "Epoch 23/300\n",
      "4620/4620 [==============================] - 1s 138us/step - loss: 3.0936 - acc: 0.2942 - val_loss: 3.0924 - val_acc: 0.2773\n",
      "Epoch 24/300\n",
      "4620/4620 [==============================] - 1s 136us/step - loss: 3.0888 - acc: 0.2985 - val_loss: 3.0876 - val_acc: 0.2778\n",
      "Epoch 25/300\n",
      "4620/4620 [==============================] - 1s 139us/step - loss: 3.0840 - acc: 0.2976 - val_loss: 3.0827 - val_acc: 0.2798\n",
      "Epoch 26/300\n",
      "4620/4620 [==============================] - 1s 137us/step - loss: 3.0789 - acc: 0.2959 - val_loss: 3.0776 - val_acc: 0.2793\n",
      "Epoch 27/300\n",
      "4620/4620 [==============================] - 1s 140us/step - loss: 3.0737 - acc: 0.2965 - val_loss: 3.0723 - val_acc: 0.2813\n",
      "Epoch 28/300\n",
      "4620/4620 [==============================] - 1s 135us/step - loss: 3.0682 - acc: 0.2978 - val_loss: 3.0668 - val_acc: 0.2848\n",
      "Epoch 29/300\n",
      "4620/4620 [==============================] - 1s 140us/step - loss: 3.0626 - acc: 0.2983 - val_loss: 3.0611 - val_acc: 0.2823\n",
      "Epoch 30/300\n",
      "4620/4620 [==============================] - 1s 139us/step - loss: 3.0567 - acc: 0.2981 - val_loss: 3.0551 - val_acc: 0.2788\n",
      "Epoch 31/300\n",
      "3872/4620 [========================>.....] - ETA: 0s - loss: 3.0509 - acc: 0.29574620/4620 [==============================] - 1s 139us/step - loss: 3.0505 - acc: 0.2968 - val_loss: 3.0489 - val_acc: 0.2778\n",
      "Epoch 32/300\n",
      "4620/4620 [==============================] - 1s 142us/step - loss: 3.0441 - acc: 0.2965 - val_loss: 3.0423 - val_acc: 0.2778\n",
      "Epoch 33/300\n",
      "4620/4620 [==============================] - 1s 140us/step - loss: 3.0373 - acc: 0.2959 - val_loss: 3.0355 - val_acc: 0.2783\n",
      "Epoch 34/300\n",
      "4620/4620 [==============================] - 1s 139us/step - loss: 3.0303 - acc: 0.2976 - val_loss: 3.0284 - val_acc: 0.2798\n",
      "Epoch 35/300\n",
      "4620/4620 [==============================] - 1s 137us/step - loss: 3.0229 - acc: 0.2965 - val_loss: 3.0209 - val_acc: 0.2803\n",
      "Epoch 36/300\n",
      "4620/4620 [==============================] - 1s 134us/step - loss: 3.0152 - acc: 0.2976 - val_loss: 3.0131 - val_acc: 0.2813\n",
      "Epoch 37/300\n",
      "4620/4620 [==============================] - 1s 136us/step - loss: 3.0071 - acc: 0.2983 - val_loss: 3.0049 - val_acc: 0.2818\n",
      "Epoch 38/300\n",
      "4620/4620 [==============================] - 1s 138us/step - loss: 2.9987 - acc: 0.2965 - val_loss: 2.9963 - val_acc: 0.2783\n",
      "Epoch 39/300\n",
      "4620/4620 [==============================] - 1s 139us/step - loss: 2.9898 - acc: 0.2939 - val_loss: 2.9873 - val_acc: 0.2803\n",
      "Epoch 40/300\n",
      "4620/4620 [==============================] - 1s 133us/step - loss: 2.9805 - acc: 0.2935 - val_loss: 2.9778 - val_acc: 0.2808\n",
      "Epoch 41/300\n",
      "3936/4620 [========================>.....] - ETA: 0s - loss: 2.9708 - acc: 0.29654620/4620 [==============================] - 1s 136us/step - loss: 2.9707 - acc: 0.2937 - val_loss: 2.9679 - val_acc: 0.2778\n",
      "Epoch 42/300\n",
      "4620/4620 [==============================] - 1s 138us/step - loss: 2.9605 - acc: 0.2939 - val_loss: 2.9575 - val_acc: 0.2768\n",
      "Epoch 43/300\n",
      "4620/4620 [==============================] - 1s 136us/step - loss: 2.9497 - acc: 0.2948 - val_loss: 2.9467 - val_acc: 0.2793\n",
      "Epoch 44/300\n",
      "4620/4620 [==============================] - 1s 136us/step - loss: 2.9385 - acc: 0.2946 - val_loss: 2.9352 - val_acc: 0.2778\n",
      "Epoch 45/300\n",
      "4620/4620 [==============================] - 1s 138us/step - loss: 2.9267 - acc: 0.2931 - val_loss: 2.9233 - val_acc: 0.2737\n",
      "Epoch 46/300\n",
      "4620/4620 [==============================] - 1s 140us/step - loss: 2.9144 - acc: 0.2896 - val_loss: 2.9107 - val_acc: 0.2732\n",
      "Epoch 47/300\n",
      "4620/4620 [==============================] - 1s 148us/step - loss: 2.9015 - acc: 0.2894 - val_loss: 2.8976 - val_acc: 0.2727\n",
      "Epoch 48/300\n",
      "4620/4620 [==============================] - 1s 144us/step - loss: 2.8880 - acc: 0.2833 - val_loss: 2.8839 - val_acc: 0.2692\n",
      "Epoch 49/300\n",
      "4620/4620 [==============================] - 1s 147us/step - loss: 2.8739 - acc: 0.2872 - val_loss: 2.8697 - val_acc: 0.2657\n",
      "Epoch 50/300\n",
      "4620/4620 [==============================] - 1s 143us/step - loss: 2.8592 - acc: 0.2846 - val_loss: 2.8547 - val_acc: 0.2621\n",
      "Epoch 51/300\n",
      "2176/4620 [=============>................] - ETA: 0s - loss: 2.8432 - acc: 0.28774620/4620 [==============================] - 1s 137us/step - loss: 2.8439 - acc: 0.2840 - val_loss: 2.8392 - val_acc: 0.2611\n",
      "Epoch 52/300\n",
      "4620/4620 [==============================] - 1s 143us/step - loss: 2.8279 - acc: 0.2859 - val_loss: 2.8229 - val_acc: 0.2621\n",
      "Epoch 53/300\n",
      "4620/4620 [==============================] - 1s 137us/step - loss: 2.8113 - acc: 0.2898 - val_loss: 2.8061 - val_acc: 0.2636\n",
      "Epoch 54/300\n",
      "4620/4620 [==============================] - 1s 144us/step - loss: 2.7940 - acc: 0.2913 - val_loss: 2.7887 - val_acc: 0.2682\n",
      "Epoch 55/300\n",
      "4620/4620 [==============================] - 1s 150us/step - loss: 2.7763 - acc: 0.2961 - val_loss: 2.7707 - val_acc: 0.2707\n",
      "Epoch 56/300\n",
      "4620/4620 [==============================] - 1s 149us/step - loss: 2.7580 - acc: 0.2983 - val_loss: 2.7522 - val_acc: 0.2768\n",
      "Epoch 57/300\n",
      "4620/4620 [==============================] - 1s 142us/step - loss: 2.7391 - acc: 0.3015 - val_loss: 2.7331 - val_acc: 0.2798\n",
      "Epoch 58/300\n",
      "4620/4620 [==============================] - 1s 142us/step - loss: 2.7197 - acc: 0.3121 - val_loss: 2.7134 - val_acc: 0.2874\n",
      "Epoch 59/300\n",
      "4620/4620 [==============================] - 1s 143us/step - loss: 2.6997 - acc: 0.3199 - val_loss: 2.6932 - val_acc: 0.2980\n",
      "Epoch 60/300\n",
      "4620/4620 [==============================] - 1s 142us/step - loss: 2.6793 - acc: 0.3268 - val_loss: 2.6724 - val_acc: 0.3035\n",
      "Epoch 61/300\n"
     ]
    },
    {
     "name": "stdout",
     "output_type": "stream",
     "text": [
      "1696/4620 [==========>...................] - ETA: 0s - loss: 2.6693 - acc: 0.33084620/4620 [==============================] - 1s 144us/step - loss: 2.6583 - acc: 0.3327 - val_loss: 2.6512 - val_acc: 0.3131\n",
      "Epoch 62/300\n",
      "4620/4620 [==============================] - 1s 142us/step - loss: 2.6368 - acc: 0.3372 - val_loss: 2.6294 - val_acc: 0.3187\n",
      "Epoch 63/300\n",
      "4620/4620 [==============================] - 1s 143us/step - loss: 2.6148 - acc: 0.3416 - val_loss: 2.6070 - val_acc: 0.3237\n",
      "Epoch 64/300\n",
      "4620/4620 [==============================] - 1s 145us/step - loss: 2.5923 - acc: 0.3439 - val_loss: 2.5841 - val_acc: 0.3247\n",
      "Epoch 65/300\n",
      "4620/4620 [==============================] - 1s 145us/step - loss: 2.5693 - acc: 0.3481 - val_loss: 2.5607 - val_acc: 0.3273\n",
      "Epoch 66/300\n",
      "4620/4620 [==============================] - 1s 148us/step - loss: 2.5458 - acc: 0.3489 - val_loss: 2.5368 - val_acc: 0.3308\n",
      "Epoch 67/300\n",
      "4620/4620 [==============================] - 1s 144us/step - loss: 2.5219 - acc: 0.3519 - val_loss: 2.5125 - val_acc: 0.3343\n",
      "Epoch 68/300\n",
      "4620/4620 [==============================] - 1s 143us/step - loss: 2.4976 - acc: 0.3530 - val_loss: 2.4878 - val_acc: 0.3384\n",
      "Epoch 69/300\n",
      "4620/4620 [==============================] - 1s 136us/step - loss: 2.4729 - acc: 0.3537 - val_loss: 2.4628 - val_acc: 0.3394\n",
      "Epoch 70/300\n",
      "4620/4620 [==============================] - 1s 140us/step - loss: 2.4480 - acc: 0.3550 - val_loss: 2.4375 - val_acc: 0.3404\n",
      "Epoch 71/300\n",
      "2176/4620 [=============>................] - ETA: 0s - loss: 2.4217 - acc: 0.36904620/4620 [==============================] - 1s 140us/step - loss: 2.4228 - acc: 0.3584 - val_loss: 2.4119 - val_acc: 0.3455\n",
      "Epoch 72/300\n",
      "4620/4620 [==============================] - 1s 137us/step - loss: 2.3973 - acc: 0.3617 - val_loss: 2.3861 - val_acc: 0.3475\n",
      "Epoch 73/300\n",
      "4620/4620 [==============================] - 1s 140us/step - loss: 2.3716 - acc: 0.3665 - val_loss: 2.3601 - val_acc: 0.3500\n",
      "Epoch 74/300\n",
      "4620/4620 [==============================] - 1s 136us/step - loss: 2.3458 - acc: 0.3695 - val_loss: 2.3339 - val_acc: 0.3525\n",
      "Epoch 75/300\n",
      "4620/4620 [==============================] - 1s 138us/step - loss: 2.3198 - acc: 0.3732 - val_loss: 2.3075 - val_acc: 0.3601\n",
      "Epoch 76/300\n",
      "4620/4620 [==============================] - 1s 145us/step - loss: 2.2937 - acc: 0.3801 - val_loss: 2.2812 - val_acc: 0.3626\n",
      "Epoch 77/300\n",
      "4620/4620 [==============================] - 1s 139us/step - loss: 2.2676 - acc: 0.3874 - val_loss: 2.2547 - val_acc: 0.3722\n",
      "Epoch 78/300\n",
      "4620/4620 [==============================] - 1s 139us/step - loss: 2.2415 - acc: 0.3957 - val_loss: 2.2283 - val_acc: 0.3833\n",
      "Epoch 79/300\n",
      "4620/4620 [==============================] - 1s 137us/step - loss: 2.2153 - acc: 0.4017 - val_loss: 2.2019 - val_acc: 0.3919\n",
      "Epoch 80/300\n",
      "4620/4620 [==============================] - 1s 137us/step - loss: 2.1892 - acc: 0.4121 - val_loss: 2.1754 - val_acc: 0.4000\n",
      "Epoch 81/300\n",
      "3712/4620 [=======================>......] - ETA: 0s - loss: 2.1676 - acc: 0.41704620/4620 [==============================] - 1s 142us/step - loss: 2.1630 - acc: 0.4214 - val_loss: 2.1489 - val_acc: 0.4131\n",
      "Epoch 82/300\n",
      "4620/4620 [==============================] - 1s 143us/step - loss: 2.1368 - acc: 0.4279 - val_loss: 2.1225 - val_acc: 0.4273\n",
      "Epoch 83/300\n",
      "4620/4620 [==============================] - 1s 138us/step - loss: 2.1107 - acc: 0.4398 - val_loss: 2.0963 - val_acc: 0.4308\n",
      "Epoch 84/300\n",
      "4620/4620 [==============================] - 1s 141us/step - loss: 2.0848 - acc: 0.4455 - val_loss: 2.0700 - val_acc: 0.4449\n",
      "Epoch 85/300\n",
      "4620/4620 [==============================] - 1s 138us/step - loss: 2.0589 - acc: 0.4574 - val_loss: 2.0439 - val_acc: 0.4545\n",
      "Epoch 86/300\n",
      "4620/4620 [==============================] - 1s 141us/step - loss: 2.0332 - acc: 0.4621 - val_loss: 2.0180 - val_acc: 0.4631\n",
      "Epoch 87/300\n",
      "4620/4620 [==============================] - 1s 140us/step - loss: 2.0077 - acc: 0.4708 - val_loss: 1.9922 - val_acc: 0.4707\n",
      "Epoch 88/300\n",
      "4620/4620 [==============================] - 1s 137us/step - loss: 1.9825 - acc: 0.4738 - val_loss: 1.9664 - val_acc: 0.4833\n",
      "Epoch 89/300\n",
      "4620/4620 [==============================] - 1s 141us/step - loss: 1.9573 - acc: 0.4794 - val_loss: 1.9410 - val_acc: 0.4904\n",
      "Epoch 90/300\n",
      "4620/4620 [==============================] - 1s 135us/step - loss: 1.9325 - acc: 0.4879 - val_loss: 1.9157 - val_acc: 0.4924\n",
      "Epoch 91/300\n",
      "3392/4620 [=====================>........] - ETA: 0s - loss: 1.9093 - acc: 0.49204620/4620 [==============================] - 1s 137us/step - loss: 1.9079 - acc: 0.4909 - val_loss: 1.8907 - val_acc: 0.4955\n",
      "Epoch 92/300\n",
      "4620/4620 [==============================] - 1s 142us/step - loss: 1.8836 - acc: 0.4952 - val_loss: 1.8661 - val_acc: 0.4975\n",
      "Epoch 93/300\n",
      "4620/4620 [==============================] - 1s 137us/step - loss: 1.8597 - acc: 0.4987 - val_loss: 1.8418 - val_acc: 0.5015\n",
      "Epoch 94/300\n",
      "4620/4620 [==============================] - 1s 142us/step - loss: 1.8362 - acc: 0.5000 - val_loss: 1.8178 - val_acc: 0.5071\n",
      "Epoch 95/300\n",
      "4620/4620 [==============================] - 1s 137us/step - loss: 1.8131 - acc: 0.5065 - val_loss: 1.7943 - val_acc: 0.5091\n",
      "Epoch 96/300\n",
      "4620/4620 [==============================] - 1s 141us/step - loss: 1.7903 - acc: 0.5123 - val_loss: 1.7711 - val_acc: 0.5106\n",
      "Epoch 97/300\n",
      "4620/4620 [==============================] - 1s 137us/step - loss: 1.7680 - acc: 0.5158 - val_loss: 1.7484 - val_acc: 0.5126\n",
      "Epoch 98/300\n",
      "4620/4620 [==============================] - 1s 134us/step - loss: 1.7462 - acc: 0.5182 - val_loss: 1.7263 - val_acc: 0.5172\n",
      "Epoch 99/300\n",
      "4620/4620 [==============================] - 1s 140us/step - loss: 1.7248 - acc: 0.5175 - val_loss: 1.7048 - val_acc: 0.5237\n",
      "Epoch 100/300\n",
      "4620/4620 [==============================] - 1s 137us/step - loss: 1.7039 - acc: 0.5268 - val_loss: 1.6835 - val_acc: 0.5258\n",
      "Epoch 101/300\n",
      "3264/4620 [====================>.........] - ETA: 0s - loss: 1.6743 - acc: 0.53774620/4620 [==============================] - 1s 142us/step - loss: 1.6832 - acc: 0.5284 - val_loss: 1.6625 - val_acc: 0.5318\n",
      "Epoch 102/300\n",
      "4620/4620 [==============================] - 1s 135us/step - loss: 1.6630 - acc: 0.5266 - val_loss: 1.6421 - val_acc: 0.5359\n",
      "Epoch 103/300\n",
      "4620/4620 [==============================] - 1s 135us/step - loss: 1.6433 - acc: 0.5307 - val_loss: 1.6224 - val_acc: 0.5389\n",
      "Epoch 104/300\n",
      "4620/4620 [==============================] - 1s 142us/step - loss: 1.6241 - acc: 0.5335 - val_loss: 1.6031 - val_acc: 0.5374\n",
      "Epoch 105/300\n",
      "4620/4620 [==============================] - 1s 144us/step - loss: 1.6054 - acc: 0.5353 - val_loss: 1.5843 - val_acc: 0.5394\n",
      "Epoch 106/300\n",
      "4620/4620 [==============================] - 1s 138us/step - loss: 1.5872 - acc: 0.5366 - val_loss: 1.5660 - val_acc: 0.5465\n",
      "Epoch 107/300\n",
      "4620/4620 [==============================] - 1s 137us/step - loss: 1.5695 - acc: 0.5433 - val_loss: 1.5483 - val_acc: 0.5470\n",
      "Epoch 108/300\n",
      "4620/4620 [==============================] - 1s 142us/step - loss: 1.5522 - acc: 0.5476 - val_loss: 1.5312 - val_acc: 0.5475\n",
      "Epoch 109/300\n",
      "4620/4620 [==============================] - 1s 136us/step - loss: 1.5355 - acc: 0.5504 - val_loss: 1.5144 - val_acc: 0.5495\n",
      "Epoch 110/300\n",
      "4620/4620 [==============================] - 1s 137us/step - loss: 1.5192 - acc: 0.5530 - val_loss: 1.4981 - val_acc: 0.5520\n",
      "Epoch 111/300\n",
      "3136/4620 [===================>..........] - ETA: 0s - loss: 1.4922 - acc: 0.55844620/4620 [==============================] - 1s 135us/step - loss: 1.5034 - acc: 0.5595 - val_loss: 1.4823 - val_acc: 0.5535\n",
      "Epoch 112/300\n",
      "4620/4620 [==============================] - 1s 136us/step - loss: 1.4881 - acc: 0.5552 - val_loss: 1.4670 - val_acc: 0.5576\n",
      "Epoch 113/300\n",
      "4620/4620 [==============================] - 1s 139us/step - loss: 1.4731 - acc: 0.5623 - val_loss: 1.4520 - val_acc: 0.5626\n",
      "Epoch 114/300\n",
      "4620/4620 [==============================] - 1s 136us/step - loss: 1.4585 - acc: 0.5667 - val_loss: 1.4376 - val_acc: 0.5657\n",
      "Epoch 115/300\n",
      "4620/4620 [==============================] - 1s 138us/step - loss: 1.4443 - acc: 0.5660 - val_loss: 1.4233 - val_acc: 0.5702\n",
      "Epoch 116/300\n",
      "4620/4620 [==============================] - 1s 134us/step - loss: 1.4305 - acc: 0.5742 - val_loss: 1.4094 - val_acc: 0.5763\n",
      "Epoch 117/300\n",
      "4620/4620 [==============================] - 1s 137us/step - loss: 1.4171 - acc: 0.5801 - val_loss: 1.3963 - val_acc: 0.5773\n",
      "Epoch 118/300\n",
      "4620/4620 [==============================] - 1s 139us/step - loss: 1.4040 - acc: 0.5838 - val_loss: 1.3832 - val_acc: 0.5773\n",
      "Epoch 119/300\n",
      "4620/4620 [==============================] - 1s 139us/step - loss: 1.3913 - acc: 0.5831 - val_loss: 1.3707 - val_acc: 0.5808\n",
      "Epoch 120/300\n",
      "4620/4620 [==============================] - 1s 138us/step - loss: 1.3788 - acc: 0.5833 - val_loss: 1.3581 - val_acc: 0.5864\n",
      "Epoch 121/300\n"
     ]
    },
    {
     "name": "stdout",
     "output_type": "stream",
     "text": [
      "3584/4620 [======================>.......] - ETA: 0s - loss: 1.3682 - acc: 0.59324620/4620 [==============================] - 1s 132us/step - loss: 1.3668 - acc: 0.5900 - val_loss: 1.3458 - val_acc: 0.5949\n",
      "Epoch 122/300\n",
      "4620/4620 [==============================] - 1s 142us/step - loss: 1.3548 - acc: 0.5924 - val_loss: 1.3342 - val_acc: 0.6005\n",
      "Epoch 123/300\n",
      "4620/4620 [==============================] - 1s 138us/step - loss: 1.3431 - acc: 0.6082 - val_loss: 1.3223 - val_acc: 0.6000\n",
      "Epoch 124/300\n",
      "4620/4620 [==============================] - 1s 136us/step - loss: 1.3319 - acc: 0.5955 - val_loss: 1.3110 - val_acc: 0.5995\n",
      "Epoch 125/300\n",
      "4620/4620 [==============================] - 1s 137us/step - loss: 1.3209 - acc: 0.6028 - val_loss: 1.3005 - val_acc: 0.6091\n",
      "Epoch 126/300\n",
      "4620/4620 [==============================] - 1s 135us/step - loss: 1.3102 - acc: 0.6093 - val_loss: 1.2900 - val_acc: 0.6121\n",
      "Epoch 127/300\n",
      "4620/4620 [==============================] - 1s 135us/step - loss: 1.2995 - acc: 0.6186 - val_loss: 1.2788 - val_acc: 0.6126\n",
      "Epoch 128/300\n",
      "4620/4620 [==============================] - 1s 143us/step - loss: 1.2892 - acc: 0.6132 - val_loss: 1.2683 - val_acc: 0.6167\n",
      "Epoch 129/300\n",
      "4620/4620 [==============================] - 1s 143us/step - loss: 1.2789 - acc: 0.6223 - val_loss: 1.2582 - val_acc: 0.6172\n",
      "Epoch 130/300\n",
      "4620/4620 [==============================] - 1s 143us/step - loss: 1.2689 - acc: 0.6238 - val_loss: 1.2485 - val_acc: 0.6162\n",
      "Epoch 131/300\n",
      "2976/4620 [==================>...........] - ETA: 0s - loss: 1.2617 - acc: 0.62234620/4620 [==============================] - 1s 143us/step - loss: 1.2591 - acc: 0.6251 - val_loss: 1.2386 - val_acc: 0.6167\n",
      "Epoch 132/300\n",
      "4620/4620 [==============================] - 1s 141us/step - loss: 1.2494 - acc: 0.6264 - val_loss: 1.2289 - val_acc: 0.6217\n",
      "Epoch 133/300\n",
      "4620/4620 [==============================] - 1s 145us/step - loss: 1.2401 - acc: 0.6312 - val_loss: 1.2193 - val_acc: 0.6232\n",
      "Epoch 134/300\n",
      "4620/4620 [==============================] - 1s 142us/step - loss: 1.2309 - acc: 0.6351 - val_loss: 1.2105 - val_acc: 0.6283\n",
      "Epoch 135/300\n",
      "4620/4620 [==============================] - 1s 138us/step - loss: 1.2218 - acc: 0.6398 - val_loss: 1.2020 - val_acc: 0.6293\n",
      "Epoch 136/300\n",
      "4620/4620 [==============================] - 1s 142us/step - loss: 1.2130 - acc: 0.6400 - val_loss: 1.1930 - val_acc: 0.6364\n",
      "Epoch 137/300\n",
      "4620/4620 [==============================] - 1s 142us/step - loss: 1.2042 - acc: 0.6446 - val_loss: 1.1838 - val_acc: 0.6364\n",
      "Epoch 138/300\n",
      "4620/4620 [==============================] - 1s 142us/step - loss: 1.1956 - acc: 0.6442 - val_loss: 1.1750 - val_acc: 0.6404\n",
      "Epoch 139/300\n",
      "4620/4620 [==============================] - 1s 144us/step - loss: 1.1873 - acc: 0.6468 - val_loss: 1.1663 - val_acc: 0.6429\n",
      "Epoch 140/300\n",
      "4620/4620 [==============================] - 1s 141us/step - loss: 1.1790 - acc: 0.6522 - val_loss: 1.1577 - val_acc: 0.6475\n",
      "Epoch 141/300\n",
      "2112/4620 [============>.................] - ETA: 0s - loss: 1.1666 - acc: 0.65624620/4620 [==============================] - 1s 137us/step - loss: 1.1702 - acc: 0.6539 - val_loss: 1.1494 - val_acc: 0.6520\n",
      "Epoch 142/300\n",
      "4620/4620 [==============================] - 1s 139us/step - loss: 1.1615 - acc: 0.6584 - val_loss: 1.1413 - val_acc: 0.6551\n",
      "Epoch 143/300\n",
      "4620/4620 [==============================] - 1s 138us/step - loss: 1.1531 - acc: 0.6652 - val_loss: 1.1320 - val_acc: 0.6556\n",
      "Epoch 144/300\n",
      "4620/4620 [==============================] - 1s 134us/step - loss: 1.1449 - acc: 0.6613 - val_loss: 1.1244 - val_acc: 0.6586\n",
      "Epoch 145/300\n",
      "4620/4620 [==============================] - 1s 139us/step - loss: 1.1367 - acc: 0.6675 - val_loss: 1.1160 - val_acc: 0.6621\n",
      "Epoch 146/300\n",
      "4620/4620 [==============================] - 1s 137us/step - loss: 1.1285 - acc: 0.6708 - val_loss: 1.1081 - val_acc: 0.6631\n",
      "Epoch 147/300\n",
      "4620/4620 [==============================] - 1s 139us/step - loss: 1.1207 - acc: 0.6684 - val_loss: 1.1001 - val_acc: 0.6727\n",
      "Epoch 148/300\n",
      "4620/4620 [==============================] - 1s 140us/step - loss: 1.1130 - acc: 0.6742 - val_loss: 1.0928 - val_acc: 0.6692\n",
      "Epoch 149/300\n",
      "4620/4620 [==============================] - 1s 136us/step - loss: 1.1053 - acc: 0.6740 - val_loss: 1.0859 - val_acc: 0.6712\n",
      "Epoch 150/300\n",
      "4620/4620 [==============================] - 1s 145us/step - loss: 1.0976 - acc: 0.6764 - val_loss: 1.0782 - val_acc: 0.6747\n",
      "Epoch 151/300\n",
      "2720/4620 [================>.............] - ETA: 0s - loss: 1.0982 - acc: 0.67764620/4620 [==============================] - 1s 145us/step - loss: 1.0902 - acc: 0.6781 - val_loss: 1.0708 - val_acc: 0.6783\n",
      "Epoch 152/300\n",
      "4620/4620 [==============================] - 1s 141us/step - loss: 1.0828 - acc: 0.6762 - val_loss: 1.0640 - val_acc: 0.6793\n",
      "Epoch 153/300\n",
      "4620/4620 [==============================] - 1s 139us/step - loss: 1.0756 - acc: 0.6857 - val_loss: 1.0572 - val_acc: 0.6808\n",
      "Epoch 154/300\n",
      "4620/4620 [==============================] - 1s 137us/step - loss: 1.0684 - acc: 0.6831 - val_loss: 1.0503 - val_acc: 0.6833\n",
      "Epoch 155/300\n",
      "4620/4620 [==============================] - 1s 134us/step - loss: 1.0613 - acc: 0.6831 - val_loss: 1.0434 - val_acc: 0.6894\n",
      "Epoch 156/300\n",
      "4620/4620 [==============================] - 1s 140us/step - loss: 1.0544 - acc: 0.6887 - val_loss: 1.0371 - val_acc: 0.6894\n",
      "Epoch 157/300\n",
      "4620/4620 [==============================] - 1s 137us/step - loss: 1.0476 - acc: 0.6907 - val_loss: 1.0308 - val_acc: 0.6899\n",
      "Epoch 158/300\n",
      "4620/4620 [==============================] - 1s 138us/step - loss: 1.0408 - acc: 0.6946 - val_loss: 1.0238 - val_acc: 0.6949\n",
      "Epoch 159/300\n",
      "4620/4620 [==============================] - 1s 135us/step - loss: 1.0341 - acc: 0.6952 - val_loss: 1.0167 - val_acc: 0.6960\n",
      "Epoch 160/300\n",
      "4620/4620 [==============================] - 1s 135us/step - loss: 1.0274 - acc: 0.6937 - val_loss: 1.0114 - val_acc: 0.6949\n",
      "Epoch 161/300\n",
      "3360/4620 [====================>.........] - ETA: 0s - loss: 1.0233 - acc: 0.70364620/4620 [==============================] - 1s 140us/step - loss: 1.0211 - acc: 0.6952 - val_loss: 1.0047 - val_acc: 0.6985\n",
      "Epoch 162/300\n",
      "4620/4620 [==============================] - 1s 138us/step - loss: 1.0146 - acc: 0.6985 - val_loss: 0.9985 - val_acc: 0.7005\n",
      "Epoch 163/300\n",
      "4620/4620 [==============================] - 1s 130us/step - loss: 1.0083 - acc: 0.6987 - val_loss: 0.9922 - val_acc: 0.7051\n",
      "Epoch 164/300\n",
      "4620/4620 [==============================] - 1s 135us/step - loss: 1.0020 - acc: 0.6998 - val_loss: 0.9861 - val_acc: 0.7045\n",
      "Epoch 165/300\n",
      "4620/4620 [==============================] - 1s 136us/step - loss: 0.9959 - acc: 0.7017 - val_loss: 0.9809 - val_acc: 0.7040\n",
      "Epoch 166/300\n",
      "4620/4620 [==============================] - 1s 137us/step - loss: 0.9898 - acc: 0.7035 - val_loss: 0.9755 - val_acc: 0.7086\n",
      "Epoch 167/300\n",
      "4620/4620 [==============================] - 1s 140us/step - loss: 0.9838 - acc: 0.7067 - val_loss: 0.9703 - val_acc: 0.7157\n",
      "Epoch 168/300\n",
      "4620/4620 [==============================] - 1s 140us/step - loss: 0.9779 - acc: 0.7089 - val_loss: 0.9643 - val_acc: 0.7096\n",
      "Epoch 169/300\n",
      "4620/4620 [==============================] - 1s 140us/step - loss: 0.9719 - acc: 0.7119 - val_loss: 0.9577 - val_acc: 0.7106\n",
      "Epoch 170/300\n",
      "4620/4620 [==============================] - 1s 137us/step - loss: 0.9663 - acc: 0.7100 - val_loss: 0.9523 - val_acc: 0.7157\n",
      "Epoch 171/300\n",
      "3808/4620 [=======================>......] - ETA: 0s - loss: 0.9596 - acc: 0.71664620/4620 [==============================] - 1s 139us/step - loss: 0.9608 - acc: 0.7132 - val_loss: 0.9469 - val_acc: 0.7167\n",
      "Epoch 172/300\n",
      "4620/4620 [==============================] - 1s 133us/step - loss: 0.9551 - acc: 0.7143 - val_loss: 0.9429 - val_acc: 0.7152\n",
      "Epoch 173/300\n",
      "4620/4620 [==============================] - 1s 134us/step - loss: 0.9495 - acc: 0.7162 - val_loss: 0.9369 - val_acc: 0.7192\n",
      "Epoch 174/300\n",
      "4620/4620 [==============================] - 1s 132us/step - loss: 0.9442 - acc: 0.7162 - val_loss: 0.9316 - val_acc: 0.7232\n",
      "Epoch 175/300\n",
      "4620/4620 [==============================] - 1s 139us/step - loss: 0.9388 - acc: 0.7175 - val_loss: 0.9268 - val_acc: 0.7237\n",
      "Epoch 176/300\n",
      "4620/4620 [==============================] - 1s 139us/step - loss: 0.9335 - acc: 0.7201 - val_loss: 0.9216 - val_acc: 0.7242\n",
      "Epoch 177/300\n",
      "4620/4620 [==============================] - 1s 135us/step - loss: 0.9282 - acc: 0.7190 - val_loss: 0.9170 - val_acc: 0.7258\n",
      "Epoch 178/300\n",
      "4620/4620 [==============================] - 1s 138us/step - loss: 0.9231 - acc: 0.7277 - val_loss: 0.9106 - val_acc: 0.7263\n",
      "Epoch 179/300\n",
      "4620/4620 [==============================] - 1s 136us/step - loss: 0.9180 - acc: 0.7247 - val_loss: 0.9063 - val_acc: 0.7273\n",
      "Epoch 180/300\n",
      "4620/4620 [==============================] - 1s 137us/step - loss: 0.9131 - acc: 0.7229 - val_loss: 0.9018 - val_acc: 0.7273\n",
      "Epoch 181/300\n"
     ]
    },
    {
     "name": "stdout",
     "output_type": "stream",
     "text": [
      "3328/4620 [====================>.........] - ETA: 0s - loss: 0.9122 - acc: 0.72754620/4620 [==============================] - 1s 142us/step - loss: 0.9078 - acc: 0.7253 - val_loss: 0.8974 - val_acc: 0.7232\n",
      "Epoch 182/300\n",
      "4620/4620 [==============================] - 1s 145us/step - loss: 0.9033 - acc: 0.7260 - val_loss: 0.8930 - val_acc: 0.7283\n",
      "Epoch 183/300\n",
      "4620/4620 [==============================] - 1s 137us/step - loss: 0.8984 - acc: 0.7284 - val_loss: 0.8875 - val_acc: 0.7354\n",
      "Epoch 184/300\n",
      "4620/4620 [==============================] - 1s 134us/step - loss: 0.8935 - acc: 0.7294 - val_loss: 0.8842 - val_acc: 0.7374\n",
      "Epoch 185/300\n",
      "4620/4620 [==============================] - 1s 140us/step - loss: 0.8888 - acc: 0.7348 - val_loss: 0.8789 - val_acc: 0.7374\n",
      "Epoch 186/300\n",
      "4620/4620 [==============================] - 1s 138us/step - loss: 0.8843 - acc: 0.7316 - val_loss: 0.8747 - val_acc: 0.7343\n",
      "Epoch 187/300\n",
      "4620/4620 [==============================] - 1s 139us/step - loss: 0.8797 - acc: 0.7361 - val_loss: 0.8703 - val_acc: 0.7354\n",
      "Epoch 188/300\n",
      "4620/4620 [==============================] - 1s 137us/step - loss: 0.8752 - acc: 0.7329 - val_loss: 0.8674 - val_acc: 0.7424\n",
      "Epoch 189/300\n",
      "4620/4620 [==============================] - 1s 143us/step - loss: 0.8710 - acc: 0.7368 - val_loss: 0.8633 - val_acc: 0.7434\n",
      "Epoch 190/300\n",
      "4620/4620 [==============================] - 1s 137us/step - loss: 0.8664 - acc: 0.7381 - val_loss: 0.8590 - val_acc: 0.7460\n",
      "Epoch 191/300\n",
      "3328/4620 [====================>.........] - ETA: 0s - loss: 0.8681 - acc: 0.74014620/4620 [==============================] - 1s 142us/step - loss: 0.8622 - acc: 0.7411 - val_loss: 0.8539 - val_acc: 0.7399\n",
      "Epoch 192/300\n",
      "4620/4620 [==============================] - 1s 144us/step - loss: 0.8580 - acc: 0.7418 - val_loss: 0.8506 - val_acc: 0.7460\n",
      "Epoch 193/300\n",
      "4620/4620 [==============================] - 1s 136us/step - loss: 0.8539 - acc: 0.7431 - val_loss: 0.8473 - val_acc: 0.7460\n",
      "Epoch 194/300\n",
      "4620/4620 [==============================] - 1s 136us/step - loss: 0.8498 - acc: 0.7437 - val_loss: 0.8432 - val_acc: 0.7470\n",
      "Epoch 195/300\n",
      "4620/4620 [==============================] - 1s 143us/step - loss: 0.8457 - acc: 0.7459 - val_loss: 0.8393 - val_acc: 0.7495\n",
      "Epoch 196/300\n",
      "4620/4620 [==============================] - 1s 143us/step - loss: 0.8416 - acc: 0.7476 - val_loss: 0.8356 - val_acc: 0.7490\n",
      "Epoch 197/300\n",
      "4620/4620 [==============================] - 1s 137us/step - loss: 0.8376 - acc: 0.7485 - val_loss: 0.8312 - val_acc: 0.7485\n",
      "Epoch 198/300\n",
      "4620/4620 [==============================] - 1s 136us/step - loss: 0.8337 - acc: 0.7513 - val_loss: 0.8281 - val_acc: 0.7571\n",
      "Epoch 199/300\n",
      "4620/4620 [==============================] - 1s 139us/step - loss: 0.8301 - acc: 0.7515 - val_loss: 0.8253 - val_acc: 0.7540\n",
      "Epoch 200/300\n",
      "4620/4620 [==============================] - 1s 148us/step - loss: 0.8262 - acc: 0.7524 - val_loss: 0.8204 - val_acc: 0.7566\n",
      "Epoch 201/300\n",
      "2368/4620 [==============>...............] - ETA: 0s - loss: 0.8261 - acc: 0.74454620/4620 [==============================] - 1s 141us/step - loss: 0.8224 - acc: 0.7517 - val_loss: 0.8179 - val_acc: 0.7525\n",
      "Epoch 202/300\n",
      "4620/4620 [==============================] - 1s 145us/step - loss: 0.8185 - acc: 0.7526 - val_loss: 0.8151 - val_acc: 0.7566\n",
      "Epoch 203/300\n",
      "4620/4620 [==============================] - 1s 137us/step - loss: 0.8151 - acc: 0.7552 - val_loss: 0.8109 - val_acc: 0.7535\n",
      "Epoch 204/300\n",
      "4620/4620 [==============================] - 1s 138us/step - loss: 0.8116 - acc: 0.7574 - val_loss: 0.8073 - val_acc: 0.7556\n",
      "Epoch 205/300\n",
      "4620/4620 [==============================] - 1s 139us/step - loss: 0.8081 - acc: 0.7593 - val_loss: 0.8048 - val_acc: 0.7581\n",
      "Epoch 206/300\n",
      "4620/4620 [==============================] - 1s 136us/step - loss: 0.8044 - acc: 0.7597 - val_loss: 0.8004 - val_acc: 0.7571\n",
      "Epoch 207/300\n",
      "4620/4620 [==============================] - 1s 137us/step - loss: 0.8014 - acc: 0.7589 - val_loss: 0.7977 - val_acc: 0.7611\n",
      "Epoch 208/300\n",
      "4620/4620 [==============================] - 1s 137us/step - loss: 0.7980 - acc: 0.7600 - val_loss: 0.7942 - val_acc: 0.7636\n",
      "Epoch 209/300\n",
      "4620/4620 [==============================] - 1s 136us/step - loss: 0.7943 - acc: 0.7589 - val_loss: 0.7922 - val_acc: 0.7682\n",
      "Epoch 210/300\n",
      "4620/4620 [==============================] - 1s 136us/step - loss: 0.7914 - acc: 0.7628 - val_loss: 0.7892 - val_acc: 0.7667\n",
      "Epoch 211/300\n",
      "3712/4620 [=======================>......] - ETA: 0s - loss: 0.7943 - acc: 0.76004620/4620 [==============================] - 1s 130us/step - loss: 0.7880 - acc: 0.7634 - val_loss: 0.7871 - val_acc: 0.7687\n",
      "Epoch 212/300\n",
      "4620/4620 [==============================] - 1s 144us/step - loss: 0.7849 - acc: 0.7645 - val_loss: 0.7835 - val_acc: 0.7677\n",
      "Epoch 213/300\n",
      "4620/4620 [==============================] - 1s 136us/step - loss: 0.7817 - acc: 0.7649 - val_loss: 0.7804 - val_acc: 0.7677\n",
      "Epoch 214/300\n",
      "4620/4620 [==============================] - 1s 141us/step - loss: 0.7787 - acc: 0.7649 - val_loss: 0.7772 - val_acc: 0.7677\n",
      "Epoch 215/300\n",
      "4620/4620 [==============================] - 1s 133us/step - loss: 0.7755 - acc: 0.7680 - val_loss: 0.7748 - val_acc: 0.7707\n",
      "Epoch 216/300\n",
      "4620/4620 [==============================] - 1s 139us/step - loss: 0.7726 - acc: 0.7695 - val_loss: 0.7721 - val_acc: 0.7702\n",
      "Epoch 217/300\n",
      "4620/4620 [==============================] - 1s 143us/step - loss: 0.7696 - acc: 0.7701 - val_loss: 0.7690 - val_acc: 0.7692\n",
      "Epoch 218/300\n",
      "4620/4620 [==============================] - 1s 144us/step - loss: 0.7668 - acc: 0.7714 - val_loss: 0.7667 - val_acc: 0.7697\n",
      "Epoch 219/300\n",
      "4620/4620 [==============================] - 1s 139us/step - loss: 0.7635 - acc: 0.7712 - val_loss: 0.7648 - val_acc: 0.7768\n",
      "Epoch 220/300\n",
      "4620/4620 [==============================] - 1s 136us/step - loss: 0.7611 - acc: 0.7747 - val_loss: 0.7615 - val_acc: 0.7742\n",
      "Epoch 221/300\n",
      "3072/4620 [==================>...........] - ETA: 0s - loss: 0.7668 - acc: 0.77314620/4620 [==============================] - 1s 137us/step - loss: 0.7582 - acc: 0.7760 - val_loss: 0.7585 - val_acc: 0.7768\n",
      "Epoch 222/300\n",
      "4620/4620 [==============================] - 1s 137us/step - loss: 0.7550 - acc: 0.7738 - val_loss: 0.7557 - val_acc: 0.7702\n",
      "Epoch 223/300\n",
      "4620/4620 [==============================] - 1s 135us/step - loss: 0.7527 - acc: 0.7764 - val_loss: 0.7537 - val_acc: 0.7753\n",
      "Epoch 224/300\n",
      "4620/4620 [==============================] - 1s 133us/step - loss: 0.7496 - acc: 0.7753 - val_loss: 0.7513 - val_acc: 0.7773\n",
      "Epoch 225/300\n",
      "4620/4620 [==============================] - 1s 142us/step - loss: 0.7471 - acc: 0.7749 - val_loss: 0.7497 - val_acc: 0.7747\n",
      "Epoch 226/300\n",
      "4620/4620 [==============================] - 1s 140us/step - loss: 0.7443 - acc: 0.7820 - val_loss: 0.7472 - val_acc: 0.7788\n",
      "Epoch 227/300\n",
      "4620/4620 [==============================] - 1s 134us/step - loss: 0.7418 - acc: 0.7797 - val_loss: 0.7441 - val_acc: 0.7778\n",
      "Epoch 228/300\n",
      "4620/4620 [==============================] - 1s 136us/step - loss: 0.7391 - acc: 0.7823 - val_loss: 0.7418 - val_acc: 0.7808\n",
      "Epoch 229/300\n",
      "4620/4620 [==============================] - 1s 134us/step - loss: 0.7364 - acc: 0.7831 - val_loss: 0.7396 - val_acc: 0.7808\n",
      "Epoch 230/300\n",
      "4620/4620 [==============================] - 1s 139us/step - loss: 0.7339 - acc: 0.7842 - val_loss: 0.7376 - val_acc: 0.7808\n",
      "Epoch 231/300\n",
      "2880/4620 [=================>............] - ETA: 0s - loss: 0.7283 - acc: 0.78064620/4620 [==============================] - 1s 143us/step - loss: 0.7313 - acc: 0.7835 - val_loss: 0.7346 - val_acc: 0.7798\n",
      "Epoch 232/300\n",
      "4620/4620 [==============================] - 1s 139us/step - loss: 0.7288 - acc: 0.7846 - val_loss: 0.7329 - val_acc: 0.7823\n",
      "Epoch 233/300\n",
      "4620/4620 [==============================] - 1s 145us/step - loss: 0.7265 - acc: 0.7818 - val_loss: 0.7296 - val_acc: 0.7838\n",
      "Epoch 234/300\n",
      "4620/4620 [==============================] - 1s 133us/step - loss: 0.7241 - acc: 0.7853 - val_loss: 0.7290 - val_acc: 0.7843\n",
      "Epoch 235/300\n",
      "4620/4620 [==============================] - 1s 136us/step - loss: 0.7215 - acc: 0.7868 - val_loss: 0.7271 - val_acc: 0.7823\n",
      "Epoch 236/300\n",
      "4620/4620 [==============================] - 1s 144us/step - loss: 0.7190 - acc: 0.7859 - val_loss: 0.7236 - val_acc: 0.7843\n",
      "Epoch 237/300\n",
      "4620/4620 [==============================] - 1s 139us/step - loss: 0.7166 - acc: 0.7859 - val_loss: 0.7219 - val_acc: 0.7859\n",
      "Epoch 238/300\n",
      "4620/4620 [==============================] - 1s 140us/step - loss: 0.7142 - acc: 0.7866 - val_loss: 0.7196 - val_acc: 0.7864\n",
      "Epoch 239/300\n",
      "4620/4620 [==============================] - 1s 140us/step - loss: 0.7118 - acc: 0.7890 - val_loss: 0.7175 - val_acc: 0.7869\n",
      "Epoch 240/300\n",
      "4620/4620 [==============================] - 1s 138us/step - loss: 0.7097 - acc: 0.7907 - val_loss: 0.7156 - val_acc: 0.7854\n",
      "Epoch 241/300\n"
     ]
    },
    {
     "name": "stdout",
     "output_type": "stream",
     "text": [
      "3008/4620 [==================>...........] - ETA: 0s - loss: 0.7199 - acc: 0.78364620/4620 [==============================] - 1s 140us/step - loss: 0.7073 - acc: 0.7913 - val_loss: 0.7145 - val_acc: 0.7848\n",
      "Epoch 242/300\n",
      "4620/4620 [==============================] - 1s 139us/step - loss: 0.7049 - acc: 0.7881 - val_loss: 0.7109 - val_acc: 0.7859\n",
      "Epoch 243/300\n",
      "4620/4620 [==============================] - 1s 142us/step - loss: 0.7027 - acc: 0.7920 - val_loss: 0.7092 - val_acc: 0.7899\n",
      "Epoch 244/300\n",
      "4620/4620 [==============================] - 1s 139us/step - loss: 0.7005 - acc: 0.7918 - val_loss: 0.7080 - val_acc: 0.7899\n",
      "Epoch 245/300\n",
      "4620/4620 [==============================] - 1s 144us/step - loss: 0.6981 - acc: 0.7929 - val_loss: 0.7067 - val_acc: 0.7894\n",
      "Epoch 246/300\n",
      "4620/4620 [==============================] - 1s 144us/step - loss: 0.6961 - acc: 0.7942 - val_loss: 0.7043 - val_acc: 0.7909\n",
      "Epoch 247/300\n",
      "4620/4620 [==============================] - 1s 146us/step - loss: 0.6939 - acc: 0.7937 - val_loss: 0.7019 - val_acc: 0.7909\n",
      "Epoch 248/300\n",
      "4620/4620 [==============================] - 1s 145us/step - loss: 0.6917 - acc: 0.7933 - val_loss: 0.7005 - val_acc: 0.7909\n",
      "Epoch 249/300\n",
      "  32/4620 [..............................] - ETA: 1s - loss: 0.6013 - acc: 0.8125"
     ]
    }
   ],
   "source": [
    "model_fit = model.fit(X_train_scaled, Y_train, epochs=300, verbose=1, validation_data=(X_test_scaled, Y_test), shuffle=True)"
   ]
  },
  {
   "cell_type": "code",
   "execution_count": 38,
   "metadata": {
    "colab": {
     "autoexec": {
      "startup": false,
      "wait_interval": 0
     },
     "base_uri": "https://localhost:8080/",
     "height": 34
    },
    "colab_type": "code",
    "executionInfo": {
     "elapsed": 741,
     "status": "ok",
     "timestamp": 1525236718002,
     "user": {
      "displayName": "Fernanda Weiss",
      "photoUrl": "//lh4.googleusercontent.com/-3fKweTbnlHc/AAAAAAAAAAI/AAAAAAAAAPU/RktnQi93nyI/s50-c-k-no/photo.jpg",
      "userId": "100370788011080686465"
     },
     "user_tz": 180
    },
    "id": "uQAbEwFIMNVy",
    "outputId": "f11f4b80-a6a2-49bf-d930-c7804a1fbfb9"
   },
   "outputs": [
    {
     "name": "stdout",
     "output_type": "stream",
     "text": [
      "1980/1980 [==============================] - 0s 36us/step\n"
     ]
    }
   ],
   "source": [
    "score = model.evaluate(X_test_scaled, Y_test)"
   ]
  },
  {
   "cell_type": "code",
   "execution_count": 39,
   "metadata": {
    "colab": {
     "autoexec": {
      "startup": false,
      "wait_interval": 0
     },
     "base_uri": "https://localhost:8080/",
     "height": 51
    },
    "colab_type": "code",
    "executionInfo": {
     "elapsed": 923,
     "status": "ok",
     "timestamp": 1525236748689,
     "user": {
      "displayName": "Fernanda Weiss",
      "photoUrl": "//lh4.googleusercontent.com/-3fKweTbnlHc/AAAAAAAAAAI/AAAAAAAAAPU/RktnQi93nyI/s50-c-k-no/photo.jpg",
      "userId": "100370788011080686465"
     },
     "user_tz": 180
    },
    "id": "RGMaeGHpMV-j",
    "outputId": "cd1b7b81-cbc9-403a-ed79-c135928c40dd"
   },
   "outputs": [
    {
     "name": "stdout",
     "output_type": "stream",
     "text": [
      "('Cross entropy loss:', 0.6146909827535803)\n",
      "('Accuracy: ', 0.8106060609673009)\n"
     ]
    }
   ],
   "source": [
    "print(\"Cross entropy loss:\", score[0])\n",
    "print(\"Accuracy: \", score[1])"
   ]
  },
  {
   "cell_type": "code",
   "execution_count": 0,
   "metadata": {
    "colab": {
     "autoexec": {
      "startup": false,
      "wait_interval": 0
     }
    },
    "colab_type": "code",
    "id": "z2awAGDdKL8H"
   },
   "outputs": [],
   "source": [
    "def plot(hist):\n",
    "    loss = hist['loss']\n",
    "    val_loss = hist['val_loss']\n",
    "    epochs = range(1, len(loss) + 1)\n",
    "  \n",
    "    fig = plt.figure(figsize=(16,5))\n",
    "    ax = fig.add_subplot(1, 2, 1)\n",
    "    ax.plot(epochs, loss, 'bo-', label = \"Training set\")\n",
    "    ax.plot(epochs, val_loss, 'go-', label = \"Test set\")\n",
    "    ax.set_title('Loss de CNN')\n",
    "    ax.set_xlabel('Epoch')\n",
    "    ax.set_ylabel('Loss')\n",
    "    ax.legend(loc=\"upper right\", fancybox= True)\n",
    "\n",
    "    acc = hist['acc']\n",
    "    val_acc = hist['val_acc']\n",
    "    ax = fig.add_subplot(1, 2, 2)\n",
    "    ax.plot(epochs, np.subtract(1,acc), 'bo-', label = \"Training set\")\n",
    "    ax.plot(epochs, np.subtract(1,val_acc), 'go-', label = \"Test set\")\n",
    "    ax.set_title('Error de CNN')\n",
    "    ax.set_xlabel('Epoch')\n",
    "    ax.set_ylabel('Error')\n",
    "    ax.legend(loc=\"upper right\", fancybox= True)\n",
    "    plt.show()"
   ]
  },
  {
   "cell_type": "code",
   "execution_count": 44,
   "metadata": {
    "colab": {
     "autoexec": {
      "startup": false,
      "wait_interval": 0
     },
     "base_uri": "https://localhost:8080/",
     "height": 349
    },
    "colab_type": "code",
    "executionInfo": {
     "elapsed": 1370,
     "status": "ok",
     "timestamp": 1525236823437,
     "user": {
      "displayName": "Fernanda Weiss",
      "photoUrl": "//lh4.googleusercontent.com/-3fKweTbnlHc/AAAAAAAAAAI/AAAAAAAAAPU/RktnQi93nyI/s50-c-k-no/photo.jpg",
      "userId": "100370788011080686465"
     },
     "user_tz": 180
    },
    "id": "zdN4TxDQMf3P",
    "outputId": "839f9611-fb20-4e65-e094-be4d6165d715"
   },
   "outputs": [
    {
     "data": {
      "image/png": "[encoded data removed]",
      "text/plain": [
       "<matplotlib.figure.Figure at 0x7f3d892d5c90>"
      ]
     },
     "metadata": {
      "tags": []
     },
     "output_type": "display_data"
    }
   ],
   "source": [
    "plot(model_fit.history)"
   ]
  }
 ],
 "metadata": {
  "accelerator": "GPU",
  "colab": {
   "collapsed_sections": [],
   "default_view": {},
   "name": "Pregunta_4.ipynb",
   "provenance": [],
   "version": "0.3.2",
   "views": {}
  },
  "kernelspec": {
   "display_name": "Python 3",
   "language": "python",
   "name": "python3"
  },
  "language_info": {
   "codemirror_mode": {
    "name": "ipython",
    "version": 3
   },
   "file_extension": ".py",
   "mimetype": "text/x-python",
   "name": "python",
   "nbconvert_exporter": "python",
   "pygments_lexer": "ipython3",
   "version": "3.5.2"
  }
 },
 "nbformat": 4,
 "nbformat_minor": 1
}
