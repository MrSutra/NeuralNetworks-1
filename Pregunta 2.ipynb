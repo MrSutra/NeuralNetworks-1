{
 "cells": [
  {
   "cell_type": "markdown",
   "metadata": {},
   "source": [
    "# 2. Deep Learning\n",
    "\n",
    "Las deep network, o lo que hoy en día se conoce como deep learning, hace referencia a modelos de redes neuronales estructurados con muchas capas, es decir, el cómputo de la función final es la composición una gran cantidad de funciones ( $f^{(n)} = f^{(n-1)} \\circ f^{(n-2)} \\circ \\cdots \\circ f^{(2)} \\circ f^{(1)} $ con $n \\gg 0$ ).\n",
    "\n",
    "Este tipo de redes neuronales tienen una gran cantidad de parámetros, creciendo exponencialmente por capa con las redes feed forward, siendo bastante dificiles de entrenar comparadas con una red poco profunda, esto es debido a que requieren una gran cantidad de datos para ajustar correctamente todos esos parámetros. Pero entonces ¿Cuál es el beneficio que tienen este tipo de redes? ¿Qué ganancias trae el añadir capas a una arquitectura de una red neuronal?\n",
    "\n",
    "En esta sección se estudiará la complejidad de entrenar redes neuronales profundas, mediante la visualización de los gradientes de los pesos en cada capa, el cómo varía mientras se hace el backpropagation hacia las primeras capas de la red."
   ]
  },
  {
   "cell_type": "markdown",
   "metadata": {},
   "source": [
    "a) Se trabajará con las etiquetas escaladas uniformemente, es decir, $\\mu=0$ y $\\sigma=1$, ajuste sobre el conjunto de entrenamiento y transforme éstas además de las de pruebas."
   ]
  },
  {
   "cell_type": "code",
   "execution_count": null,
   "metadata": {},
   "outputs": [],
   "source": [
    "# scaler = StandardScaler().fit(df_train)\n",
    "# X_train_scaled = pd.DataFrame(scaler.transform(df_train),columns=df_train.columns)\n",
    "# y_train_scaled = X_train_scaled.pop('MEDV').values.reshape(-1,1)"
   ]
  },
  {
   "cell_type": "code",
   "execution_count": 2,
   "metadata": {},
   "outputs": [],
   "source": [
    "import pandas as pd\n",
    "from sklearn.cross_validation import train_test_split\n",
    "\n",
    "url = 'http://mldata.org/repository/data/download/csv/regression-datasets-housing/'\n",
    "df = pd.read_csv(url, sep=',',header=None, names=['CRIM', 'ZN', 'INDUS', 'CHAS', 'NOX',\n",
    "    'RM', 'AGE','DIS','RAD','TAX','PTRATIO','B','LSTAT','MEDV'])\n",
    "df = pd.get_dummies(df,columns=[\"CHAS\"]) #to categorical\n",
    "\n",
    "df_train,df_test = train_test_split(df,test_size=0.25, random_state=0)"
   ]
  },
  {
   "cell_type": "code",
   "execution_count": 3,
   "metadata": {},
   "outputs": [
    {
     "data": {
      "text/html": [
       "<div>\n",
       "<style scoped>\n",
       "    .dataframe tbody tr th:only-of-type {\n",
       "        vertical-align: middle;\n",
       "    }\n",
       "\n",
       "    .dataframe tbody tr th {\n",
       "        vertical-align: top;\n",
       "    }\n",
       "\n",
       "    .dataframe thead th {\n",
       "        text-align: right;\n",
       "    }\n",
       "</style>\n",
       "<table border=\"1\" class=\"dataframe\">\n",
       "  <thead>\n",
       "    <tr style=\"text-align: right;\">\n",
       "      <th></th>\n",
       "      <th>CRIM</th>\n",
       "      <th>ZN</th>\n",
       "      <th>INDUS</th>\n",
       "      <th>NOX</th>\n",
       "      <th>RM</th>\n",
       "      <th>AGE</th>\n",
       "      <th>DIS</th>\n",
       "      <th>RAD</th>\n",
       "      <th>TAX</th>\n",
       "      <th>PTRATIO</th>\n",
       "      <th>B</th>\n",
       "      <th>LSTAT</th>\n",
       "      <th>CHAS_0</th>\n",
       "      <th>CHAS_1</th>\n",
       "    </tr>\n",
       "  </thead>\n",
       "  <tbody>\n",
       "    <tr>\n",
       "      <th>count</th>\n",
       "      <td>3.790000e+02</td>\n",
       "      <td>3.790000e+02</td>\n",
       "      <td>3.790000e+02</td>\n",
       "      <td>3.790000e+02</td>\n",
       "      <td>3.790000e+02</td>\n",
       "      <td>3.790000e+02</td>\n",
       "      <td>3.790000e+02</td>\n",
       "      <td>3.790000e+02</td>\n",
       "      <td>3.790000e+02</td>\n",
       "      <td>3.790000e+02</td>\n",
       "      <td>3.790000e+02</td>\n",
       "      <td>3.790000e+02</td>\n",
       "      <td>3.790000e+02</td>\n",
       "      <td>3.790000e+02</td>\n",
       "    </tr>\n",
       "    <tr>\n",
       "      <th>mean</th>\n",
       "      <td>4.218262e-17</td>\n",
       "      <td>2.343479e-17</td>\n",
       "      <td>8.436523e-17</td>\n",
       "      <td>7.194480e-16</td>\n",
       "      <td>-7.733480e-16</td>\n",
       "      <td>1.921653e-16</td>\n",
       "      <td>-2.085696e-16</td>\n",
       "      <td>1.335783e-16</td>\n",
       "      <td>1.476392e-16</td>\n",
       "      <td>-5.893849e-16</td>\n",
       "      <td>-2.999653e-16</td>\n",
       "      <td>2.460653e-16</td>\n",
       "      <td>1.839631e-16</td>\n",
       "      <td>5.975871e-17</td>\n",
       "    </tr>\n",
       "    <tr>\n",
       "      <th>std</th>\n",
       "      <td>1.001322e+00</td>\n",
       "      <td>1.001322e+00</td>\n",
       "      <td>1.001322e+00</td>\n",
       "      <td>1.001322e+00</td>\n",
       "      <td>1.001322e+00</td>\n",
       "      <td>1.001322e+00</td>\n",
       "      <td>1.001322e+00</td>\n",
       "      <td>1.001322e+00</td>\n",
       "      <td>1.001322e+00</td>\n",
       "      <td>1.001322e+00</td>\n",
       "      <td>1.001322e+00</td>\n",
       "      <td>1.001322e+00</td>\n",
       "      <td>1.001322e+00</td>\n",
       "      <td>1.001322e+00</td>\n",
       "    </tr>\n",
       "    <tr>\n",
       "      <th>min</th>\n",
       "      <td>-4.130329e-01</td>\n",
       "      <td>-4.985312e-01</td>\n",
       "      <td>-1.514998e+00</td>\n",
       "      <td>-1.475198e+00</td>\n",
       "      <td>-3.973687e+00</td>\n",
       "      <td>-2.336467e+00</td>\n",
       "      <td>-1.246426e+00</td>\n",
       "      <td>-9.707975e-01</td>\n",
       "      <td>-1.263794e+00</td>\n",
       "      <td>-2.658465e+00</td>\n",
       "      <td>-4.025619e+00</td>\n",
       "      <td>-1.503671e+00</td>\n",
       "      <td>-3.762978e+00</td>\n",
       "      <td>-2.657470e-01</td>\n",
       "    </tr>\n",
       "    <tr>\n",
       "      <th>25%</th>\n",
       "      <td>-4.046811e-01</td>\n",
       "      <td>-4.985312e-01</td>\n",
       "      <td>-8.618530e-01</td>\n",
       "      <td>-9.235945e-01</td>\n",
       "      <td>-5.894549e-01</td>\n",
       "      <td>-8.334908e-01</td>\n",
       "      <td>-8.037506e-01</td>\n",
       "      <td>-6.245626e-01</td>\n",
       "      <td>-7.436108e-01</td>\n",
       "      <td>-4.879389e-01</td>\n",
       "      <td>1.944575e-01</td>\n",
       "      <td>-8.127456e-01</td>\n",
       "      <td>2.657470e-01</td>\n",
       "      <td>-2.657470e-01</td>\n",
       "    </tr>\n",
       "    <tr>\n",
       "      <th>50%</th>\n",
       "      <td>-3.818337e-01</td>\n",
       "      <td>-4.985312e-01</td>\n",
       "      <td>-3.598727e-01</td>\n",
       "      <td>-1.565211e-01</td>\n",
       "      <td>-1.208466e-01</td>\n",
       "      <td>3.323363e-01</td>\n",
       "      <td>-2.706425e-01</td>\n",
       "      <td>-5.091510e-01</td>\n",
       "      <td>-4.338385e-01</td>\n",
       "      <td>3.802716e-01</td>\n",
       "      <td>3.719387e-01</td>\n",
       "      <td>-1.843784e-01</td>\n",
       "      <td>2.657470e-01</td>\n",
       "      <td>-2.657470e-01</td>\n",
       "    </tr>\n",
       "    <tr>\n",
       "      <th>75%</th>\n",
       "      <td>-1.827370e-03</td>\n",
       "      <td>3.430872e-01</td>\n",
       "      <td>1.000608e+00</td>\n",
       "      <td>6.450276e-01</td>\n",
       "      <td>5.246631e-01</td>\n",
       "      <td>8.895201e-01</td>\n",
       "      <td>6.379857e-01</td>\n",
       "      <td>1.683670e+00</td>\n",
       "      <td>1.535846e+00</td>\n",
       "      <td>8.143769e-01</td>\n",
       "      <td>4.171933e-01</td>\n",
       "      <td>6.233235e-01</td>\n",
       "      <td>2.657470e-01</td>\n",
       "      <td>-2.657470e-01</td>\n",
       "    </tr>\n",
       "    <tr>\n",
       "      <th>max</th>\n",
       "      <td>1.037470e+01</td>\n",
       "      <td>3.709561e+00</td>\n",
       "      <td>2.375350e+00</td>\n",
       "      <td>2.713540e+00</td>\n",
       "      <td>3.563035e+00</td>\n",
       "      <td>1.109554e+00</td>\n",
       "      <td>3.988486e+00</td>\n",
       "      <td>1.683670e+00</td>\n",
       "      <td>1.798860e+00</td>\n",
       "      <td>1.682587e+00</td>\n",
       "      <td>4.277489e-01</td>\n",
       "      <td>3.396758e+00</td>\n",
       "      <td>2.657470e-01</td>\n",
       "      <td>3.762978e+00</td>\n",
       "    </tr>\n",
       "  </tbody>\n",
       "</table>\n",
       "</div>"
      ],
      "text/plain": [
       "               CRIM            ZN         INDUS           NOX            RM  \\\n",
       "count  3.790000e+02  3.790000e+02  3.790000e+02  3.790000e+02  3.790000e+02   \n",
       "mean   4.218262e-17  2.343479e-17  8.436523e-17  7.194480e-16 -7.733480e-16   \n",
       "std    1.001322e+00  1.001322e+00  1.001322e+00  1.001322e+00  1.001322e+00   \n",
       "min   -4.130329e-01 -4.985312e-01 -1.514998e+00 -1.475198e+00 -3.973687e+00   \n",
       "25%   -4.046811e-01 -4.985312e-01 -8.618530e-01 -9.235945e-01 -5.894549e-01   \n",
       "50%   -3.818337e-01 -4.985312e-01 -3.598727e-01 -1.565211e-01 -1.208466e-01   \n",
       "75%   -1.827370e-03  3.430872e-01  1.000608e+00  6.450276e-01  5.246631e-01   \n",
       "max    1.037470e+01  3.709561e+00  2.375350e+00  2.713540e+00  3.563035e+00   \n",
       "\n",
       "                AGE           DIS           RAD           TAX       PTRATIO  \\\n",
       "count  3.790000e+02  3.790000e+02  3.790000e+02  3.790000e+02  3.790000e+02   \n",
       "mean   1.921653e-16 -2.085696e-16  1.335783e-16  1.476392e-16 -5.893849e-16   \n",
       "std    1.001322e+00  1.001322e+00  1.001322e+00  1.001322e+00  1.001322e+00   \n",
       "min   -2.336467e+00 -1.246426e+00 -9.707975e-01 -1.263794e+00 -2.658465e+00   \n",
       "25%   -8.334908e-01 -8.037506e-01 -6.245626e-01 -7.436108e-01 -4.879389e-01   \n",
       "50%    3.323363e-01 -2.706425e-01 -5.091510e-01 -4.338385e-01  3.802716e-01   \n",
       "75%    8.895201e-01  6.379857e-01  1.683670e+00  1.535846e+00  8.143769e-01   \n",
       "max    1.109554e+00  3.988486e+00  1.683670e+00  1.798860e+00  1.682587e+00   \n",
       "\n",
       "                  B         LSTAT        CHAS_0        CHAS_1  \n",
       "count  3.790000e+02  3.790000e+02  3.790000e+02  3.790000e+02  \n",
       "mean  -2.999653e-16  2.460653e-16  1.839631e-16  5.975871e-17  \n",
       "std    1.001322e+00  1.001322e+00  1.001322e+00  1.001322e+00  \n",
       "min   -4.025619e+00 -1.503671e+00 -3.762978e+00 -2.657470e-01  \n",
       "25%    1.944575e-01 -8.127456e-01  2.657470e-01 -2.657470e-01  \n",
       "50%    3.719387e-01 -1.843784e-01  2.657470e-01 -2.657470e-01  \n",
       "75%    4.171933e-01  6.233235e-01  2.657470e-01 -2.657470e-01  \n",
       "max    4.277489e-01  3.396758e+00  2.657470e-01  3.762978e+00  "
      ]
     },
     "execution_count": 3,
     "metadata": {},
     "output_type": "execute_result"
    }
   ],
   "source": [
    "# Normalización de los datos\n",
    "from sklearn.preprocessing import StandardScaler\n",
    "scaler = StandardScaler().fit(df_train)\n",
    "X_train_scaled = pd.DataFrame(scaler.transform(df_train), columns=df_train.columns)\n",
    "X_test_scaled = pd.DataFrame(scaler.transform(df_test), columns=df_train.columns)\n",
    "\n",
    "y_train = X_train_scaled.pop('MEDV').values.reshape([-1,1])\n",
    "y_test = X_test_scaled.pop('MEDV').values.reshape([-1,1])\n",
    "\n",
    "i_dim = X_train_scaled.shape[1]\n",
    "X_train_scaled.describe()"
   ]
  },
  {
   "cell_type": "markdown",
   "metadata": {},
   "source": [
    "b) Para el mismo problema definido anteriormente (sección 1) se entrenará diferentes redes. En esta primera instancia se trabajará con la misma red de la pregunta b), inicializada con pesos uniforme. Visualice el gradiente de la función de pérdida (loss) para el conjunto de entrenamiento respecto a los pesos en las distintas capas, para esto se le pedirá el cálculo del gradiente para una capa mediante la función de gradients (link) en el backend de Keras. Deberá generar un histograma para todos los pesos de cada capa antes y despues del entrenamiento con 300 epochs. Comente."
   ]
  },
  {
   "cell_type": "code",
   "execution_count": 16,
   "metadata": {},
   "outputs": [],
   "source": [
    "import tensorflow as tf\n",
    "import keras\n",
    "from keras import backend as K\n",
    "import matplotlib.pyplot as plt\n",
    "plt.style.use('ggplot')\n",
    "%matplotlib inline\n",
    "from keras.models import Sequential\n",
    "from keras.layers.core import Dense, Activation\n",
    "from keras.optimizers import SGD"
   ]
  },
  {
   "cell_type": "code",
   "execution_count": 6,
   "metadata": {},
   "outputs": [],
   "source": [
    "model = Sequential()\n",
    "model.add(Dense(200, input_dim=i_dim, kernel_initializer='uniform',activation='sigmoid'))\n",
    "model.add(Dense(1, kernel_initializer='uniform',activation='linear'))\n",
    "sgd = SGD(lr=0.01)\n",
    "model.compile(optimizer=sgd,loss='mean_squared_error')\n",
    "\n",
    "###calculate gradients\n",
    "loss = keras.losses.mean_squared_error(model.output,y_train)\n",
    "listOfVariableTensors = model.trainable_weights\n",
    "#We can now calculate the gradients.\n",
    "gradients = K.gradients(loss, listOfVariableTensors)\n",
    "sess = K.get_session()\n",
    "evaluated_gradients = sess.run(gradients,feed_dict={model.input:X_train_scaled})\n",
    "evaluated_gradients = [gradient/len(y_train) for gradient in evaluated_gradients]"
   ]
  },
  {
   "cell_type": "code",
   "execution_count": 7,
   "metadata": {},
   "outputs": [
    {
     "data": {
      "text/plain": [
       "4"
      ]
     },
     "execution_count": 7,
     "metadata": {},
     "output_type": "execute_result"
    }
   ],
   "source": [
    "len(evaluated_gradients)"
   ]
  },
  {
   "cell_type": "code",
   "execution_count": 17,
   "metadata": {
    "scrolled": true
   },
   "outputs": [
    {
     "data": {
      "image/png": "[encoded data removed]",
      "text/plain": [
       "<Figure size 432x288 with 1 Axes>"
      ]
     },
     "metadata": {},
     "output_type": "display_data"
    }
   ],
   "source": [
    "a = [1,1,2,3,4,5,6,7,8,9,10]\n",
    "plt.hist(evaluated_gradients[0].flatten(),40)\n",
    "#plt.xla\n",
    "plt.show()"
   ]
  },
  {
   "cell_type": "code",
   "execution_count": 18,
   "metadata": {},
   "outputs": [
    {
     "data": {
      "image/png": "[encoded data removed]",
      "text/plain": [
       "<Figure size 432x288 with 1 Axes>"
      ]
     },
     "metadata": {},
     "output_type": "display_data"
    }
   ],
   "source": [
    "plt.hist(evaluated_gradients[1],20)\n",
    "plt.show()"
   ]
  },
  {
   "cell_type": "code",
   "execution_count": 19,
   "metadata": {},
   "outputs": [
    {
     "data": {
      "image/png": "[encoded data removed]",
      "text/plain": [
       "<Figure size 432x288 with 1 Axes>"
      ]
     },
     "metadata": {},
     "output_type": "display_data"
    }
   ],
   "source": [
    "plt.hist(evaluated_gradients[2])\n",
    "plt.show()"
   ]
  },
  {
   "cell_type": "markdown",
   "metadata": {},
   "source": [
    "Fiteo"
   ]
  },
  {
   "cell_type": "code",
   "execution_count": 11,
   "metadata": {},
   "outputs": [],
   "source": [
    "model.fit(X_train_scaled, y_train, epochs=300, verbose=0, validation_data=(X_test_scaled, y_test))\n",
    "###calculate gradients\n",
    "loss = keras.losses.mean_squared_error(model.output,y_train)\n",
    "listOfVariableTensors = model.trainable_weights\n",
    "#We can now calculate the gradients.\n",
    "gradients = K.gradients(loss, listOfVariableTensors)\n",
    "sess = K.get_session()\n",
    "evaluated_gradients_out = sess.run(gradients,feed_dict={model.input:X_train_scaled.as_matrix()})\n",
    "evaluated_gradients_out = [gradient/len(y_train) for gradient in evaluated_gradients]"
   ]
  },
  {
   "cell_type": "code",
   "execution_count": 20,
   "metadata": {},
   "outputs": [
    {
     "data": {
      "image/png": "[encoded data removed]",
      "text/plain": [
       "<Figure size 432x288 with 1 Axes>"
      ]
     },
     "metadata": {},
     "output_type": "display_data"
    }
   ],
   "source": [
    "plt.hist(evaluated_gradients_out[0].flatten(),40)\n",
    "#plt.xla\n",
    "plt.show()"
   ]
  },
  {
   "cell_type": "code",
   "execution_count": 21,
   "metadata": {},
   "outputs": [
    {
     "data": {
      "image/png": "[encoded data removed]",
      "text/plain": [
       "<Figure size 432x288 with 1 Axes>"
      ]
     },
     "metadata": {},
     "output_type": "display_data"
    }
   ],
   "source": [
    "plt.hist(evaluated_gradients_out[1],20)\n",
    "plt.show()"
   ]
  },
  {
   "cell_type": "code",
   "execution_count": 22,
   "metadata": {},
   "outputs": [
    {
     "data": {
      "image/png": "[encoded data removed]",
      "text/plain": [
       "<Figure size 432x288 with 1 Axes>"
      ]
     },
     "metadata": {},
     "output_type": "display_data"
    }
   ],
   "source": [
    "plt.hist(evaluated_gradients_out[2])\n",
    "plt.show()"
   ]
  },
  {
   "cell_type": "markdown",
   "metadata": {},
   "source": [
    "c) Vuelva a generar los histogramas para los gradientes de los pesos de cada capa antes y después del entrenamiento pero ahora entrenando una red mucho mas profunda de 6 capas, 5 capas escondidas y 1 de salida. Utilice el inicializador de pesos uniform el cual inicializa mediante una distribución uniforme entre $-1/\\sqrt{N}$ y $1/\\sqrt{N}$ para cada capa, con $N$ el número de neuronas de la capa anterior. Por simplicidad visual visualice las 3-4 primeras capas de la red. Comente si observa el efecto del gradiente desvaneciente antes y/o después de entrenar."
   ]
  },
  {
   "cell_type": "code",
   "execution_count": null,
   "metadata": {},
   "outputs": [],
   "source": [
    "model = Sequential()\n",
    "model.add(Dense(200, input_dim=X_train_scaled.shape[1], kernel_initializer='uniform',activation='sigmoid'))\n",
    "model.add(Dense(200, kernel_initializer='uniform',activation='sigmoid'))\n",
    "model.add(Dense(200,  kernel_initializer='uniform',activation='sigmoid'))\n",
    "model.add(Dense(200, kernel_initializer='uniform',activation='sigmoid'))\n",
    "model.add(Dense(200, kernel_initializer='uniform',activation='sigmoid'))\n",
    "model.add(Dense(1, kernel_initializer='uniform',activation='linear'))\n",
    "sgd = SGD(lr=0.01)\n",
    "model.compile(optimizer=sgd,loss='mean_squared_error')"
   ]
  },
  {
   "cell_type": "code",
   "execution_count": null,
   "metadata": {},
   "outputs": [],
   "source": []
  },
  {
   "cell_type": "markdown",
   "metadata": {},
   "source": [
    "d) Vuelva a generar los histogramas para los gradientes de los pesos de cada capa antes y después del entrenamiento, pero ahora entrenando la red profunda con el inicializador de Glorot [1], es decir, una distribución uniforme entre -$\\sqrt{6/(N_{in}+N_{out})}$ y $\\sqrt{6/(N_{in}+N_{out})}$ . Por simplicidad visualice las 3-4 primeras capas de la red. Comente si el efecto del gradiente desvaneciente se amortigua antes y/o después de entrenar."
   ]
  },
  {
   "cell_type": "code",
   "execution_count": null,
   "metadata": {},
   "outputs": [],
   "source": [
    "model = Sequential()\n",
    "model.add(Dense(200, input_dim=X_train_scaled.shape[1], kernel_initializer='glorot_uniform',activation='sigmoid'))\n",
    "model.add(Dense(200, kernel_initializer='glorot_uniform',activation='sigmoid'))\n",
    "model.add(Dense(200,  kernel_initializer='glorot_uniform',activation='sigmoid'))\n",
    "model.add(Dense(200, kernel_initializer='glorot_uniform',activation='sigmoid'))\n",
    "model.add(Dense(200, kernel_initializer='glorot_uniform',activation='sigmoid'))\n",
    "model.add(Dense(1, kernel_initializer='glorot_uniform',activation='linear'))\n",
    "sgd = SGD(lr=0.01)\n",
    "model.compile(optimizer=sgd,loss='mean_squared_error')"
   ]
  },
  {
   "cell_type": "code",
   "execution_count": null,
   "metadata": {},
   "outputs": [],
   "source": []
  },
  {
   "cell_type": "markdown",
   "metadata": {},
   "source": [
    "e) Vuelva a repetir la experimentación ahora cambiando la función de activación por ReLU, es decir, deberá visualizar los gradientes de los pesos de cada capa antes y después del entrenamiento, con inicialización uniform y comparar con la inicialización de He [2], es decir, una distribución uniforme entre -$\\sqrt{6/N_{in}}$ y $\\sqrt{6/N_{in}} $. Comente si ocurre el mismo fenómeno anterior (para función sigmoidal) sobre el efecto del gradiente desvaneciente para la función ReLU. Explique la importancia de la inicialización de los pesos dependiendo de la arquitectura."
   ]
  },
  {
   "cell_type": "code",
   "execution_count": null,
   "metadata": {},
   "outputs": [],
   "source": [
    "#uniform\n",
    "...\n",
    "model.add(Dense(200, kernel_initializer='uniform',activation='relu'))\n",
    "...\n",
    "#he initializer\n",
    "...\n",
    "model.add(Dense(200, kernel_initializer='he_uniform',activation='relu'))\n",
    "..."
   ]
  },
  {
   "cell_type": "code",
   "execution_count": null,
   "metadata": {},
   "outputs": [],
   "source": []
  },
  {
   "cell_type": "markdown",
   "metadata": {},
   "source": [
    "e) ¿Qué es lo que sucede con la red más profunda? ¿El modelo logra convergencia en su entrenamiento? Modifique aspectos estructurales (funciones de activación, inicializadores, regularización, momentum, variación de tasa de aprendizaje, entre otros) de la red profunda de 6 capas definida anteriormente (no modifique la profundidad ni el número de neuronas) para lograr un error cuadrático medio (mse) similar o menor al de una red no profunda, como la definida en b) en esta sección, sobre el conjunto de pruebas."
   ]
  },
  {
   "cell_type": "code",
   "execution_count": null,
   "metadata": {},
   "outputs": [],
   "source": []
  },
  {
   "cell_type": "markdown",
   "metadata": {},
   "source": [
    "f) Pruebe con utilizar una red shallow (poco profunda), es decir, sitúe todas las neuronas en una única capa ¿Qué sucede con la convergencia del algoritmo? ¿Por qué sucede este fenómeno?"
   ]
  },
  {
   "cell_type": "code",
   "execution_count": null,
   "metadata": {},
   "outputs": [],
   "source": [
    "model = Sequential()\n",
    "model.add(Dense(1000, input_dim=X_train_scaled.shape[1], kernel_initializer='choose',activation='sigmoid'))\n",
    "model.add(Dense(1, kernel_initializer='choose',activation='linear'))\n",
    "model.compile(optimizer=sgd,loss='mean_squared_error')\n",
    "model.fit(X_train_scaled.as_matrix(), y_train_scaled.as_matrix(), epochs=300,\n",
    "    verbose=1, validation_data=(X_test_scaled.as_matrix(), y_test_scaled.as_matrix()))"
   ]
  }
 ],
 "metadata": {
  "kernelspec": {
   "display_name": "Python 3",
   "language": "python",
   "name": "python3"
  },
  "language_info": {
   "codemirror_mode": {
    "name": "ipython",
    "version": 3
   },
   "file_extension": ".py",
   "mimetype": "text/x-python",
   "name": "python",
   "nbconvert_exporter": "python",
   "pygments_lexer": "ipython3",
   "version": "3.6.4"
  }
 },
 "nbformat": 4,
 "nbformat_minor": 2
}
