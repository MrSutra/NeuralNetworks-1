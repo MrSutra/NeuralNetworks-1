{
 "cells": [
  {
   "cell_type": "markdown",
   "metadata": {},
   "source": [
    "# Pregunta 3: Convolutional Neural Network (CNN) en CIFAR."
   ]
  },
  {
   "cell_type": "markdown",
   "metadata": {},
   "source": [
    "a) Construya una función que cargue todos los bloques de entrenamiento y pruebas del problema CIFAR generando como salida: (i) dos matrices $X_{tr}$, $Y_{tr}$, correspondientes a las imágenes y etiquetas de entrenamiento, (ii) dos matrices $X_t$ , $Y_t$ , correspondientes a las imágenes y etiquetas de pruebas, y finalmente (iii) dos matrices $X_v$,$Y_v$, correspondientes a imágenes y etiquetas que se usarán como conjunto de validación, es decir para tomar decisiones de diseño acerca del modelo. Este último conjunto debe ser extraı́do desde el conjunto de entrenamiento original y no debe superar las 5000 imágenes."
   ]
  },
  {
   "cell_type": "markdown",
   "metadata": {},
   "source": [
    "Se hace un shuffle y se sacan los ultimos 5000 desde el entrenamiento para hacer el conjunto de validación"
   ]
  },
  {
   "cell_type": "code",
   "execution_count": 119,
   "metadata": {},
   "outputs": [],
   "source": [
    "import pickle\n",
    "import numpy as np\n",
    "import os\n",
    "from scipy.misc import imread\n",
    "import math\n",
    "import matplotlib.pyplot as plt\n",
    "import pydot_ng as pydot \n",
    "from IPython.display import Image, display, SVG\n",
    "\n",
    "import keras\n",
    "from keras.models import Sequential\n",
    "from keras.layers import Dense, Dropout, Activation, Flatten\n",
    "from keras.layers import Conv2D, MaxPooling2D\n",
    "from keras.optimizers import SGD, rmsprop\n",
    "from keras.callbacks import LearningRateScheduler\n",
    "from keras.utils import plot_model\n"
   ]
  },
  {
   "cell_type": "code",
   "execution_count": 32,
   "metadata": {},
   "outputs": [],
   "source": [
    "label_names = ['airplane', 'automobile', 'bird', 'cat', 'deer', 'dog', 'frog', 'horse', 'ship', 'truck']\n",
    "\n",
    "def load_CIFAR_one(filename):\n",
    "    with open(filename, 'rb') as f:\n",
    "        #print(\"f: \",f)\n",
    "        datadict = pickle.load(f, encoding='latin1')\n",
    "        X = datadict['data']\n",
    "        Y = datadict['labels']\n",
    "        Y = np.array(Y)\n",
    "        return X, Y\n",
    "    \n",
    "def load_CIFAR10(PATH):\n",
    "    xs = []\n",
    "    ys = []\n",
    "    for b in range(1,6):\n",
    "        f = os.path.join(PATH, 'data_batch_%d' % (b, ))\n",
    "        X, Y = load_CIFAR_one(f)\n",
    "        xs.append(X)\n",
    "        ys.append(Y)\n",
    "    Xtr = np.concatenate(xs)\n",
    "    Ytr = np.concatenate(ys)\n",
    "#     print(len(Xtr))\n",
    "#     print(len(Ytr))\n",
    "    #add your Xval\n",
    "    XY = list(zip(Xtr, Ytr))\n",
    "    np.random.shuffle(XY)\n",
    "    Xtr, Ytr = zip(*XY)\n",
    "    msk = 45000\n",
    "    Xva = np.array(Xtr[msk:])\n",
    "    Yva = np.array(Ytr[msk:])   \n",
    "    Xtr = np.array(Xtr[:msk])        \n",
    "    Ytr = np.array(Ytr[:msk])\n",
    "#     print(len(Xtr))\n",
    "#     print(len(Ytr))\n",
    "#     print(len(Xva))\n",
    "#     print(len(Yva))\n",
    "        \n",
    "    del X, Y\n",
    "    Xte, Yte = load_CIFAR_one(os.path.join(PATH, 'test_batch'))\n",
    "    return Xtr, Ytr, Xva, Yva, Xte, Yte"
   ]
  },
  {
   "cell_type": "code",
   "execution_count": 36,
   "metadata": {
    "scrolled": true
   },
   "outputs": [],
   "source": [
    "x_train, y_train, x_val, y_val, x_test, y_test = load_CIFAR10('.')"
   ]
  },
  {
   "cell_type": "markdown",
   "metadata": {},
   "source": [
    "seria bueno visualizar las imagenes~"
   ]
  },
  {
   "cell_type": "markdown",
   "metadata": {},
   "source": [
    "b) Prepare subconjuntos de entrenamiento, validación y pruebas normalizando las imágenes de entrenamiento y pruebas, dividiendo las intensidades originales de pixel en cada canal por 255. Es importante recordar que ahora se trabajará con la estructura original de los datos, por lo que es necesario recuperar la forma original de las imágenes del vector en el archivo en que vienen. Además, si desea trabajar con el orden de las dimensiones denominado ’tf’ (por defecto para TensorFlow) deberá hacer realizar la transposición correspondiente. Finalmente, genere una representación adecuada de las salidas deseadas de la red."
   ]
  },
  {
   "cell_type": "markdown",
   "metadata": {},
   "source": [
    "Normalizando cada canal por 255"
   ]
  },
  {
   "cell_type": "code",
   "execution_count": 37,
   "metadata": {},
   "outputs": [
    {
     "name": "stdout",
     "output_type": "stream",
     "text": [
      "[51 50 56 ... 72 83 78]\n",
      "[119 114 111 ...  69  70  70]\n",
      "[158 159 165 ... 124 129 110]\n",
      "[0.2        0.19607843 0.21960784 ... 0.28235294 0.3254902  0.30588235]\n",
      "[0.46666667 0.44705882 0.43529412 ... 0.27058824 0.2745098  0.2745098 ]\n",
      "[0.61960784 0.62352941 0.64705882 ... 0.48627451 0.50588235 0.43137255]\n"
     ]
    }
   ],
   "source": [
    "print(x_train[0])\n",
    "print(x_val[0])\n",
    "print(x_test[0])\n",
    "\n",
    "x_train = x_train/255.0\n",
    "x_val = x_val/255.0\n",
    "x_test = x_test/255.0\n",
    "\n",
    "print(x_train[0])\n",
    "print(x_val[0])\n",
    "print(x_test[0])"
   ]
  },
  {
   "cell_type": "markdown",
   "metadata": {},
   "source": [
    "Las imagenes se transforman en sus dimensiones originales y las etiquetas se transforman a one-hot vector"
   ]
  },
  {
   "cell_type": "code",
   "execution_count": 84,
   "metadata": {},
   "outputs": [
    {
     "name": "stdout",
     "output_type": "stream",
     "text": [
      "(45000, 3, 32, 32)\n"
     ]
    }
   ],
   "source": [
    "x_train = x_train.reshape((x_train.shape[0],3,32,32))\n",
    "print(x_train.shape)\n",
    "x_train = x_train.transpose([0, 2, 3, 1]) #only if 'tf' dim-ordering is to be used\n",
    "x_test = x_test.reshape((x_test.shape[0],3,32,32))\n",
    "x_test = x_test.transpose([0, 2, 3, 1])#remove if 'th' dim-ordering is to be used\n",
    "x_val = x_val.reshape((x_val.shape[0],3,32,32))\n",
    "x_val = x_val.transpose([0, 2, 3, 1])\n",
    "\n",
    "num_classes = 10\n",
    "y_train = keras.utils.to_categorical(y_train, num_classes)\n",
    "y_test = keras.utils.to_categorical(y_test, num_classes)\n",
    "y_val = keras.utils.to_categorical(y_val, num_classes)"
   ]
  },
  {
   "cell_type": "code",
   "execution_count": 85,
   "metadata": {},
   "outputs": [
    {
     "name": "stdout",
     "output_type": "stream",
     "text": [
      "(5000, 32, 32, 3)\n"
     ]
    }
   ],
   "source": [
    "print(x_val.shape)"
   ]
  },
  {
   "cell_type": "markdown",
   "metadata": {},
   "source": [
    "c) Defina una CNN con arquitectura $C \\times P \\times C \\times P \\times F \\times F$. Para ambas capas convolucionales utilice 64 filtros de $3 \\times 3$ y funciones de activación ReLu. Para las capas de pooling utilice filtros de $2 \\times 2$ con stride 2. Para la capa MLP escondida use 512 neuronas. Genere un esquema lo más compacto posible que muestre los cambios de forma (dimensionalidad) que experimenta un patrón de entrada a medida que se ejecuta un forward-pass y el número de parámetros de cada capa."
   ]
  },
  {
   "cell_type": "markdown",
   "metadata": {},
   "source": [
    "Definición de arquitectura:\n",
    "* C: Capa convolucional\n",
    "* P: Capa de pooling\n",
    "* F: Cada MLP como las de Feef Forward"
   ]
  },
  {
   "cell_type": "code",
   "execution_count": 48,
   "metadata": {
    "scrolled": true
   },
   "outputs": [
    {
     "name": "stdout",
     "output_type": "stream",
     "text": [
      "_________________________________________________________________\n",
      "Layer (type)                 Output Shape              Param #   \n",
      "=================================================================\n",
      "conv2d_1 (Conv2D)            (None, 32, 32, 64)        1792      \n",
      "_________________________________________________________________\n",
      "activation_1 (Activation)    (None, 32, 32, 64)        0         \n",
      "_________________________________________________________________\n",
      "max_pooling2d_1 (MaxPooling2 (None, 16, 16, 64)        0         \n",
      "_________________________________________________________________\n",
      "conv2d_2 (Conv2D)            (None, 16, 16, 64)        36928     \n",
      "_________________________________________________________________\n",
      "activation_2 (Activation)    (None, 16, 16, 64)        0         \n",
      "_________________________________________________________________\n",
      "max_pooling2d_2 (MaxPooling2 (None, 8, 8, 64)          0         \n",
      "_________________________________________________________________\n",
      "flatten_1 (Flatten)          (None, 4096)              0         \n",
      "_________________________________________________________________\n",
      "dense_1 (Dense)              (None, 512)               2097664   \n",
      "_________________________________________________________________\n",
      "activation_3 (Activation)    (None, 512)               0         \n",
      "_________________________________________________________________\n",
      "dense_2 (Dense)              (None, 10)                5130      \n",
      "_________________________________________________________________\n",
      "activation_4 (Activation)    (None, 10)                0         \n",
      "=================================================================\n",
      "Total params: 2,141,514\n",
      "Trainable params: 2,141,514\n",
      "Non-trainable params: 0\n",
      "_________________________________________________________________\n"
     ]
    }
   ],
   "source": [
    "model = Sequential()\n",
    "model.add(Conv2D(64, (3, 3), padding='same', input_shape=x_train.shape[1:]))\n",
    "model.add(Activation('relu'))\n",
    "model.add(MaxPooling2D(pool_size=(2, 2)))\n",
    "model.add(Conv2D(64, (3, 3), padding='same'))\n",
    "model.add(Activation('relu'))\n",
    "model.add(MaxPooling2D(pool_size=(2, 2)))\n",
    "model.add(Flatten())\n",
    "model.add(Dense(512))\n",
    "model.add(Activation('relu'))\n",
    "model.add(Dense(10))\n",
    "model.add(Activation('softmax'))\n",
    "model.summary()"
   ]
  },
  {
   "cell_type": "markdown",
   "metadata": {},
   "source": [
    "d) Entrene la CNN definida en c) utilizando SGD. En este dataset, una tasa de aprendizaje “segura” es $\\eta = 10^4$ o inferior, pero durante las primeras epochs el entrenamiento resulta demasiado lento. Para resolver el problema aprenderemos a controlar la tasa de aprendizaje utilizada en el entrenamiento. Implemente la siguiente idea: deseamos partir con una tasa de aprendizaje $\\eta = 10^3$ y dividir por 2 ese valor cada 10 epochs. Suponga además que no queremos usar una tasa de aprendizaje menor a $\\eta = 10^5$. Construya un gráfico que muestre los errores de entrenamiento, validación y pruebas como función del número de “epochs”, entrene con 25 epochs.\n",
    "\n"
   ]
  },
  {
   "cell_type": "code",
   "execution_count": 52,
   "metadata": {
    "scrolled": false
   },
   "outputs": [
    {
     "name": "stdout",
     "output_type": "stream",
     "text": [
      "Train on 45000 samples, validate on 10000 samples\n",
      "Epoch 1/25\n",
      "45000/45000 [==============================] - 202s 4ms/step - loss: 2.2668 - acc: 0.1566 - val_loss: 2.2098 - val_acc: 0.2017\n",
      "Epoch 2/25\n",
      "45000/45000 [==============================] - 200s 4ms/step - loss: 2.1344 - acc: 0.2268 - val_loss: 2.0695 - val_acc: 0.2454\n",
      "Epoch 3/25\n",
      "45000/45000 [==============================] - 186s 4ms/step - loss: 2.0430 - acc: 0.2577 - val_loss: 2.0134 - val_acc: 0.2546\n",
      "Epoch 4/25\n",
      "45000/45000 [==============================] - 185s 4ms/step - loss: 1.9732 - acc: 0.2869 - val_loss: 1.9364 - val_acc: 0.2926\n",
      "Epoch 5/25\n",
      "45000/45000 [==============================] - 188s 4ms/step - loss: 1.9162 - acc: 0.3153 - val_loss: 1.9018 - val_acc: 0.3125\n",
      "Epoch 6/25\n",
      "45000/45000 [==============================] - 192s 4ms/step - loss: 1.8869 - acc: 0.3253 - val_loss: 1.8663 - val_acc: 0.3252\n",
      "Epoch 7/25\n",
      "45000/45000 [==============================] - 182s 4ms/step - loss: 1.8510 - acc: 0.3394 - val_loss: 1.8316 - val_acc: 0.3421\n",
      "Epoch 8/25\n",
      "45000/45000 [==============================] - 185s 4ms/step - loss: 1.8209 - acc: 0.3517 - val_loss: 1.8075 - val_acc: 0.3624\n",
      "Epoch 9/25\n",
      "45000/45000 [==============================] - 189s 4ms/step - loss: 1.7896 - acc: 0.3602 - val_loss: 1.7852 - val_acc: 0.3632\n",
      "Epoch 10/25\n",
      "45000/45000 [==============================] - 186s 4ms/step - loss: 1.7637 - acc: 0.3729 - val_loss: 1.7561 - val_acc: 0.3682\n",
      "Epoch 11/25\n",
      "45000/45000 [==============================] - 191s 4ms/step - loss: 1.7512 - acc: 0.3790 - val_loss: 1.7463 - val_acc: 0.3772\n",
      "Epoch 12/25\n",
      "45000/45000 [==============================] - 232s 5ms/step - loss: 1.7397 - acc: 0.3815 - val_loss: 1.7359 - val_acc: 0.3735\n",
      "Epoch 13/25\n",
      "45000/45000 [==============================] - 208s 5ms/step - loss: 1.7274 - acc: 0.3858 - val_loss: 1.7298 - val_acc: 0.3748\n",
      "Epoch 14/25\n",
      "45000/45000 [==============================] - 185s 4ms/step - loss: 1.7177 - acc: 0.3895 - val_loss: 1.7135 - val_acc: 0.3882\n",
      "Epoch 15/25\n",
      "45000/45000 [==============================] - 185s 4ms/step - loss: 1.7046 - acc: 0.3950 - val_loss: 1.7058 - val_acc: 0.3890\n",
      "Epoch 16/25\n",
      "45000/45000 [==============================] - 202s 4ms/step - loss: 1.6995 - acc: 0.3963 - val_loss: 1.7000 - val_acc: 0.3950\n",
      "Epoch 17/25\n",
      "45000/45000 [==============================] - 200s 4ms/step - loss: 1.6946 - acc: 0.3997 - val_loss: 1.6980 - val_acc: 0.3960\n",
      "Epoch 18/25\n",
      "45000/45000 [==============================] - 192s 4ms/step - loss: 1.6903 - acc: 0.4015 - val_loss: 1.6939 - val_acc: 0.3961\n",
      "Epoch 19/25\n",
      "45000/45000 [==============================] - 183s 4ms/step - loss: 1.6864 - acc: 0.4016 - val_loss: 1.6877 - val_acc: 0.3981\n",
      "Epoch 20/25\n",
      "45000/45000 [==============================] - 183s 4ms/step - loss: 1.6789 - acc: 0.4064 - val_loss: 1.6851 - val_acc: 0.3999\n",
      "Epoch 21/25\n",
      "45000/45000 [==============================] - 183s 4ms/step - loss: 1.6764 - acc: 0.4062 - val_loss: 1.6823 - val_acc: 0.4014\n",
      "Epoch 22/25\n",
      "45000/45000 [==============================] - 184s 4ms/step - loss: 1.6740 - acc: 0.4069 - val_loss: 1.6818 - val_acc: 0.3994\n",
      "Epoch 23/25\n",
      "45000/45000 [==============================] - 194s 4ms/step - loss: 1.6720 - acc: 0.4101 - val_loss: 1.6765 - val_acc: 0.4024\n",
      "Epoch 24/25\n",
      "45000/45000 [==============================] - 197s 4ms/step - loss: 1.6699 - acc: 0.4092 - val_loss: 1.6748 - val_acc: 0.4033\n",
      "Epoch 25/25\n",
      "45000/45000 [==============================] - 202s 4ms/step - loss: 1.6662 - acc: 0.4110 - val_loss: 1.6743 - val_acc: 0.4045\n"
     ]
    }
   ],
   "source": [
    "def step_decay(epoch):\n",
    "    initial_lrate = 0.001\n",
    "    lrate = initial_lrate * math.pow(0.5, math.floor((1+epoch)/5))\n",
    "    lrate = max(lrate,0.00001)\n",
    "    return lrate\n",
    "\n",
    "batch_size = 100#??\n",
    "epochs = 25\n",
    "opt = SGD(lr=0.0, momentum=0.9, decay=0.0)\n",
    "lrate = LearningRateScheduler(step_decay)\n",
    "model.compile(optimizer=opt, loss='categorical_crossentropy', metrics=['acc'])\n",
    "model_sgd = model.fit(x_train, y_train, batch_size=batch_size, epochs=epochs, validation_data=(x_test,y_test), shuffle=True, callbacks=[lrate])"
   ]
  },
  {
   "cell_type": "code",
   "execution_count": 61,
   "metadata": {},
   "outputs": [],
   "source": [
    "def plot(hist):\n",
    "    loss = hist['loss']\n",
    "    val_loss = hist['val_loss']\n",
    "    epochs = range(1, len(loss) + 1)\n",
    "    \n",
    "    fig = plt.figure(figsize=(16,5))\n",
    "    ax = fig.add_subplot(1, 2, 1)\n",
    "    ax.plot(epochs, loss, 'bo-', label = \"Training set\")\n",
    "    ax.plot(epochs, val_loss, 'go-', label = \"Test set\")\n",
    "    ax.set_title('Loss de CNN')\n",
    "    ax.set_xlabel('Epoch')\n",
    "    ax.set_ylabel('Loss')\n",
    "    #ax.set_ylim(0,2)\n",
    "    ax.legend(loc=\"upper right\", fancybox= True)\n",
    "\n",
    "    acc = hist['acc']\n",
    "    val_acc = hist['val_acc']\n",
    "    ax = fig.add_subplot(1, 2, 2)\n",
    "    ax.plot(epochs, np.subtract(1,acc), 'bo-', label = \"Training set\")\n",
    "    ax.plot(epochs, np.subtract(1,val_acc), 'go-', label = \"Test set\")\n",
    "    ax.set_title('Error de CNN')\n",
    "    ax.set_xlabel('Epoch')\n",
    "    ax.set_ylabel('Error')\n",
    "    #ax.set_ylim(0,.8)\n",
    "    ax.legend(loc=\"upper right\", fancybox= True)\n",
    "    plt.show()"
   ]
  },
  {
   "cell_type": "code",
   "execution_count": 60,
   "metadata": {
    "scrolled": false
   },
   "outputs": [
    {
     "data": {
      "image/png": "[encoded data removed]",
      "text/plain": [
       "<Figure size 1152x360 with 2 Axes>"
      ]
     },
     "metadata": {},
     "output_type": "display_data"
    }
   ],
   "source": [
    "plot(model_sgd.history)"
   ]
  },
  {
   "cell_type": "code",
   "execution_count": 120,
   "metadata": {
    "scrolled": false
   },
   "outputs": [
    {
     "ename": "ImportError",
     "evalue": "Failed to import pydot. You must install pydot and graphviz for `pydotprint` to work.",
     "output_type": "error",
     "traceback": [
      "\u001b[0;31m---------------------------------------------------------------------------\u001b[0m",
      "\u001b[0;31mAttributeError\u001b[0m                            Traceback (most recent call last)",
      "\u001b[0;32m~/tensorflow/lib/python3.5/site-packages/keras/utils/vis_utils.py\u001b[0m in \u001b[0;36m_check_pydot\u001b[0;34m()\u001b[0m\n\u001b[1;32m     26\u001b[0m         \u001b[0;31m# to check the pydot/graphviz installation.\u001b[0m\u001b[0;34m\u001b[0m\u001b[0;34m\u001b[0m\u001b[0m\n\u001b[0;32m---> 27\u001b[0;31m         \u001b[0mpydot\u001b[0m\u001b[0;34m.\u001b[0m\u001b[0mDot\u001b[0m\u001b[0;34m.\u001b[0m\u001b[0mcreate\u001b[0m\u001b[0;34m(\u001b[0m\u001b[0mpydot\u001b[0m\u001b[0;34m.\u001b[0m\u001b[0mDot\u001b[0m\u001b[0;34m(\u001b[0m\u001b[0;34m)\u001b[0m\u001b[0;34m)\u001b[0m\u001b[0;34m\u001b[0m\u001b[0m\n\u001b[0m\u001b[1;32m     28\u001b[0m     \u001b[0;32mexcept\u001b[0m \u001b[0mException\u001b[0m\u001b[0;34m:\u001b[0m\u001b[0;34m\u001b[0m\u001b[0m\n",
      "\u001b[0;31mAttributeError\u001b[0m: 'NoneType' object has no attribute 'Dot'",
      "\nDuring handling of the above exception, another exception occurred:\n",
      "\u001b[0;31mImportError\u001b[0m                               Traceback (most recent call last)",
      "\u001b[0;32m<ipython-input-120-8bd077ff8822>\u001b[0m in \u001b[0;36m<module>\u001b[0;34m()\u001b[0m\n\u001b[0;32m----> 1\u001b[0;31m \u001b[0mplot_model\u001b[0m\u001b[0;34m(\u001b[0m\u001b[0mmodel\u001b[0m\u001b[0;34m,\u001b[0m \u001b[0mto_file\u001b[0m\u001b[0;34m=\u001b[0m\u001b[0;34m'model_sgd.png'\u001b[0m\u001b[0;34m,\u001b[0m \u001b[0mshow_shapes\u001b[0m\u001b[0;34m=\u001b[0m\u001b[0;32mTrue\u001b[0m\u001b[0;34m)\u001b[0m\u001b[0;34m\u001b[0m\u001b[0m\n\u001b[0m",
      "\u001b[0;32m~/tensorflow/lib/python3.5/site-packages/keras/utils/vis_utils.py\u001b[0m in \u001b[0;36mplot_model\u001b[0;34m(model, to_file, show_shapes, show_layer_names, rankdir)\u001b[0m\n\u001b[1;32m    133\u001b[0m             \u001b[0;34m'LR'\u001b[0m \u001b[0mcreates\u001b[0m \u001b[0ma\u001b[0m \u001b[0mhorizontal\u001b[0m \u001b[0mplot\u001b[0m\u001b[0;34m.\u001b[0m\u001b[0;34m\u001b[0m\u001b[0m\n\u001b[1;32m    134\u001b[0m     \"\"\"\n\u001b[0;32m--> 135\u001b[0;31m     \u001b[0mdot\u001b[0m \u001b[0;34m=\u001b[0m \u001b[0mmodel_to_dot\u001b[0m\u001b[0;34m(\u001b[0m\u001b[0mmodel\u001b[0m\u001b[0;34m,\u001b[0m \u001b[0mshow_shapes\u001b[0m\u001b[0;34m,\u001b[0m \u001b[0mshow_layer_names\u001b[0m\u001b[0;34m,\u001b[0m \u001b[0mrankdir\u001b[0m\u001b[0;34m)\u001b[0m\u001b[0;34m\u001b[0m\u001b[0m\n\u001b[0m\u001b[1;32m    136\u001b[0m     \u001b[0m_\u001b[0m\u001b[0;34m,\u001b[0m \u001b[0mextension\u001b[0m \u001b[0;34m=\u001b[0m \u001b[0mos\u001b[0m\u001b[0;34m.\u001b[0m\u001b[0mpath\u001b[0m\u001b[0;34m.\u001b[0m\u001b[0msplitext\u001b[0m\u001b[0;34m(\u001b[0m\u001b[0mto_file\u001b[0m\u001b[0;34m)\u001b[0m\u001b[0;34m\u001b[0m\u001b[0m\n\u001b[1;32m    137\u001b[0m     \u001b[0;32mif\u001b[0m \u001b[0;32mnot\u001b[0m \u001b[0mextension\u001b[0m\u001b[0;34m:\u001b[0m\u001b[0;34m\u001b[0m\u001b[0m\n",
      "\u001b[0;32m~/tensorflow/lib/python3.5/site-packages/keras/utils/vis_utils.py\u001b[0m in \u001b[0;36mmodel_to_dot\u001b[0;34m(model, show_shapes, show_layer_names, rankdir)\u001b[0m\n\u001b[1;32m     54\u001b[0m     \u001b[0;32mfrom\u001b[0m \u001b[0;34m.\u001b[0m\u001b[0;34m.\u001b[0m\u001b[0mmodels\u001b[0m \u001b[0;32mimport\u001b[0m \u001b[0mSequential\u001b[0m\u001b[0;34m\u001b[0m\u001b[0m\n\u001b[1;32m     55\u001b[0m \u001b[0;34m\u001b[0m\u001b[0m\n\u001b[0;32m---> 56\u001b[0;31m     \u001b[0m_check_pydot\u001b[0m\u001b[0;34m(\u001b[0m\u001b[0;34m)\u001b[0m\u001b[0;34m\u001b[0m\u001b[0m\n\u001b[0m\u001b[1;32m     57\u001b[0m     \u001b[0mdot\u001b[0m \u001b[0;34m=\u001b[0m \u001b[0mpydot\u001b[0m\u001b[0;34m.\u001b[0m\u001b[0mDot\u001b[0m\u001b[0;34m(\u001b[0m\u001b[0;34m)\u001b[0m\u001b[0;34m\u001b[0m\u001b[0m\n\u001b[1;32m     58\u001b[0m     \u001b[0mdot\u001b[0m\u001b[0;34m.\u001b[0m\u001b[0mset\u001b[0m\u001b[0;34m(\u001b[0m\u001b[0;34m'rankdir'\u001b[0m\u001b[0;34m,\u001b[0m \u001b[0mrankdir\u001b[0m\u001b[0;34m)\u001b[0m\u001b[0;34m\u001b[0m\u001b[0m\n",
      "\u001b[0;32m~/tensorflow/lib/python3.5/site-packages/keras/utils/vis_utils.py\u001b[0m in \u001b[0;36m_check_pydot\u001b[0;34m()\u001b[0m\n\u001b[1;32m     29\u001b[0m         \u001b[0;31m# pydot raises a generic Exception here,\u001b[0m\u001b[0;34m\u001b[0m\u001b[0;34m\u001b[0m\u001b[0m\n\u001b[1;32m     30\u001b[0m         \u001b[0;31m# so no specific class can be caught.\u001b[0m\u001b[0;34m\u001b[0m\u001b[0;34m\u001b[0m\u001b[0m\n\u001b[0;32m---> 31\u001b[0;31m         raise ImportError('Failed to import pydot. You must install pydot'\n\u001b[0m\u001b[1;32m     32\u001b[0m                           ' and graphviz for `pydotprint` to work.')\n\u001b[1;32m     33\u001b[0m \u001b[0;34m\u001b[0m\u001b[0m\n",
      "\u001b[0;31mImportError\u001b[0m: Failed to import pydot. You must install pydot and graphviz for `pydotprint` to work."
     ]
    }
   ],
   "source": [
    "plot_model(model, to_file='model_sgd.png', show_shapes=True)"
   ]
  },
  {
   "cell_type": "markdown",
   "metadata": {},
   "source": [
    "Evaluand la red en el test set"
   ]
  },
  {
   "cell_type": "code",
   "execution_count": 53,
   "metadata": {},
   "outputs": [
    {
     "name": "stdout",
     "output_type": "stream",
     "text": [
      "10000/10000 [==============================] - 18s 2ms/step\n"
     ]
    }
   ],
   "source": [
    "score_Sgd = model.evaluate(x_test, y_test)"
   ]
  },
  {
   "cell_type": "code",
   "execution_count": 64,
   "metadata": {},
   "outputs": [
    {
     "name": "stdout",
     "output_type": "stream",
     "text": [
      "Cross entropy: 1.6743492725372315\n",
      "Accuracy:  0.4045\n"
     ]
    }
   ],
   "source": [
    "print(\"Cross entropy:\", score_Sgd[0])\n",
    "print(\"Accuracy: \", score_Sgd[1])"
   ]
  },
  {
   "cell_type": "markdown",
   "metadata": {},
   "source": [
    "e) Entrene la CNN definida en c) utilizando RMSProp durante 25 epochs. Elija la función de pérdida más apropiada para este problema. Construya finalmente un gráfico que muestre los errores de entrenamiento, validación y pruebas como función del número de epochs."
   ]
  },
  {
   "cell_type": "code",
   "execution_count": 65,
   "metadata": {
    "scrolled": false
   },
   "outputs": [
    {
     "name": "stdout",
     "output_type": "stream",
     "text": [
      "Train on 45000 samples, validate on 10000 samples\n",
      "Epoch 1/25\n",
      "45000/45000 [==============================] - 197s 4ms/step - loss: 3.2587 - acc: 0.3152 - val_loss: 1.6329 - val_acc: 0.4052\n",
      "Epoch 2/25\n",
      "45000/45000 [==============================] - 191s 4ms/step - loss: 1.5814 - acc: 0.4367 - val_loss: 1.5274 - val_acc: 0.4534\n",
      "Epoch 3/25\n",
      "45000/45000 [==============================] - 186s 4ms/step - loss: 1.4341 - acc: 0.4903 - val_loss: 1.4996 - val_acc: 0.4648\n",
      "Epoch 4/25\n",
      "45000/45000 [==============================] - 187s 4ms/step - loss: 1.3045 - acc: 0.5364 - val_loss: 1.4671 - val_acc: 0.4829\n",
      "Epoch 5/25\n",
      "45000/45000 [==============================] - 186s 4ms/step - loss: 1.1741 - acc: 0.5851 - val_loss: 1.5104 - val_acc: 0.4831\n",
      "Epoch 6/25\n",
      "45000/45000 [==============================] - 187s 4ms/step - loss: 1.0444 - acc: 0.6319 - val_loss: 1.5656 - val_acc: 0.4843\n",
      "Epoch 7/25\n",
      "45000/45000 [==============================] - 187s 4ms/step - loss: 0.9096 - acc: 0.6831 - val_loss: 1.5868 - val_acc: 0.4812\n",
      "Epoch 8/25\n",
      "45000/45000 [==============================] - 184s 4ms/step - loss: 0.7672 - acc: 0.7314 - val_loss: 1.7439 - val_acc: 0.4664\n",
      "Epoch 9/25\n",
      "45000/45000 [==============================] - 184s 4ms/step - loss: 0.6273 - acc: 0.7832 - val_loss: 1.7723 - val_acc: 0.4795\n",
      "Epoch 10/25\n",
      "45000/45000 [==============================] - 187s 4ms/step - loss: 0.4928 - acc: 0.8332 - val_loss: 1.9597 - val_acc: 0.4722\n",
      "Epoch 11/25\n",
      "45000/45000 [==============================] - 188s 4ms/step - loss: 0.3784 - acc: 0.8727 - val_loss: 2.2055 - val_acc: 0.4790\n",
      "Epoch 12/25\n",
      "45000/45000 [==============================] - 184s 4ms/step - loss: 0.2837 - acc: 0.9063 - val_loss: 2.2458 - val_acc: 0.4788\n",
      "Epoch 13/25\n",
      "45000/45000 [==============================] - 185s 4ms/step - loss: 0.2114 - acc: 0.9319 - val_loss: 2.6145 - val_acc: 0.4650\n",
      "Epoch 14/25\n",
      "45000/45000 [==============================] - 185s 4ms/step - loss: 0.1627 - acc: 0.9480 - val_loss: 2.8730 - val_acc: 0.4777\n",
      "Epoch 15/25\n",
      "45000/45000 [==============================] - 189s 4ms/step - loss: 0.1296 - acc: 0.9595 - val_loss: 2.7830 - val_acc: 0.4649\n",
      "Epoch 16/25\n",
      "45000/45000 [==============================] - 191s 4ms/step - loss: 0.1076 - acc: 0.9660 - val_loss: 3.0046 - val_acc: 0.4712\n",
      "Epoch 17/25\n",
      "45000/45000 [==============================] - 185s 4ms/step - loss: 0.0925 - acc: 0.9699 - val_loss: 3.2883 - val_acc: 0.4650\n",
      "Epoch 18/25\n",
      "45000/45000 [==============================] - 184s 4ms/step - loss: 0.0837 - acc: 0.9742 - val_loss: 3.3140 - val_acc: 0.4751\n",
      "Epoch 19/25\n",
      "45000/45000 [==============================] - 186s 4ms/step - loss: 0.0732 - acc: 0.9773 - val_loss: 3.5920 - val_acc: 0.4781\n",
      "Epoch 20/25\n",
      "45000/45000 [==============================] - 184s 4ms/step - loss: 0.0680 - acc: 0.9784 - val_loss: 3.7487 - val_acc: 0.4665\n",
      "Epoch 21/25\n",
      "45000/45000 [==============================] - 184s 4ms/step - loss: 0.0637 - acc: 0.9795 - val_loss: 3.8705 - val_acc: 0.4690\n",
      "Epoch 22/25\n",
      "45000/45000 [==============================] - 184s 4ms/step - loss: 0.0616 - acc: 0.9797 - val_loss: 4.0643 - val_acc: 0.4761\n",
      "Epoch 23/25\n",
      "45000/45000 [==============================] - 184s 4ms/step - loss: 0.0609 - acc: 0.9806 - val_loss: 3.6572 - val_acc: 0.4764\n",
      "Epoch 24/25\n",
      "45000/45000 [==============================] - 184s 4ms/step - loss: 0.0551 - acc: 0.9827 - val_loss: 4.3362 - val_acc: 0.4751\n",
      "Epoch 25/25\n",
      "45000/45000 [==============================] - 184s 4ms/step - loss: 0.0509 - acc: 0.9830 - val_loss: 4.1157 - val_acc: 0.4706\n"
     ]
    }
   ],
   "source": [
    "from keras.optimizers import SGD, rmsprop\n",
    "opt = rmsprop(lr=0.001, decay=1e-6)\n",
    "model.compile(optimizer=opt, loss='categorical_crossentropy' ,metrics=['acc'])\n",
    "model_rmsprop = model.fit(x_train, y_train, batch_size=batch_size, epochs=epochs, validation_data=(x_test, y_test),shuffle=True)"
   ]
  },
  {
   "cell_type": "code",
   "execution_count": 79,
   "metadata": {},
   "outputs": [
    {
     "name": "stdout",
     "output_type": "stream",
     "text": [
      "10000/10000 [==============================] - 13s 1ms/step\n"
     ]
    }
   ],
   "source": [
    "score_msprop = model.evaluate(x_test, y_test)"
   ]
  },
  {
   "cell_type": "code",
   "execution_count": 90,
   "metadata": {},
   "outputs": [
    {
     "name": "stdout",
     "output_type": "stream",
     "text": [
      "(5000, 32, 32, 3)\n",
      "(5000, 10, 10, 10)\n",
      "(45000, 10, 10, 10)\n",
      "(10000, 10, 10, 10)\n"
     ]
    }
   ],
   "source": [
    "print(x_val.shape)\n",
    "print(y_val.shape)\n",
    "\n",
    "print(y_train.shape)\n",
    "print(y_test.shape)"
   ]
  },
  {
   "cell_type": "code",
   "execution_count": 91,
   "metadata": {},
   "outputs": [
    {
     "ename": "ValueError",
     "evalue": "Error when checking target: expected activation_4 to have 2 dimensions, but got array with shape (5000, 10, 10, 10)",
     "output_type": "error",
     "traceback": [
      "\u001b[0;31m---------------------------------------------------------------------------\u001b[0m",
      "\u001b[0;31mValueError\u001b[0m                                Traceback (most recent call last)",
      "\u001b[0;32m<ipython-input-91-567a38483d3d>\u001b[0m in \u001b[0;36m<module>\u001b[0;34m()\u001b[0m\n\u001b[0;32m----> 1\u001b[0;31m \u001b[0mmodel_rmsprop_val\u001b[0m \u001b[0;34m=\u001b[0m \u001b[0mmodel\u001b[0m\u001b[0;34m.\u001b[0m\u001b[0mfit\u001b[0m\u001b[0;34m(\u001b[0m\u001b[0mx_val\u001b[0m\u001b[0;34m,\u001b[0m \u001b[0my_val\u001b[0m\u001b[0;34m,\u001b[0m \u001b[0mbatch_size\u001b[0m\u001b[0;34m=\u001b[0m\u001b[0mbatch_size\u001b[0m\u001b[0;34m,\u001b[0m \u001b[0mepochs\u001b[0m\u001b[0;34m=\u001b[0m\u001b[0mepochs\u001b[0m\u001b[0;34m,\u001b[0m \u001b[0mvalidation_data\u001b[0m\u001b[0;34m=\u001b[0m\u001b[0;34m(\u001b[0m\u001b[0mx_test\u001b[0m\u001b[0;34m,\u001b[0m \u001b[0my_test\u001b[0m\u001b[0;34m)\u001b[0m\u001b[0;34m,\u001b[0m\u001b[0mshuffle\u001b[0m\u001b[0;34m=\u001b[0m\u001b[0;32mTrue\u001b[0m\u001b[0;34m)\u001b[0m\u001b[0;34m\u001b[0m\u001b[0m\n\u001b[0m",
      "\u001b[0;32m~/tensorflow/lib/python3.5/site-packages/keras/models.py\u001b[0m in \u001b[0;36mfit\u001b[0;34m(self, x, y, batch_size, epochs, verbose, callbacks, validation_split, validation_data, shuffle, class_weight, sample_weight, initial_epoch, steps_per_epoch, validation_steps, **kwargs)\u001b[0m\n\u001b[1;32m    961\u001b[0m                               \u001b[0minitial_epoch\u001b[0m\u001b[0;34m=\u001b[0m\u001b[0minitial_epoch\u001b[0m\u001b[0;34m,\u001b[0m\u001b[0;34m\u001b[0m\u001b[0m\n\u001b[1;32m    962\u001b[0m                               \u001b[0msteps_per_epoch\u001b[0m\u001b[0;34m=\u001b[0m\u001b[0msteps_per_epoch\u001b[0m\u001b[0;34m,\u001b[0m\u001b[0;34m\u001b[0m\u001b[0m\n\u001b[0;32m--> 963\u001b[0;31m                               validation_steps=validation_steps)\n\u001b[0m\u001b[1;32m    964\u001b[0m \u001b[0;34m\u001b[0m\u001b[0m\n\u001b[1;32m    965\u001b[0m     def evaluate(self, x=None, y=None,\n",
      "\u001b[0;32m~/tensorflow/lib/python3.5/site-packages/keras/engine/training.py\u001b[0m in \u001b[0;36mfit\u001b[0;34m(self, x, y, batch_size, epochs, verbose, callbacks, validation_split, validation_data, shuffle, class_weight, sample_weight, initial_epoch, steps_per_epoch, validation_steps, **kwargs)\u001b[0m\n\u001b[1;32m   1628\u001b[0m             \u001b[0msample_weight\u001b[0m\u001b[0;34m=\u001b[0m\u001b[0msample_weight\u001b[0m\u001b[0;34m,\u001b[0m\u001b[0;34m\u001b[0m\u001b[0m\n\u001b[1;32m   1629\u001b[0m             \u001b[0mclass_weight\u001b[0m\u001b[0;34m=\u001b[0m\u001b[0mclass_weight\u001b[0m\u001b[0;34m,\u001b[0m\u001b[0;34m\u001b[0m\u001b[0m\n\u001b[0;32m-> 1630\u001b[0;31m             batch_size=batch_size)\n\u001b[0m\u001b[1;32m   1631\u001b[0m         \u001b[0;31m# Prepare validation data.\u001b[0m\u001b[0;34m\u001b[0m\u001b[0;34m\u001b[0m\u001b[0m\n\u001b[1;32m   1632\u001b[0m         \u001b[0mdo_validation\u001b[0m \u001b[0;34m=\u001b[0m \u001b[0;32mFalse\u001b[0m\u001b[0;34m\u001b[0m\u001b[0m\n",
      "\u001b[0;32m~/tensorflow/lib/python3.5/site-packages/keras/engine/training.py\u001b[0m in \u001b[0;36m_standardize_user_data\u001b[0;34m(self, x, y, sample_weight, class_weight, check_array_lengths, batch_size)\u001b[0m\n\u001b[1;32m   1478\u001b[0m                                     \u001b[0moutput_shapes\u001b[0m\u001b[0;34m,\u001b[0m\u001b[0;34m\u001b[0m\u001b[0m\n\u001b[1;32m   1479\u001b[0m                                     \u001b[0mcheck_batch_axis\u001b[0m\u001b[0;34m=\u001b[0m\u001b[0;32mFalse\u001b[0m\u001b[0;34m,\u001b[0m\u001b[0;34m\u001b[0m\u001b[0m\n\u001b[0;32m-> 1480\u001b[0;31m                                     exception_prefix='target')\n\u001b[0m\u001b[1;32m   1481\u001b[0m         sample_weights = _standardize_sample_weights(sample_weight,\n\u001b[1;32m   1482\u001b[0m                                                      self._feed_output_names)\n",
      "\u001b[0;32m~/tensorflow/lib/python3.5/site-packages/keras/engine/training.py\u001b[0m in \u001b[0;36m_standardize_input_data\u001b[0;34m(data, names, shapes, check_batch_axis, exception_prefix)\u001b[0m\n\u001b[1;32m    111\u001b[0m                         \u001b[0;34m': expected '\u001b[0m \u001b[0;34m+\u001b[0m \u001b[0mnames\u001b[0m\u001b[0;34m[\u001b[0m\u001b[0mi\u001b[0m\u001b[0;34m]\u001b[0m \u001b[0;34m+\u001b[0m \u001b[0;34m' to have '\u001b[0m \u001b[0;34m+\u001b[0m\u001b[0;34m\u001b[0m\u001b[0m\n\u001b[1;32m    112\u001b[0m                         \u001b[0mstr\u001b[0m\u001b[0;34m(\u001b[0m\u001b[0mlen\u001b[0m\u001b[0;34m(\u001b[0m\u001b[0mshape\u001b[0m\u001b[0;34m)\u001b[0m\u001b[0;34m)\u001b[0m \u001b[0;34m+\u001b[0m \u001b[0;34m' dimensions, but got array '\u001b[0m\u001b[0;34m\u001b[0m\u001b[0m\n\u001b[0;32m--> 113\u001b[0;31m                         'with shape ' + str(data_shape))\n\u001b[0m\u001b[1;32m    114\u001b[0m                 \u001b[0;32mif\u001b[0m \u001b[0;32mnot\u001b[0m \u001b[0mcheck_batch_axis\u001b[0m\u001b[0;34m:\u001b[0m\u001b[0;34m\u001b[0m\u001b[0m\n\u001b[1;32m    115\u001b[0m                     \u001b[0mdata_shape\u001b[0m \u001b[0;34m=\u001b[0m \u001b[0mdata_shape\u001b[0m\u001b[0;34m[\u001b[0m\u001b[0;36m1\u001b[0m\u001b[0;34m:\u001b[0m\u001b[0;34m]\u001b[0m\u001b[0;34m\u001b[0m\u001b[0m\n",
      "\u001b[0;31mValueError\u001b[0m: Error when checking target: expected activation_4 to have 2 dimensions, but got array with shape (5000, 10, 10, 10)"
     ]
    }
   ],
   "source": [
    "model_rmsprop_val = model.fit(x_val, y_val, batch_size=batch_size, epochs=epochs, validation_data=(x_test, y_test),shuffle=True)"
   ]
  }
 ],
 "metadata": {
  "kernelspec": {
   "display_name": "Python 3",
   "language": "python",
   "name": "python3"
  },
  "language_info": {
   "codemirror_mode": {
    "name": "ipython",
    "version": 3
   },
   "file_extension": ".py",
   "mimetype": "text/x-python",
   "name": "python",
   "nbconvert_exporter": "python",
   "pygments_lexer": "ipython3",
   "version": "3.5.2"
  }
 },
 "nbformat": 4,
 "nbformat_minor": 2
}
